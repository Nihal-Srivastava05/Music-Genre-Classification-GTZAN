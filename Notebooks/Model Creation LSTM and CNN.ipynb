{
 "cells": [
  {
   "cell_type": "markdown",
   "id": "5a5e3c81",
   "metadata": {},
   "source": [
    "## Model Creation using LSTM and CNN"
   ]
  },
  {
   "cell_type": "code",
   "execution_count": 45,
   "id": "878789fd",
   "metadata": {},
   "outputs": [],
   "source": [
    "import pandas as pd\n",
    "import numpy as np\n",
    "import matplotlib.pyplot as plt\n",
    "import seaborn as sns"
   ]
  },
  {
   "cell_type": "code",
   "execution_count": 2,
   "id": "021445d3",
   "metadata": {},
   "outputs": [],
   "source": [
    "import librosa\n",
    "import math\n",
    "import os\n",
    "from tqdm import tqdm"
   ]
  },
  {
   "cell_type": "code",
   "execution_count": 35,
   "id": "dc9da9a4",
   "metadata": {},
   "outputs": [],
   "source": [
    "def plot_acc(history):\n",
    "    plt.figure(figsize=(8, 6))\n",
    "    plt.plot(history.history['accuracy'], color='blue', label='train')\n",
    "    plt.plot(history.history['val_accuracy'], color='orange', label='val')\n",
    "    plt.legend()\n",
    "    plt.show()\n",
    "    \n",
    "def plot_loss(history):\n",
    "    plt.figure(figsize=(8, 6))\n",
    "    plt.plot(history.history['loss'], color='blue', label='train')\n",
    "    plt.plot(history.history['val_loss'], color='orange', label='val')\n",
    "    plt.legend()\n",
    "    plt.show()"
   ]
  },
  {
   "cell_type": "code",
   "execution_count": 4,
   "id": "58b04d17",
   "metadata": {},
   "outputs": [
    {
     "name": "stdout",
     "output_type": "stream",
     "text": [
      "66150\n"
     ]
    }
   ],
   "source": [
    "sample_rate = 22050\n",
    "num_segments = 10\n",
    "sample_per_segment = int(sample_rate*30 / num_segments)\n",
    "print(sample_per_segment)"
   ]
  },
  {
   "cell_type": "code",
   "execution_count": 5,
   "id": "1afe6e6b",
   "metadata": {},
   "outputs": [],
   "source": [
    "dataset_dir = \"../Data/genres_original/\""
   ]
  },
  {
   "cell_type": "code",
   "execution_count": 8,
   "id": "8915919d",
   "metadata": {},
   "outputs": [],
   "source": [
    "file_path = \"../Data/genres_original/hiphop/hiphop.00003.wav\"\n",
    "y, sr = librosa.load(file_path, sr=sample_rate)\n",
    "data = {\"labels\": [], \"mfcc\": []}\n",
    "for n in range(num_segments):\n",
    "    mfcc = librosa.feature.mfcc(y=y[sample_per_segment*n: sample_per_segment*(n+1)], sr=sample_rate, n_mfcc=40, n_fft=2048, hop_length=512)\n",
    "    mfcc = mfcc.T\n",
    "    \n",
    "    if(len(mfcc) == math.ceil(sample_per_segment / 512)):\n",
    "        data[\"mfcc\"].append(mfcc.tolist())\n",
    "        data[\"labels\"].append(\"hiphop\")"
   ]
  },
  {
   "cell_type": "code",
   "execution_count": 15,
   "id": "ed2a99b9",
   "metadata": {},
   "outputs": [
    {
     "data": {
      "text/html": [
       "<div>\n",
       "<style scoped>\n",
       "    .dataframe tbody tr th:only-of-type {\n",
       "        vertical-align: middle;\n",
       "    }\n",
       "\n",
       "    .dataframe tbody tr th {\n",
       "        vertical-align: top;\n",
       "    }\n",
       "\n",
       "    .dataframe thead th {\n",
       "        text-align: right;\n",
       "    }\n",
       "</style>\n",
       "<table border=\"1\" class=\"dataframe\">\n",
       "  <thead>\n",
       "    <tr style=\"text-align: right;\">\n",
       "      <th></th>\n",
       "      <th>filename</th>\n",
       "      <th>length</th>\n",
       "      <th>chroma_stft_mean</th>\n",
       "      <th>chroma_stft_var</th>\n",
       "      <th>rms_mean</th>\n",
       "      <th>rms_var</th>\n",
       "      <th>spectral_centroid_mean</th>\n",
       "      <th>spectral_centroid_var</th>\n",
       "      <th>spectral_bandwidth_mean</th>\n",
       "      <th>spectral_bandwidth_var</th>\n",
       "      <th>...</th>\n",
       "      <th>mfcc16_var</th>\n",
       "      <th>mfcc17_mean</th>\n",
       "      <th>mfcc17_var</th>\n",
       "      <th>mfcc18_mean</th>\n",
       "      <th>mfcc18_var</th>\n",
       "      <th>mfcc19_mean</th>\n",
       "      <th>mfcc19_var</th>\n",
       "      <th>mfcc20_mean</th>\n",
       "      <th>mfcc20_var</th>\n",
       "      <th>label</th>\n",
       "    </tr>\n",
       "  </thead>\n",
       "  <tbody>\n",
       "    <tr>\n",
       "      <th>0</th>\n",
       "      <td>blues.00000.wav</td>\n",
       "      <td>661794</td>\n",
       "      <td>0.350088</td>\n",
       "      <td>0.088757</td>\n",
       "      <td>0.130228</td>\n",
       "      <td>0.002827</td>\n",
       "      <td>1784.165850</td>\n",
       "      <td>129774.064525</td>\n",
       "      <td>2002.449060</td>\n",
       "      <td>85882.761315</td>\n",
       "      <td>...</td>\n",
       "      <td>52.420910</td>\n",
       "      <td>-1.690215</td>\n",
       "      <td>36.524071</td>\n",
       "      <td>-0.408979</td>\n",
       "      <td>41.597103</td>\n",
       "      <td>-2.303523</td>\n",
       "      <td>55.062923</td>\n",
       "      <td>1.221291</td>\n",
       "      <td>46.936035</td>\n",
       "      <td>blues</td>\n",
       "    </tr>\n",
       "    <tr>\n",
       "      <th>1</th>\n",
       "      <td>blues.00001.wav</td>\n",
       "      <td>661794</td>\n",
       "      <td>0.340914</td>\n",
       "      <td>0.094980</td>\n",
       "      <td>0.095948</td>\n",
       "      <td>0.002373</td>\n",
       "      <td>1530.176679</td>\n",
       "      <td>375850.073649</td>\n",
       "      <td>2039.036516</td>\n",
       "      <td>213843.755497</td>\n",
       "      <td>...</td>\n",
       "      <td>55.356403</td>\n",
       "      <td>-0.731125</td>\n",
       "      <td>60.314529</td>\n",
       "      <td>0.295073</td>\n",
       "      <td>48.120598</td>\n",
       "      <td>-0.283518</td>\n",
       "      <td>51.106190</td>\n",
       "      <td>0.531217</td>\n",
       "      <td>45.786282</td>\n",
       "      <td>blues</td>\n",
       "    </tr>\n",
       "    <tr>\n",
       "      <th>2</th>\n",
       "      <td>blues.00002.wav</td>\n",
       "      <td>661794</td>\n",
       "      <td>0.363637</td>\n",
       "      <td>0.085275</td>\n",
       "      <td>0.175570</td>\n",
       "      <td>0.002746</td>\n",
       "      <td>1552.811865</td>\n",
       "      <td>156467.643368</td>\n",
       "      <td>1747.702312</td>\n",
       "      <td>76254.192257</td>\n",
       "      <td>...</td>\n",
       "      <td>40.598766</td>\n",
       "      <td>-7.729093</td>\n",
       "      <td>47.639427</td>\n",
       "      <td>-1.816407</td>\n",
       "      <td>52.382141</td>\n",
       "      <td>-3.439720</td>\n",
       "      <td>46.639660</td>\n",
       "      <td>-2.231258</td>\n",
       "      <td>30.573025</td>\n",
       "      <td>blues</td>\n",
       "    </tr>\n",
       "    <tr>\n",
       "      <th>3</th>\n",
       "      <td>blues.00003.wav</td>\n",
       "      <td>661794</td>\n",
       "      <td>0.404785</td>\n",
       "      <td>0.093999</td>\n",
       "      <td>0.141093</td>\n",
       "      <td>0.006346</td>\n",
       "      <td>1070.106615</td>\n",
       "      <td>184355.942417</td>\n",
       "      <td>1596.412872</td>\n",
       "      <td>166441.494769</td>\n",
       "      <td>...</td>\n",
       "      <td>44.427753</td>\n",
       "      <td>-3.319597</td>\n",
       "      <td>50.206673</td>\n",
       "      <td>0.636965</td>\n",
       "      <td>37.319130</td>\n",
       "      <td>-0.619121</td>\n",
       "      <td>37.259739</td>\n",
       "      <td>-3.407448</td>\n",
       "      <td>31.949339</td>\n",
       "      <td>blues</td>\n",
       "    </tr>\n",
       "    <tr>\n",
       "      <th>4</th>\n",
       "      <td>blues.00004.wav</td>\n",
       "      <td>661794</td>\n",
       "      <td>0.308526</td>\n",
       "      <td>0.087841</td>\n",
       "      <td>0.091529</td>\n",
       "      <td>0.002303</td>\n",
       "      <td>1835.004266</td>\n",
       "      <td>343399.939274</td>\n",
       "      <td>1748.172116</td>\n",
       "      <td>88445.209036</td>\n",
       "      <td>...</td>\n",
       "      <td>86.099236</td>\n",
       "      <td>-5.454034</td>\n",
       "      <td>75.269707</td>\n",
       "      <td>-0.916874</td>\n",
       "      <td>53.613918</td>\n",
       "      <td>-4.404827</td>\n",
       "      <td>62.910812</td>\n",
       "      <td>-11.703234</td>\n",
       "      <td>55.195160</td>\n",
       "      <td>blues</td>\n",
       "    </tr>\n",
       "  </tbody>\n",
       "</table>\n",
       "<p>5 rows × 60 columns</p>\n",
       "</div>"
      ],
      "text/plain": [
       "          filename  length  chroma_stft_mean  chroma_stft_var  rms_mean  \\\n",
       "0  blues.00000.wav  661794          0.350088         0.088757  0.130228   \n",
       "1  blues.00001.wav  661794          0.340914         0.094980  0.095948   \n",
       "2  blues.00002.wav  661794          0.363637         0.085275  0.175570   \n",
       "3  blues.00003.wav  661794          0.404785         0.093999  0.141093   \n",
       "4  blues.00004.wav  661794          0.308526         0.087841  0.091529   \n",
       "\n",
       "    rms_var  spectral_centroid_mean  spectral_centroid_var  \\\n",
       "0  0.002827             1784.165850          129774.064525   \n",
       "1  0.002373             1530.176679          375850.073649   \n",
       "2  0.002746             1552.811865          156467.643368   \n",
       "3  0.006346             1070.106615          184355.942417   \n",
       "4  0.002303             1835.004266          343399.939274   \n",
       "\n",
       "   spectral_bandwidth_mean  spectral_bandwidth_var  ...  mfcc16_var  \\\n",
       "0              2002.449060            85882.761315  ...   52.420910   \n",
       "1              2039.036516           213843.755497  ...   55.356403   \n",
       "2              1747.702312            76254.192257  ...   40.598766   \n",
       "3              1596.412872           166441.494769  ...   44.427753   \n",
       "4              1748.172116            88445.209036  ...   86.099236   \n",
       "\n",
       "   mfcc17_mean  mfcc17_var  mfcc18_mean  mfcc18_var  mfcc19_mean  mfcc19_var  \\\n",
       "0    -1.690215   36.524071    -0.408979   41.597103    -2.303523   55.062923   \n",
       "1    -0.731125   60.314529     0.295073   48.120598    -0.283518   51.106190   \n",
       "2    -7.729093   47.639427    -1.816407   52.382141    -3.439720   46.639660   \n",
       "3    -3.319597   50.206673     0.636965   37.319130    -0.619121   37.259739   \n",
       "4    -5.454034   75.269707    -0.916874   53.613918    -4.404827   62.910812   \n",
       "\n",
       "   mfcc20_mean  mfcc20_var  label  \n",
       "0     1.221291   46.936035  blues  \n",
       "1     0.531217   45.786282  blues  \n",
       "2    -2.231258   30.573025  blues  \n",
       "3    -3.407448   31.949339  blues  \n",
       "4   -11.703234   55.195160  blues  \n",
       "\n",
       "[5 rows x 60 columns]"
      ]
     },
     "execution_count": 15,
     "metadata": {},
     "output_type": "execute_result"
    }
   ],
   "source": [
    "metadata = pd.read_csv('../Data/features_30_sec.csv')\n",
    "metadata.head()"
   ]
  },
  {
   "cell_type": "code",
   "execution_count": 43,
   "id": "225599a2",
   "metadata": {},
   "outputs": [
    {
     "data": {
      "text/plain": [
       "array(['blues', 'classical', 'country', 'disco', 'hiphop', 'jazz',\n",
       "       'metal', 'pop', 'reggae', 'rock'], dtype=object)"
      ]
     },
     "execution_count": 43,
     "metadata": {},
     "output_type": "execute_result"
    }
   ],
   "source": [
    "metadata['label'].unique()"
   ]
  },
  {
   "cell_type": "code",
   "execution_count": 44,
   "id": "1ad121cd",
   "metadata": {},
   "outputs": [],
   "source": [
    "label_idx = {'blues': 0, 'classical': 1, 'country': 2, 'disco': 3, 'hiphop': 4, 'jazz': 5, 'metal': 6, 'pop': 7, \n",
    "             'reggae': 8, 'rock': 9}"
   ]
  },
  {
   "cell_type": "code",
   "execution_count": 12,
   "id": "12ec54ed",
   "metadata": {},
   "outputs": [
    {
     "name": "stderr",
     "output_type": "stream",
     "text": [
      "100%|████████████████████████████████████████████████████████████████████████████████| 100/100 [00:05<00:00, 17.56it/s]\n",
      "100%|████████████████████████████████████████████████████████████████████████████████| 100/100 [00:07<00:00, 14.01it/s]\n",
      "100%|████████████████████████████████████████████████████████████████████████████████| 100/100 [00:06<00:00, 15.33it/s]\n",
      "100%|████████████████████████████████████████████████████████████████████████████████| 100/100 [00:07<00:00, 14.27it/s]\n",
      "100%|████████████████████████████████████████████████████████████████████████████████| 100/100 [00:05<00:00, 16.83it/s]\n",
      " 54%|███████████████████████████████████████████▋                                     | 54/100 [00:03<00:03, 15.30it/s]C:\\Users\\nihal\\Anaconda3\\envs\\gpuenv\\lib\\site-packages\\librosa\\util\\decorators.py:88: UserWarning: PySoundFile failed. Trying audioread instead.\n",
      "  return f(*args, **kwargs)\n",
      "100%|████████████████████████████████████████████████████████████████████████████████| 100/100 [00:06<00:00, 15.15it/s]\n",
      "100%|████████████████████████████████████████████████████████████████████████████████| 100/100 [00:07<00:00, 13.77it/s]\n",
      "100%|████████████████████████████████████████████████████████████████████████████████| 100/100 [00:06<00:00, 14.77it/s]\n",
      "100%|████████████████████████████████████████████████████████████████████████████████| 100/100 [00:06<00:00, 14.42it/s]\n",
      "100%|████████████████████████████████████████████████████████████████████████████████| 100/100 [00:07<00:00, 13.41it/s]\n"
     ]
    }
   ],
   "source": [
    "data = {\"labels\": [], \"mfcc\": []}\n",
    "sample_rate = 22050\n",
    "sample_per_segment = int(sample_rate*30 / num_segments)\n",
    "for label_idx, (dirpath, dirname, filenames) in enumerate(os.walk(dataset_dir)):\n",
    "    if(dirpath == dataset_dir):\n",
    "        continue\n",
    "    \n",
    "    for f in tqdm(sorted(filenames)):\n",
    "        if not f.endswith('.wav'):\n",
    "            continue\n",
    "        file_path = str(str(dirpath).split(\"\\\\\")[-1]) + '/' + str(f)\n",
    "        \n",
    "        try:\n",
    "            y, sr = librosa.load(file_path, sr=sample_rate)\n",
    "        except:\n",
    "            continue\n",
    "        for n in range(num_segments):\n",
    "            mfcc = librosa.feature.mfcc(y=y[sample_per_segment*n: sample_per_segment*(n+1)], \n",
    "                                       sr=sample_rate, n_mfcc=40, n_fft=2048, hop_length=512)\n",
    "            mfcc = mfcc.T\n",
    "            if(len(mfcc) == math.ceil(sample_per_segment / 512)):\n",
    "                data[\"mfcc\"].append(mfcc.tolist())\n",
    "                data[\"labels\"].append(label_idx-1)"
   ]
  },
  {
   "cell_type": "code",
   "execution_count": 15,
   "id": "74f5c7fe",
   "metadata": {},
   "outputs": [],
   "source": [
    "# data = {\"labels\": [], \"mfcc\": []}\n",
    "# for index_num, row in tqdm(metadata.iterrows()):\n",
    "#     try:\n",
    "#         file_name = os.path.join(os.path.abspath(dataset_dir), str(row[\"label\"])+\"/\", str(row[\"filename\"]))\n",
    "#         final_class_label = row[\"label\"]\n",
    "#         y, sr = librosa.load(file_path, sr=sample_rate)\n",
    "#         for n in range(num_segments):\n",
    "#             mfcc = librosa.feature.mfcc(y=y[sample_per_segment*n: sample_per_segment*(n+1)], sr=sample_rate, n_mfcc=40, n_fft=2048, hop_length=512)\n",
    "#             mfcc = mfcc.T\n",
    "\n",
    "#             if(len(mfcc) == math.ceil(sample_per_segment / 512)):\n",
    "#                 data[\"mfcc\"].append(mfcc.tolist())\n",
    "#                 data[\"labels\"].append(label_idx[final_class_label])\n",
    "#     except:\n",
    "#         pass"
   ]
  },
  {
   "cell_type": "code",
   "execution_count": 16,
   "id": "8b0bd4ee",
   "metadata": {},
   "outputs": [
    {
     "data": {
      "text/plain": [
       "2"
      ]
     },
     "execution_count": 16,
     "metadata": {},
     "output_type": "execute_result"
    }
   ],
   "source": [
    "len(data)"
   ]
  },
  {
   "cell_type": "code",
   "execution_count": 17,
   "id": "611c5c06",
   "metadata": {},
   "outputs": [
    {
     "data": {
      "text/plain": [
       "(9986, 9986)"
      ]
     },
     "execution_count": 17,
     "metadata": {},
     "output_type": "execute_result"
    }
   ],
   "source": [
    "len(data['mfcc']), len(data['labels'])"
   ]
  },
  {
   "cell_type": "code",
   "execution_count": 18,
   "id": "e3dae994",
   "metadata": {},
   "outputs": [],
   "source": [
    "x = np.array(data['mfcc'])\n",
    "y = np.array(data['labels'])"
   ]
  },
  {
   "cell_type": "code",
   "execution_count": 19,
   "id": "4afc093b",
   "metadata": {},
   "outputs": [
    {
     "data": {
      "text/plain": [
       "((9986, 130, 40), (9986,))"
      ]
     },
     "execution_count": 19,
     "metadata": {},
     "output_type": "execute_result"
    }
   ],
   "source": [
    "x.shape, y.shape"
   ]
  },
  {
   "cell_type": "code",
   "execution_count": 20,
   "id": "529c2571",
   "metadata": {},
   "outputs": [],
   "source": [
    "from sklearn.model_selection import train_test_split"
   ]
  },
  {
   "cell_type": "code",
   "execution_count": 21,
   "id": "27aa0fef",
   "metadata": {},
   "outputs": [],
   "source": [
    "x_train, x_test, y_train, y_test = train_test_split(x, y, test_size=0.25)\n",
    "x_train, x_val, y_train, y_val = train_test_split(x_train, y_train, test_size=0.2)"
   ]
  },
  {
   "cell_type": "code",
   "execution_count": 22,
   "id": "5a68b0b3",
   "metadata": {},
   "outputs": [
    {
     "data": {
      "text/plain": [
       "(130, 40)"
      ]
     },
     "execution_count": 22,
     "metadata": {},
     "output_type": "execute_result"
    }
   ],
   "source": [
    "input_shape = (x_train.shape[1], x_train.shape[2])\n",
    "input_shape"
   ]
  },
  {
   "cell_type": "code",
   "execution_count": 23,
   "id": "a8e4222b",
   "metadata": {},
   "outputs": [
    {
     "data": {
      "text/plain": [
       "array([[-4.06494942e+01,  4.91413269e+01,  1.43060904e+01, ...,\n",
       "         4.68390286e-01, -2.21602821e+00,  5.31828403e-03],\n",
       "       [-3.79526291e+01,  5.26914597e+01,  3.74934721e+00, ...,\n",
       "         4.14452553e+00,  1.45295274e+00, -2.96444225e+00],\n",
       "       [-8.65021667e+01,  6.39880066e+01, -1.20259342e+01, ...,\n",
       "         2.86078215e+00,  3.46926832e+00, -8.46906090e+00],\n",
       "       ...,\n",
       "       [-8.83206177e+01,  5.66584358e+01, -5.85520706e+01, ...,\n",
       "         9.26369286e+00, -1.77150393e+00, -4.92904758e+00],\n",
       "       [-8.98682785e+01,  4.83412285e+01, -4.72714691e+01, ...,\n",
       "         8.11482239e+00, -1.96741676e+00, -3.74744630e+00],\n",
       "       [-1.17100456e+02,  5.05681152e+01, -4.97745285e+01, ...,\n",
       "         4.26718855e+00, -5.37012935e-01, -5.99842930e+00]])"
      ]
     },
     "execution_count": 23,
     "metadata": {},
     "output_type": "execute_result"
    }
   ],
   "source": [
    "x_train[0]"
   ]
  },
  {
   "cell_type": "markdown",
   "id": "38ad2a44",
   "metadata": {},
   "source": [
    "### Training an LSTM"
   ]
  },
  {
   "cell_type": "code",
   "execution_count": 24,
   "id": "d73d786b",
   "metadata": {},
   "outputs": [],
   "source": [
    "import tensorflow as tf\n",
    "from tensorflow.keras import layers "
   ]
  },
  {
   "cell_type": "markdown",
   "id": "fbb85095",
   "metadata": {},
   "source": [
    "Base LSTM"
   ]
  },
  {
   "cell_type": "code",
   "execution_count": 25,
   "id": "8ee52b94",
   "metadata": {},
   "outputs": [
    {
     "name": "stdout",
     "output_type": "stream",
     "text": [
      "Model: \"sequential\"\n",
      "_________________________________________________________________\n",
      " Layer (type)                Output Shape              Param #   \n",
      "=================================================================\n",
      " lstm (LSTM)                 (None, 130, 64)           26880     \n",
      "                                                                 \n",
      " lstm_1 (LSTM)               (None, 64)                33024     \n",
      "                                                                 \n",
      " dense (Dense)               (None, 64)                4160      \n",
      "                                                                 \n",
      " dense_1 (Dense)             (None, 64)                4160      \n",
      "                                                                 \n",
      " dense_2 (Dense)             (None, 10)                650       \n",
      "                                                                 \n",
      "=================================================================\n",
      "Total params: 68,874\n",
      "Trainable params: 68,874\n",
      "Non-trainable params: 0\n",
      "_________________________________________________________________\n"
     ]
    }
   ],
   "source": [
    "model = tf.keras.Sequential()\n",
    "model.add(layers.LSTM(64, input_shape=input_shape, return_sequences=True))\n",
    "model.add(layers.LSTM(64))\n",
    "model.add(layers.Dense(64, activation='relu'))\n",
    "model.add(layers.Dense(64, activation='relu'))\n",
    "\n",
    "model.add(layers.Dense(10, activation='softmax'))\n",
    "opt = tf.keras.optimizers.Adam(learning_rate=0.001)\n",
    "model.compile(optimizer=opt, loss='sparse_categorical_crossentropy', metrics=['accuracy'])\n",
    "model.summary()"
   ]
  },
  {
   "cell_type": "code",
   "execution_count": 27,
   "id": "0a4b3b7d",
   "metadata": {
    "scrolled": true
   },
   "outputs": [
    {
     "name": "stdout",
     "output_type": "stream",
     "text": [
      "Epoch 1/60\n",
      "188/188 - 8s - loss: 1.7544 - accuracy: 0.3572 - val_loss: 1.4718 - val_accuracy: 0.4653 - 8s/epoch - 42ms/step\n",
      "Epoch 2/60\n",
      "188/188 - 3s - loss: 1.3931 - accuracy: 0.4879 - val_loss: 1.3552 - val_accuracy: 0.5060 - 3s/epoch - 18ms/step\n",
      "Epoch 3/60\n",
      "188/188 - 3s - loss: 1.2095 - accuracy: 0.5507 - val_loss: 1.2057 - val_accuracy: 0.5587 - 3s/epoch - 18ms/step\n",
      "Epoch 4/60\n",
      "188/188 - 3s - loss: 1.0669 - accuracy: 0.6163 - val_loss: 1.1009 - val_accuracy: 0.6035 - 3s/epoch - 18ms/step\n",
      "Epoch 5/60\n",
      "188/188 - 3s - loss: 0.9262 - accuracy: 0.6668 - val_loss: 1.0324 - val_accuracy: 0.6315 - 3s/epoch - 18ms/step\n",
      "Epoch 6/60\n",
      "188/188 - 3s - loss: 0.8314 - accuracy: 0.7139 - val_loss: 1.0305 - val_accuracy: 0.6402 - 3s/epoch - 18ms/step\n",
      "Epoch 7/60\n",
      "188/188 - 3s - loss: 0.7368 - accuracy: 0.7439 - val_loss: 0.9791 - val_accuracy: 0.6609 - 3s/epoch - 18ms/step\n",
      "Epoch 8/60\n",
      "188/188 - 3s - loss: 0.6610 - accuracy: 0.7703 - val_loss: 0.9015 - val_accuracy: 0.6996 - 3s/epoch - 18ms/step\n",
      "Epoch 9/60\n",
      "188/188 - 3s - loss: 0.5921 - accuracy: 0.7912 - val_loss: 0.8503 - val_accuracy: 0.7170 - 3s/epoch - 18ms/step\n",
      "Epoch 10/60\n",
      "188/188 - 3s - loss: 0.5162 - accuracy: 0.8232 - val_loss: 0.8371 - val_accuracy: 0.7083 - 3s/epoch - 17ms/step\n",
      "Epoch 11/60\n",
      "188/188 - 3s - loss: 0.4900 - accuracy: 0.8331 - val_loss: 0.8702 - val_accuracy: 0.7330 - 3s/epoch - 17ms/step\n",
      "Epoch 12/60\n",
      "188/188 - 3s - loss: 0.4237 - accuracy: 0.8511 - val_loss: 0.8094 - val_accuracy: 0.7483 - 3s/epoch - 17ms/step\n",
      "Epoch 13/60\n",
      "188/188 - 3s - loss: 0.3720 - accuracy: 0.8723 - val_loss: 0.8896 - val_accuracy: 0.7196 - 3s/epoch - 17ms/step\n",
      "Epoch 14/60\n",
      "188/188 - 3s - loss: 0.3263 - accuracy: 0.8883 - val_loss: 0.8652 - val_accuracy: 0.7450 - 3s/epoch - 17ms/step\n",
      "Epoch 15/60\n",
      "188/188 - 3s - loss: 0.2831 - accuracy: 0.9055 - val_loss: 0.8872 - val_accuracy: 0.7343 - 3s/epoch - 17ms/step\n",
      "Epoch 16/60\n",
      "188/188 - 3s - loss: 0.2673 - accuracy: 0.9080 - val_loss: 0.8119 - val_accuracy: 0.7677 - 3s/epoch - 18ms/step\n",
      "Epoch 17/60\n",
      "188/188 - 3s - loss: 0.2353 - accuracy: 0.9180 - val_loss: 0.8325 - val_accuracy: 0.7590 - 3s/epoch - 18ms/step\n",
      "Epoch 18/60\n",
      "188/188 - 3s - loss: 0.2225 - accuracy: 0.9237 - val_loss: 0.8725 - val_accuracy: 0.7603 - 3s/epoch - 19ms/step\n",
      "Epoch 19/60\n",
      "188/188 - 4s - loss: 0.2271 - accuracy: 0.9210 - val_loss: 0.8763 - val_accuracy: 0.7623 - 4s/epoch - 20ms/step\n",
      "Epoch 20/60\n",
      "188/188 - 4s - loss: 0.2155 - accuracy: 0.9286 - val_loss: 0.8796 - val_accuracy: 0.7650 - 4s/epoch - 19ms/step\n",
      "Epoch 21/60\n",
      "188/188 - 3s - loss: 0.1708 - accuracy: 0.9396 - val_loss: 0.8773 - val_accuracy: 0.7617 - 3s/epoch - 18ms/step\n",
      "Epoch 22/60\n",
      "188/188 - 4s - loss: 0.1564 - accuracy: 0.9473 - val_loss: 0.9399 - val_accuracy: 0.7817 - 4s/epoch - 19ms/step\n",
      "Epoch 23/60\n",
      "188/188 - 3s - loss: 0.1266 - accuracy: 0.9593 - val_loss: 0.9435 - val_accuracy: 0.7637 - 3s/epoch - 19ms/step\n",
      "Epoch 24/60\n",
      "188/188 - 3s - loss: 0.1324 - accuracy: 0.9534 - val_loss: 0.9067 - val_accuracy: 0.7630 - 3s/epoch - 18ms/step\n",
      "Epoch 25/60\n",
      "188/188 - 3s - loss: 0.1190 - accuracy: 0.9609 - val_loss: 0.9063 - val_accuracy: 0.7710 - 3s/epoch - 18ms/step\n",
      "Epoch 26/60\n",
      "188/188 - 4s - loss: 0.0933 - accuracy: 0.9693 - val_loss: 1.0330 - val_accuracy: 0.7724 - 4s/epoch - 19ms/step\n",
      "Epoch 27/60\n",
      "188/188 - 3s - loss: 0.1187 - accuracy: 0.9593 - val_loss: 1.0262 - val_accuracy: 0.7784 - 3s/epoch - 18ms/step\n",
      "Epoch 28/60\n",
      "188/188 - 3s - loss: 0.1130 - accuracy: 0.9606 - val_loss: 0.9690 - val_accuracy: 0.7717 - 3s/epoch - 18ms/step\n",
      "Epoch 29/60\n",
      "188/188 - 3s - loss: 0.1211 - accuracy: 0.9573 - val_loss: 1.0287 - val_accuracy: 0.7684 - 3s/epoch - 18ms/step\n",
      "Epoch 30/60\n",
      "188/188 - 3s - loss: 0.1207 - accuracy: 0.9588 - val_loss: 1.0323 - val_accuracy: 0.7824 - 3s/epoch - 18ms/step\n",
      "Epoch 31/60\n",
      "188/188 - 3s - loss: 0.0997 - accuracy: 0.9651 - val_loss: 0.9309 - val_accuracy: 0.7937 - 3s/epoch - 18ms/step\n",
      "Epoch 32/60\n",
      "188/188 - 3s - loss: 0.0755 - accuracy: 0.9743 - val_loss: 0.9987 - val_accuracy: 0.7824 - 3s/epoch - 18ms/step\n",
      "Epoch 33/60\n",
      "188/188 - 3s - loss: 0.0524 - accuracy: 0.9828 - val_loss: 1.0011 - val_accuracy: 0.8004 - 3s/epoch - 18ms/step\n",
      "Epoch 34/60\n",
      "188/188 - 3s - loss: 0.0382 - accuracy: 0.9895 - val_loss: 1.1566 - val_accuracy: 0.7730 - 3s/epoch - 18ms/step\n",
      "Epoch 35/60\n",
      "188/188 - 3s - loss: 0.0696 - accuracy: 0.9766 - val_loss: 1.1630 - val_accuracy: 0.7684 - 3s/epoch - 18ms/step\n",
      "Epoch 36/60\n",
      "188/188 - 3s - loss: 0.1300 - accuracy: 0.9569 - val_loss: 1.1687 - val_accuracy: 0.7637 - 3s/epoch - 19ms/step\n",
      "Epoch 37/60\n",
      "188/188 - 3s - loss: 0.0920 - accuracy: 0.9681 - val_loss: 0.9916 - val_accuracy: 0.7917 - 3s/epoch - 18ms/step\n",
      "Epoch 38/60\n",
      "188/188 - 3s - loss: 0.0487 - accuracy: 0.9853 - val_loss: 1.0411 - val_accuracy: 0.7877 - 3s/epoch - 18ms/step\n",
      "Epoch 39/60\n",
      "188/188 - 3s - loss: 0.0925 - accuracy: 0.9668 - val_loss: 1.0562 - val_accuracy: 0.7810 - 3s/epoch - 18ms/step\n",
      "Epoch 40/60\n",
      "188/188 - 3s - loss: 0.0477 - accuracy: 0.9840 - val_loss: 1.0335 - val_accuracy: 0.7864 - 3s/epoch - 18ms/step\n",
      "Epoch 41/60\n",
      "188/188 - 3s - loss: 0.0441 - accuracy: 0.9855 - val_loss: 1.1053 - val_accuracy: 0.7850 - 3s/epoch - 18ms/step\n",
      "Epoch 42/60\n",
      "188/188 - 3s - loss: 0.1129 - accuracy: 0.9633 - val_loss: 0.9406 - val_accuracy: 0.7924 - 3s/epoch - 18ms/step\n",
      "Epoch 43/60\n",
      "188/188 - 4s - loss: 0.0539 - accuracy: 0.9826 - val_loss: 0.9987 - val_accuracy: 0.7944 - 4s/epoch - 19ms/step\n",
      "Epoch 44/60\n",
      "188/188 - 3s - loss: 0.0379 - accuracy: 0.9863 - val_loss: 0.9734 - val_accuracy: 0.8037 - 3s/epoch - 19ms/step\n",
      "Epoch 45/60\n",
      "188/188 - 3s - loss: 0.0484 - accuracy: 0.9848 - val_loss: 1.0302 - val_accuracy: 0.8037 - 3s/epoch - 18ms/step\n",
      "Epoch 46/60\n",
      "188/188 - 3s - loss: 0.0226 - accuracy: 0.9933 - val_loss: 1.0520 - val_accuracy: 0.8037 - 3s/epoch - 18ms/step\n",
      "Epoch 47/60\n",
      "188/188 - 4s - loss: 0.0378 - accuracy: 0.9886 - val_loss: 1.1763 - val_accuracy: 0.7830 - 4s/epoch - 20ms/step\n",
      "Epoch 48/60\n",
      "188/188 - 4s - loss: 0.1361 - accuracy: 0.9573 - val_loss: 0.9799 - val_accuracy: 0.7971 - 4s/epoch - 21ms/step\n",
      "Epoch 49/60\n",
      "188/188 - 4s - loss: 0.0632 - accuracy: 0.9803 - val_loss: 1.0220 - val_accuracy: 0.7877 - 4s/epoch - 19ms/step\n",
      "Epoch 50/60\n",
      "188/188 - 3s - loss: 0.0583 - accuracy: 0.9815 - val_loss: 1.1368 - val_accuracy: 0.7757 - 3s/epoch - 19ms/step\n",
      "Epoch 51/60\n",
      "188/188 - 4s - loss: 0.0604 - accuracy: 0.9811 - val_loss: 1.0355 - val_accuracy: 0.7897 - 4s/epoch - 19ms/step\n",
      "Epoch 52/60\n",
      "188/188 - 4s - loss: 0.0719 - accuracy: 0.9785 - val_loss: 0.9281 - val_accuracy: 0.8024 - 4s/epoch - 19ms/step\n",
      "Epoch 53/60\n",
      "188/188 - 4s - loss: 0.0329 - accuracy: 0.9900 - val_loss: 0.9846 - val_accuracy: 0.8077 - 4s/epoch - 19ms/step\n",
      "Epoch 54/60\n",
      "188/188 - 4s - loss: 0.0593 - accuracy: 0.9788 - val_loss: 0.9705 - val_accuracy: 0.8104 - 4s/epoch - 19ms/step\n",
      "Epoch 55/60\n",
      "188/188 - 4s - loss: 0.0544 - accuracy: 0.9833 - val_loss: 0.9975 - val_accuracy: 0.7844 - 4s/epoch - 19ms/step\n",
      "Epoch 56/60\n",
      "188/188 - 3s - loss: 0.0750 - accuracy: 0.9753 - val_loss: 1.0536 - val_accuracy: 0.7857 - 3s/epoch - 19ms/step\n",
      "Epoch 57/60\n",
      "188/188 - 4s - loss: 0.0713 - accuracy: 0.9758 - val_loss: 0.9879 - val_accuracy: 0.8044 - 4s/epoch - 19ms/step\n",
      "Epoch 58/60\n",
      "188/188 - 4s - loss: 0.0344 - accuracy: 0.9902 - val_loss: 1.0039 - val_accuracy: 0.8117 - 4s/epoch - 19ms/step\n",
      "Epoch 59/60\n",
      "188/188 - 4s - loss: 0.0352 - accuracy: 0.9913 - val_loss: 1.1338 - val_accuracy: 0.7710 - 4s/epoch - 19ms/step\n",
      "Epoch 60/60\n",
      "188/188 - 4s - loss: 0.0574 - accuracy: 0.9816 - val_loss: 1.0274 - val_accuracy: 0.7937 - 4s/epoch - 19ms/step\n"
     ]
    },
    {
     "data": {
      "text/plain": [
       "<keras.callbacks.History at 0x27936d31570>"
      ]
     },
     "execution_count": 27,
     "metadata": {},
     "output_type": "execute_result"
    }
   ],
   "source": [
    "model.fit(x_train, y_train, validation_data=(x_val, y_val), batch_size=32, epochs=60, verbose=2)"
   ]
  },
  {
   "cell_type": "code",
   "execution_count": 36,
   "id": "33f84388",
   "metadata": {},
   "outputs": [
    {
     "data": {
      "image/png": "[encoded data removed]",
      "text/plain": [
       "<Figure size 576x432 with 1 Axes>"
      ]
     },
     "metadata": {
      "needs_background": "light"
     },
     "output_type": "display_data"
    }
   ],
   "source": [
    "plot_acc(model.history)"
   ]
  },
  {
   "cell_type": "code",
   "execution_count": 37,
   "id": "bdd2f254",
   "metadata": {},
   "outputs": [
    {
     "data": {
      "image/png": "[encoded data removed]",
      "text/plain": [
       "<Figure size 576x432 with 1 Axes>"
      ]
     },
     "metadata": {
      "needs_background": "light"
     },
     "output_type": "display_data"
    }
   ],
   "source": [
    "plot_loss(model.history)"
   ]
  },
  {
   "cell_type": "code",
   "execution_count": 38,
   "id": "3f870881",
   "metadata": {},
   "outputs": [
    {
     "name": "stdout",
     "output_type": "stream",
     "text": [
      "79/79 [==============================] - 1s 11ms/step\n"
     ]
    }
   ],
   "source": [
    "y_pred = model.predict(x_test)\n",
    "y_pred = np.argmax(y_pred, axis=1)"
   ]
  },
  {
   "cell_type": "code",
   "execution_count": 40,
   "id": "682065ff",
   "metadata": {},
   "outputs": [],
   "source": [
    "from sklearn.metrics import accuracy_score, classification_report, confusion_matrix"
   ]
  },
  {
   "cell_type": "code",
   "execution_count": 41,
   "id": "9c40e286",
   "metadata": {},
   "outputs": [
    {
     "data": {
      "text/plain": [
       "0.802963556267521"
      ]
     },
     "execution_count": 41,
     "metadata": {},
     "output_type": "execute_result"
    }
   ],
   "source": [
    "accuracy_score(y_test, y_pred)"
   ]
  },
  {
   "cell_type": "code",
   "execution_count": 43,
   "id": "2366c963",
   "metadata": {},
   "outputs": [
    {
     "name": "stdout",
     "output_type": "stream",
     "text": [
      "              precision    recall  f1-score   support\n",
      "\n",
      "           0       0.80      0.90      0.85       257\n",
      "           1       0.92      0.90      0.91       258\n",
      "           2       0.71      0.69      0.70       261\n",
      "           3       0.70      0.81      0.75       236\n",
      "           4       0.79      0.78      0.78       238\n",
      "           5       0.86      0.80      0.83       255\n",
      "           6       0.94      0.86      0.90       236\n",
      "           7       0.86      0.82      0.84       250\n",
      "           8       0.82      0.79      0.80       260\n",
      "           9       0.67      0.67      0.67       246\n",
      "\n",
      "    accuracy                           0.80      2497\n",
      "   macro avg       0.81      0.80      0.80      2497\n",
      "weighted avg       0.81      0.80      0.80      2497\n",
      "\n"
     ]
    }
   ],
   "source": [
    "print(classification_report(y_test, y_pred))"
   ]
  },
  {
   "cell_type": "code",
   "execution_count": null,
   "id": "a08d9593",
   "metadata": {},
   "outputs": [],
   "source": []
  },
  {
   "cell_type": "code",
   "execution_count": 48,
   "id": "3f2a36ac",
   "metadata": {},
   "outputs": [
    {
     "data": {
      "text/plain": [
       "<AxesSubplot:>"
      ]
     },
     "execution_count": 48,
     "metadata": {},
     "output_type": "execute_result"
    },
    {
     "data": {
      "image/png": "[encoded data removed]",
      "text/plain": [
       "<Figure size 432x288 with 2 Axes>"
      ]
     },
     "metadata": {
      "needs_background": "light"
     },
     "output_type": "display_data"
    }
   ],
   "source": [
    "sns.heatmap(confusion_matrix(y_test, y_pred), annot=True, cmap='Blues')"
   ]
  },
  {
   "cell_type": "markdown",
   "id": "a4db8b2a",
   "metadata": {},
   "source": [
    "Bidirectional LSTM"
   ]
  },
  {
   "cell_type": "code",
   "execution_count": 53,
   "id": "13c235da",
   "metadata": {},
   "outputs": [
    {
     "name": "stdout",
     "output_type": "stream",
     "text": [
      "Model: \"sequential_4\"\n",
      "_________________________________________________________________\n",
      " Layer (type)                Output Shape              Param #   \n",
      "=================================================================\n",
      " bidirectional_5 (Bidirectio  (None, 130, 128)         53760     \n",
      " nal)                                                            \n",
      "                                                                 \n",
      " bidirectional_6 (Bidirectio  (None, 128)              98816     \n",
      " nal)                                                            \n",
      "                                                                 \n",
      " dense_15 (Dense)            (None, 128)               16512     \n",
      "                                                                 \n",
      " batch_normalization_3 (Batc  (None, 128)              512       \n",
      " hNormalization)                                                 \n",
      "                                                                 \n",
      " dropout_3 (Dropout)         (None, 128)               0         \n",
      "                                                                 \n",
      " dense_16 (Dense)            (None, 64)                8256      \n",
      "                                                                 \n",
      " dense_17 (Dense)            (None, 32)                2080      \n",
      "                                                                 \n",
      " dense_18 (Dense)            (None, 10)                330       \n",
      "                                                                 \n",
      "=================================================================\n",
      "Total params: 180,266\n",
      "Trainable params: 180,010\n",
      "Non-trainable params: 256\n",
      "_________________________________________________________________\n"
     ]
    }
   ],
   "source": [
    "model = tf.keras.Sequential()\n",
    "model.add(layers.Bidirectional(layers.LSTM(64, return_sequences=True), input_shape=input_shape))\n",
    "model.add(layers.Bidirectional(layers.LSTM(64)))\n",
    "\n",
    "model.add(layers.Dense(128, activation='relu'))\n",
    "model.add(layers.BatchNormalization())\n",
    "model.add(layers.Dropout(0.3))\n",
    "model.add(layers.Dense(64, activation='relu'))\n",
    "model.add(layers.Dense(32, activation='relu'))\n",
    "\n",
    "model.add(layers.Dense(10, activation='softmax'))\n",
    "model.compile(optimizer='adam', loss='sparse_categorical_crossentropy', metrics=['accuracy'])\n",
    "model.summary()"
   ]
  },
  {
   "cell_type": "code",
   "execution_count": 54,
   "id": "549fa381",
   "metadata": {
    "scrolled": true
   },
   "outputs": [
    {
     "name": "stdout",
     "output_type": "stream",
     "text": [
      "Epoch 1/60\n",
      "188/188 - 14s - loss: 1.7575 - accuracy: 0.3637 - val_loss: 1.5933 - val_accuracy: 0.4653 - 14s/epoch - 72ms/step\n",
      "Epoch 2/60\n",
      "188/188 - 7s - loss: 1.3602 - accuracy: 0.5039 - val_loss: 1.2563 - val_accuracy: 0.5381 - 7s/epoch - 38ms/step\n",
      "Epoch 3/60\n",
      "188/188 - 7s - loss: 1.1551 - accuracy: 0.5722 - val_loss: 1.2412 - val_accuracy: 0.5461 - 7s/epoch - 38ms/step\n",
      "Epoch 4/60\n",
      "188/188 - 7s - loss: 0.9994 - accuracy: 0.6400 - val_loss: 1.0381 - val_accuracy: 0.6475 - 7s/epoch - 38ms/step\n",
      "Epoch 5/60\n",
      "188/188 - 8s - loss: 0.8433 - accuracy: 0.6979 - val_loss: 1.1314 - val_accuracy: 0.5915 - 8s/epoch - 41ms/step\n",
      "Epoch 6/60\n",
      "188/188 - 9s - loss: 0.7547 - accuracy: 0.7356 - val_loss: 0.9520 - val_accuracy: 0.6722 - 9s/epoch - 46ms/step\n",
      "Epoch 7/60\n",
      "188/188 - 9s - loss: 0.6432 - accuracy: 0.7782 - val_loss: 0.9186 - val_accuracy: 0.6903 - 9s/epoch - 46ms/step\n",
      "Epoch 8/60\n",
      "188/188 - 8s - loss: 0.5412 - accuracy: 0.8179 - val_loss: 0.9137 - val_accuracy: 0.7063 - 8s/epoch - 44ms/step\n",
      "Epoch 9/60\n",
      "188/188 - 8s - loss: 0.4754 - accuracy: 0.8359 - val_loss: 0.8866 - val_accuracy: 0.7203 - 8s/epoch - 44ms/step\n",
      "Epoch 10/60\n",
      "188/188 - 8s - loss: 0.4255 - accuracy: 0.8529 - val_loss: 0.9332 - val_accuracy: 0.7103 - 8s/epoch - 41ms/step\n",
      "Epoch 11/60\n",
      "188/188 - 8s - loss: 0.3815 - accuracy: 0.8705 - val_loss: 0.8790 - val_accuracy: 0.7210 - 8s/epoch - 43ms/step\n",
      "Epoch 12/60\n",
      "188/188 - 9s - loss: 0.3321 - accuracy: 0.8873 - val_loss: 0.8744 - val_accuracy: 0.7497 - 9s/epoch - 46ms/step\n",
      "Epoch 13/60\n",
      "188/188 - 8s - loss: 0.2905 - accuracy: 0.8975 - val_loss: 1.0237 - val_accuracy: 0.7430 - 8s/epoch - 44ms/step\n",
      "Epoch 14/60\n",
      "188/188 - 8s - loss: 0.2568 - accuracy: 0.9130 - val_loss: 0.8822 - val_accuracy: 0.7523 - 8s/epoch - 45ms/step\n",
      "Epoch 15/60\n",
      "188/188 - 9s - loss: 0.2745 - accuracy: 0.9110 - val_loss: 0.8218 - val_accuracy: 0.7617 - 9s/epoch - 45ms/step\n",
      "Epoch 16/60\n",
      "188/188 - 8s - loss: 0.2355 - accuracy: 0.9194 - val_loss: 0.8150 - val_accuracy: 0.7630 - 8s/epoch - 45ms/step\n",
      "Epoch 17/60\n",
      "188/188 - 9s - loss: 0.1850 - accuracy: 0.9371 - val_loss: 0.8803 - val_accuracy: 0.7650 - 9s/epoch - 46ms/step\n",
      "Epoch 18/60\n",
      "188/188 - 9s - loss: 0.1416 - accuracy: 0.9508 - val_loss: 0.9442 - val_accuracy: 0.7677 - 9s/epoch - 46ms/step\n",
      "Epoch 19/60\n",
      "188/188 - 8s - loss: 0.1963 - accuracy: 0.9314 - val_loss: 0.9312 - val_accuracy: 0.7517 - 8s/epoch - 43ms/step\n",
      "Epoch 20/60\n",
      "188/188 - 7s - loss: 0.1938 - accuracy: 0.9362 - val_loss: 0.8080 - val_accuracy: 0.7924 - 7s/epoch - 39ms/step\n",
      "Epoch 21/60\n",
      "188/188 - 7s - loss: 0.1653 - accuracy: 0.9444 - val_loss: 0.8802 - val_accuracy: 0.7764 - 7s/epoch - 37ms/step\n",
      "Epoch 22/60\n",
      "188/188 - 7s - loss: 0.1209 - accuracy: 0.9603 - val_loss: 0.9007 - val_accuracy: 0.7730 - 7s/epoch - 37ms/step\n",
      "Epoch 23/60\n",
      "188/188 - 7s - loss: 0.1214 - accuracy: 0.9603 - val_loss: 0.8634 - val_accuracy: 0.7850 - 7s/epoch - 37ms/step\n",
      "Epoch 24/60\n",
      "188/188 - 7s - loss: 0.1305 - accuracy: 0.9549 - val_loss: 0.8787 - val_accuracy: 0.7817 - 7s/epoch - 36ms/step\n",
      "Epoch 25/60\n",
      "188/188 - 8s - loss: 0.1327 - accuracy: 0.9543 - val_loss: 0.9194 - val_accuracy: 0.7810 - 8s/epoch - 40ms/step\n",
      "Epoch 26/60\n",
      "188/188 - 7s - loss: 0.1002 - accuracy: 0.9666 - val_loss: 1.0237 - val_accuracy: 0.7690 - 7s/epoch - 38ms/step\n",
      "Epoch 27/60\n",
      "188/188 - 8s - loss: 0.0931 - accuracy: 0.9673 - val_loss: 0.9057 - val_accuracy: 0.7997 - 8s/epoch - 43ms/step\n",
      "Epoch 28/60\n",
      "188/188 - 8s - loss: 0.1337 - accuracy: 0.9549 - val_loss: 0.9766 - val_accuracy: 0.7790 - 8s/epoch - 42ms/step\n",
      "Epoch 29/60\n",
      "188/188 - 8s - loss: 0.1340 - accuracy: 0.9568 - val_loss: 0.8165 - val_accuracy: 0.8017 - 8s/epoch - 42ms/step\n",
      "Epoch 30/60\n",
      "188/188 - 8s - loss: 0.0699 - accuracy: 0.9771 - val_loss: 0.9263 - val_accuracy: 0.7850 - 8s/epoch - 42ms/step\n",
      "Epoch 31/60\n",
      "188/188 - 8s - loss: 0.0846 - accuracy: 0.9703 - val_loss: 0.9563 - val_accuracy: 0.7797 - 8s/epoch - 43ms/step\n",
      "Epoch 32/60\n",
      "188/188 - 8s - loss: 0.0954 - accuracy: 0.9708 - val_loss: 0.9278 - val_accuracy: 0.7951 - 8s/epoch - 43ms/step\n",
      "Epoch 33/60\n",
      "188/188 - 8s - loss: 0.1062 - accuracy: 0.9658 - val_loss: 0.9634 - val_accuracy: 0.7864 - 8s/epoch - 43ms/step\n",
      "Epoch 34/60\n",
      "188/188 - 8s - loss: 0.1013 - accuracy: 0.9668 - val_loss: 0.9231 - val_accuracy: 0.7957 - 8s/epoch - 44ms/step\n",
      "Epoch 35/60\n",
      "188/188 - 8s - loss: 0.0667 - accuracy: 0.9776 - val_loss: 0.9388 - val_accuracy: 0.7984 - 8s/epoch - 44ms/step\n",
      "Epoch 36/60\n",
      "188/188 - 8s - loss: 0.1159 - accuracy: 0.9616 - val_loss: 0.9305 - val_accuracy: 0.7850 - 8s/epoch - 44ms/step\n",
      "Epoch 37/60\n",
      "188/188 - 8s - loss: 0.0671 - accuracy: 0.9768 - val_loss: 0.9456 - val_accuracy: 0.8017 - 8s/epoch - 43ms/step\n",
      "Epoch 38/60\n",
      "188/188 - 8s - loss: 0.0378 - accuracy: 0.9850 - val_loss: 0.9380 - val_accuracy: 0.8057 - 8s/epoch - 44ms/step\n",
      "Epoch 39/60\n",
      "188/188 - 8s - loss: 0.0620 - accuracy: 0.9806 - val_loss: 1.0701 - val_accuracy: 0.7917 - 8s/epoch - 44ms/step\n",
      "Epoch 40/60\n",
      "188/188 - 8s - loss: 0.0861 - accuracy: 0.9728 - val_loss: 0.9942 - val_accuracy: 0.8037 - 8s/epoch - 43ms/step\n",
      "Epoch 41/60\n",
      "188/188 - 8s - loss: 0.0742 - accuracy: 0.9756 - val_loss: 1.0554 - val_accuracy: 0.7877 - 8s/epoch - 42ms/step\n",
      "Epoch 42/60\n",
      "188/188 - 7s - loss: 0.1337 - accuracy: 0.9558 - val_loss: 0.9358 - val_accuracy: 0.8011 - 7s/epoch - 40ms/step\n",
      "Epoch 43/60\n",
      "188/188 - 8s - loss: 0.0852 - accuracy: 0.9731 - val_loss: 0.8954 - val_accuracy: 0.8017 - 8s/epoch - 43ms/step\n",
      "Epoch 44/60\n",
      "188/188 - 8s - loss: 0.0529 - accuracy: 0.9826 - val_loss: 0.9453 - val_accuracy: 0.7997 - 8s/epoch - 43ms/step\n",
      "Epoch 45/60\n",
      "188/188 - 8s - loss: 0.0458 - accuracy: 0.9843 - val_loss: 0.9599 - val_accuracy: 0.8037 - 8s/epoch - 44ms/step\n",
      "Epoch 46/60\n",
      "188/188 - 8s - loss: 0.0906 - accuracy: 0.9730 - val_loss: 1.1151 - val_accuracy: 0.7857 - 8s/epoch - 43ms/step\n",
      "Epoch 47/60\n",
      "188/188 - 8s - loss: 0.0491 - accuracy: 0.9825 - val_loss: 0.9685 - val_accuracy: 0.8024 - 8s/epoch - 41ms/step\n",
      "Epoch 48/60\n",
      "188/188 - 8s - loss: 0.0605 - accuracy: 0.9811 - val_loss: 1.0390 - val_accuracy: 0.7857 - 8s/epoch - 40ms/step\n",
      "Epoch 49/60\n",
      "188/188 - 8s - loss: 0.0702 - accuracy: 0.9790 - val_loss: 1.0346 - val_accuracy: 0.7844 - 8s/epoch - 40ms/step\n",
      "Epoch 50/60\n",
      "188/188 - 8s - loss: 0.1179 - accuracy: 0.9628 - val_loss: 1.0551 - val_accuracy: 0.7764 - 8s/epoch - 42ms/step\n",
      "Epoch 51/60\n",
      "188/188 - 8s - loss: 0.0637 - accuracy: 0.9811 - val_loss: 0.8588 - val_accuracy: 0.8158 - 8s/epoch - 41ms/step\n",
      "Epoch 52/60\n",
      "188/188 - 8s - loss: 0.0279 - accuracy: 0.9917 - val_loss: 0.8941 - val_accuracy: 0.8164 - 8s/epoch - 41ms/step\n",
      "Epoch 53/60\n",
      "188/188 - 7s - loss: 0.0750 - accuracy: 0.9771 - val_loss: 1.0199 - val_accuracy: 0.7984 - 7s/epoch - 36ms/step\n",
      "Epoch 54/60\n",
      "188/188 - 7s - loss: 0.0486 - accuracy: 0.9845 - val_loss: 0.9501 - val_accuracy: 0.7977 - 7s/epoch - 36ms/step\n",
      "Epoch 55/60\n",
      "188/188 - 7s - loss: 0.0463 - accuracy: 0.9851 - val_loss: 0.9164 - val_accuracy: 0.8171 - 7s/epoch - 36ms/step\n",
      "Epoch 56/60\n",
      "188/188 - 7s - loss: 0.0549 - accuracy: 0.9845 - val_loss: 0.9621 - val_accuracy: 0.7991 - 7s/epoch - 37ms/step\n",
      "Epoch 57/60\n",
      "188/188 - 7s - loss: 0.0808 - accuracy: 0.9751 - val_loss: 0.8240 - val_accuracy: 0.8238 - 7s/epoch - 37ms/step\n",
      "Epoch 58/60\n",
      "188/188 - 7s - loss: 0.0664 - accuracy: 0.9766 - val_loss: 0.9329 - val_accuracy: 0.7951 - 7s/epoch - 36ms/step\n",
      "Epoch 59/60\n",
      "188/188 - 7s - loss: 0.0677 - accuracy: 0.9776 - val_loss: 0.8144 - val_accuracy: 0.8284 - 7s/epoch - 36ms/step\n",
      "Epoch 60/60\n",
      "188/188 - 7s - loss: 0.0278 - accuracy: 0.9915 - val_loss: 0.8455 - val_accuracy: 0.8111 - 7s/epoch - 37ms/step\n"
     ]
    },
    {
     "data": {
      "text/plain": [
       "<keras.callbacks.History at 0x279b5f01600>"
      ]
     },
     "execution_count": 54,
     "metadata": {},
     "output_type": "execute_result"
    }
   ],
   "source": [
    "model.fit(x_train, y_train, validation_data=(x_val, y_val), batch_size=32, epochs=60, verbose=2)"
   ]
  },
  {
   "cell_type": "code",
   "execution_count": 55,
   "id": "ad7bbae3",
   "metadata": {},
   "outputs": [],
   "source": [
    "from tensorflow.keras.utils import plot_model"
   ]
  },
  {
   "cell_type": "code",
   "execution_count": 56,
   "id": "a2841d58",
   "metadata": {},
   "outputs": [
    {
     "data": {
      "image/png": "[encoded data removed]",
      "text/plain": [
       "<IPython.core.display.Image object>"
      ]
     },
     "execution_count": 56,
     "metadata": {},
     "output_type": "execute_result"
    }
   ],
   "source": [
    "plot_model(model, show_shapes=True, to_file=\"../Models/Bidirectional_LSTM_arch.png\")"
   ]
  },
  {
   "cell_type": "code",
   "execution_count": 57,
   "id": "40f07378",
   "metadata": {},
   "outputs": [
    {
     "name": "stderr",
     "output_type": "stream",
     "text": [
      "WARNING:absl:Found untraced functions such as lstm_cell_19_layer_call_fn, lstm_cell_19_layer_call_and_return_conditional_losses, lstm_cell_20_layer_call_fn, lstm_cell_20_layer_call_and_return_conditional_losses, lstm_cell_22_layer_call_fn while saving (showing 5 of 8). These functions will not be directly callable after loading.\n"
     ]
    },
    {
     "name": "stdout",
     "output_type": "stream",
     "text": [
      "INFO:tensorflow:Assets written to: ../Models/Bidirectional_LSTM\\assets\n"
     ]
    },
    {
     "name": "stderr",
     "output_type": "stream",
     "text": [
      "INFO:tensorflow:Assets written to: ../Models/Bidirectional_LSTM\\assets\n"
     ]
    }
   ],
   "source": [
    "model.save('../Models/Bidirectional_LSTM')"
   ]
  },
  {
   "cell_type": "markdown",
   "id": "a52e6d5c",
   "metadata": {},
   "source": [
    "## CNN"
   ]
  },
  {
   "cell_type": "code",
   "execution_count": 58,
   "id": "128f624c",
   "metadata": {},
   "outputs": [],
   "source": [
    "x = np.array(data['mfcc'])\n",
    "y = np.array(data['labels'])\n",
    "\n",
    "x = x.reshape(x.shape[0], x.shape[1], x.shape[2], 1)\n",
    "y = tf.keras.utils.to_categorical(y, num_classes=10)"
   ]
  },
  {
   "cell_type": "code",
   "execution_count": 59,
   "id": "97bd7191",
   "metadata": {},
   "outputs": [
    {
     "data": {
      "text/plain": [
       "((9986, 130, 40, 1), (9986, 10))"
      ]
     },
     "execution_count": 59,
     "metadata": {},
     "output_type": "execute_result"
    }
   ],
   "source": [
    "x.shape, y.shape"
   ]
  },
  {
   "cell_type": "code",
   "execution_count": 60,
   "id": "997fc760",
   "metadata": {},
   "outputs": [],
   "source": [
    "x_train, x_test, y_train, y_test = train_test_split(x, y, test_size=0.25)\n",
    "x_train, x_val, y_train, y_val = train_test_split(x_train, y_train, test_size=0.2)"
   ]
  },
  {
   "cell_type": "code",
   "execution_count": 61,
   "id": "ea6043d7",
   "metadata": {},
   "outputs": [],
   "source": [
    "y_train[y_train == 10] = 9\n",
    "y_val[y_val == 10] = 9\n",
    "y_test[y_test == 10] = 9"
   ]
  },
  {
   "cell_type": "code",
   "execution_count": 62,
   "id": "f0a64b42",
   "metadata": {},
   "outputs": [],
   "source": [
    "input_shape = x_train.shape[1:]"
   ]
  },
  {
   "cell_type": "code",
   "execution_count": 63,
   "id": "fc65e75c",
   "metadata": {},
   "outputs": [
    {
     "data": {
      "text/plain": [
       "(130, 40, 1)"
      ]
     },
     "execution_count": 63,
     "metadata": {},
     "output_type": "execute_result"
    }
   ],
   "source": [
    "input_shape"
   ]
  },
  {
   "cell_type": "code",
   "execution_count": 64,
   "id": "8d650d52",
   "metadata": {},
   "outputs": [
    {
     "name": "stdout",
     "output_type": "stream",
     "text": [
      "Model: \"sequential_5\"\n",
      "_________________________________________________________________\n",
      " Layer (type)                Output Shape              Param #   \n",
      "=================================================================\n",
      " conv2d (Conv2D)             (None, 128, 38, 32)       320       \n",
      "                                                                 \n",
      " max_pooling2d (MaxPooling2D  (None, 64, 19, 32)       0         \n",
      " )                                                               \n",
      "                                                                 \n",
      " conv2d_1 (Conv2D)           (None, 62, 17, 128)       36992     \n",
      "                                                                 \n",
      " max_pooling2d_1 (MaxPooling  (None, 31, 9, 128)       0         \n",
      " 2D)                                                             \n",
      "                                                                 \n",
      " dropout_4 (Dropout)         (None, 31, 9, 128)        0         \n",
      "                                                                 \n",
      " conv2d_2 (Conv2D)           (None, 29, 7, 128)        147584    \n",
      "                                                                 \n",
      " max_pooling2d_2 (MaxPooling  (None, 15, 4, 128)       0         \n",
      " 2D)                                                             \n",
      "                                                                 \n",
      " dropout_5 (Dropout)         (None, 15, 4, 128)        0         \n",
      "                                                                 \n",
      " global_average_pooling2d (G  (None, 128)              0         \n",
      " lobalAveragePooling2D)                                          \n",
      "                                                                 \n",
      " dense_19 (Dense)            (None, 512)               66048     \n",
      "                                                                 \n",
      " dense_20 (Dense)            (None, 10)                5130      \n",
      "                                                                 \n",
      "=================================================================\n",
      "Total params: 256,074\n",
      "Trainable params: 256,074\n",
      "Non-trainable params: 0\n",
      "_________________________________________________________________\n"
     ]
    }
   ],
   "source": [
    "model = tf.keras.Sequential()\n",
    "model.add(layers.Conv2D(32, (3, 3), activation='relu', padding='valid', input_shape=input_shape))\n",
    "model.add(layers.MaxPooling2D(2, padding='same'))\n",
    "\n",
    "model.add(layers.Conv2D(128, (3, 3), activation='relu', padding='valid'))\n",
    "model.add(layers.MaxPooling2D(2, padding='same'))\n",
    "model.add(layers.Dropout(0.3))\n",
    "model.add(layers.Conv2D(128, (3, 3), activation='relu', padding='valid'))\n",
    "model.add(layers.MaxPooling2D(2, padding='same'))\n",
    "model.add(layers.Dropout(0.3))\n",
    "\n",
    "model.add(layers.GlobalAveragePooling2D())\n",
    "model.add(layers.Dense(512, activation='relu'))\n",
    "model.add(layers.Dense(10, activation='softmax'))\n",
    "\n",
    "model.compile(optimizer='adam', loss='binary_crossentropy', metrics=['accuracy'])\n",
    "model.summary()"
   ]
  },
  {
   "cell_type": "code",
   "execution_count": 65,
   "id": "03c57f99",
   "metadata": {
    "scrolled": true
   },
   "outputs": [
    {
     "name": "stdout",
     "output_type": "stream",
     "text": [
      "Epoch 1/40\n",
      "188/188 - 6s - loss: 0.2613 - accuracy: 0.3794 - val_loss: 0.2194 - val_accuracy: 0.5147 - 6s/epoch - 30ms/step\n",
      "Epoch 2/40\n",
      "188/188 - 3s - loss: 0.2015 - accuracy: 0.5393 - val_loss: 0.1880 - val_accuracy: 0.5908 - 3s/epoch - 14ms/step\n",
      "Epoch 3/40\n",
      "188/188 - 3s - loss: 0.1774 - accuracy: 0.6111 - val_loss: 0.1839 - val_accuracy: 0.5721 - 3s/epoch - 14ms/step\n",
      "Epoch 4/40\n",
      "188/188 - 3s - loss: 0.1642 - accuracy: 0.6436 - val_loss: 0.1735 - val_accuracy: 0.6148 - 3s/epoch - 14ms/step\n",
      "Epoch 5/40\n",
      "188/188 - 3s - loss: 0.1473 - accuracy: 0.6905 - val_loss: 0.1552 - val_accuracy: 0.6729 - 3s/epoch - 14ms/step\n",
      "Epoch 6/40\n",
      "188/188 - 3s - loss: 0.1396 - accuracy: 0.7109 - val_loss: 0.1320 - val_accuracy: 0.7250 - 3s/epoch - 14ms/step\n",
      "Epoch 7/40\n",
      "188/188 - 3s - loss: 0.1254 - accuracy: 0.7416 - val_loss: 0.1201 - val_accuracy: 0.7550 - 3s/epoch - 14ms/step\n",
      "Epoch 8/40\n",
      "188/188 - 3s - loss: 0.1184 - accuracy: 0.7648 - val_loss: 0.1153 - val_accuracy: 0.7650 - 3s/epoch - 14ms/step\n",
      "Epoch 9/40\n",
      "188/188 - 3s - loss: 0.1100 - accuracy: 0.7768 - val_loss: 0.1285 - val_accuracy: 0.7450 - 3s/epoch - 14ms/step\n",
      "Epoch 10/40\n",
      "188/188 - 3s - loss: 0.1021 - accuracy: 0.7957 - val_loss: 0.1145 - val_accuracy: 0.7684 - 3s/epoch - 14ms/step\n",
      "Epoch 11/40\n",
      "188/188 - 3s - loss: 0.0937 - accuracy: 0.8171 - val_loss: 0.1186 - val_accuracy: 0.7597 - 3s/epoch - 15ms/step\n",
      "Epoch 12/40\n",
      "188/188 - 3s - loss: 0.0916 - accuracy: 0.8252 - val_loss: 0.1000 - val_accuracy: 0.8071 - 3s/epoch - 15ms/step\n",
      "Epoch 13/40\n",
      "188/188 - 3s - loss: 0.0835 - accuracy: 0.8439 - val_loss: 0.1090 - val_accuracy: 0.7877 - 3s/epoch - 15ms/step\n",
      "Epoch 14/40\n",
      "188/188 - 3s - loss: 0.0772 - accuracy: 0.8610 - val_loss: 0.0919 - val_accuracy: 0.8271 - 3s/epoch - 15ms/step\n",
      "Epoch 15/40\n",
      "188/188 - 3s - loss: 0.0703 - accuracy: 0.8713 - val_loss: 0.0946 - val_accuracy: 0.8204 - 3s/epoch - 15ms/step\n",
      "Epoch 16/40\n",
      "188/188 - 3s - loss: 0.0662 - accuracy: 0.8852 - val_loss: 0.0929 - val_accuracy: 0.8311 - 3s/epoch - 15ms/step\n",
      "Epoch 17/40\n",
      "188/188 - 3s - loss: 0.0626 - accuracy: 0.8882 - val_loss: 0.0855 - val_accuracy: 0.8324 - 3s/epoch - 15ms/step\n",
      "Epoch 18/40\n",
      "188/188 - 3s - loss: 0.0611 - accuracy: 0.8907 - val_loss: 0.0844 - val_accuracy: 0.8518 - 3s/epoch - 15ms/step\n",
      "Epoch 19/40\n",
      "188/188 - 3s - loss: 0.0535 - accuracy: 0.9082 - val_loss: 0.0942 - val_accuracy: 0.8278 - 3s/epoch - 15ms/step\n",
      "Epoch 20/40\n",
      "188/188 - 3s - loss: 0.0514 - accuracy: 0.9125 - val_loss: 0.0897 - val_accuracy: 0.8385 - 3s/epoch - 15ms/step\n",
      "Epoch 21/40\n",
      "188/188 - 3s - loss: 0.0454 - accuracy: 0.9242 - val_loss: 0.0803 - val_accuracy: 0.8551 - 3s/epoch - 15ms/step\n",
      "Epoch 22/40\n",
      "188/188 - 3s - loss: 0.0425 - accuracy: 0.9291 - val_loss: 0.0738 - val_accuracy: 0.8605 - 3s/epoch - 15ms/step\n",
      "Epoch 23/40\n",
      "188/188 - 3s - loss: 0.0434 - accuracy: 0.9289 - val_loss: 0.0740 - val_accuracy: 0.8658 - 3s/epoch - 15ms/step\n",
      "Epoch 24/40\n",
      "188/188 - 3s - loss: 0.0399 - accuracy: 0.9349 - val_loss: 0.0903 - val_accuracy: 0.8431 - 3s/epoch - 15ms/step\n",
      "Epoch 25/40\n",
      "188/188 - 3s - loss: 0.0344 - accuracy: 0.9464 - val_loss: 0.0708 - val_accuracy: 0.8792 - 3s/epoch - 15ms/step\n",
      "Epoch 26/40\n",
      "188/188 - 3s - loss: 0.0349 - accuracy: 0.9459 - val_loss: 0.0714 - val_accuracy: 0.8858 - 3s/epoch - 15ms/step\n",
      "Epoch 27/40\n",
      "188/188 - 3s - loss: 0.0328 - accuracy: 0.9494 - val_loss: 0.0639 - val_accuracy: 0.9005 - 3s/epoch - 15ms/step\n",
      "Epoch 28/40\n",
      "188/188 - 3s - loss: 0.0310 - accuracy: 0.9531 - val_loss: 0.0756 - val_accuracy: 0.8765 - 3s/epoch - 15ms/step\n",
      "Epoch 29/40\n",
      "188/188 - 3s - loss: 0.0317 - accuracy: 0.9513 - val_loss: 0.0849 - val_accuracy: 0.8638 - 3s/epoch - 15ms/step\n",
      "Epoch 30/40\n",
      "188/188 - 3s - loss: 0.0291 - accuracy: 0.9593 - val_loss: 0.0709 - val_accuracy: 0.8812 - 3s/epoch - 15ms/step\n",
      "Epoch 31/40\n",
      "188/188 - 3s - loss: 0.0262 - accuracy: 0.9633 - val_loss: 0.0693 - val_accuracy: 0.8858 - 3s/epoch - 15ms/step\n",
      "Epoch 32/40\n",
      "188/188 - 3s - loss: 0.0267 - accuracy: 0.9609 - val_loss: 0.0742 - val_accuracy: 0.8812 - 3s/epoch - 15ms/step\n",
      "Epoch 33/40\n",
      "188/188 - 3s - loss: 0.0249 - accuracy: 0.9649 - val_loss: 0.0927 - val_accuracy: 0.8511 - 3s/epoch - 15ms/step\n",
      "Epoch 34/40\n",
      "188/188 - 3s - loss: 0.0236 - accuracy: 0.9670 - val_loss: 0.0661 - val_accuracy: 0.9059 - 3s/epoch - 15ms/step\n",
      "Epoch 35/40\n",
      "188/188 - 3s - loss: 0.0204 - accuracy: 0.9750 - val_loss: 0.0817 - val_accuracy: 0.8745 - 3s/epoch - 15ms/step\n",
      "Epoch 36/40\n",
      "188/188 - 3s - loss: 0.0205 - accuracy: 0.9726 - val_loss: 0.0826 - val_accuracy: 0.8698 - 3s/epoch - 15ms/step\n",
      "Epoch 37/40\n",
      "188/188 - 3s - loss: 0.0260 - accuracy: 0.9621 - val_loss: 0.0973 - val_accuracy: 0.8692 - 3s/epoch - 15ms/step\n",
      "Epoch 38/40\n",
      "188/188 - 3s - loss: 0.0233 - accuracy: 0.9678 - val_loss: 0.0687 - val_accuracy: 0.9012 - 3s/epoch - 15ms/step\n",
      "Epoch 39/40\n",
      "188/188 - 3s - loss: 0.0178 - accuracy: 0.9775 - val_loss: 0.0769 - val_accuracy: 0.8945 - 3s/epoch - 15ms/step\n",
      "Epoch 40/40\n",
      "188/188 - 3s - loss: 0.0200 - accuracy: 0.9741 - val_loss: 0.0761 - val_accuracy: 0.8899 - 3s/epoch - 15ms/step\n"
     ]
    }
   ],
   "source": [
    "history = model.fit(x_train, y_train, validation_data=(x_val, y_val), epochs=40, verbose=2, batch_size=32)"
   ]
  },
  {
   "cell_type": "code",
   "execution_count": 66,
   "id": "881fce56",
   "metadata": {},
   "outputs": [
    {
     "data": {
      "image/png": "[encoded data removed]",
      "text/plain": [
       "<Figure size 576x432 with 1 Axes>"
      ]
     },
     "metadata": {
      "needs_background": "light"
     },
     "output_type": "display_data"
    }
   ],
   "source": [
    "plot_acc(history)"
   ]
  },
  {
   "cell_type": "code",
   "execution_count": 67,
   "id": "72ca25ed",
   "metadata": {},
   "outputs": [
    {
     "data": {
      "image/png": "[encoded data removed]",
      "text/plain": [
       "<Figure size 576x432 with 1 Axes>"
      ]
     },
     "metadata": {
      "needs_background": "light"
     },
     "output_type": "display_data"
    }
   ],
   "source": [
    "plot_loss(history)"
   ]
  },
  {
   "cell_type": "markdown",
   "id": "fcd76f93",
   "metadata": {},
   "source": [
    "### Residual Modules"
   ]
  },
  {
   "cell_type": "code",
   "execution_count": 83,
   "id": "05f9772d",
   "metadata": {},
   "outputs": [],
   "source": [
    "def identity_block(x, filter):\n",
    "    # copy tensor to variable called x_skip\n",
    "    x_skip = x\n",
    "    # Layer 1\n",
    "    x = tf.keras.layers.Conv2D(filter, (3,3), padding = 'same')(x)\n",
    "    x = tf.keras.layers.BatchNormalization(axis=3)(x)\n",
    "    x = tf.keras.layers.Activation('relu')(x)\n",
    "    # Layer 2\n",
    "    x = tf.keras.layers.Conv2D(filter, (3,3), padding = 'same')(x)\n",
    "    x = tf.keras.layers.BatchNormalization(axis=3)(x)\n",
    "    # Add Residue\n",
    "    x = tf.keras.layers.Add()([x, x_skip])     \n",
    "    x = tf.keras.layers.Activation('relu')(x)\n",
    "    return x"
   ]
  },
  {
   "cell_type": "code",
   "execution_count": 84,
   "id": "47656657",
   "metadata": {},
   "outputs": [],
   "source": [
    "def convolutional_block(x, filter):\n",
    "    # copy tensor to variable called x_skip\n",
    "    x_skip = x\n",
    "    # Layer 1\n",
    "    x = tf.keras.layers.Conv2D(filter, (3,3), padding = 'same', strides = (2,2))(x)\n",
    "    x = tf.keras.layers.BatchNormalization(axis=3)(x)\n",
    "    x = tf.keras.layers.Activation('relu')(x)\n",
    "    # Layer 2\n",
    "    x = tf.keras.layers.Conv2D(filter, (3,3), padding = 'same')(x)\n",
    "    x = tf.keras.layers.BatchNormalization(axis=3)(x)\n",
    "    # Processing Residue with conv(1,1)\n",
    "    x_skip = tf.keras.layers.Conv2D(filter, (1,1), strides = (2,2))(x_skip)\n",
    "    # Add Residue\n",
    "    x = tf.keras.layers.Add()([x, x_skip])     \n",
    "    x = tf.keras.layers.Activation('relu')(x)\n",
    "    return x"
   ]
  },
  {
   "cell_type": "code",
   "execution_count": 93,
   "id": "396f13bc",
   "metadata": {},
   "outputs": [],
   "source": [
    "def ResNet34(shape = input_shape, classes = 10):\n",
    "    x_input = tf.keras.layers.Input(shape)\n",
    "    x = tf.keras.layers.ZeroPadding2D((3, 3))(x_input)\n",
    "    \n",
    "    x = tf.keras.layers.Conv2D(64, kernel_size=7, strides=2, padding='same')(x)\n",
    "    x = tf.keras.layers.BatchNormalization()(x)\n",
    "    x = tf.keras.layers.Activation('relu')(x)\n",
    "    x = tf.keras.layers.MaxPool2D(pool_size=3, strides=2, padding='same')(x)\n",
    "    \n",
    "    block_layers = [1, 1, 1, 1]\n",
    "    filter_size = 64\n",
    "    for i in range(4):\n",
    "        if i == 0:\n",
    "            for j in range(block_layers[i]):\n",
    "                x = identity_block(x, filter_size)\n",
    "        else:\n",
    "            # One Residual/Convolutional Block followed by Identity blocks\n",
    "            # The filter size will go on increasing by a factor of 2\n",
    "            filter_size = filter_size*2\n",
    "            x = convolutional_block(x, filter_size)\n",
    "            for j in range(block_layers[i] - 1):\n",
    "                x = identity_block(x, filter_size)\n",
    "                \n",
    "    x = tf.keras.layers.AveragePooling2D((2,2), padding = 'same')(x)\n",
    "    x = tf.keras.layers.Flatten()(x)\n",
    "    x = tf.keras.layers.Dense(512, activation = 'relu')(x)\n",
    "    x = tf.keras.layers.Dense(classes, activation = 'softmax')(x)\n",
    "    model = tf.keras.models.Model(inputs = x_input, outputs = x, name = \"ResNet34\")\n",
    "    return model"
   ]
  },
  {
   "cell_type": "code",
   "execution_count": 94,
   "id": "876a9b0b",
   "metadata": {},
   "outputs": [
    {
     "name": "stdout",
     "output_type": "stream",
     "text": [
      "Model: \"ResNet34\"\n",
      "__________________________________________________________________________________________________\n",
      " Layer (type)                   Output Shape         Param #     Connected to                     \n",
      "==================================================================================================\n",
      " input_8 (InputLayer)           [(None, 130, 40, 1)  0           []                               \n",
      "                                ]                                                                 \n",
      "                                                                                                  \n",
      " zero_padding2d_4 (ZeroPadding2  (None, 136, 46, 1)  0           ['input_8[0][0]']                \n",
      " D)                                                                                               \n",
      "                                                                                                  \n",
      " conv2d_119 (Conv2D)            (None, 68, 23, 64)   3200        ['zero_padding2d_4[0][0]']       \n",
      "                                                                                                  \n",
      " batch_normalization_108 (Batch  (None, 68, 23, 64)  256         ['conv2d_119[0][0]']             \n",
      " Normalization)                                                                                   \n",
      "                                                                                                  \n",
      " activation_102 (Activation)    (None, 68, 23, 64)   0           ['batch_normalization_108[0][0]']\n",
      "                                                                                                  \n",
      " max_pooling2d_7 (MaxPooling2D)  (None, 34, 12, 64)  0           ['activation_102[0][0]']         \n",
      "                                                                                                  \n",
      " conv2d_120 (Conv2D)            (None, 34, 12, 64)   36928       ['max_pooling2d_7[0][0]']        \n",
      "                                                                                                  \n",
      " batch_normalization_109 (Batch  (None, 34, 12, 64)  256         ['conv2d_120[0][0]']             \n",
      " Normalization)                                                                                   \n",
      "                                                                                                  \n",
      " activation_103 (Activation)    (None, 34, 12, 64)   0           ['batch_normalization_109[0][0]']\n",
      "                                                                                                  \n",
      " conv2d_121 (Conv2D)            (None, 34, 12, 64)   36928       ['activation_103[0][0]']         \n",
      "                                                                                                  \n",
      " batch_normalization_110 (Batch  (None, 34, 12, 64)  256         ['conv2d_121[0][0]']             \n",
      " Normalization)                                                                                   \n",
      "                                                                                                  \n",
      " add_49 (Add)                   (None, 34, 12, 64)   0           ['batch_normalization_110[0][0]',\n",
      "                                                                  'max_pooling2d_7[0][0]']        \n",
      "                                                                                                  \n",
      " activation_104 (Activation)    (None, 34, 12, 64)   0           ['add_49[0][0]']                 \n",
      "                                                                                                  \n",
      " conv2d_122 (Conv2D)            (None, 17, 6, 128)   73856       ['activation_104[0][0]']         \n",
      "                                                                                                  \n",
      " batch_normalization_111 (Batch  (None, 17, 6, 128)  512         ['conv2d_122[0][0]']             \n",
      " Normalization)                                                                                   \n",
      "                                                                                                  \n",
      " activation_105 (Activation)    (None, 17, 6, 128)   0           ['batch_normalization_111[0][0]']\n",
      "                                                                                                  \n",
      " conv2d_123 (Conv2D)            (None, 17, 6, 128)   147584      ['activation_105[0][0]']         \n",
      "                                                                                                  \n",
      " batch_normalization_112 (Batch  (None, 17, 6, 128)  512         ['conv2d_123[0][0]']             \n",
      " Normalization)                                                                                   \n",
      "                                                                                                  \n",
      " conv2d_124 (Conv2D)            (None, 17, 6, 128)   8320        ['activation_104[0][0]']         \n",
      "                                                                                                  \n",
      " add_50 (Add)                   (None, 17, 6, 128)   0           ['batch_normalization_112[0][0]',\n",
      "                                                                  'conv2d_124[0][0]']             \n",
      "                                                                                                  \n",
      " activation_106 (Activation)    (None, 17, 6, 128)   0           ['add_50[0][0]']                 \n",
      "                                                                                                  \n",
      " conv2d_125 (Conv2D)            (None, 9, 3, 256)    295168      ['activation_106[0][0]']         \n",
      "                                                                                                  \n",
      " batch_normalization_113 (Batch  (None, 9, 3, 256)   1024        ['conv2d_125[0][0]']             \n",
      " Normalization)                                                                                   \n",
      "                                                                                                  \n",
      " activation_107 (Activation)    (None, 9, 3, 256)    0           ['batch_normalization_113[0][0]']\n",
      "                                                                                                  \n",
      " conv2d_126 (Conv2D)            (None, 9, 3, 256)    590080      ['activation_107[0][0]']         \n",
      "                                                                                                  \n",
      " batch_normalization_114 (Batch  (None, 9, 3, 256)   1024        ['conv2d_126[0][0]']             \n",
      " Normalization)                                                                                   \n",
      "                                                                                                  \n",
      " conv2d_127 (Conv2D)            (None, 9, 3, 256)    33024       ['activation_106[0][0]']         \n",
      "                                                                                                  \n",
      " add_51 (Add)                   (None, 9, 3, 256)    0           ['batch_normalization_114[0][0]',\n",
      "                                                                  'conv2d_127[0][0]']             \n",
      "                                                                                                  \n",
      " activation_108 (Activation)    (None, 9, 3, 256)    0           ['add_51[0][0]']                 \n",
      "                                                                                                  \n",
      " conv2d_128 (Conv2D)            (None, 5, 2, 512)    1180160     ['activation_108[0][0]']         \n",
      "                                                                                                  \n",
      " batch_normalization_115 (Batch  (None, 5, 2, 512)   2048        ['conv2d_128[0][0]']             \n",
      " Normalization)                                                                                   \n",
      "                                                                                                  \n",
      " activation_109 (Activation)    (None, 5, 2, 512)    0           ['batch_normalization_115[0][0]']\n",
      "                                                                                                  \n",
      " conv2d_129 (Conv2D)            (None, 5, 2, 512)    2359808     ['activation_109[0][0]']         \n",
      "                                                                                                  \n",
      " batch_normalization_116 (Batch  (None, 5, 2, 512)   2048        ['conv2d_129[0][0]']             \n"
     ]
    },
    {
     "name": "stdout",
     "output_type": "stream",
     "text": [
      " Normalization)                                                                                   \n",
      "                                                                                                  \n",
      " conv2d_130 (Conv2D)            (None, 5, 2, 512)    131584      ['activation_108[0][0]']         \n",
      "                                                                                                  \n",
      " add_52 (Add)                   (None, 5, 2, 512)    0           ['batch_normalization_116[0][0]',\n",
      "                                                                  'conv2d_130[0][0]']             \n",
      "                                                                                                  \n",
      " activation_110 (Activation)    (None, 5, 2, 512)    0           ['add_52[0][0]']                 \n",
      "                                                                                                  \n",
      " average_pooling2d_4 (AveragePo  (None, 3, 1, 512)   0           ['activation_110[0][0]']         \n",
      " oling2D)                                                                                         \n",
      "                                                                                                  \n",
      " flatten_4 (Flatten)            (None, 1536)         0           ['average_pooling2d_4[0][0]']    \n",
      "                                                                                                  \n",
      " dense_29 (Dense)               (None, 512)          786944      ['flatten_4[0][0]']              \n",
      "                                                                                                  \n",
      " dense_30 (Dense)               (None, 10)           5130        ['dense_29[0][0]']               \n",
      "                                                                                                  \n",
      "==================================================================================================\n",
      "Total params: 5,696,650\n",
      "Trainable params: 5,692,682\n",
      "Non-trainable params: 3,968\n",
      "__________________________________________________________________________________________________\n"
     ]
    }
   ],
   "source": [
    "model = ResNet34()\n",
    "model.summary()"
   ]
  },
  {
   "cell_type": "code",
   "execution_count": 96,
   "id": "5f30326b",
   "metadata": {
    "scrolled": true
   },
   "outputs": [
    {
     "name": "stdout",
     "output_type": "stream",
     "text": [
      "Epoch 1/40\n",
      "188/188 - 8s - loss: 0.2336 - accuracy: 0.4645 - val_loss: 0.3888 - val_accuracy: 0.4399 - 8s/epoch - 44ms/step\n",
      "Epoch 2/40\n",
      "188/188 - 5s - loss: 0.1696 - accuracy: 0.6335 - val_loss: 0.2547 - val_accuracy: 0.5601 - 5s/epoch - 27ms/step\n",
      "Epoch 3/40\n",
      "188/188 - 5s - loss: 0.1493 - accuracy: 0.6850 - val_loss: 0.2464 - val_accuracy: 0.5694 - 5s/epoch - 27ms/step\n",
      "Epoch 4/40\n",
      "188/188 - 5s - loss: 0.1286 - accuracy: 0.7308 - val_loss: 0.2694 - val_accuracy: 0.5007 - 5s/epoch - 27ms/step\n",
      "Epoch 5/40\n",
      "188/188 - 5s - loss: 0.1136 - accuracy: 0.7685 - val_loss: 0.1933 - val_accuracy: 0.6395 - 5s/epoch - 28ms/step\n",
      "Epoch 6/40\n",
      "188/188 - 6s - loss: 0.1025 - accuracy: 0.7954 - val_loss: 0.1836 - val_accuracy: 0.6602 - 6s/epoch - 29ms/step\n",
      "Epoch 7/40\n",
      "188/188 - 6s - loss: 0.0860 - accuracy: 0.8269 - val_loss: 0.0939 - val_accuracy: 0.8104 - 6s/epoch - 30ms/step\n",
      "Epoch 8/40\n",
      "188/188 - 6s - loss: 0.0823 - accuracy: 0.8421 - val_loss: 0.1230 - val_accuracy: 0.7737 - 6s/epoch - 30ms/step\n",
      "Epoch 9/40\n",
      "188/188 - 6s - loss: 0.0686 - accuracy: 0.8666 - val_loss: 0.1656 - val_accuracy: 0.7009 - 6s/epoch - 30ms/step\n",
      "Epoch 10/40\n",
      "188/188 - 6s - loss: 0.0597 - accuracy: 0.8843 - val_loss: 0.1399 - val_accuracy: 0.7750 - 6s/epoch - 30ms/step\n",
      "Epoch 11/40\n",
      "188/188 - 6s - loss: 0.0533 - accuracy: 0.8972 - val_loss: 0.1312 - val_accuracy: 0.7790 - 6s/epoch - 30ms/step\n",
      "Epoch 12/40\n",
      "188/188 - 6s - loss: 0.0447 - accuracy: 0.9139 - val_loss: 0.1074 - val_accuracy: 0.7991 - 6s/epoch - 30ms/step\n",
      "Epoch 13/40\n",
      "188/188 - 6s - loss: 0.0369 - accuracy: 0.9287 - val_loss: 0.0917 - val_accuracy: 0.8398 - 6s/epoch - 30ms/step\n",
      "Epoch 14/40\n",
      "188/188 - 6s - loss: 0.0372 - accuracy: 0.9304 - val_loss: 0.1240 - val_accuracy: 0.8104 - 6s/epoch - 29ms/step\n",
      "Epoch 15/40\n",
      "188/188 - 6s - loss: 0.0279 - accuracy: 0.9514 - val_loss: 0.1013 - val_accuracy: 0.8445 - 6s/epoch - 29ms/step\n",
      "Epoch 16/40\n",
      "188/188 - 6s - loss: 0.0251 - accuracy: 0.9569 - val_loss: 0.1026 - val_accuracy: 0.8371 - 6s/epoch - 29ms/step\n",
      "Epoch 17/40\n",
      "188/188 - 6s - loss: 0.0239 - accuracy: 0.9571 - val_loss: 0.0906 - val_accuracy: 0.8678 - 6s/epoch - 29ms/step\n",
      "Epoch 18/40\n",
      "188/188 - 6s - loss: 0.0205 - accuracy: 0.9654 - val_loss: 0.0983 - val_accuracy: 0.8411 - 6s/epoch - 29ms/step\n",
      "Epoch 19/40\n",
      "188/188 - 6s - loss: 0.0189 - accuracy: 0.9683 - val_loss: 0.0970 - val_accuracy: 0.8578 - 6s/epoch - 29ms/step\n",
      "Epoch 20/40\n",
      "188/188 - 6s - loss: 0.0199 - accuracy: 0.9685 - val_loss: 0.1056 - val_accuracy: 0.8364 - 6s/epoch - 30ms/step\n",
      "Epoch 21/40\n",
      "188/188 - 6s - loss: 0.0160 - accuracy: 0.9760 - val_loss: 0.0926 - val_accuracy: 0.8625 - 6s/epoch - 30ms/step\n",
      "Epoch 22/40\n",
      "188/188 - 6s - loss: 0.0110 - accuracy: 0.9806 - val_loss: 0.1103 - val_accuracy: 0.8431 - 6s/epoch - 32ms/step\n",
      "Epoch 23/40\n",
      "188/188 - 6s - loss: 0.0101 - accuracy: 0.9835 - val_loss: 0.1056 - val_accuracy: 0.8558 - 6s/epoch - 32ms/step\n",
      "Epoch 24/40\n",
      "188/188 - 6s - loss: 0.0162 - accuracy: 0.9743 - val_loss: 0.1028 - val_accuracy: 0.8565 - 6s/epoch - 30ms/step\n",
      "Epoch 25/40\n",
      "188/188 - 6s - loss: 0.0137 - accuracy: 0.9765 - val_loss: 0.0959 - val_accuracy: 0.8692 - 6s/epoch - 30ms/step\n",
      "Epoch 26/40\n",
      "188/188 - 6s - loss: 0.0108 - accuracy: 0.9831 - val_loss: 0.1117 - val_accuracy: 0.8545 - 6s/epoch - 30ms/step\n",
      "Epoch 27/40\n",
      "188/188 - 6s - loss: 0.0102 - accuracy: 0.9848 - val_loss: 0.1343 - val_accuracy: 0.8385 - 6s/epoch - 30ms/step\n",
      "Epoch 28/40\n",
      "188/188 - 6s - loss: 0.0108 - accuracy: 0.9843 - val_loss: 0.1151 - val_accuracy: 0.8445 - 6s/epoch - 30ms/step\n",
      "Epoch 29/40\n",
      "188/188 - 6s - loss: 0.0089 - accuracy: 0.9871 - val_loss: 0.1157 - val_accuracy: 0.8371 - 6s/epoch - 30ms/step\n",
      "Epoch 30/40\n",
      "188/188 - 6s - loss: 0.0144 - accuracy: 0.9761 - val_loss: 0.1093 - val_accuracy: 0.8411 - 6s/epoch - 29ms/step\n",
      "Epoch 31/40\n",
      "188/188 - 6s - loss: 0.0087 - accuracy: 0.9856 - val_loss: 0.1191 - val_accuracy: 0.8411 - 6s/epoch - 30ms/step\n",
      "Epoch 32/40\n",
      "188/188 - 6s - loss: 0.0077 - accuracy: 0.9895 - val_loss: 0.0954 - val_accuracy: 0.8725 - 6s/epoch - 30ms/step\n",
      "Epoch 33/40\n",
      "188/188 - 6s - loss: 0.0074 - accuracy: 0.9871 - val_loss: 0.1169 - val_accuracy: 0.8451 - 6s/epoch - 30ms/step\n",
      "Epoch 34/40\n",
      "188/188 - 6s - loss: 0.0133 - accuracy: 0.9790 - val_loss: 0.1116 - val_accuracy: 0.8565 - 6s/epoch - 30ms/step\n",
      "Epoch 35/40\n",
      "188/188 - 6s - loss: 0.0113 - accuracy: 0.9828 - val_loss: 0.0927 - val_accuracy: 0.8778 - 6s/epoch - 29ms/step\n",
      "Epoch 36/40\n",
      "188/188 - 6s - loss: 0.0058 - accuracy: 0.9908 - val_loss: 0.1230 - val_accuracy: 0.8431 - 6s/epoch - 30ms/step\n",
      "Epoch 37/40\n",
      "188/188 - 6s - loss: 0.0129 - accuracy: 0.9778 - val_loss: 0.1100 - val_accuracy: 0.8531 - 6s/epoch - 29ms/step\n",
      "Epoch 38/40\n",
      "188/188 - 6s - loss: 0.0051 - accuracy: 0.9920 - val_loss: 0.1207 - val_accuracy: 0.8611 - 6s/epoch - 29ms/step\n",
      "Epoch 39/40\n",
      "188/188 - 6s - loss: 0.0027 - accuracy: 0.9955 - val_loss: 0.1069 - val_accuracy: 0.8692 - 6s/epoch - 29ms/step\n",
      "Epoch 40/40\n",
      "188/188 - 6s - loss: 0.0074 - accuracy: 0.9873 - val_loss: 0.1298 - val_accuracy: 0.8291 - 6s/epoch - 29ms/step\n"
     ]
    }
   ],
   "source": [
    "model.compile(optimizer='adam', loss='binary_crossentropy', metrics=['accuracy'])\n",
    "history = model.fit(x_train, y_train, validation_data=(x_val, y_val), epochs=40, verbose=2, batch_size=32)"
   ]
  },
  {
   "cell_type": "code",
   "execution_count": 97,
   "id": "23aeb081",
   "metadata": {},
   "outputs": [
    {
     "data": {
      "image/png": "[encoded data removed]",
      "text/plain": [
       "<Figure size 576x432 with 1 Axes>"
      ]
     },
     "metadata": {
      "needs_background": "light"
     },
     "output_type": "display_data"
    }
   ],
   "source": [
    "plot_acc(model.history)"
   ]
  },
  {
   "cell_type": "code",
   "execution_count": 98,
   "id": "a076d440",
   "metadata": {},
   "outputs": [
    {
     "data": {
      "image/png": "[encoded data removed]",
      "text/plain": [
       "<Figure size 576x432 with 1 Axes>"
      ]
     },
     "metadata": {
      "needs_background": "light"
     },
     "output_type": "display_data"
    }
   ],
   "source": [
    "plot_loss(model.history)"
   ]
  },
  {
   "cell_type": "code",
   "execution_count": null,
   "id": "fa71a724",
   "metadata": {},
   "outputs": [],
   "source": []
  }
 ],
 "metadata": {
  "kernelspec": {
   "display_name": "Python 3 (ipykernel)",
   "language": "python",
   "name": "python3"
  },
  "language_info": {
   "codemirror_mode": {
    "name": "ipython",
    "version": 3
   },
   "file_extension": ".py",
   "mimetype": "text/x-python",
   "name": "python",
   "nbconvert_exporter": "python",
   "pygments_lexer": "ipython3",
   "version": "3.10.0"
  }
 },
 "nbformat": 4,
 "nbformat_minor": 5
}
