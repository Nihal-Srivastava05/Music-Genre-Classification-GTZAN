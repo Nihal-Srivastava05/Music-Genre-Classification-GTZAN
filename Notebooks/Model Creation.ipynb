{
 "cells": [
  {
   "cell_type": "markdown",
   "id": "9c58a416",
   "metadata": {},
   "source": [
    "# Model Creation"
   ]
  },
  {
   "cell_type": "code",
   "execution_count": 4,
   "id": "4291577f",
   "metadata": {},
   "outputs": [],
   "source": [
    "import numpy as np\n",
    "import pandas as pd\n",
    "import matplotlib.pyplot as plt"
   ]
  },
  {
   "cell_type": "code",
   "execution_count": 73,
   "id": "15b0b38b",
   "metadata": {},
   "outputs": [],
   "source": [
    "import tensorflow as tf\n",
    "from tensorflow.keras.models import Sequential\n",
    "from tensorflow.keras.layers import Dense, Dropout, Activation, Flatten, BatchNormalization\n",
    "from tensorflow.keras.optimizers import Adam\n",
    "from sklearn import metrics\n",
    "from sklearn.model_selection import train_test_split"
   ]
  },
  {
   "cell_type": "code",
   "execution_count": 27,
   "id": "6623a33c",
   "metadata": {},
   "outputs": [
    {
     "data": {
      "text/html": [
       "<div>\n",
       "<style scoped>\n",
       "    .dataframe tbody tr th:only-of-type {\n",
       "        vertical-align: middle;\n",
       "    }\n",
       "\n",
       "    .dataframe tbody tr th {\n",
       "        vertical-align: top;\n",
       "    }\n",
       "\n",
       "    .dataframe thead th {\n",
       "        text-align: right;\n",
       "    }\n",
       "</style>\n",
       "<table border=\"1\" class=\"dataframe\">\n",
       "  <thead>\n",
       "    <tr style=\"text-align: right;\">\n",
       "      <th></th>\n",
       "      <th>features</th>\n",
       "      <th>class</th>\n",
       "    </tr>\n",
       "  </thead>\n",
       "  <tbody>\n",
       "    <tr>\n",
       "      <th>0</th>\n",
       "      <td>[-113.59882, 121.57067, -19.162262, 42.363937,...</td>\n",
       "      <td>blues</td>\n",
       "    </tr>\n",
       "    <tr>\n",
       "      <th>1</th>\n",
       "      <td>[-207.52383, 123.98514, 8.94702, 35.86715, 2.9...</td>\n",
       "      <td>blues</td>\n",
       "    </tr>\n",
       "    <tr>\n",
       "      <th>2</th>\n",
       "      <td>[-90.757164, 140.44087, -29.084547, 31.686691,...</td>\n",
       "      <td>blues</td>\n",
       "    </tr>\n",
       "    <tr>\n",
       "      <th>3</th>\n",
       "      <td>[-199.57513, 150.0861, 5.663404, 26.855278, 1....</td>\n",
       "      <td>blues</td>\n",
       "    </tr>\n",
       "    <tr>\n",
       "      <th>4</th>\n",
       "      <td>[-160.35417, 126.209496, -35.581394, 22.139256...</td>\n",
       "      <td>blues</td>\n",
       "    </tr>\n",
       "  </tbody>\n",
       "</table>\n",
       "</div>"
      ],
      "text/plain": [
       "                                            features  class\n",
       "0  [-113.59882, 121.57067, -19.162262, 42.363937,...  blues\n",
       "1  [-207.52383, 123.98514, 8.94702, 35.86715, 2.9...  blues\n",
       "2  [-90.757164, 140.44087, -29.084547, 31.686691,...  blues\n",
       "3  [-199.57513, 150.0861, 5.663404, 26.855278, 1....  blues\n",
       "4  [-160.35417, 126.209496, -35.581394, 22.139256...  blues"
      ]
     },
     "execution_count": 27,
     "metadata": {},
     "output_type": "execute_result"
    }
   ],
   "source": [
    "df = pd.read_csv(\"../Datasets/Extracted_Features.csv\")\n",
    "df.head()"
   ]
  },
  {
   "cell_type": "code",
   "execution_count": 35,
   "id": "71f8987b",
   "metadata": {},
   "outputs": [
    {
     "data": {
      "text/plain": [
       "array([-1.1359882e+02,  1.2157067e+02, -1.9162262e+01,  4.2363937e+01,\n",
       "       -6.3622660e+00,  1.8621931e+01, -1.3699734e+01,  1.5339802e+01,\n",
       "       -1.2274304e+01,  1.0970945e+01, -8.3260610e+00,  8.8020880e+00,\n",
       "       -3.6699412e+00,  5.7446756e+00, -5.1627830e+00,  7.5170636e-01,\n",
       "       -1.6878540e+00, -4.0873003e-01, -2.3026767e+00,  1.2224671e+00,\n",
       "       -3.5328746e+00, -1.1397805e+00, -4.2828280e+00, -4.2260840e+00,\n",
       "        9.1518750e-01,  9.1406375e-01, -5.7618070e+00, -3.9328036e+00,\n",
       "        1.5094346e+00,  2.6984656e+00,  5.6560730e+00, -3.2690074e+00,\n",
       "       -2.0606379e-01, -2.9996982e+00,  4.4763170e+00, -4.7685504e-01,\n",
       "        6.0062850e+00, -5.9690364e-02, -3.4585848e+00, -1.8418322e+00])"
      ]
     },
     "execution_count": 35,
     "metadata": {},
     "output_type": "execute_result"
    }
   ],
   "source": [
    "np.array(df['features'][0][1:-1].split(', '), dtype='float64')"
   ]
  },
  {
   "cell_type": "code",
   "execution_count": 38,
   "id": "26a6586c",
   "metadata": {},
   "outputs": [],
   "source": [
    "df['features'] = df['features'].apply(lambda x: np.array(x[1:-1].split(', '), dtype='float64'))"
   ]
  },
  {
   "cell_type": "code",
   "execution_count": 43,
   "id": "0183f664",
   "metadata": {},
   "outputs": [
    {
     "data": {
      "text/plain": [
       "array([-1.1359882e+02,  1.2157067e+02, -1.9162262e+01,  4.2363937e+01,\n",
       "       -6.3622660e+00,  1.8621931e+01, -1.3699734e+01,  1.5339802e+01,\n",
       "       -1.2274304e+01,  1.0970945e+01, -8.3260610e+00,  8.8020880e+00,\n",
       "       -3.6699412e+00,  5.7446756e+00, -5.1627830e+00,  7.5170636e-01,\n",
       "       -1.6878540e+00, -4.0873003e-01, -2.3026767e+00,  1.2224671e+00,\n",
       "       -3.5328746e+00, -1.1397805e+00, -4.2828280e+00, -4.2260840e+00,\n",
       "        9.1518750e-01,  9.1406375e-01, -5.7618070e+00, -3.9328036e+00,\n",
       "        1.5094346e+00,  2.6984656e+00,  5.6560730e+00, -3.2690074e+00,\n",
       "       -2.0606379e-01, -2.9996982e+00,  4.4763170e+00, -4.7685504e-01,\n",
       "        6.0062850e+00, -5.9690364e-02, -3.4585848e+00, -1.8418322e+00])"
      ]
     },
     "execution_count": 43,
     "metadata": {},
     "output_type": "execute_result"
    }
   ],
   "source": [
    "df['features'][0]"
   ]
  },
  {
   "cell_type": "code",
   "execution_count": 44,
   "id": "bf8bba20",
   "metadata": {},
   "outputs": [],
   "source": [
    "X = np.array(df['features'].tolist())\n",
    "y = np.array(df['class'].tolist())"
   ]
  },
  {
   "cell_type": "code",
   "execution_count": 51,
   "id": "e87fa639",
   "metadata": {},
   "outputs": [
    {
     "data": {
      "text/plain": [
       "(999, 40)"
      ]
     },
     "execution_count": 51,
     "metadata": {},
     "output_type": "execute_result"
    }
   ],
   "source": [
    "X.shape"
   ]
  },
  {
   "cell_type": "code",
   "execution_count": 46,
   "id": "21071014",
   "metadata": {},
   "outputs": [],
   "source": [
    "y = np.array(pd.get_dummies(y))"
   ]
  },
  {
   "cell_type": "code",
   "execution_count": 47,
   "id": "1814280e",
   "metadata": {},
   "outputs": [
    {
     "data": {
      "text/plain": [
       "(999, 10)"
      ]
     },
     "execution_count": 47,
     "metadata": {},
     "output_type": "execute_result"
    }
   ],
   "source": [
    "y.shape"
   ]
  },
  {
   "cell_type": "code",
   "execution_count": 48,
   "id": "3025b195",
   "metadata": {},
   "outputs": [],
   "source": [
    "X_train, X_test, y_train, y_test = train_test_split(X, y, test_size=0.2, random_state=101)"
   ]
  },
  {
   "cell_type": "code",
   "execution_count": 49,
   "id": "75b201ce",
   "metadata": {},
   "outputs": [
    {
     "data": {
      "text/plain": [
       "(200, 10)"
      ]
     },
     "execution_count": 49,
     "metadata": {},
     "output_type": "execute_result"
    }
   ],
   "source": [
    "y_test.shape"
   ]
  },
  {
   "cell_type": "code",
   "execution_count": 50,
   "id": "7613870d",
   "metadata": {},
   "outputs": [
    {
     "data": {
      "text/plain": [
       "10"
      ]
     },
     "execution_count": 50,
     "metadata": {},
     "output_type": "execute_result"
    }
   ],
   "source": [
    "num_classes = y.shape[1]\n",
    "num_classes"
   ]
  },
  {
   "cell_type": "code",
   "execution_count": 79,
   "id": "9725369b",
   "metadata": {},
   "outputs": [
    {
     "name": "stdout",
     "output_type": "stream",
     "text": [
      "Model: \"sequential_7\"\n",
      "_________________________________________________________________\n",
      " Layer (type)                Output Shape              Param #   \n",
      "=================================================================\n",
      " dense_24 (Dense)            (None, 128)               5248      \n",
      "                                                                 \n",
      " dropout_18 (Dropout)        (None, 128)               0         \n",
      "                                                                 \n",
      " batch_normalization_4 (Batc  (None, 128)              512       \n",
      " hNormalization)                                                 \n",
      "                                                                 \n",
      " dense_25 (Dense)            (None, 256)               33024     \n",
      "                                                                 \n",
      " dropout_19 (Dropout)        (None, 256)               0         \n",
      "                                                                 \n",
      " batch_normalization_5 (Batc  (None, 256)              1024      \n",
      " hNormalization)                                                 \n",
      "                                                                 \n",
      " dense_26 (Dense)            (None, 256)               65792     \n",
      "                                                                 \n",
      " dropout_20 (Dropout)        (None, 256)               0         \n",
      "                                                                 \n",
      " dense_27 (Dense)            (None, 10)                2570      \n",
      "                                                                 \n",
      "=================================================================\n",
      "Total params: 108,170\n",
      "Trainable params: 107,402\n",
      "Non-trainable params: 768\n",
      "_________________________________________________________________\n"
     ]
    }
   ],
   "source": [
    "model = Sequential()\n",
    "model.add(Dense(128, input_shape=(40,), activation='relu'))\n",
    "model.add(Dropout(0.4))\n",
    "model.add(BatchNormalization())\n",
    "model.add(Dense(256, activation='relu'))\n",
    "model.add(Dropout(0.35))\n",
    "model.add(BatchNormalization())\n",
    "model.add(Dense(256, activation='relu'))\n",
    "model.add(Dropout(0.2))\n",
    "model.add(Dense(num_classes, activation='softmax'))\n",
    "\n",
    "model.compile(loss='categorical_crossentropy', metrics=['accuracy'], optimizer='adam')\n",
    "model.summary()"
   ]
  },
  {
   "cell_type": "code",
   "execution_count": 80,
   "id": "4a169091",
   "metadata": {},
   "outputs": [
    {
     "name": "stdout",
     "output_type": "stream",
     "text": [
      "Epoch 1/100\n",
      "20/20 [==============================] - 1s 33ms/step - loss: 2.3596 - accuracy: 0.2113 - val_loss: 3.9187 - val_accuracy: 0.1250\n",
      "Epoch 2/100\n",
      "20/20 [==============================] - 0s 8ms/step - loss: 1.9452 - accuracy: 0.3161 - val_loss: 2.5437 - val_accuracy: 0.1813\n",
      "Epoch 3/100\n",
      "20/20 [==============================] - 0s 6ms/step - loss: 1.9070 - accuracy: 0.3505 - val_loss: 2.3184 - val_accuracy: 0.2000\n",
      "Epoch 4/100\n",
      "20/20 [==============================] - 0s 6ms/step - loss: 1.8244 - accuracy: 0.3584 - val_loss: 2.0358 - val_accuracy: 0.2313\n",
      "Epoch 5/100\n",
      "20/20 [==============================] - 0s 6ms/step - loss: 1.7514 - accuracy: 0.3568 - val_loss: 1.7825 - val_accuracy: 0.3063\n",
      "Epoch 6/100\n",
      "20/20 [==============================] - 0s 7ms/step - loss: 1.6088 - accuracy: 0.4022 - val_loss: 1.7107 - val_accuracy: 0.3313\n",
      "Epoch 7/100\n",
      "20/20 [==============================] - 0s 7ms/step - loss: 1.6360 - accuracy: 0.4272 - val_loss: 1.6295 - val_accuracy: 0.3750\n",
      "Epoch 8/100\n",
      "20/20 [==============================] - 0s 7ms/step - loss: 1.6478 - accuracy: 0.4131 - val_loss: 1.5571 - val_accuracy: 0.4313\n",
      "Epoch 9/100\n",
      "20/20 [==============================] - 0s 7ms/step - loss: 1.5994 - accuracy: 0.3959 - val_loss: 1.5395 - val_accuracy: 0.4625\n",
      "Epoch 10/100\n",
      "20/20 [==============================] - 0s 6ms/step - loss: 1.5768 - accuracy: 0.4476 - val_loss: 1.5145 - val_accuracy: 0.4938\n",
      "Epoch 11/100\n",
      "20/20 [==============================] - 0s 6ms/step - loss: 1.5780 - accuracy: 0.4523 - val_loss: 1.5001 - val_accuracy: 0.5063\n",
      "Epoch 12/100\n",
      "20/20 [==============================] - 0s 6ms/step - loss: 1.5136 - accuracy: 0.4491 - val_loss: 1.5191 - val_accuracy: 0.4938\n",
      "Epoch 13/100\n",
      "20/20 [==============================] - 0s 6ms/step - loss: 1.4378 - accuracy: 0.4757 - val_loss: 1.5389 - val_accuracy: 0.4938\n",
      "Epoch 14/100\n",
      "20/20 [==============================] - 0s 6ms/step - loss: 1.3563 - accuracy: 0.5117 - val_loss: 1.5000 - val_accuracy: 0.4938\n",
      "Epoch 15/100\n",
      "20/20 [==============================] - 0s 6ms/step - loss: 1.4130 - accuracy: 0.4914 - val_loss: 1.5214 - val_accuracy: 0.4437\n",
      "Epoch 16/100\n",
      "20/20 [==============================] - 0s 6ms/step - loss: 1.3840 - accuracy: 0.4851 - val_loss: 1.5256 - val_accuracy: 0.4125\n",
      "Epoch 17/100\n",
      "20/20 [==============================] - 0s 6ms/step - loss: 1.3868 - accuracy: 0.5055 - val_loss: 1.4938 - val_accuracy: 0.4750\n",
      "Epoch 18/100\n",
      "20/20 [==============================] - 0s 6ms/step - loss: 1.3705 - accuracy: 0.4992 - val_loss: 1.5023 - val_accuracy: 0.4500\n",
      "Epoch 19/100\n",
      "20/20 [==============================] - 0s 6ms/step - loss: 1.3474 - accuracy: 0.5290 - val_loss: 1.4915 - val_accuracy: 0.4625\n",
      "Epoch 20/100\n",
      "20/20 [==============================] - 0s 6ms/step - loss: 1.2612 - accuracy: 0.5493 - val_loss: 1.4873 - val_accuracy: 0.4625\n",
      "Epoch 21/100\n",
      "20/20 [==============================] - 0s 6ms/step - loss: 1.3276 - accuracy: 0.5430 - val_loss: 1.5246 - val_accuracy: 0.4437\n",
      "Epoch 22/100\n",
      "20/20 [==============================] - 0s 6ms/step - loss: 1.2987 - accuracy: 0.5102 - val_loss: 1.5435 - val_accuracy: 0.4250\n",
      "Epoch 23/100\n",
      "20/20 [==============================] - 0s 7ms/step - loss: 1.1951 - accuracy: 0.5524 - val_loss: 1.5247 - val_accuracy: 0.4688\n",
      "Epoch 24/100\n",
      "20/20 [==============================] - 0s 6ms/step - loss: 1.2476 - accuracy: 0.5368 - val_loss: 1.5850 - val_accuracy: 0.4250\n",
      "Epoch 25/100\n",
      "20/20 [==============================] - 0s 6ms/step - loss: 1.2775 - accuracy: 0.5258 - val_loss: 1.4937 - val_accuracy: 0.4688\n",
      "Epoch 26/100\n",
      "20/20 [==============================] - 0s 6ms/step - loss: 1.2132 - accuracy: 0.5775 - val_loss: 1.4463 - val_accuracy: 0.4500\n",
      "Epoch 27/100\n",
      "20/20 [==============================] - 0s 6ms/step - loss: 1.1856 - accuracy: 0.5743 - val_loss: 1.4356 - val_accuracy: 0.4563\n",
      "Epoch 28/100\n",
      "20/20 [==============================] - 0s 6ms/step - loss: 1.1687 - accuracy: 0.6025 - val_loss: 1.4003 - val_accuracy: 0.4812\n",
      "Epoch 29/100\n",
      "20/20 [==============================] - 0s 7ms/step - loss: 1.0915 - accuracy: 0.6025 - val_loss: 1.3902 - val_accuracy: 0.5250\n",
      "Epoch 30/100\n",
      "20/20 [==============================] - 0s 6ms/step - loss: 1.1132 - accuracy: 0.5978 - val_loss: 1.4261 - val_accuracy: 0.5063\n",
      "Epoch 31/100\n",
      "20/20 [==============================] - 0s 6ms/step - loss: 1.1451 - accuracy: 0.5728 - val_loss: 1.3996 - val_accuracy: 0.5312\n",
      "Epoch 32/100\n",
      "20/20 [==============================] - 0s 6ms/step - loss: 1.1846 - accuracy: 0.5712 - val_loss: 1.4273 - val_accuracy: 0.4688\n",
      "Epoch 33/100\n",
      "20/20 [==============================] - 0s 6ms/step - loss: 1.1051 - accuracy: 0.5962 - val_loss: 1.3930 - val_accuracy: 0.5188\n",
      "Epoch 34/100\n",
      "20/20 [==============================] - 0s 6ms/step - loss: 1.1219 - accuracy: 0.5884 - val_loss: 1.4446 - val_accuracy: 0.4938\n",
      "Epoch 35/100\n",
      "20/20 [==============================] - 0s 6ms/step - loss: 1.0960 - accuracy: 0.6009 - val_loss: 1.4979 - val_accuracy: 0.4812\n",
      "Epoch 36/100\n",
      "20/20 [==============================] - 0s 6ms/step - loss: 1.0548 - accuracy: 0.6338 - val_loss: 1.4688 - val_accuracy: 0.4812\n",
      "Epoch 37/100\n",
      "20/20 [==============================] - 0s 6ms/step - loss: 1.0284 - accuracy: 0.6260 - val_loss: 1.4287 - val_accuracy: 0.5250\n",
      "Epoch 38/100\n",
      "20/20 [==============================] - 0s 6ms/step - loss: 1.0710 - accuracy: 0.6291 - val_loss: 1.4319 - val_accuracy: 0.5188\n",
      "Epoch 39/100\n",
      "20/20 [==============================] - 0s 6ms/step - loss: 0.9691 - accuracy: 0.6401 - val_loss: 1.4059 - val_accuracy: 0.5125\n",
      "Epoch 40/100\n",
      "20/20 [==============================] - 0s 6ms/step - loss: 1.0437 - accuracy: 0.6354 - val_loss: 1.4605 - val_accuracy: 0.5063\n",
      "Epoch 41/100\n",
      "20/20 [==============================] - 0s 6ms/step - loss: 1.0580 - accuracy: 0.6275 - val_loss: 1.4982 - val_accuracy: 0.5188\n",
      "Epoch 42/100\n",
      "20/20 [==============================] - 0s 6ms/step - loss: 0.9681 - accuracy: 0.6479 - val_loss: 1.4180 - val_accuracy: 0.5125\n",
      "Epoch 43/100\n",
      "20/20 [==============================] - 0s 6ms/step - loss: 0.9806 - accuracy: 0.6557 - val_loss: 1.4254 - val_accuracy: 0.5250\n",
      "Epoch 44/100\n",
      "20/20 [==============================] - 0s 6ms/step - loss: 0.9767 - accuracy: 0.6463 - val_loss: 1.5025 - val_accuracy: 0.5250\n",
      "Epoch 45/100\n",
      "20/20 [==============================] - 0s 6ms/step - loss: 0.9844 - accuracy: 0.6541 - val_loss: 1.5116 - val_accuracy: 0.5312\n",
      "Epoch 46/100\n",
      "20/20 [==============================] - 0s 6ms/step - loss: 0.9813 - accuracy: 0.6463 - val_loss: 1.4420 - val_accuracy: 0.5375\n",
      "Epoch 47/100\n",
      "20/20 [==============================] - 0s 6ms/step - loss: 0.9605 - accuracy: 0.6635 - val_loss: 1.4208 - val_accuracy: 0.5312\n",
      "Epoch 48/100\n",
      "20/20 [==============================] - 0s 6ms/step - loss: 0.9492 - accuracy: 0.6761 - val_loss: 1.4609 - val_accuracy: 0.5375\n",
      "Epoch 49/100\n",
      "20/20 [==============================] - 0s 6ms/step - loss: 0.9314 - accuracy: 0.6588 - val_loss: 1.4433 - val_accuracy: 0.5312\n",
      "Epoch 50/100\n",
      "20/20 [==============================] - 0s 6ms/step - loss: 0.9020 - accuracy: 0.6839 - val_loss: 1.4949 - val_accuracy: 0.5437\n",
      "Epoch 51/100\n",
      "20/20 [==============================] - 0s 6ms/step - loss: 0.9294 - accuracy: 0.6792 - val_loss: 1.4394 - val_accuracy: 0.5250\n",
      "Epoch 52/100\n",
      "20/20 [==============================] - 0s 6ms/step - loss: 0.9392 - accuracy: 0.6667 - val_loss: 1.5279 - val_accuracy: 0.4938\n",
      "Epoch 53/100\n",
      "20/20 [==============================] - 0s 6ms/step - loss: 0.8667 - accuracy: 0.6761 - val_loss: 1.4466 - val_accuracy: 0.5188\n",
      "Epoch 54/100\n",
      "20/20 [==============================] - 0s 6ms/step - loss: 0.8765 - accuracy: 0.6917 - val_loss: 1.4675 - val_accuracy: 0.5250\n",
      "Epoch 55/100\n",
      "20/20 [==============================] - 0s 6ms/step - loss: 0.8733 - accuracy: 0.6886 - val_loss: 1.4365 - val_accuracy: 0.5562\n",
      "Epoch 56/100\n",
      "20/20 [==============================] - 0s 6ms/step - loss: 0.8995 - accuracy: 0.6933 - val_loss: 1.4692 - val_accuracy: 0.5437\n",
      "Epoch 57/100\n",
      "20/20 [==============================] - 0s 6ms/step - loss: 0.9169 - accuracy: 0.6808 - val_loss: 1.4864 - val_accuracy: 0.5500\n",
      "Epoch 58/100\n",
      "20/20 [==============================] - 0s 6ms/step - loss: 0.8821 - accuracy: 0.6823 - val_loss: 1.4583 - val_accuracy: 0.5375\n"
     ]
    },
    {
     "name": "stdout",
     "output_type": "stream",
     "text": [
      "Epoch 59/100\n",
      "20/20 [==============================] - 0s 6ms/step - loss: 0.8221 - accuracy: 0.6948 - val_loss: 1.4498 - val_accuracy: 0.5312\n",
      "Epoch 60/100\n",
      "20/20 [==============================] - 0s 6ms/step - loss: 0.9268 - accuracy: 0.6557 - val_loss: 1.4469 - val_accuracy: 0.5500\n",
      "Epoch 61/100\n",
      "20/20 [==============================] - 0s 6ms/step - loss: 0.8732 - accuracy: 0.6995 - val_loss: 1.3614 - val_accuracy: 0.5437\n",
      "Epoch 62/100\n",
      "20/20 [==============================] - 0s 6ms/step - loss: 0.8875 - accuracy: 0.6808 - val_loss: 1.4461 - val_accuracy: 0.5500\n",
      "Epoch 63/100\n",
      "20/20 [==============================] - 0s 6ms/step - loss: 0.8560 - accuracy: 0.6995 - val_loss: 1.4513 - val_accuracy: 0.5188\n",
      "Epoch 64/100\n",
      "20/20 [==============================] - 0s 6ms/step - loss: 0.8048 - accuracy: 0.7027 - val_loss: 1.4645 - val_accuracy: 0.5312\n",
      "Epoch 65/100\n",
      "20/20 [==============================] - 0s 6ms/step - loss: 0.8181 - accuracy: 0.7105 - val_loss: 1.4642 - val_accuracy: 0.5750\n",
      "Epoch 66/100\n",
      "20/20 [==============================] - 0s 6ms/step - loss: 0.8594 - accuracy: 0.7011 - val_loss: 1.5013 - val_accuracy: 0.5562\n",
      "Epoch 67/100\n",
      "20/20 [==============================] - 0s 6ms/step - loss: 0.8416 - accuracy: 0.6964 - val_loss: 1.5505 - val_accuracy: 0.5688\n",
      "Epoch 68/100\n",
      "20/20 [==============================] - 0s 6ms/step - loss: 0.8510 - accuracy: 0.6995 - val_loss: 1.4885 - val_accuracy: 0.5375\n",
      "Epoch 69/100\n",
      "20/20 [==============================] - 0s 6ms/step - loss: 0.8131 - accuracy: 0.7277 - val_loss: 1.4816 - val_accuracy: 0.5562\n",
      "Epoch 70/100\n",
      "20/20 [==============================] - 0s 6ms/step - loss: 0.7680 - accuracy: 0.7199 - val_loss: 1.4987 - val_accuracy: 0.5375\n",
      "Epoch 71/100\n",
      "20/20 [==============================] - 0s 6ms/step - loss: 0.8359 - accuracy: 0.7011 - val_loss: 1.4936 - val_accuracy: 0.5562\n",
      "Epoch 72/100\n",
      "20/20 [==============================] - 0s 6ms/step - loss: 0.7789 - accuracy: 0.7167 - val_loss: 1.4620 - val_accuracy: 0.5875\n",
      "Epoch 73/100\n",
      "20/20 [==============================] - 0s 6ms/step - loss: 0.7794 - accuracy: 0.7199 - val_loss: 1.4460 - val_accuracy: 0.5688\n",
      "Epoch 74/100\n",
      "20/20 [==============================] - 0s 6ms/step - loss: 0.7843 - accuracy: 0.7387 - val_loss: 1.4343 - val_accuracy: 0.5688\n",
      "Epoch 75/100\n",
      "20/20 [==============================] - 0s 6ms/step - loss: 0.7195 - accuracy: 0.7277 - val_loss: 1.4825 - val_accuracy: 0.5688\n",
      "Epoch 76/100\n",
      "20/20 [==============================] - 0s 6ms/step - loss: 0.8177 - accuracy: 0.6901 - val_loss: 1.4734 - val_accuracy: 0.5688\n",
      "Epoch 77/100\n",
      "20/20 [==============================] - 0s 6ms/step - loss: 0.7444 - accuracy: 0.7246 - val_loss: 1.4791 - val_accuracy: 0.5625\n",
      "Epoch 78/100\n",
      "20/20 [==============================] - 0s 6ms/step - loss: 0.7762 - accuracy: 0.7199 - val_loss: 1.4601 - val_accuracy: 0.5500\n",
      "Epoch 79/100\n",
      "20/20 [==============================] - 0s 6ms/step - loss: 0.7988 - accuracy: 0.7183 - val_loss: 1.5576 - val_accuracy: 0.5625\n",
      "Epoch 80/100\n",
      "20/20 [==============================] - 0s 6ms/step - loss: 0.8257 - accuracy: 0.7058 - val_loss: 1.5244 - val_accuracy: 0.5375\n",
      "Epoch 81/100\n",
      "20/20 [==============================] - 0s 6ms/step - loss: 0.7556 - accuracy: 0.7277 - val_loss: 1.5690 - val_accuracy: 0.5312\n",
      "Epoch 82/100\n",
      "20/20 [==============================] - 0s 6ms/step - loss: 0.7325 - accuracy: 0.7449 - val_loss: 1.5910 - val_accuracy: 0.5312\n",
      "Epoch 83/100\n",
      "20/20 [==============================] - 0s 6ms/step - loss: 0.7098 - accuracy: 0.7402 - val_loss: 1.5075 - val_accuracy: 0.5375\n",
      "Epoch 84/100\n",
      "20/20 [==============================] - 0s 6ms/step - loss: 0.7278 - accuracy: 0.7449 - val_loss: 1.5529 - val_accuracy: 0.5688\n",
      "Epoch 85/100\n",
      "20/20 [==============================] - 0s 6ms/step - loss: 0.6320 - accuracy: 0.7825 - val_loss: 1.5013 - val_accuracy: 0.5437\n",
      "Epoch 86/100\n",
      "20/20 [==============================] - 0s 6ms/step - loss: 0.6974 - accuracy: 0.7496 - val_loss: 1.4934 - val_accuracy: 0.5375\n",
      "Epoch 87/100\n",
      "20/20 [==============================] - 0s 6ms/step - loss: 0.6955 - accuracy: 0.7637 - val_loss: 1.5318 - val_accuracy: 0.5562\n",
      "Epoch 88/100\n",
      "20/20 [==============================] - 0s 6ms/step - loss: 0.7214 - accuracy: 0.7402 - val_loss: 1.5103 - val_accuracy: 0.5688\n",
      "Epoch 89/100\n",
      "20/20 [==============================] - 0s 6ms/step - loss: 0.6484 - accuracy: 0.7465 - val_loss: 1.5561 - val_accuracy: 0.5500\n",
      "Epoch 90/100\n",
      "20/20 [==============================] - 0s 6ms/step - loss: 0.7043 - accuracy: 0.7418 - val_loss: 1.5099 - val_accuracy: 0.5625\n",
      "Epoch 91/100\n",
      "20/20 [==============================] - 0s 6ms/step - loss: 0.7417 - accuracy: 0.7340 - val_loss: 1.5284 - val_accuracy: 0.5625\n",
      "Epoch 92/100\n",
      "20/20 [==============================] - 0s 6ms/step - loss: 0.6948 - accuracy: 0.7527 - val_loss: 1.5083 - val_accuracy: 0.5688\n",
      "Epoch 93/100\n",
      "20/20 [==============================] - 0s 6ms/step - loss: 0.6634 - accuracy: 0.7762 - val_loss: 1.5229 - val_accuracy: 0.5312\n",
      "Epoch 94/100\n",
      "20/20 [==============================] - 0s 6ms/step - loss: 0.7050 - accuracy: 0.7480 - val_loss: 1.5397 - val_accuracy: 0.5813\n",
      "Epoch 95/100\n",
      "20/20 [==============================] - 0s 6ms/step - loss: 0.7306 - accuracy: 0.7371 - val_loss: 1.5010 - val_accuracy: 0.5938\n",
      "Epoch 96/100\n",
      "20/20 [==============================] - 0s 6ms/step - loss: 0.6754 - accuracy: 0.7496 - val_loss: 1.4970 - val_accuracy: 0.5625\n",
      "Epoch 97/100\n",
      "20/20 [==============================] - 0s 6ms/step - loss: 0.6945 - accuracy: 0.7480 - val_loss: 1.4706 - val_accuracy: 0.5562\n",
      "Epoch 98/100\n",
      "20/20 [==============================] - 0s 6ms/step - loss: 0.6825 - accuracy: 0.7433 - val_loss: 1.5115 - val_accuracy: 0.5562\n",
      "Epoch 99/100\n",
      "20/20 [==============================] - 0s 6ms/step - loss: 0.6597 - accuracy: 0.7574 - val_loss: 1.5065 - val_accuracy: 0.5625\n",
      "Epoch 100/100\n",
      "20/20 [==============================] - 0s 6ms/step - loss: 0.6304 - accuracy: 0.7746 - val_loss: 1.5051 - val_accuracy: 0.5813\n"
     ]
    },
    {
     "data": {
      "text/plain": [
       "<keras.callbacks.History at 0x1e801fa4d00>"
      ]
     },
     "execution_count": 80,
     "metadata": {},
     "output_type": "execute_result"
    }
   ],
   "source": [
    "num_epochs = 100\n",
    "num_batch_size = 32\n",
    "\n",
    "model.fit(X_train, y_train, batch_size=num_batch_size, epochs=num_epochs, validation_split=0.2)"
   ]
  },
  {
   "cell_type": "code",
   "execution_count": 81,
   "id": "c8f1f321",
   "metadata": {},
   "outputs": [],
   "source": [
    "def plot_acc(history):\n",
    "    plt.figure(figsize=(8, 6))\n",
    "    plt.plot(history.history['accuracy'], label='acc')\n",
    "    plt.plot(history.history['val_accuracy'], label='val_acc')\n",
    "    plt.title(\"Accuracy vs Epochs\")\n",
    "    plt.xlabel(\"Epochs\")\n",
    "    plt.ylabel(\"Accuracy\")\n",
    "    plt.legend()\n",
    "    plt.show()"
   ]
  },
  {
   "cell_type": "code",
   "execution_count": 82,
   "id": "8b1b3955",
   "metadata": {},
   "outputs": [],
   "source": [
    "def plot_loss(history):\n",
    "    plt.figure(figsize=(8, 6))\n",
    "    plt.plot(history.history['loss'], label='acc')\n",
    "    plt.plot(history.history['val_loss'], label='val_acc')\n",
    "    plt.title(\"Loss vs Epochs\")\n",
    "    plt.xlabel(\"Epochs\")\n",
    "    plt.ylabel(\"Loss\")\n",
    "    plt.legend()\n",
    "    plt.show()"
   ]
  },
  {
   "cell_type": "code",
   "execution_count": 83,
   "id": "85fa9074",
   "metadata": {
    "scrolled": false
   },
   "outputs": [
    {
     "data": {
      "image/png": "[encoded data removed]",
      "text/plain": [
       "<Figure size 576x432 with 1 Axes>"
      ]
     },
     "metadata": {
      "needs_background": "light"
     },
     "output_type": "display_data"
    }
   ],
   "source": [
    "plot_acc(model.history)"
   ]
  },
  {
   "cell_type": "code",
   "execution_count": 84,
   "id": "e69eac1e",
   "metadata": {},
   "outputs": [
    {
     "data": {
      "image/png": "[encoded data removed]",
      "text/plain": [
       "<Figure size 576x432 with 1 Axes>"
      ]
     },
     "metadata": {
      "needs_background": "light"
     },
     "output_type": "display_data"
    }
   ],
   "source": [
    "plot_loss(model.history)"
   ]
  },
  {
   "cell_type": "markdown",
   "id": "7970b892",
   "metadata": {},
   "source": [
    "## Testing"
   ]
  },
  {
   "cell_type": "code",
   "execution_count": 97,
   "id": "e88f1206",
   "metadata": {},
   "outputs": [
    {
     "name": "stdout",
     "output_type": "stream",
     "text": [
      "7/7 [==============================] - 0s 3ms/step - loss: 1.8346 - accuracy: 0.6150\n",
      "Test Accuracy: 0.6150000095367432\n"
     ]
    }
   ],
   "source": [
    "test_accuracy = model.evaluate(X_test, y_test)\n",
    "print(\"Test Accuracy:\", test_accuracy[1])"
   ]
  },
  {
   "cell_type": "code",
   "execution_count": 85,
   "id": "d5b0d750",
   "metadata": {},
   "outputs": [],
   "source": [
    "import librosa"
   ]
  },
  {
   "cell_type": "code",
   "execution_count": 86,
   "id": "69effbd9",
   "metadata": {},
   "outputs": [],
   "source": [
    "def feature_extractor(file):\n",
    "    audio, sample_rate = librosa.load(file, res_type='kaiser_fast')\n",
    "    mfcc_feature = librosa.feature.mfcc(y=audio, sr=sample_rate, n_mfcc=40)\n",
    "    mfcc_scaled_features = np.mean(mfcc_feature.T, axis=0)\n",
    "    \n",
    "    return mfcc_scaled_features"
   ]
  },
  {
   "cell_type": "code",
   "execution_count": 143,
   "id": "e1c1f809",
   "metadata": {},
   "outputs": [],
   "source": [
    "def predict(file, class_labels):\n",
    "    prediction_feature = feature_extractor(file)\n",
    "    prediction_feature = prediction_feature.reshape(1, -1)\n",
    "    preds = model.predict(prediction_feature)\n",
    "    out = tf.argmax(input=preds, axis=1).numpy()[0]\n",
    "    \n",
    "    return class_labels[out]"
   ]
  },
  {
   "cell_type": "code",
   "execution_count": 101,
   "id": "03e933f5",
   "metadata": {},
   "outputs": [
    {
     "data": {
      "text/plain": [
       "(40,)"
      ]
     },
     "execution_count": 101,
     "metadata": {},
     "output_type": "execute_result"
    }
   ],
   "source": [
    "file = \"../Data/genres_original/hiphop/hiphop.00003.wav\"\n",
    "prediction_feature = feature_extractor(file)\n",
    "prediction_feature.shape"
   ]
  },
  {
   "cell_type": "code",
   "execution_count": 109,
   "id": "2e128c25",
   "metadata": {},
   "outputs": [
    {
     "data": {
      "text/plain": [
       "(1, 40)"
      ]
     },
     "execution_count": 109,
     "metadata": {},
     "output_type": "execute_result"
    }
   ],
   "source": [
    "prediction_feature = prediction_feature.reshape(1, -1)\n",
    "prediction_feature.shape"
   ]
  },
  {
   "cell_type": "code",
   "execution_count": 111,
   "id": "4ea342b9",
   "metadata": {},
   "outputs": [
    {
     "name": "stdout",
     "output_type": "stream",
     "text": [
      "1/1 [==============================] - 0s 16ms/step\n"
     ]
    }
   ],
   "source": [
    "preds = model.predict(prediction_feature)"
   ]
  },
  {
   "cell_type": "code",
   "execution_count": 114,
   "id": "514bf2fa",
   "metadata": {},
   "outputs": [
    {
     "data": {
      "text/plain": [
       "array([[1.4912422e-02, 3.2907272e-05, 2.8918975e-03, 8.2425447e-03,\n",
       "        9.3694401e-01, 3.2094019e-04, 1.1853818e-02, 4.1695440e-04,\n",
       "        5.6931023e-03, 1.8691510e-02]], dtype=float32)"
      ]
     },
     "execution_count": 114,
     "metadata": {},
     "output_type": "execute_result"
    }
   ],
   "source": [
    "preds"
   ]
  },
  {
   "cell_type": "code",
   "execution_count": 131,
   "id": "f7e4bfb1",
   "metadata": {},
   "outputs": [],
   "source": [
    "out = tf.argmax(input=preds, axis=1).numpy()[0]"
   ]
  },
  {
   "cell_type": "code",
   "execution_count": 140,
   "id": "d305627b",
   "metadata": {},
   "outputs": [],
   "source": [
    "class_labels = df['class'].unique()"
   ]
  },
  {
   "cell_type": "code",
   "execution_count": 141,
   "id": "f1d7c314",
   "metadata": {},
   "outputs": [
    {
     "data": {
      "text/plain": [
       "array(['blues', 'classical', 'country', 'disco', 'hiphop', 'jazz',\n",
       "       'metal', 'pop', 'reggae', 'rock'], dtype=object)"
      ]
     },
     "execution_count": 141,
     "metadata": {},
     "output_type": "execute_result"
    }
   ],
   "source": [
    "class_labels"
   ]
  },
  {
   "cell_type": "code",
   "execution_count": 142,
   "id": "541cfb6d",
   "metadata": {},
   "outputs": [
    {
     "data": {
      "text/plain": [
       "'hiphop'"
      ]
     },
     "execution_count": 142,
     "metadata": {},
     "output_type": "execute_result"
    }
   ],
   "source": [
    "class_labels[out]"
   ]
  },
  {
   "cell_type": "code",
   "execution_count": 144,
   "id": "e59d1d27",
   "metadata": {},
   "outputs": [
    {
     "name": "stdout",
     "output_type": "stream",
     "text": [
      "1/1 [==============================] - 0s 16ms/step\n"
     ]
    },
    {
     "data": {
      "text/plain": [
       "'metal'"
      ]
     },
     "execution_count": 144,
     "metadata": {},
     "output_type": "execute_result"
    }
   ],
   "source": [
    "predict('../Data/genres_original/metal/metal.00005.wav', class_labels)"
   ]
  },
  {
   "cell_type": "code",
   "execution_count": 145,
   "id": "80ba1d85",
   "metadata": {},
   "outputs": [
    {
     "name": "stdout",
     "output_type": "stream",
     "text": [
      "1/1 [==============================] - 0s 15ms/step\n"
     ]
    },
    {
     "data": {
      "text/plain": [
       "'pop'"
      ]
     },
     "execution_count": 145,
     "metadata": {},
     "output_type": "execute_result"
    }
   ],
   "source": [
    "predict('../Data/Test/VaddiSong.wav', class_labels)"
   ]
  },
  {
   "cell_type": "code",
   "execution_count": 146,
   "id": "b0fecbca",
   "metadata": {},
   "outputs": [
    {
     "data": {
      "text/plain": [
       "array(['blues', 'classical', 'country', 'disco', 'hiphop', 'jazz',\n",
       "       'metal', 'pop', 'reggae', 'rock'], dtype=object)"
      ]
     },
     "execution_count": 146,
     "metadata": {},
     "output_type": "execute_result"
    }
   ],
   "source": [
    "class_labels"
   ]
  },
  {
   "cell_type": "code",
   "execution_count": 147,
   "id": "5de5b365",
   "metadata": {},
   "outputs": [
    {
     "name": "stdout",
     "output_type": "stream",
     "text": [
      "1/1 [==============================] - 0s 15ms/step\n"
     ]
    },
    {
     "data": {
      "text/plain": [
       "'blues'"
      ]
     },
     "execution_count": 147,
     "metadata": {},
     "output_type": "execute_result"
    }
   ],
   "source": [
    "predict('../Data/Test/ProgrammingInC.wav', class_labels)"
   ]
  },
  {
   "cell_type": "code",
   "execution_count": null,
   "id": "46585a6f",
   "metadata": {},
   "outputs": [],
   "source": []
  }
 ],
 "metadata": {
  "kernelspec": {
   "display_name": "Python 3 (ipykernel)",
   "language": "python",
   "name": "python3"
  },
  "language_info": {
   "codemirror_mode": {
    "name": "ipython",
    "version": 3
   },
   "file_extension": ".py",
   "mimetype": "text/x-python",
   "name": "python",
   "nbconvert_exporter": "python",
   "pygments_lexer": "ipython3",
   "version": "3.10.0"
  }
 },
 "nbformat": 4,
 "nbformat_minor": 5
}
