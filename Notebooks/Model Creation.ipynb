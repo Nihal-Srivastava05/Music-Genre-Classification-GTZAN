{
 "cells": [
  {
   "cell_type": "markdown",
   "id": "9c58a416",
   "metadata": {},
   "source": [
    "# Model Creation"
   ]
  },
  {
   "cell_type": "code",
   "execution_count": 1,
   "id": "4291577f",
   "metadata": {},
   "outputs": [],
   "source": [
    "import numpy as np\n",
    "import pandas as pd\n",
    "import matplotlib.pyplot as plt"
   ]
  },
  {
   "cell_type": "code",
   "execution_count": 2,
   "id": "15b0b38b",
   "metadata": {},
   "outputs": [],
   "source": [
    "import tensorflow as tf\n",
    "from tensorflow.keras.models import Sequential\n",
    "from tensorflow.keras.layers import Dense, Dropout, Activation, Flatten, BatchNormalization\n",
    "from tensorflow.keras.optimizers import Adam\n",
    "from tensorflow.keras.callbacks import ReduceLROnPlateau, EarlyStopping"
   ]
  },
  {
   "cell_type": "code",
   "execution_count": 3,
   "id": "72dd9fd5",
   "metadata": {},
   "outputs": [],
   "source": [
    "from tensorflow.keras.models import Model\n",
    "from tensorflow.keras.layers import Input, Concatenate, concatenate"
   ]
  },
  {
   "cell_type": "code",
   "execution_count": 4,
   "id": "fe29377f",
   "metadata": {},
   "outputs": [],
   "source": [
    "from sklearn import metrics\n",
    "from sklearn.model_selection import train_test_split\n",
    "from sklearn.preprocessing import LabelEncoder\n",
    "from tensorflow.keras.utils import to_categorical"
   ]
  },
  {
   "cell_type": "code",
   "execution_count": 5,
   "id": "b015fbfa",
   "metadata": {},
   "outputs": [],
   "source": [
    "from PIL import Image\n",
    "from tqdm import tqdm\n",
    "import os"
   ]
  },
  {
   "cell_type": "code",
   "execution_count": 3,
   "id": "6623a33c",
   "metadata": {
    "scrolled": true
   },
   "outputs": [
    {
     "data": {
      "text/html": [
       "<div>\n",
       "<style scoped>\n",
       "    .dataframe tbody tr th:only-of-type {\n",
       "        vertical-align: middle;\n",
       "    }\n",
       "\n",
       "    .dataframe tbody tr th {\n",
       "        vertical-align: top;\n",
       "    }\n",
       "\n",
       "    .dataframe thead th {\n",
       "        text-align: right;\n",
       "    }\n",
       "</style>\n",
       "<table border=\"1\" class=\"dataframe\">\n",
       "  <thead>\n",
       "    <tr style=\"text-align: right;\">\n",
       "      <th></th>\n",
       "      <th>features</th>\n",
       "      <th>class</th>\n",
       "    </tr>\n",
       "  </thead>\n",
       "  <tbody>\n",
       "    <tr>\n",
       "      <th>0</th>\n",
       "      <td>[-113.59882, 121.57067, -19.162262, 42.363937,...</td>\n",
       "      <td>blues</td>\n",
       "    </tr>\n",
       "    <tr>\n",
       "      <th>1</th>\n",
       "      <td>[-207.52383, 123.98514, 8.94702, 35.86715, 2.9...</td>\n",
       "      <td>blues</td>\n",
       "    </tr>\n",
       "    <tr>\n",
       "      <th>2</th>\n",
       "      <td>[-90.757164, 140.44087, -29.084547, 31.686691,...</td>\n",
       "      <td>blues</td>\n",
       "    </tr>\n",
       "    <tr>\n",
       "      <th>3</th>\n",
       "      <td>[-199.57513, 150.0861, 5.663404, 26.855278, 1....</td>\n",
       "      <td>blues</td>\n",
       "    </tr>\n",
       "    <tr>\n",
       "      <th>4</th>\n",
       "      <td>[-160.35417, 126.209496, -35.581394, 22.139256...</td>\n",
       "      <td>blues</td>\n",
       "    </tr>\n",
       "  </tbody>\n",
       "</table>\n",
       "</div>"
      ],
      "text/plain": [
       "                                            features  class\n",
       "0  [-113.59882, 121.57067, -19.162262, 42.363937,...  blues\n",
       "1  [-207.52383, 123.98514, 8.94702, 35.86715, 2.9...  blues\n",
       "2  [-90.757164, 140.44087, -29.084547, 31.686691,...  blues\n",
       "3  [-199.57513, 150.0861, 5.663404, 26.855278, 1....  blues\n",
       "4  [-160.35417, 126.209496, -35.581394, 22.139256...  blues"
      ]
     },
     "execution_count": 3,
     "metadata": {},
     "output_type": "execute_result"
    }
   ],
   "source": [
    "df = pd.read_csv(\"../Datasets/Extracted_Features.csv\")\n",
    "df.head()"
   ]
  },
  {
   "cell_type": "code",
   "execution_count": 4,
   "id": "71f8987b",
   "metadata": {},
   "outputs": [
    {
     "data": {
      "text/plain": [
       "array([-1.1359882e+02,  1.2157067e+02, -1.9162262e+01,  4.2363937e+01,\n",
       "       -6.3622660e+00,  1.8621931e+01, -1.3699734e+01,  1.5339802e+01,\n",
       "       -1.2274304e+01,  1.0970945e+01, -8.3260610e+00,  8.8020880e+00,\n",
       "       -3.6699412e+00,  5.7446756e+00, -5.1627830e+00,  7.5170636e-01,\n",
       "       -1.6878540e+00, -4.0873003e-01, -2.3026767e+00,  1.2224671e+00,\n",
       "       -3.5328746e+00, -1.1397805e+00, -4.2828280e+00, -4.2260840e+00,\n",
       "        9.1518750e-01,  9.1406375e-01, -5.7618070e+00, -3.9328036e+00,\n",
       "        1.5094346e+00,  2.6984656e+00,  5.6560730e+00, -3.2690074e+00,\n",
       "       -2.0606379e-01, -2.9996982e+00,  4.4763170e+00, -4.7685504e-01,\n",
       "        6.0062850e+00, -5.9690364e-02, -3.4585848e+00, -1.8418322e+00])"
      ]
     },
     "execution_count": 4,
     "metadata": {},
     "output_type": "execute_result"
    }
   ],
   "source": [
    "np.array(df['features'][0][1:-1].split(', '), dtype='float64')"
   ]
  },
  {
   "cell_type": "code",
   "execution_count": 5,
   "id": "26a6586c",
   "metadata": {},
   "outputs": [],
   "source": [
    "df['features'] = df['features'].apply(lambda x: np.array(x[1:-1].split(', '), dtype='float64'))"
   ]
  },
  {
   "cell_type": "code",
   "execution_count": 6,
   "id": "0183f664",
   "metadata": {},
   "outputs": [
    {
     "data": {
      "text/plain": [
       "array([-1.1359882e+02,  1.2157067e+02, -1.9162262e+01,  4.2363937e+01,\n",
       "       -6.3622660e+00,  1.8621931e+01, -1.3699734e+01,  1.5339802e+01,\n",
       "       -1.2274304e+01,  1.0970945e+01, -8.3260610e+00,  8.8020880e+00,\n",
       "       -3.6699412e+00,  5.7446756e+00, -5.1627830e+00,  7.5170636e-01,\n",
       "       -1.6878540e+00, -4.0873003e-01, -2.3026767e+00,  1.2224671e+00,\n",
       "       -3.5328746e+00, -1.1397805e+00, -4.2828280e+00, -4.2260840e+00,\n",
       "        9.1518750e-01,  9.1406375e-01, -5.7618070e+00, -3.9328036e+00,\n",
       "        1.5094346e+00,  2.6984656e+00,  5.6560730e+00, -3.2690074e+00,\n",
       "       -2.0606379e-01, -2.9996982e+00,  4.4763170e+00, -4.7685504e-01,\n",
       "        6.0062850e+00, -5.9690364e-02, -3.4585848e+00, -1.8418322e+00])"
      ]
     },
     "execution_count": 6,
     "metadata": {},
     "output_type": "execute_result"
    }
   ],
   "source": [
    "df['features'][0]"
   ]
  },
  {
   "cell_type": "code",
   "execution_count": 7,
   "id": "bf8bba20",
   "metadata": {},
   "outputs": [],
   "source": [
    "X = np.array(df['features'].tolist())\n",
    "y = np.array(df['class'].tolist())"
   ]
  },
  {
   "cell_type": "code",
   "execution_count": 8,
   "id": "e87fa639",
   "metadata": {},
   "outputs": [
    {
     "data": {
      "text/plain": [
       "(999, 40)"
      ]
     },
     "execution_count": 8,
     "metadata": {},
     "output_type": "execute_result"
    }
   ],
   "source": [
    "X.shape"
   ]
  },
  {
   "cell_type": "code",
   "execution_count": 10,
   "id": "684ad088",
   "metadata": {},
   "outputs": [],
   "source": [
    "# y = np.array(pd.get_dummies(y))\n",
    "label_encoder = LabelEncoder()\n",
    "y = to_categorical(label_encoder.fit_transform(y))"
   ]
  },
  {
   "cell_type": "code",
   "execution_count": 11,
   "id": "bbd114bf",
   "metadata": {},
   "outputs": [
    {
     "data": {
      "text/plain": [
       "(999, 10)"
      ]
     },
     "execution_count": 11,
     "metadata": {},
     "output_type": "execute_result"
    }
   ],
   "source": [
    "y.shape"
   ]
  },
  {
   "cell_type": "code",
   "execution_count": 13,
   "id": "3025b195",
   "metadata": {},
   "outputs": [],
   "source": [
    "X_train, X_test, y_train, y_test = train_test_split(X, y, test_size=0.2, random_state=101)"
   ]
  },
  {
   "cell_type": "code",
   "execution_count": 14,
   "id": "75b201ce",
   "metadata": {},
   "outputs": [
    {
     "data": {
      "text/plain": [
       "(200, 10)"
      ]
     },
     "execution_count": 14,
     "metadata": {},
     "output_type": "execute_result"
    }
   ],
   "source": [
    "y_test.shape"
   ]
  },
  {
   "cell_type": "code",
   "execution_count": 15,
   "id": "7613870d",
   "metadata": {},
   "outputs": [
    {
     "data": {
      "text/plain": [
       "10"
      ]
     },
     "execution_count": 15,
     "metadata": {},
     "output_type": "execute_result"
    }
   ],
   "source": [
    "num_classes = y.shape[1]\n",
    "num_classes"
   ]
  },
  {
   "cell_type": "code",
   "execution_count": 6,
   "id": "b5a1c6e3",
   "metadata": {},
   "outputs": [],
   "source": [
    "def plot_acc(history):\n",
    "    plt.figure(figsize=(8, 6))\n",
    "    plt.plot(history.history['accuracy'], label='acc')\n",
    "    plt.plot(history.history['val_accuracy'], label='val_acc')\n",
    "    plt.title(\"Accuracy vs Epochs\")\n",
    "    plt.xlabel(\"Epochs\")\n",
    "    plt.ylabel(\"Accuracy\")\n",
    "    plt.legend()\n",
    "    plt.show()"
   ]
  },
  {
   "cell_type": "code",
   "execution_count": 72,
   "id": "318eae03",
   "metadata": {},
   "outputs": [],
   "source": [
    "def plot_loss(history):\n",
    "    plt.figure(figsize=(8, 6))\n",
    "    plt.plot(history.history['loss'], label='loss')\n",
    "    plt.plot(history.history['val_loss'], label='val_loss')\n",
    "    plt.title(\"Loss vs Epochs\")\n",
    "    plt.xlabel(\"Epochs\")\n",
    "    plt.ylabel(\"Loss\")\n",
    "    plt.legend()\n",
    "    plt.show()"
   ]
  },
  {
   "cell_type": "markdown",
   "id": "6deb2f36",
   "metadata": {},
   "source": [
    "### Simple ANN"
   ]
  },
  {
   "cell_type": "code",
   "execution_count": 40,
   "id": "9725369b",
   "metadata": {},
   "outputs": [
    {
     "name": "stdout",
     "output_type": "stream",
     "text": [
      "Model: \"sequential_4\"\n",
      "_________________________________________________________________\n",
      " Layer (type)                Output Shape              Param #   \n",
      "=================================================================\n",
      " dense_16 (Dense)            (None, 256)               10496     \n",
      "                                                                 \n",
      " dropout_12 (Dropout)        (None, 256)               0         \n",
      "                                                                 \n",
      " batch_normalization_11 (Bat  (None, 256)              1024      \n",
      " chNormalization)                                                \n",
      "                                                                 \n",
      " dense_17 (Dense)            (None, 512)               131584    \n",
      "                                                                 \n",
      " dropout_13 (Dropout)        (None, 512)               0         \n",
      "                                                                 \n",
      " batch_normalization_12 (Bat  (None, 512)              2048      \n",
      " chNormalization)                                                \n",
      "                                                                 \n",
      " dense_18 (Dense)            (None, 256)               131328    \n",
      "                                                                 \n",
      " dropout_14 (Dropout)        (None, 256)               0         \n",
      "                                                                 \n",
      " batch_normalization_13 (Bat  (None, 256)              1024      \n",
      " chNormalization)                                                \n",
      "                                                                 \n",
      " dense_19 (Dense)            (None, 10)                2570      \n",
      "                                                                 \n",
      "=================================================================\n",
      "Total params: 280,074\n",
      "Trainable params: 278,026\n",
      "Non-trainable params: 2,048\n",
      "_________________________________________________________________\n"
     ]
    }
   ],
   "source": [
    "model = Sequential()\n",
    "model.add(Dense(256, input_shape=(40,), activation='relu'))\n",
    "model.add(Dropout(0.5))\n",
    "model.add(BatchNormalization())\n",
    "model.add(Dense(512, activation='relu'))\n",
    "model.add(Dropout(0.5))\n",
    "model.add(BatchNormalization())\n",
    "model.add(Dense(256, activation='relu'))\n",
    "model.add(Dropout(0.4))\n",
    "model.add(BatchNormalization())\n",
    "model.add(Dense(num_classes, activation='softmax'))\n",
    "\n",
    "model.compile(loss='categorical_crossentropy', metrics=['accuracy'], optimizer='adam')\n",
    "model.summary()"
   ]
  },
  {
   "cell_type": "code",
   "execution_count": 41,
   "id": "4a169091",
   "metadata": {
    "scrolled": true
   },
   "outputs": [
    {
     "name": "stdout",
     "output_type": "stream",
     "text": [
      "Epoch 1/200\n",
      "10/10 [==============================] - 1s 39ms/step - loss: 2.7814 - accuracy: 0.1377 - val_loss: 4.1699 - val_accuracy: 0.1063\n",
      "Epoch 2/200\n",
      "10/10 [==============================] - 0s 16ms/step - loss: 2.3329 - accuracy: 0.2473 - val_loss: 4.1499 - val_accuracy: 0.1437\n",
      "Epoch 3/200\n",
      "10/10 [==============================] - 0s 15ms/step - loss: 2.0751 - accuracy: 0.3380 - val_loss: 3.3728 - val_accuracy: 0.1937\n",
      "Epoch 4/200\n",
      "10/10 [==============================] - 0s 15ms/step - loss: 2.0774 - accuracy: 0.3099 - val_loss: 2.8584 - val_accuracy: 0.2188\n",
      "Epoch 5/200\n",
      "10/10 [==============================] - 0s 14ms/step - loss: 1.8960 - accuracy: 0.3318 - val_loss: 2.6726 - val_accuracy: 0.2500\n",
      "Epoch 6/200\n",
      "10/10 [==============================] - 0s 14ms/step - loss: 1.7859 - accuracy: 0.3944 - val_loss: 2.4142 - val_accuracy: 0.2688\n",
      "Epoch 7/200\n",
      "10/10 [==============================] - 0s 14ms/step - loss: 1.7518 - accuracy: 0.4053 - val_loss: 2.1502 - val_accuracy: 0.2875\n",
      "Epoch 8/200\n",
      "10/10 [==============================] - 0s 14ms/step - loss: 1.7760 - accuracy: 0.3787 - val_loss: 1.9493 - val_accuracy: 0.2937\n",
      "Epoch 9/200\n",
      "10/10 [==============================] - 0s 14ms/step - loss: 1.7149 - accuracy: 0.3944 - val_loss: 1.7989 - val_accuracy: 0.3438\n",
      "Epoch 10/200\n",
      "10/10 [==============================] - 0s 14ms/step - loss: 1.6662 - accuracy: 0.4116 - val_loss: 1.6646 - val_accuracy: 0.3688\n",
      "Epoch 11/200\n",
      "10/10 [==============================] - 0s 14ms/step - loss: 1.6356 - accuracy: 0.4319 - val_loss: 1.6009 - val_accuracy: 0.4062\n",
      "Epoch 12/200\n",
      "10/10 [==============================] - 0s 14ms/step - loss: 1.5265 - accuracy: 0.4570 - val_loss: 1.5532 - val_accuracy: 0.4437\n",
      "Epoch 13/200\n",
      "10/10 [==============================] - 0s 14ms/step - loss: 1.6805 - accuracy: 0.3881 - val_loss: 1.5219 - val_accuracy: 0.4563\n",
      "Epoch 14/200\n",
      "10/10 [==============================] - 0s 14ms/step - loss: 1.4993 - accuracy: 0.4804 - val_loss: 1.4879 - val_accuracy: 0.4688\n",
      "Epoch 15/200\n",
      "10/10 [==============================] - 0s 14ms/step - loss: 1.5578 - accuracy: 0.4726 - val_loss: 1.4834 - val_accuracy: 0.4375\n",
      "Epoch 16/200\n",
      "10/10 [==============================] - 0s 14ms/step - loss: 1.4863 - accuracy: 0.4914 - val_loss: 1.4494 - val_accuracy: 0.4812\n",
      "Epoch 17/200\n",
      "10/10 [==============================] - 0s 13ms/step - loss: 1.4595 - accuracy: 0.4570 - val_loss: 1.4123 - val_accuracy: 0.5375\n",
      "Epoch 18/200\n",
      "10/10 [==============================] - 0s 14ms/step - loss: 1.3903 - accuracy: 0.5133 - val_loss: 1.4130 - val_accuracy: 0.5250\n",
      "Epoch 19/200\n",
      "10/10 [==============================] - 0s 14ms/step - loss: 1.4072 - accuracy: 0.4820 - val_loss: 1.4066 - val_accuracy: 0.5000\n",
      "Epoch 20/200\n",
      "10/10 [==============================] - 0s 13ms/step - loss: 1.4060 - accuracy: 0.5149 - val_loss: 1.4116 - val_accuracy: 0.5063\n",
      "Epoch 21/200\n",
      "10/10 [==============================] - 0s 14ms/step - loss: 1.3726 - accuracy: 0.5086 - val_loss: 1.4364 - val_accuracy: 0.4812\n",
      "Epoch 22/200\n",
      "10/10 [==============================] - 0s 14ms/step - loss: 1.3331 - accuracy: 0.5149 - val_loss: 1.4327 - val_accuracy: 0.4563\n",
      "Epoch 23/200\n",
      "10/10 [==============================] - 0s 15ms/step - loss: 1.3291 - accuracy: 0.5493 - val_loss: 1.4244 - val_accuracy: 0.4938\n",
      "Epoch 24/200\n",
      "10/10 [==============================] - 0s 14ms/step - loss: 1.3083 - accuracy: 0.5571 - val_loss: 1.4086 - val_accuracy: 0.4938\n",
      "Epoch 25/200\n",
      "10/10 [==============================] - 0s 13ms/step - loss: 1.2686 - accuracy: 0.5587 - val_loss: 1.3968 - val_accuracy: 0.4812\n",
      "Epoch 26/200\n",
      "10/10 [==============================] - 0s 14ms/step - loss: 1.2733 - accuracy: 0.5603 - val_loss: 1.3698 - val_accuracy: 0.4938\n",
      "Epoch 27/200\n",
      "10/10 [==============================] - 0s 16ms/step - loss: 1.3068 - accuracy: 0.5290 - val_loss: 1.3838 - val_accuracy: 0.4812\n",
      "Epoch 28/200\n",
      "10/10 [==============================] - 0s 16ms/step - loss: 1.2442 - accuracy: 0.5556 - val_loss: 1.3902 - val_accuracy: 0.4563\n",
      "Epoch 29/200\n",
      "10/10 [==============================] - 0s 15ms/step - loss: 1.2411 - accuracy: 0.5305 - val_loss: 1.3857 - val_accuracy: 0.4812\n",
      "Epoch 30/200\n",
      "10/10 [==============================] - 0s 14ms/step - loss: 1.1951 - accuracy: 0.5775 - val_loss: 1.3833 - val_accuracy: 0.4938\n",
      "Epoch 31/200\n",
      "10/10 [==============================] - 0s 14ms/step - loss: 1.1572 - accuracy: 0.5806 - val_loss: 1.3713 - val_accuracy: 0.5063\n",
      "Epoch 32/200\n",
      "10/10 [==============================] - 0s 14ms/step - loss: 1.2299 - accuracy: 0.5587 - val_loss: 1.3737 - val_accuracy: 0.5125\n",
      "Epoch 33/200\n",
      "10/10 [==============================] - 0s 16ms/step - loss: 1.1934 - accuracy: 0.5853 - val_loss: 1.3902 - val_accuracy: 0.4875\n",
      "Epoch 34/200\n",
      "10/10 [==============================] - 0s 18ms/step - loss: 1.1072 - accuracy: 0.6088 - val_loss: 1.3877 - val_accuracy: 0.4875\n",
      "Epoch 35/200\n",
      "10/10 [==============================] - 0s 15ms/step - loss: 1.1602 - accuracy: 0.5743 - val_loss: 1.3734 - val_accuracy: 0.4812\n",
      "Epoch 36/200\n",
      "10/10 [==============================] - 0s 18ms/step - loss: 1.1613 - accuracy: 0.5978 - val_loss: 1.3631 - val_accuracy: 0.4875\n",
      "Epoch 37/200\n",
      "10/10 [==============================] - 0s 18ms/step - loss: 1.1331 - accuracy: 0.5884 - val_loss: 1.3766 - val_accuracy: 0.5125\n",
      "Epoch 38/200\n",
      "10/10 [==============================] - 0s 18ms/step - loss: 1.1011 - accuracy: 0.6088 - val_loss: 1.4089 - val_accuracy: 0.4812\n",
      "Epoch 39/200\n",
      "10/10 [==============================] - 0s 16ms/step - loss: 1.0852 - accuracy: 0.6150 - val_loss: 1.3995 - val_accuracy: 0.5125\n",
      "Epoch 40/200\n",
      "10/10 [==============================] - 0s 15ms/step - loss: 1.0710 - accuracy: 0.6150 - val_loss: 1.3649 - val_accuracy: 0.5250\n",
      "Epoch 41/200\n",
      "10/10 [==============================] - 0s 14ms/step - loss: 1.0915 - accuracy: 0.5994 - val_loss: 1.3460 - val_accuracy: 0.5188\n",
      "Epoch 42/200\n",
      "10/10 [==============================] - 0s 14ms/step - loss: 1.0653 - accuracy: 0.6213 - val_loss: 1.3546 - val_accuracy: 0.5250\n",
      "Epoch 43/200\n",
      "10/10 [==============================] - 0s 14ms/step - loss: 1.0405 - accuracy: 0.6401 - val_loss: 1.3368 - val_accuracy: 0.5250\n",
      "Epoch 44/200\n",
      "10/10 [==============================] - 0s 14ms/step - loss: 1.1415 - accuracy: 0.5790 - val_loss: 1.3791 - val_accuracy: 0.5312\n",
      "Epoch 45/200\n",
      "10/10 [==============================] - 0s 14ms/step - loss: 0.9891 - accuracy: 0.6463 - val_loss: 1.3821 - val_accuracy: 0.5375\n",
      "Epoch 46/200\n",
      "10/10 [==============================] - 0s 14ms/step - loss: 1.0588 - accuracy: 0.6401 - val_loss: 1.3877 - val_accuracy: 0.5375\n",
      "Epoch 47/200\n",
      "10/10 [==============================] - 0s 14ms/step - loss: 1.0168 - accuracy: 0.6448 - val_loss: 1.2993 - val_accuracy: 0.5437\n",
      "Epoch 48/200\n",
      "10/10 [==============================] - 0s 14ms/step - loss: 0.9895 - accuracy: 0.6729 - val_loss: 1.2979 - val_accuracy: 0.5312\n",
      "Epoch 49/200\n",
      "10/10 [==============================] - 0s 15ms/step - loss: 1.0156 - accuracy: 0.6338 - val_loss: 1.3358 - val_accuracy: 0.5125\n",
      "Epoch 50/200\n",
      "10/10 [==============================] - 0s 15ms/step - loss: 0.9979 - accuracy: 0.6448 - val_loss: 1.3709 - val_accuracy: 0.5125\n",
      "Epoch 51/200\n",
      "10/10 [==============================] - 0s 14ms/step - loss: 0.9398 - accuracy: 0.6588 - val_loss: 1.3569 - val_accuracy: 0.4938\n",
      "Epoch 52/200\n",
      "10/10 [==============================] - 0s 14ms/step - loss: 1.0123 - accuracy: 0.6354 - val_loss: 1.3222 - val_accuracy: 0.5437\n",
      "Epoch 53/200\n",
      "10/10 [==============================] - 0s 15ms/step - loss: 0.9005 - accuracy: 0.6964 - val_loss: 1.3323 - val_accuracy: 0.5562\n",
      "Epoch 54/200\n",
      "10/10 [==============================] - 0s 14ms/step - loss: 0.9603 - accuracy: 0.6541 - val_loss: 1.3262 - val_accuracy: 0.5625\n",
      "Epoch 55/200\n",
      "10/10 [==============================] - 0s 14ms/step - loss: 0.9200 - accuracy: 0.6808 - val_loss: 1.3092 - val_accuracy: 0.5750\n",
      "Epoch 56/200\n",
      "10/10 [==============================] - 0s 15ms/step - loss: 0.9366 - accuracy: 0.6604 - val_loss: 1.3065 - val_accuracy: 0.5625\n",
      "Epoch 57/200\n",
      "10/10 [==============================] - 0s 14ms/step - loss: 0.8825 - accuracy: 0.6792 - val_loss: 1.3017 - val_accuracy: 0.5625\n",
      "Epoch 58/200\n",
      "10/10 [==============================] - 0s 14ms/step - loss: 0.9383 - accuracy: 0.6526 - val_loss: 1.3723 - val_accuracy: 0.5437\n",
      "Epoch 59/200\n",
      "10/10 [==============================] - 0s 13ms/step - loss: 0.9967 - accuracy: 0.6416 - val_loss: 1.3447 - val_accuracy: 0.5500\n",
      "Epoch 60/200\n",
      "10/10 [==============================] - 0s 13ms/step - loss: 0.8882 - accuracy: 0.6870 - val_loss: 1.3572 - val_accuracy: 0.5437\n",
      "Epoch 61/200\n",
      "10/10 [==============================] - 0s 14ms/step - loss: 0.9086 - accuracy: 0.6651 - val_loss: 1.3487 - val_accuracy: 0.5500\n",
      "Epoch 62/200\n",
      "10/10 [==============================] - 0s 14ms/step - loss: 0.8676 - accuracy: 0.6854 - val_loss: 1.3220 - val_accuracy: 0.5750\n",
      "Epoch 63/200\n",
      "10/10 [==============================] - 0s 15ms/step - loss: 0.8943 - accuracy: 0.6635 - val_loss: 1.3133 - val_accuracy: 0.5813\n",
      "Epoch 64/200\n",
      "10/10 [==============================] - 0s 14ms/step - loss: 0.8611 - accuracy: 0.7136 - val_loss: 1.2939 - val_accuracy: 0.5750\n",
      "Epoch 65/200\n",
      "10/10 [==============================] - 0s 14ms/step - loss: 0.8819 - accuracy: 0.6964 - val_loss: 1.2940 - val_accuracy: 0.5688\n",
      "Epoch 66/200\n",
      "10/10 [==============================] - 0s 14ms/step - loss: 0.8278 - accuracy: 0.7167 - val_loss: 1.3210 - val_accuracy: 0.5688\n",
      "Epoch 67/200\n",
      "10/10 [==============================] - 0s 15ms/step - loss: 0.8959 - accuracy: 0.6839 - val_loss: 1.3255 - val_accuracy: 0.5938\n",
      "Epoch 68/200\n",
      "10/10 [==============================] - 0s 14ms/step - loss: 0.8225 - accuracy: 0.7105 - val_loss: 1.3261 - val_accuracy: 0.6000\n",
      "Epoch 69/200\n",
      "10/10 [==============================] - 0s 14ms/step - loss: 0.8373 - accuracy: 0.6980 - val_loss: 1.3579 - val_accuracy: 0.5813\n",
      "Epoch 70/200\n",
      "10/10 [==============================] - 0s 14ms/step - loss: 0.8485 - accuracy: 0.7105 - val_loss: 1.3646 - val_accuracy: 0.5562\n",
      "Epoch 71/200\n",
      "10/10 [==============================] - 0s 14ms/step - loss: 0.8464 - accuracy: 0.6761 - val_loss: 1.3386 - val_accuracy: 0.5562\n",
      "Epoch 72/200\n",
      "10/10 [==============================] - 0s 13ms/step - loss: 0.7968 - accuracy: 0.7371 - val_loss: 1.2966 - val_accuracy: 0.5813\n",
      "Epoch 73/200\n",
      "10/10 [==============================] - 0s 14ms/step - loss: 0.8012 - accuracy: 0.7152 - val_loss: 1.3053 - val_accuracy: 0.6000\n",
      "Epoch 74/200\n",
      "10/10 [==============================] - 0s 14ms/step - loss: 0.8066 - accuracy: 0.7011 - val_loss: 1.3005 - val_accuracy: 0.5813\n",
      "Epoch 75/200\n",
      "10/10 [==============================] - 0s 14ms/step - loss: 0.8321 - accuracy: 0.7089 - val_loss: 1.3045 - val_accuracy: 0.5938\n",
      "Epoch 76/200\n",
      "10/10 [==============================] - 0s 14ms/step - loss: 0.7986 - accuracy: 0.7136 - val_loss: 1.3118 - val_accuracy: 0.6062\n",
      "Epoch 77/200\n",
      "10/10 [==============================] - 0s 15ms/step - loss: 0.8191 - accuracy: 0.7058 - val_loss: 1.3439 - val_accuracy: 0.5625\n",
      "Epoch 78/200\n",
      "10/10 [==============================] - 0s 14ms/step - loss: 0.7532 - accuracy: 0.7308 - val_loss: 1.3488 - val_accuracy: 0.5688\n",
      "Epoch 79/200\n",
      "10/10 [==============================] - 0s 14ms/step - loss: 0.8009 - accuracy: 0.7340 - val_loss: 1.3221 - val_accuracy: 0.5688\n",
      "Epoch 80/200\n",
      "10/10 [==============================] - 0s 14ms/step - loss: 0.7307 - accuracy: 0.7293 - val_loss: 1.3332 - val_accuracy: 0.5938\n",
      "Epoch 81/200\n",
      "10/10 [==============================] - 0s 14ms/step - loss: 0.8095 - accuracy: 0.7105 - val_loss: 1.3194 - val_accuracy: 0.5938\n",
      "Epoch 82/200\n",
      "10/10 [==============================] - 0s 14ms/step - loss: 0.6850 - accuracy: 0.7512 - val_loss: 1.2830 - val_accuracy: 0.6250\n",
      "Epoch 83/200\n",
      "10/10 [==============================] - 0s 14ms/step - loss: 0.7263 - accuracy: 0.7653 - val_loss: 1.2912 - val_accuracy: 0.6062\n",
      "Epoch 84/200\n",
      "10/10 [==============================] - 0s 14ms/step - loss: 0.7330 - accuracy: 0.7261 - val_loss: 1.3308 - val_accuracy: 0.5750\n",
      "Epoch 85/200\n",
      "10/10 [==============================] - 0s 15ms/step - loss: 0.7490 - accuracy: 0.7465 - val_loss: 1.3745 - val_accuracy: 0.5625\n",
      "Epoch 86/200\n",
      "10/10 [==============================] - 0s 13ms/step - loss: 0.6978 - accuracy: 0.7684 - val_loss: 1.4062 - val_accuracy: 0.5688\n",
      "Epoch 87/200\n",
      "10/10 [==============================] - 0s 14ms/step - loss: 0.7345 - accuracy: 0.7465 - val_loss: 1.4257 - val_accuracy: 0.5688\n",
      "Epoch 88/200\n",
      "10/10 [==============================] - 0s 13ms/step - loss: 0.6943 - accuracy: 0.7433 - val_loss: 1.3876 - val_accuracy: 0.5750\n",
      "Epoch 89/200\n",
      "10/10 [==============================] - 0s 14ms/step - loss: 0.6697 - accuracy: 0.7684 - val_loss: 1.3512 - val_accuracy: 0.5625\n",
      "Epoch 90/200\n",
      "10/10 [==============================] - 0s 13ms/step - loss: 0.6891 - accuracy: 0.7449 - val_loss: 1.3257 - val_accuracy: 0.5938\n",
      "Epoch 91/200\n",
      "10/10 [==============================] - 0s 14ms/step - loss: 0.6756 - accuracy: 0.7559 - val_loss: 1.3232 - val_accuracy: 0.6375\n",
      "Epoch 92/200\n",
      "10/10 [==============================] - 0s 14ms/step - loss: 0.7223 - accuracy: 0.7402 - val_loss: 1.3333 - val_accuracy: 0.6375\n",
      "Epoch 93/200\n",
      "10/10 [==============================] - 0s 13ms/step - loss: 0.7070 - accuracy: 0.7480 - val_loss: 1.3170 - val_accuracy: 0.6438\n",
      "Epoch 94/200\n",
      "10/10 [==============================] - 0s 14ms/step - loss: 0.7289 - accuracy: 0.7418 - val_loss: 1.3107 - val_accuracy: 0.6375\n",
      "Epoch 95/200\n",
      "10/10 [==============================] - 0s 14ms/step - loss: 0.6717 - accuracy: 0.7731 - val_loss: 1.2978 - val_accuracy: 0.6125\n",
      "Epoch 96/200\n",
      "10/10 [==============================] - 0s 14ms/step - loss: 0.6804 - accuracy: 0.7590 - val_loss: 1.2922 - val_accuracy: 0.6313\n",
      "Epoch 97/200\n",
      "10/10 [==============================] - 0s 14ms/step - loss: 0.6504 - accuracy: 0.7496 - val_loss: 1.3074 - val_accuracy: 0.6375\n",
      "Epoch 98/200\n",
      "10/10 [==============================] - 0s 14ms/step - loss: 0.7257 - accuracy: 0.7402 - val_loss: 1.3601 - val_accuracy: 0.6062\n",
      "Epoch 99/200\n",
      "10/10 [==============================] - 0s 14ms/step - loss: 0.6609 - accuracy: 0.7715 - val_loss: 1.3352 - val_accuracy: 0.5875\n",
      "Epoch 100/200\n",
      "10/10 [==============================] - 0s 14ms/step - loss: 0.6541 - accuracy: 0.7559 - val_loss: 1.3571 - val_accuracy: 0.5813\n",
      "Epoch 101/200\n",
      "10/10 [==============================] - 0s 14ms/step - loss: 0.6944 - accuracy: 0.7527 - val_loss: 1.2982 - val_accuracy: 0.5813\n",
      "Epoch 102/200\n",
      "10/10 [==============================] - 0s 14ms/step - loss: 0.6787 - accuracy: 0.7449 - val_loss: 1.3170 - val_accuracy: 0.5938\n",
      "Epoch 103/200\n",
      "10/10 [==============================] - 0s 14ms/step - loss: 0.6402 - accuracy: 0.7746 - val_loss: 1.3324 - val_accuracy: 0.6125\n",
      "Epoch 104/200\n",
      "10/10 [==============================] - 0s 14ms/step - loss: 0.6711 - accuracy: 0.7433 - val_loss: 1.3686 - val_accuracy: 0.5813\n",
      "Epoch 105/200\n",
      "10/10 [==============================] - 0s 14ms/step - loss: 0.6971 - accuracy: 0.7543 - val_loss: 1.3172 - val_accuracy: 0.5875\n",
      "Epoch 106/200\n",
      "10/10 [==============================] - 0s 14ms/step - loss: 0.6457 - accuracy: 0.7762 - val_loss: 1.3116 - val_accuracy: 0.5875\n",
      "Epoch 107/200\n",
      "10/10 [==============================] - 0s 14ms/step - loss: 0.6392 - accuracy: 0.7621 - val_loss: 1.3264 - val_accuracy: 0.5813\n",
      "Epoch 108/200\n",
      "10/10 [==============================] - 0s 14ms/step - loss: 0.6423 - accuracy: 0.7793 - val_loss: 1.3428 - val_accuracy: 0.5688\n",
      "Epoch 109/200\n",
      "10/10 [==============================] - 0s 14ms/step - loss: 0.6145 - accuracy: 0.7934 - val_loss: 1.3381 - val_accuracy: 0.5875\n",
      "Epoch 110/200\n",
      "10/10 [==============================] - 0s 14ms/step - loss: 0.6374 - accuracy: 0.7746 - val_loss: 1.3351 - val_accuracy: 0.6062\n",
      "Epoch 111/200\n",
      "10/10 [==============================] - 0s 14ms/step - loss: 0.6167 - accuracy: 0.7840 - val_loss: 1.3399 - val_accuracy: 0.5875\n",
      "Epoch 112/200\n",
      "10/10 [==============================] - 0s 14ms/step - loss: 0.6840 - accuracy: 0.7715 - val_loss: 1.3398 - val_accuracy: 0.5875\n",
      "Epoch 113/200\n",
      "10/10 [==============================] - 0s 14ms/step - loss: 0.6022 - accuracy: 0.7856 - val_loss: 1.3715 - val_accuracy: 0.6062\n",
      "Epoch 114/200\n",
      "10/10 [==============================] - 0s 14ms/step - loss: 0.5364 - accuracy: 0.7981 - val_loss: 1.3094 - val_accuracy: 0.6187\n",
      "Epoch 115/200\n"
     ]
    },
    {
     "name": "stdout",
     "output_type": "stream",
     "text": [
      "10/10 [==============================] - 0s 14ms/step - loss: 0.6050 - accuracy: 0.7715 - val_loss: 1.2831 - val_accuracy: 0.6250\n",
      "Epoch 116/200\n",
      "10/10 [==============================] - 0s 14ms/step - loss: 0.6377 - accuracy: 0.7449 - val_loss: 1.3234 - val_accuracy: 0.6062\n",
      "Epoch 117/200\n",
      "10/10 [==============================] - 0s 13ms/step - loss: 0.5637 - accuracy: 0.7903 - val_loss: 1.3590 - val_accuracy: 0.6000\n",
      "Epoch 118/200\n",
      "10/10 [==============================] - 0s 14ms/step - loss: 0.6003 - accuracy: 0.7715 - val_loss: 1.3496 - val_accuracy: 0.6250\n",
      "Epoch 119/200\n",
      "10/10 [==============================] - 0s 13ms/step - loss: 0.5951 - accuracy: 0.7887 - val_loss: 1.3439 - val_accuracy: 0.6062\n",
      "Epoch 120/200\n",
      "10/10 [==============================] - 0s 14ms/step - loss: 0.6086 - accuracy: 0.7950 - val_loss: 1.3578 - val_accuracy: 0.6125\n",
      "Epoch 121/200\n",
      "10/10 [==============================] - 0s 14ms/step - loss: 0.5650 - accuracy: 0.7903 - val_loss: 1.4168 - val_accuracy: 0.6000\n",
      "Epoch 122/200\n",
      "10/10 [==============================] - 0s 13ms/step - loss: 0.6072 - accuracy: 0.7731 - val_loss: 1.4071 - val_accuracy: 0.5938\n",
      "Epoch 123/200\n",
      "10/10 [==============================] - 0s 14ms/step - loss: 0.6015 - accuracy: 0.7840 - val_loss: 1.4066 - val_accuracy: 0.5813\n",
      "Epoch 124/200\n",
      "10/10 [==============================] - 0s 14ms/step - loss: 0.5968 - accuracy: 0.7887 - val_loss: 1.3722 - val_accuracy: 0.5875\n",
      "Epoch 125/200\n",
      "10/10 [==============================] - 0s 14ms/step - loss: 0.6540 - accuracy: 0.7840 - val_loss: 1.4117 - val_accuracy: 0.6000\n",
      "Epoch 126/200\n",
      "10/10 [==============================] - 0s 14ms/step - loss: 0.6570 - accuracy: 0.7606 - val_loss: 1.3993 - val_accuracy: 0.5875\n",
      "Epoch 127/200\n",
      "10/10 [==============================] - 0s 15ms/step - loss: 0.5927 - accuracy: 0.7856 - val_loss: 1.4233 - val_accuracy: 0.6000\n",
      "Epoch 128/200\n",
      "10/10 [==============================] - 0s 13ms/step - loss: 0.5487 - accuracy: 0.8059 - val_loss: 1.3990 - val_accuracy: 0.6187\n",
      "Epoch 129/200\n",
      "10/10 [==============================] - 0s 13ms/step - loss: 0.5618 - accuracy: 0.8028 - val_loss: 1.3428 - val_accuracy: 0.6313\n",
      "Epoch 130/200\n",
      "10/10 [==============================] - 0s 14ms/step - loss: 0.5436 - accuracy: 0.8091 - val_loss: 1.3884 - val_accuracy: 0.6125\n",
      "Epoch 131/200\n",
      "10/10 [==============================] - 0s 14ms/step - loss: 0.5623 - accuracy: 0.7981 - val_loss: 1.3840 - val_accuracy: 0.6250\n",
      "Epoch 132/200\n",
      "10/10 [==============================] - 0s 14ms/step - loss: 0.5896 - accuracy: 0.7934 - val_loss: 1.3646 - val_accuracy: 0.6438\n",
      "Epoch 133/200\n",
      "10/10 [==============================] - 0s 14ms/step - loss: 0.6045 - accuracy: 0.7934 - val_loss: 1.3408 - val_accuracy: 0.6000\n",
      "Epoch 134/200\n",
      "10/10 [==============================] - 0s 15ms/step - loss: 0.6386 - accuracy: 0.7512 - val_loss: 1.3565 - val_accuracy: 0.6125\n",
      "Epoch 135/200\n",
      "10/10 [==============================] - 0s 14ms/step - loss: 0.5153 - accuracy: 0.8247 - val_loss: 1.4339 - val_accuracy: 0.5875\n",
      "Epoch 136/200\n",
      "10/10 [==============================] - 0s 14ms/step - loss: 0.6149 - accuracy: 0.7950 - val_loss: 1.4129 - val_accuracy: 0.6250\n",
      "Epoch 137/200\n",
      "10/10 [==============================] - 0s 14ms/step - loss: 0.5641 - accuracy: 0.7966 - val_loss: 1.4143 - val_accuracy: 0.5875\n",
      "Epoch 138/200\n",
      "10/10 [==============================] - 0s 14ms/step - loss: 0.5835 - accuracy: 0.7966 - val_loss: 1.3883 - val_accuracy: 0.6187\n",
      "Epoch 139/200\n",
      "10/10 [==============================] - 0s 14ms/step - loss: 0.5436 - accuracy: 0.8075 - val_loss: 1.4182 - val_accuracy: 0.6438\n",
      "Epoch 140/200\n",
      "10/10 [==============================] - 0s 14ms/step - loss: 0.5802 - accuracy: 0.7919 - val_loss: 1.4464 - val_accuracy: 0.6062\n",
      "Epoch 141/200\n",
      "10/10 [==============================] - 0s 14ms/step - loss: 0.6158 - accuracy: 0.7840 - val_loss: 1.4991 - val_accuracy: 0.5875\n",
      "Epoch 142/200\n",
      "10/10 [==============================] - 0s 15ms/step - loss: 0.5552 - accuracy: 0.8028 - val_loss: 1.4911 - val_accuracy: 0.5875\n",
      "Epoch 143/200\n",
      "10/10 [==============================] - 0s 13ms/step - loss: 0.5649 - accuracy: 0.8075 - val_loss: 1.4861 - val_accuracy: 0.5688\n",
      "Epoch 144/200\n",
      "10/10 [==============================] - 0s 14ms/step - loss: 0.5392 - accuracy: 0.8091 - val_loss: 1.4566 - val_accuracy: 0.5813\n",
      "Epoch 145/200\n",
      "10/10 [==============================] - 0s 15ms/step - loss: 0.5774 - accuracy: 0.7872 - val_loss: 1.3989 - val_accuracy: 0.6000\n",
      "Epoch 146/200\n",
      "10/10 [==============================] - 0s 15ms/step - loss: 0.5613 - accuracy: 0.8075 - val_loss: 1.4185 - val_accuracy: 0.6313\n",
      "Epoch 147/200\n",
      "10/10 [==============================] - 0s 14ms/step - loss: 0.5559 - accuracy: 0.7840 - val_loss: 1.4108 - val_accuracy: 0.6187\n",
      "Epoch 148/200\n",
      "10/10 [==============================] - 0s 14ms/step - loss: 0.5622 - accuracy: 0.8091 - val_loss: 1.4400 - val_accuracy: 0.5938\n",
      "Epoch 149/200\n",
      "10/10 [==============================] - 0s 14ms/step - loss: 0.4987 - accuracy: 0.8326 - val_loss: 1.4093 - val_accuracy: 0.6125\n",
      "Epoch 150/200\n",
      "10/10 [==============================] - 0s 14ms/step - loss: 0.5308 - accuracy: 0.8028 - val_loss: 1.3888 - val_accuracy: 0.6187\n",
      "Epoch 151/200\n",
      "10/10 [==============================] - 0s 14ms/step - loss: 0.5314 - accuracy: 0.8169 - val_loss: 1.4088 - val_accuracy: 0.5938\n",
      "Epoch 152/200\n",
      "10/10 [==============================] - 0s 14ms/step - loss: 0.5097 - accuracy: 0.8185 - val_loss: 1.4648 - val_accuracy: 0.6125\n",
      "Epoch 153/200\n",
      "10/10 [==============================] - 0s 14ms/step - loss: 0.5122 - accuracy: 0.8185 - val_loss: 1.5085 - val_accuracy: 0.5938\n",
      "Epoch 154/200\n",
      "10/10 [==============================] - 0s 14ms/step - loss: 0.5585 - accuracy: 0.7809 - val_loss: 1.5122 - val_accuracy: 0.5813\n",
      "Epoch 155/200\n",
      "10/10 [==============================] - 0s 14ms/step - loss: 0.5498 - accuracy: 0.8169 - val_loss: 1.4333 - val_accuracy: 0.5813\n",
      "Epoch 156/200\n",
      "10/10 [==============================] - 0s 14ms/step - loss: 0.5119 - accuracy: 0.8122 - val_loss: 1.4088 - val_accuracy: 0.6062\n",
      "Epoch 157/200\n",
      "10/10 [==============================] - 0s 14ms/step - loss: 0.5407 - accuracy: 0.8185 - val_loss: 1.4570 - val_accuracy: 0.5813\n",
      "Epoch 158/200\n",
      "10/10 [==============================] - 0s 14ms/step - loss: 0.4612 - accuracy: 0.8451 - val_loss: 1.4755 - val_accuracy: 0.6125\n",
      "Epoch 159/200\n",
      "10/10 [==============================] - 0s 15ms/step - loss: 0.4718 - accuracy: 0.8326 - val_loss: 1.5194 - val_accuracy: 0.6062\n",
      "Epoch 160/200\n",
      "10/10 [==============================] - 0s 14ms/step - loss: 0.4400 - accuracy: 0.8498 - val_loss: 1.5045 - val_accuracy: 0.6125\n",
      "Epoch 161/200\n",
      "10/10 [==============================] - 0s 14ms/step - loss: 0.4624 - accuracy: 0.8341 - val_loss: 1.4878 - val_accuracy: 0.6250\n",
      "Epoch 162/200\n",
      "10/10 [==============================] - 0s 14ms/step - loss: 0.4584 - accuracy: 0.8294 - val_loss: 1.4859 - val_accuracy: 0.5813\n",
      "Epoch 163/200\n",
      "10/10 [==============================] - 0s 14ms/step - loss: 0.4868 - accuracy: 0.8185 - val_loss: 1.4942 - val_accuracy: 0.5875\n",
      "Epoch 164/200\n",
      "10/10 [==============================] - 0s 14ms/step - loss: 0.5573 - accuracy: 0.8122 - val_loss: 1.4735 - val_accuracy: 0.5750\n",
      "Epoch 165/200\n",
      "10/10 [==============================] - 0s 14ms/step - loss: 0.4527 - accuracy: 0.8466 - val_loss: 1.4351 - val_accuracy: 0.5875\n",
      "Epoch 166/200\n",
      "10/10 [==============================] - 0s 15ms/step - loss: 0.4718 - accuracy: 0.8247 - val_loss: 1.4391 - val_accuracy: 0.5813\n",
      "Epoch 167/200\n",
      "10/10 [==============================] - 0s 14ms/step - loss: 0.4863 - accuracy: 0.8232 - val_loss: 1.4572 - val_accuracy: 0.5750\n",
      "Epoch 168/200\n",
      "10/10 [==============================] - 0s 14ms/step - loss: 0.4318 - accuracy: 0.8529 - val_loss: 1.4392 - val_accuracy: 0.5875\n",
      "Epoch 169/200\n",
      "10/10 [==============================] - 0s 15ms/step - loss: 0.4872 - accuracy: 0.8263 - val_loss: 1.4012 - val_accuracy: 0.6062\n",
      "Epoch 170/200\n",
      "10/10 [==============================] - 0s 15ms/step - loss: 0.5165 - accuracy: 0.8169 - val_loss: 1.3793 - val_accuracy: 0.6062\n",
      "Epoch 171/200\n",
      "10/10 [==============================] - 0s 14ms/step - loss: 0.5278 - accuracy: 0.8106 - val_loss: 1.3761 - val_accuracy: 0.5938\n"
     ]
    },
    {
     "name": "stdout",
     "output_type": "stream",
     "text": [
      "Epoch 172/200\n",
      "10/10 [==============================] - 0s 14ms/step - loss: 0.4652 - accuracy: 0.8310 - val_loss: 1.3856 - val_accuracy: 0.5750\n",
      "Epoch 173/200\n",
      "10/10 [==============================] - 0s 13ms/step - loss: 0.5543 - accuracy: 0.8059 - val_loss: 1.4177 - val_accuracy: 0.6250\n",
      "Epoch 174/200\n",
      "10/10 [==============================] - 0s 13ms/step - loss: 0.4073 - accuracy: 0.8592 - val_loss: 1.4392 - val_accuracy: 0.6000\n",
      "Epoch 175/200\n",
      "10/10 [==============================] - 0s 13ms/step - loss: 0.4901 - accuracy: 0.8232 - val_loss: 1.3982 - val_accuracy: 0.6125\n",
      "Epoch 176/200\n",
      "10/10 [==============================] - 0s 14ms/step - loss: 0.4694 - accuracy: 0.8310 - val_loss: 1.4358 - val_accuracy: 0.6125\n",
      "Epoch 177/200\n",
      "10/10 [==============================] - 0s 14ms/step - loss: 0.4726 - accuracy: 0.8279 - val_loss: 1.4212 - val_accuracy: 0.6313\n",
      "Epoch 178/200\n",
      "10/10 [==============================] - 0s 14ms/step - loss: 0.4849 - accuracy: 0.8388 - val_loss: 1.3935 - val_accuracy: 0.6562\n",
      "Epoch 179/200\n",
      "10/10 [==============================] - 0s 14ms/step - loss: 0.5041 - accuracy: 0.8216 - val_loss: 1.3962 - val_accuracy: 0.6313\n",
      "Epoch 180/200\n",
      "10/10 [==============================] - 0s 14ms/step - loss: 0.4549 - accuracy: 0.8498 - val_loss: 1.5007 - val_accuracy: 0.6250\n",
      "Epoch 181/200\n",
      "10/10 [==============================] - 0s 14ms/step - loss: 0.4921 - accuracy: 0.8232 - val_loss: 1.4801 - val_accuracy: 0.6062\n",
      "Epoch 182/200\n",
      "10/10 [==============================] - 0s 14ms/step - loss: 0.4470 - accuracy: 0.8482 - val_loss: 1.4810 - val_accuracy: 0.6250\n",
      "Epoch 183/200\n",
      "10/10 [==============================] - 0s 13ms/step - loss: 0.4588 - accuracy: 0.8404 - val_loss: 1.4777 - val_accuracy: 0.6313\n",
      "Epoch 184/200\n",
      "10/10 [==============================] - 0s 14ms/step - loss: 0.4548 - accuracy: 0.8091 - val_loss: 1.4594 - val_accuracy: 0.6250\n",
      "Epoch 185/200\n",
      "10/10 [==============================] - 0s 14ms/step - loss: 0.4516 - accuracy: 0.8482 - val_loss: 1.5280 - val_accuracy: 0.6125\n",
      "Epoch 186/200\n",
      "10/10 [==============================] - 0s 14ms/step - loss: 0.4972 - accuracy: 0.8059 - val_loss: 1.5020 - val_accuracy: 0.6062\n",
      "Epoch 187/200\n",
      "10/10 [==============================] - 0s 14ms/step - loss: 0.4262 - accuracy: 0.8498 - val_loss: 1.4721 - val_accuracy: 0.5938\n",
      "Epoch 188/200\n",
      "10/10 [==============================] - 0s 14ms/step - loss: 0.4244 - accuracy: 0.8513 - val_loss: 1.4607 - val_accuracy: 0.6062\n",
      "Epoch 189/200\n",
      "10/10 [==============================] - 0s 14ms/step - loss: 0.4574 - accuracy: 0.8404 - val_loss: 1.4573 - val_accuracy: 0.5875\n",
      "Epoch 190/200\n",
      "10/10 [==============================] - 0s 14ms/step - loss: 0.4477 - accuracy: 0.8326 - val_loss: 1.4348 - val_accuracy: 0.6250\n",
      "Epoch 191/200\n",
      "10/10 [==============================] - 0s 14ms/step - loss: 0.4373 - accuracy: 0.8388 - val_loss: 1.4336 - val_accuracy: 0.6375\n",
      "Epoch 192/200\n",
      "10/10 [==============================] - 0s 14ms/step - loss: 0.4438 - accuracy: 0.8576 - val_loss: 1.4575 - val_accuracy: 0.6250\n",
      "Epoch 193/200\n",
      "10/10 [==============================] - 0s 15ms/step - loss: 0.4521 - accuracy: 0.8388 - val_loss: 1.4448 - val_accuracy: 0.6125\n",
      "Epoch 194/200\n",
      "10/10 [==============================] - 0s 14ms/step - loss: 0.4132 - accuracy: 0.8623 - val_loss: 1.4295 - val_accuracy: 0.5938\n",
      "Epoch 195/200\n",
      "10/10 [==============================] - 0s 14ms/step - loss: 0.4482 - accuracy: 0.8341 - val_loss: 1.4540 - val_accuracy: 0.5875\n",
      "Epoch 196/200\n",
      "10/10 [==============================] - 0s 14ms/step - loss: 0.4489 - accuracy: 0.8435 - val_loss: 1.4774 - val_accuracy: 0.5938\n",
      "Epoch 197/200\n",
      "10/10 [==============================] - 0s 15ms/step - loss: 0.4035 - accuracy: 0.8545 - val_loss: 1.4880 - val_accuracy: 0.6000\n",
      "Epoch 198/200\n",
      "10/10 [==============================] - 0s 14ms/step - loss: 0.4358 - accuracy: 0.8435 - val_loss: 1.4697 - val_accuracy: 0.6125\n",
      "Epoch 199/200\n",
      "10/10 [==============================] - 0s 14ms/step - loss: 0.4346 - accuracy: 0.8357 - val_loss: 1.4300 - val_accuracy: 0.6313\n",
      "Epoch 200/200\n",
      "10/10 [==============================] - 0s 14ms/step - loss: 0.4786 - accuracy: 0.8294 - val_loss: 1.4538 - val_accuracy: 0.6000\n"
     ]
    },
    {
     "data": {
      "text/plain": [
       "<keras.callbacks.History at 0x1b47df31d20>"
      ]
     },
     "execution_count": 41,
     "metadata": {},
     "output_type": "execute_result"
    }
   ],
   "source": [
    "num_epochs = 200\n",
    "num_batch_size = 64\n",
    "\n",
    "model.fit(X_train, y_train, batch_size=num_batch_size, epochs=num_epochs, validation_split=0.2)"
   ]
  },
  {
   "cell_type": "code",
   "execution_count": 42,
   "id": "85fa9074",
   "metadata": {
    "scrolled": false
   },
   "outputs": [
    {
     "data": {
      "image/png": "[encoded data removed]",
      "text/plain": [
       "<Figure size 576x432 with 1 Axes>"
      ]
     },
     "metadata": {
      "needs_background": "light"
     },
     "output_type": "display_data"
    }
   ],
   "source": [
    "plot_acc(model.history)"
   ]
  },
  {
   "cell_type": "code",
   "execution_count": 43,
   "id": "e69eac1e",
   "metadata": {},
   "outputs": [
    {
     "data": {
      "image/png": "[encoded data removed]",
      "text/plain": [
       "<Figure size 576x432 with 1 Axes>"
      ]
     },
     "metadata": {
      "needs_background": "light"
     },
     "output_type": "display_data"
    }
   ],
   "source": [
    "plot_loss(model.history)"
   ]
  },
  {
   "cell_type": "markdown",
   "id": "7970b892",
   "metadata": {},
   "source": [
    "## Testing"
   ]
  },
  {
   "cell_type": "code",
   "execution_count": 44,
   "id": "e88f1206",
   "metadata": {},
   "outputs": [
    {
     "name": "stdout",
     "output_type": "stream",
     "text": [
      "7/7 [==============================] - 0s 6ms/step - loss: 1.9150 - accuracy: 0.6000\n",
      "Test Accuracy: 0.6000000238418579\n"
     ]
    }
   ],
   "source": [
    "test_accuracy = model.evaluate(X_test, y_test)\n",
    "print(\"Test Accuracy:\", test_accuracy[1])"
   ]
  },
  {
   "cell_type": "code",
   "execution_count": 45,
   "id": "d5b0d750",
   "metadata": {},
   "outputs": [],
   "source": [
    "import librosa"
   ]
  },
  {
   "cell_type": "code",
   "execution_count": 46,
   "id": "69effbd9",
   "metadata": {},
   "outputs": [],
   "source": [
    "def feature_extractor(file):\n",
    "    audio, sample_rate = librosa.load(file, res_type='kaiser_fast')\n",
    "    mfcc_feature = librosa.feature.mfcc(y=audio, sr=sample_rate, n_mfcc=40)\n",
    "    mfcc_scaled_features = np.mean(mfcc_feature.T, axis=0)\n",
    "    \n",
    "    return mfcc_scaled_features"
   ]
  },
  {
   "cell_type": "code",
   "execution_count": 54,
   "id": "e1c1f809",
   "metadata": {},
   "outputs": [],
   "source": [
    "def predict(file, label_encoder):\n",
    "    prediction_feature = feature_extractor(file)\n",
    "    prediction_feature = prediction_feature.reshape(1, -1)\n",
    "    preds = model.predict(prediction_feature)\n",
    "    out = tf.argmax(input=preds, axis=1).numpy()[0]\n",
    "    \n",
    "    return label_encoder.inverse_transform([out])"
   ]
  },
  {
   "cell_type": "code",
   "execution_count": 55,
   "id": "e59d1d27",
   "metadata": {},
   "outputs": [
    {
     "name": "stdout",
     "output_type": "stream",
     "text": [
      "1/1 [==============================] - 0s 34ms/step\n"
     ]
    },
    {
     "data": {
      "text/plain": [
       "array(['metal'], dtype='<U9')"
      ]
     },
     "execution_count": 55,
     "metadata": {},
     "output_type": "execute_result"
    }
   ],
   "source": [
    "predict('../Data/genres_original/metal/metal.00005.wav', label_encoder)"
   ]
  },
  {
   "cell_type": "code",
   "execution_count": 56,
   "id": "80ba1d85",
   "metadata": {},
   "outputs": [
    {
     "name": "stdout",
     "output_type": "stream",
     "text": [
      "1/1 [==============================] - 0s 23ms/step\n"
     ]
    },
    {
     "data": {
      "text/plain": [
       "array(['classical'], dtype='<U9')"
      ]
     },
     "execution_count": 56,
     "metadata": {},
     "output_type": "execute_result"
    }
   ],
   "source": [
    "predict('../Data/Test/VaddiSong.wav', label_encoder)"
   ]
  },
  {
   "cell_type": "code",
   "execution_count": 58,
   "id": "5de5b365",
   "metadata": {},
   "outputs": [
    {
     "name": "stdout",
     "output_type": "stream",
     "text": [
      "1/1 [==============================] - 0s 19ms/step\n"
     ]
    },
    {
     "data": {
      "text/plain": [
       "array(['blues'], dtype='<U9')"
      ]
     },
     "execution_count": 58,
     "metadata": {},
     "output_type": "execute_result"
    }
   ],
   "source": [
    "predict('../Data/Test/ProgrammingInC.wav', label_encoder)"
   ]
  },
  {
   "cell_type": "markdown",
   "id": "236f57f4",
   "metadata": {},
   "source": [
    "## Using Chroma Features"
   ]
  },
  {
   "cell_type": "code",
   "execution_count": 60,
   "id": "0de6f65b",
   "metadata": {},
   "outputs": [
    {
     "data": {
      "text/html": [
       "<div>\n",
       "<style scoped>\n",
       "    .dataframe tbody tr th:only-of-type {\n",
       "        vertical-align: middle;\n",
       "    }\n",
       "\n",
       "    .dataframe tbody tr th {\n",
       "        vertical-align: top;\n",
       "    }\n",
       "\n",
       "    .dataframe thead th {\n",
       "        text-align: right;\n",
       "    }\n",
       "</style>\n",
       "<table border=\"1\" class=\"dataframe\">\n",
       "  <thead>\n",
       "    <tr style=\"text-align: right;\">\n",
       "      <th></th>\n",
       "      <th>features</th>\n",
       "      <th>class</th>\n",
       "    </tr>\n",
       "  </thead>\n",
       "  <tbody>\n",
       "    <tr>\n",
       "      <th>0</th>\n",
       "      <td>[0.36224282, 0.36781698, 0.43983436, 0.2446917...</td>\n",
       "      <td>blues</td>\n",
       "    </tr>\n",
       "    <tr>\n",
       "      <th>1</th>\n",
       "      <td>[0.4600403, 0.35018247, 0.3208068, 0.21147157,...</td>\n",
       "      <td>blues</td>\n",
       "    </tr>\n",
       "    <tr>\n",
       "      <th>2</th>\n",
       "      <td>[0.27290025, 0.19595261, 0.31516546, 0.4079862...</td>\n",
       "      <td>blues</td>\n",
       "    </tr>\n",
       "    <tr>\n",
       "      <th>3</th>\n",
       "      <td>[0.34137166, 0.40862367, 0.52431905, 0.5470129...</td>\n",
       "      <td>blues</td>\n",
       "    </tr>\n",
       "    <tr>\n",
       "      <th>4</th>\n",
       "      <td>[0.1926048, 0.3172665, 0.39202204, 0.25582698,...</td>\n",
       "      <td>blues</td>\n",
       "    </tr>\n",
       "  </tbody>\n",
       "</table>\n",
       "</div>"
      ],
      "text/plain": [
       "                                            features  class\n",
       "0  [0.36224282, 0.36781698, 0.43983436, 0.2446917...  blues\n",
       "1  [0.4600403, 0.35018247, 0.3208068, 0.21147157,...  blues\n",
       "2  [0.27290025, 0.19595261, 0.31516546, 0.4079862...  blues\n",
       "3  [0.34137166, 0.40862367, 0.52431905, 0.5470129...  blues\n",
       "4  [0.1926048, 0.3172665, 0.39202204, 0.25582698,...  blues"
      ]
     },
     "execution_count": 60,
     "metadata": {},
     "output_type": "execute_result"
    }
   ],
   "source": [
    "df = pd.read_csv(\"../Datasets/Extracted_Features_Chroma.csv\")\n",
    "df.head()"
   ]
  },
  {
   "cell_type": "code",
   "execution_count": 61,
   "id": "21a667c5",
   "metadata": {},
   "outputs": [
    {
     "data": {
      "text/plain": [
       "array([0.36224282, 0.36781698, 0.43983436, 0.24469179, 0.247862  ,\n",
       "       0.33561644, 0.36461872, 0.43568373, 0.2959856 , 0.3150803 ,\n",
       "       0.40700835, 0.3851007 ])"
      ]
     },
     "execution_count": 61,
     "metadata": {},
     "output_type": "execute_result"
    }
   ],
   "source": [
    "np.array(df['features'][0][1:-1].split(', '), dtype='float64')"
   ]
  },
  {
   "cell_type": "code",
   "execution_count": 62,
   "id": "b4875a37",
   "metadata": {},
   "outputs": [],
   "source": [
    "df['features'] = df['features'].apply(lambda x: np.array(x[1:-1].split(', '), dtype='float64'))"
   ]
  },
  {
   "cell_type": "code",
   "execution_count": 63,
   "id": "39284015",
   "metadata": {},
   "outputs": [
    {
     "data": {
      "text/plain": [
       "array([0.36224282, 0.36781698, 0.43983436, 0.24469179, 0.247862  ,\n",
       "       0.33561644, 0.36461872, 0.43568373, 0.2959856 , 0.3150803 ,\n",
       "       0.40700835, 0.3851007 ])"
      ]
     },
     "execution_count": 63,
     "metadata": {},
     "output_type": "execute_result"
    }
   ],
   "source": [
    "df['features'][0]"
   ]
  },
  {
   "cell_type": "code",
   "execution_count": 64,
   "id": "24c044a3",
   "metadata": {},
   "outputs": [],
   "source": [
    "X = np.array(df['features'].tolist())\n",
    "y = np.array(df['class'].tolist())"
   ]
  },
  {
   "cell_type": "code",
   "execution_count": 65,
   "id": "fe9aed8a",
   "metadata": {},
   "outputs": [
    {
     "data": {
      "text/plain": [
       "(999, 12)"
      ]
     },
     "execution_count": 65,
     "metadata": {},
     "output_type": "execute_result"
    }
   ],
   "source": [
    "X.shape"
   ]
  },
  {
   "cell_type": "code",
   "execution_count": 67,
   "id": "36bb2ccc",
   "metadata": {},
   "outputs": [],
   "source": [
    "# y = np.array(pd.get_dummies(y))\n",
    "label_encoder = LabelEncoder()\n",
    "y = to_categorical(label_encoder.fit_transform(y))"
   ]
  },
  {
   "cell_type": "code",
   "execution_count": 68,
   "id": "0a56b8be",
   "metadata": {},
   "outputs": [
    {
     "data": {
      "text/plain": [
       "(999, 10)"
      ]
     },
     "execution_count": 68,
     "metadata": {},
     "output_type": "execute_result"
    }
   ],
   "source": [
    "y.shape"
   ]
  },
  {
   "cell_type": "code",
   "execution_count": 69,
   "id": "56f815f6",
   "metadata": {},
   "outputs": [],
   "source": [
    "X_train, X_test, y_train, y_test = train_test_split(X, y, test_size=0.2, random_state=101)"
   ]
  },
  {
   "cell_type": "code",
   "execution_count": 70,
   "id": "6299c680",
   "metadata": {},
   "outputs": [
    {
     "data": {
      "text/plain": [
       "10"
      ]
     },
     "execution_count": 70,
     "metadata": {},
     "output_type": "execute_result"
    }
   ],
   "source": [
    "num_classes = y.shape[1]\n",
    "num_classes"
   ]
  },
  {
   "cell_type": "markdown",
   "id": "b65cb936",
   "metadata": {},
   "source": [
    "### Simple ANN"
   ]
  },
  {
   "cell_type": "code",
   "execution_count": 80,
   "id": "613e388f",
   "metadata": {},
   "outputs": [
    {
     "name": "stdout",
     "output_type": "stream",
     "text": [
      "Model: \"sequential_8\"\n",
      "_________________________________________________________________\n",
      " Layer (type)                Output Shape              Param #   \n",
      "=================================================================\n",
      " dense_32 (Dense)            (None, 256)               3328      \n",
      "                                                                 \n",
      " dropout_23 (Dropout)        (None, 256)               0         \n",
      "                                                                 \n",
      " batch_normalization_23 (Bat  (None, 256)              1024      \n",
      " chNormalization)                                                \n",
      "                                                                 \n",
      " dense_33 (Dense)            (None, 512)               131584    \n",
      "                                                                 \n",
      " dropout_24 (Dropout)        (None, 512)               0         \n",
      "                                                                 \n",
      " batch_normalization_24 (Bat  (None, 512)              2048      \n",
      " chNormalization)                                                \n",
      "                                                                 \n",
      " dense_34 (Dense)            (None, 512)               262656    \n",
      "                                                                 \n",
      " batch_normalization_25 (Bat  (None, 512)              2048      \n",
      " chNormalization)                                                \n",
      "                                                                 \n",
      " dense_35 (Dense)            (None, 10)                5130      \n",
      "                                                                 \n",
      "=================================================================\n",
      "Total params: 407,818\n",
      "Trainable params: 405,258\n",
      "Non-trainable params: 2,560\n",
      "_________________________________________________________________\n"
     ]
    }
   ],
   "source": [
    "model = Sequential()\n",
    "model.add(Dense(256, input_shape=(12,), activation='relu'))\n",
    "model.add(Dropout(0.3))\n",
    "model.add(BatchNormalization())\n",
    "model.add(Dense(512, activation='relu'))\n",
    "model.add(Dropout(0.2))\n",
    "model.add(BatchNormalization())\n",
    "model.add(Dense(512, activation='relu'))\n",
    "model.add(BatchNormalization())\n",
    "model.add(Dense(num_classes, activation='softmax'))\n",
    "\n",
    "model.compile(loss='categorical_crossentropy', metrics=['accuracy'], optimizer='adam')\n",
    "model.summary()"
   ]
  },
  {
   "cell_type": "code",
   "execution_count": 81,
   "id": "f542ba4c",
   "metadata": {},
   "outputs": [
    {
     "name": "stdout",
     "output_type": "stream",
     "text": [
      "Epoch 1/200\n",
      "10/10 [==============================] - 1s 39ms/step - loss: 2.7229 - accuracy: 0.1706 - val_loss: 2.2796 - val_accuracy: 0.1375 - lr: 0.0010\n",
      "Epoch 2/200\n",
      "10/10 [==============================] - 0s 17ms/step - loss: 2.3345 - accuracy: 0.2739 - val_loss: 2.2690 - val_accuracy: 0.1125 - lr: 0.0010\n",
      "Epoch 3/200\n",
      "10/10 [==============================] - 0s 14ms/step - loss: 2.2877 - accuracy: 0.2911 - val_loss: 2.2643 - val_accuracy: 0.1437 - lr: 0.0010\n",
      "Epoch 4/200\n",
      "10/10 [==============================] - 0s 14ms/step - loss: 2.1481 - accuracy: 0.3224 - val_loss: 2.2739 - val_accuracy: 0.1312 - lr: 0.0010\n",
      "Epoch 5/200\n",
      "10/10 [==============================] - 0s 15ms/step - loss: 2.0150 - accuracy: 0.3333 - val_loss: 2.2966 - val_accuracy: 0.1187 - lr: 0.0010\n",
      "Epoch 6/200\n",
      "10/10 [==============================] - 0s 14ms/step - loss: 1.9274 - accuracy: 0.3584 - val_loss: 2.3204 - val_accuracy: 0.1187 - lr: 0.0010\n",
      "Epoch 7/200\n",
      "10/10 [==============================] - 0s 15ms/step - loss: 1.9125 - accuracy: 0.3599 - val_loss: 2.3594 - val_accuracy: 0.1187 - lr: 0.0010\n",
      "Epoch 8/200\n",
      "10/10 [==============================] - 0s 15ms/step - loss: 1.7719 - accuracy: 0.3865 - val_loss: 2.3911 - val_accuracy: 0.1187 - lr: 0.0010\n",
      "Epoch 9/200\n",
      "10/10 [==============================] - 0s 14ms/step - loss: 1.7422 - accuracy: 0.3991 - val_loss: 2.4196 - val_accuracy: 0.1187 - lr: 2.0000e-04\n",
      "Epoch 10/200\n",
      "10/10 [==============================] - 0s 14ms/step - loss: 1.7082 - accuracy: 0.4178 - val_loss: 2.4481 - val_accuracy: 0.1187 - lr: 2.0000e-04\n",
      "Epoch 11/200\n",
      "10/10 [==============================] - 0s 15ms/step - loss: 1.6326 - accuracy: 0.4241 - val_loss: 2.4802 - val_accuracy: 0.1187 - lr: 2.0000e-04\n",
      "Epoch 12/200\n",
      "10/10 [==============================] - 0s 15ms/step - loss: 1.7330 - accuracy: 0.4006 - val_loss: 2.5110 - val_accuracy: 0.1187 - lr: 2.0000e-04\n",
      "Epoch 13/200\n",
      "10/10 [==============================] - 0s 15ms/step - loss: 1.6676 - accuracy: 0.4069 - val_loss: 2.5359 - val_accuracy: 0.1187 - lr: 2.0000e-04\n",
      "Epoch 14/200\n",
      "10/10 [==============================] - 0s 14ms/step - loss: 1.5924 - accuracy: 0.4085 - val_loss: 2.5616 - val_accuracy: 0.1187 - lr: 1.0000e-04\n",
      "Epoch 15/200\n",
      "10/10 [==============================] - 0s 14ms/step - loss: 1.6304 - accuracy: 0.4053 - val_loss: 2.5888 - val_accuracy: 0.1187 - lr: 1.0000e-04\n",
      "Epoch 16/200\n",
      "10/10 [==============================] - 0s 14ms/step - loss: 1.5991 - accuracy: 0.4225 - val_loss: 2.6169 - val_accuracy: 0.1187 - lr: 1.0000e-04\n",
      "Epoch 17/200\n",
      "10/10 [==============================] - 0s 14ms/step - loss: 1.5437 - accuracy: 0.4413 - val_loss: 2.6430 - val_accuracy: 0.1312 - lr: 1.0000e-04\n",
      "Epoch 18/200\n",
      "10/10 [==============================] - 0s 14ms/step - loss: 1.5526 - accuracy: 0.4288 - val_loss: 2.6706 - val_accuracy: 0.1437 - lr: 1.0000e-04\n",
      "Epoch 19/200\n",
      "10/10 [==============================] - 0s 14ms/step - loss: 1.6076 - accuracy: 0.4085 - val_loss: 2.7038 - val_accuracy: 0.1625 - lr: 1.0000e-04\n",
      "Epoch 20/200\n",
      "10/10 [==============================] - 0s 16ms/step - loss: 1.5542 - accuracy: 0.4632 - val_loss: 2.7268 - val_accuracy: 0.1875 - lr: 1.0000e-04\n",
      "Epoch 21/200\n",
      "10/10 [==============================] - 0s 15ms/step - loss: 1.5848 - accuracy: 0.4351 - val_loss: 2.7499 - val_accuracy: 0.1937 - lr: 1.0000e-04\n",
      "Epoch 22/200\n",
      "10/10 [==============================] - 0s 16ms/step - loss: 1.5166 - accuracy: 0.4601 - val_loss: 2.7752 - val_accuracy: 0.1937 - lr: 1.0000e-04\n",
      "Epoch 23/200\n",
      "10/10 [==============================] - 0s 15ms/step - loss: 1.5160 - accuracy: 0.4304 - val_loss: 2.8027 - val_accuracy: 0.1937 - lr: 1.0000e-04\n",
      "Epoch 24/200\n",
      "10/10 [==============================] - 0s 15ms/step - loss: 1.4623 - accuracy: 0.4992 - val_loss: 2.8256 - val_accuracy: 0.1937 - lr: 1.0000e-04\n",
      "Epoch 25/200\n",
      "10/10 [==============================] - 0s 16ms/step - loss: 1.5370 - accuracy: 0.4194 - val_loss: 2.8417 - val_accuracy: 0.2000 - lr: 1.0000e-04\n",
      "Epoch 26/200\n",
      "10/10 [==============================] - 0s 16ms/step - loss: 1.5107 - accuracy: 0.4632 - val_loss: 2.8559 - val_accuracy: 0.2062 - lr: 1.0000e-04\n",
      "Epoch 27/200\n",
      "10/10 [==============================] - 0s 15ms/step - loss: 1.5004 - accuracy: 0.4585 - val_loss: 2.8652 - val_accuracy: 0.2000 - lr: 1.0000e-04\n",
      "Epoch 28/200\n",
      "10/10 [==============================] - 0s 14ms/step - loss: 1.5520 - accuracy: 0.4585 - val_loss: 2.8823 - val_accuracy: 0.2062 - lr: 1.0000e-04\n",
      "Epoch 29/200\n",
      "10/10 [==============================] - 0s 15ms/step - loss: 1.5589 - accuracy: 0.4335 - val_loss: 2.8961 - val_accuracy: 0.2000 - lr: 1.0000e-04\n",
      "Epoch 30/200\n",
      "10/10 [==============================] - 0s 15ms/step - loss: 1.4531 - accuracy: 0.4867 - val_loss: 2.9085 - val_accuracy: 0.2000 - lr: 1.0000e-04\n",
      "Epoch 31/200\n",
      "10/10 [==============================] - 0s 14ms/step - loss: 1.4958 - accuracy: 0.4585 - val_loss: 2.9082 - val_accuracy: 0.2000 - lr: 1.0000e-04\n",
      "Epoch 32/200\n",
      "10/10 [==============================] - 0s 14ms/step - loss: 1.4593 - accuracy: 0.4945 - val_loss: 2.9078 - val_accuracy: 0.1937 - lr: 1.0000e-04\n",
      "Epoch 33/200\n",
      "10/10 [==============================] - 0s 15ms/step - loss: 1.4680 - accuracy: 0.4820 - val_loss: 2.9048 - val_accuracy: 0.1937 - lr: 1.0000e-04\n",
      "Epoch 34/200\n",
      "10/10 [==============================] - 0s 14ms/step - loss: 1.5067 - accuracy: 0.4507 - val_loss: 2.9146 - val_accuracy: 0.1937 - lr: 1.0000e-04\n",
      "Epoch 35/200\n",
      "10/10 [==============================] - 0s 14ms/step - loss: 1.4783 - accuracy: 0.4851 - val_loss: 2.9285 - val_accuracy: 0.1937 - lr: 1.0000e-04\n",
      "Epoch 36/200\n",
      "10/10 [==============================] - 0s 14ms/step - loss: 1.3914 - accuracy: 0.5055 - val_loss: 2.9437 - val_accuracy: 0.1937 - lr: 1.0000e-04\n",
      "Epoch 37/200\n",
      "10/10 [==============================] - 0s 13ms/step - loss: 1.4379 - accuracy: 0.4883 - val_loss: 2.9361 - val_accuracy: 0.1937 - lr: 1.0000e-04\n",
      "Epoch 38/200\n",
      "10/10 [==============================] - 0s 13ms/step - loss: 1.3496 - accuracy: 0.5039 - val_loss: 2.9341 - val_accuracy: 0.1937 - lr: 1.0000e-04\n",
      "Epoch 39/200\n",
      "10/10 [==============================] - 0s 13ms/step - loss: 1.4208 - accuracy: 0.4945 - val_loss: 2.9292 - val_accuracy: 0.1937 - lr: 1.0000e-04\n",
      "Epoch 40/200\n",
      "10/10 [==============================] - 0s 13ms/step - loss: 1.3995 - accuracy: 0.4961 - val_loss: 2.9089 - val_accuracy: 0.1937 - lr: 1.0000e-04\n",
      "Epoch 41/200\n",
      "10/10 [==============================] - 0s 12ms/step - loss: 1.3905 - accuracy: 0.4945 - val_loss: 2.8896 - val_accuracy: 0.1937 - lr: 1.0000e-04\n",
      "Epoch 42/200\n",
      "10/10 [==============================] - 0s 14ms/step - loss: 1.4360 - accuracy: 0.4898 - val_loss: 2.8735 - val_accuracy: 0.1813 - lr: 1.0000e-04\n",
      "Epoch 43/200\n",
      "10/10 [==============================] - 0s 15ms/step - loss: 1.4337 - accuracy: 0.4883 - val_loss: 2.8577 - val_accuracy: 0.1813 - lr: 1.0000e-04\n",
      "Epoch 44/200\n",
      "10/10 [==============================] - 0s 14ms/step - loss: 1.4407 - accuracy: 0.4992 - val_loss: 2.8385 - val_accuracy: 0.1813 - lr: 1.0000e-04\n",
      "Epoch 45/200\n",
      "10/10 [==============================] - 0s 15ms/step - loss: 1.3801 - accuracy: 0.4773 - val_loss: 2.8258 - val_accuracy: 0.1875 - lr: 1.0000e-04\n",
      "Epoch 46/200\n",
      "10/10 [==============================] - 0s 14ms/step - loss: 1.3511 - accuracy: 0.4992 - val_loss: 2.8003 - val_accuracy: 0.1937 - lr: 1.0000e-04\n",
      "Epoch 47/200\n",
      "10/10 [==============================] - 0s 14ms/step - loss: 1.3822 - accuracy: 0.5008 - val_loss: 2.7650 - val_accuracy: 0.1937 - lr: 1.0000e-04\n",
      "Epoch 48/200\n",
      "10/10 [==============================] - 0s 13ms/step - loss: 1.3824 - accuracy: 0.4930 - val_loss: 2.7611 - val_accuracy: 0.1875 - lr: 1.0000e-04\n",
      "Epoch 49/200\n",
      "10/10 [==============================] - 0s 14ms/step - loss: 1.3542 - accuracy: 0.4914 - val_loss: 2.7639 - val_accuracy: 0.1875 - lr: 1.0000e-04\n",
      "Epoch 50/200\n",
      "10/10 [==============================] - 0s 15ms/step - loss: 1.3546 - accuracy: 0.5149 - val_loss: 2.7434 - val_accuracy: 0.1875 - lr: 1.0000e-04\n",
      "Epoch 51/200\n",
      "10/10 [==============================] - 0s 13ms/step - loss: 1.3788 - accuracy: 0.5102 - val_loss: 2.7245 - val_accuracy: 0.1937 - lr: 1.0000e-04\n",
      "Epoch 52/200\n",
      "10/10 [==============================] - 0s 13ms/step - loss: 1.2526 - accuracy: 0.5477 - val_loss: 2.7081 - val_accuracy: 0.1937 - lr: 1.0000e-04\n",
      "Epoch 53/200\n",
      "10/10 [==============================] - 0s 13ms/step - loss: 1.3362 - accuracy: 0.5368 - val_loss: 2.7065 - val_accuracy: 0.1937 - lr: 1.0000e-04\n",
      "Epoch 54/200\n",
      "10/10 [==============================] - 0s 15ms/step - loss: 1.3621 - accuracy: 0.5227 - val_loss: 2.6950 - val_accuracy: 0.1875 - lr: 1.0000e-04\n",
      "Epoch 55/200\n",
      "10/10 [==============================] - 0s 14ms/step - loss: 1.3266 - accuracy: 0.5180 - val_loss: 2.6751 - val_accuracy: 0.1937 - lr: 1.0000e-04\n",
      "Epoch 56/200\n",
      "10/10 [==============================] - 0s 13ms/step - loss: 1.3601 - accuracy: 0.5243 - val_loss: 2.6623 - val_accuracy: 0.1937 - lr: 1.0000e-04\n",
      "Epoch 57/200\n",
      "10/10 [==============================] - 0s 13ms/step - loss: 1.2800 - accuracy: 0.5227 - val_loss: 2.6304 - val_accuracy: 0.2062 - lr: 1.0000e-04\n",
      "Epoch 58/200\n",
      "10/10 [==============================] - 0s 14ms/step - loss: 1.2557 - accuracy: 0.5603 - val_loss: 2.5982 - val_accuracy: 0.2000 - lr: 1.0000e-04\n",
      "Epoch 59/200\n",
      "10/10 [==============================] - 0s 13ms/step - loss: 1.2985 - accuracy: 0.5352 - val_loss: 2.5749 - val_accuracy: 0.2062 - lr: 1.0000e-04\n",
      "Epoch 60/200\n",
      "10/10 [==============================] - 0s 13ms/step - loss: 1.2606 - accuracy: 0.5399 - val_loss: 2.5601 - val_accuracy: 0.2125 - lr: 1.0000e-04\n",
      "Epoch 61/200\n",
      "10/10 [==============================] - 0s 13ms/step - loss: 1.3131 - accuracy: 0.5290 - val_loss: 2.5234 - val_accuracy: 0.2188 - lr: 1.0000e-04\n",
      "Epoch 62/200\n",
      "10/10 [==============================] - 0s 13ms/step - loss: 1.2818 - accuracy: 0.5196 - val_loss: 2.4792 - val_accuracy: 0.2188 - lr: 1.0000e-04\n",
      "Epoch 63/200\n",
      "10/10 [==============================] - 0s 12ms/step - loss: 1.2753 - accuracy: 0.5556 - val_loss: 2.4585 - val_accuracy: 0.2250 - lr: 1.0000e-04\n",
      "Epoch 64/200\n",
      "10/10 [==============================] - 0s 12ms/step - loss: 1.2973 - accuracy: 0.5352 - val_loss: 2.4376 - val_accuracy: 0.2250 - lr: 1.0000e-04\n",
      "Epoch 65/200\n",
      "10/10 [==============================] - 0s 12ms/step - loss: 1.2794 - accuracy: 0.5399 - val_loss: 2.4440 - val_accuracy: 0.2250 - lr: 1.0000e-04\n",
      "Epoch 66/200\n",
      "10/10 [==============================] - 0s 12ms/step - loss: 1.2645 - accuracy: 0.5305 - val_loss: 2.4250 - val_accuracy: 0.2188 - lr: 1.0000e-04\n",
      "Epoch 67/200\n",
      "10/10 [==============================] - 0s 12ms/step - loss: 1.2504 - accuracy: 0.5618 - val_loss: 2.4233 - val_accuracy: 0.2188 - lr: 1.0000e-04\n",
      "Epoch 68/200\n",
      "10/10 [==============================] - 0s 12ms/step - loss: 1.2358 - accuracy: 0.5462 - val_loss: 2.4268 - val_accuracy: 0.2313 - lr: 1.0000e-04\n",
      "Epoch 69/200\n",
      "10/10 [==============================] - 0s 12ms/step - loss: 1.2528 - accuracy: 0.5540 - val_loss: 2.4304 - val_accuracy: 0.2438 - lr: 1.0000e-04\n",
      "Epoch 70/200\n",
      "10/10 [==============================] - 0s 11ms/step - loss: 1.2077 - accuracy: 0.5556 - val_loss: 2.4025 - val_accuracy: 0.2500 - lr: 1.0000e-04\n",
      "Epoch 71/200\n",
      "10/10 [==============================] - 0s 13ms/step - loss: 1.2236 - accuracy: 0.5884 - val_loss: 2.3799 - val_accuracy: 0.2750 - lr: 1.0000e-04\n",
      "Epoch 72/200\n",
      "10/10 [==============================] - 0s 12ms/step - loss: 1.2089 - accuracy: 0.5743 - val_loss: 2.3717 - val_accuracy: 0.2625 - lr: 1.0000e-04\n",
      "Epoch 73/200\n",
      "10/10 [==============================] - 0s 12ms/step - loss: 1.2190 - accuracy: 0.5556 - val_loss: 2.3470 - val_accuracy: 0.2812 - lr: 1.0000e-04\n",
      "Epoch 74/200\n",
      "10/10 [==============================] - 0s 11ms/step - loss: 1.2404 - accuracy: 0.5524 - val_loss: 2.3437 - val_accuracy: 0.2688 - lr: 1.0000e-04\n",
      "Epoch 75/200\n",
      "10/10 [==============================] - 0s 12ms/step - loss: 1.1771 - accuracy: 0.5884 - val_loss: 2.3427 - val_accuracy: 0.2562 - lr: 1.0000e-04\n",
      "Epoch 76/200\n",
      "10/10 [==============================] - 0s 11ms/step - loss: 1.2213 - accuracy: 0.5775 - val_loss: 2.3227 - val_accuracy: 0.2688 - lr: 1.0000e-04\n",
      "Epoch 77/200\n",
      "10/10 [==============================] - 0s 13ms/step - loss: 1.1987 - accuracy: 0.5649 - val_loss: 2.3169 - val_accuracy: 0.2812 - lr: 1.0000e-04\n",
      "Epoch 78/200\n",
      "10/10 [==============================] - 0s 14ms/step - loss: 1.2178 - accuracy: 0.5712 - val_loss: 2.3169 - val_accuracy: 0.2750 - lr: 1.0000e-04\n",
      "Epoch 79/200\n",
      "10/10 [==============================] - 0s 15ms/step - loss: 1.2177 - accuracy: 0.5540 - val_loss: 2.3115 - val_accuracy: 0.2937 - lr: 1.0000e-04\n",
      "Epoch 80/200\n",
      "10/10 [==============================] - 0s 15ms/step - loss: 1.1884 - accuracy: 0.5665 - val_loss: 2.3042 - val_accuracy: 0.2937 - lr: 1.0000e-04\n",
      "Epoch 81/200\n",
      "10/10 [==============================] - 0s 14ms/step - loss: 1.1448 - accuracy: 0.5869 - val_loss: 2.3160 - val_accuracy: 0.2937 - lr: 1.0000e-04\n",
      "Epoch 82/200\n",
      "10/10 [==============================] - 0s 15ms/step - loss: 1.1648 - accuracy: 0.5853 - val_loss: 2.2985 - val_accuracy: 0.3063 - lr: 1.0000e-04\n",
      "Epoch 83/200\n",
      "10/10 [==============================] - 0s 15ms/step - loss: 1.1996 - accuracy: 0.5728 - val_loss: 2.2857 - val_accuracy: 0.3063 - lr: 1.0000e-04\n",
      "Epoch 84/200\n",
      "10/10 [==============================] - 0s 15ms/step - loss: 1.1842 - accuracy: 0.5837 - val_loss: 2.2782 - val_accuracy: 0.3063 - lr: 1.0000e-04\n",
      "Epoch 85/200\n",
      "10/10 [==============================] - 0s 16ms/step - loss: 1.1169 - accuracy: 0.6072 - val_loss: 2.2941 - val_accuracy: 0.3063 - lr: 1.0000e-04\n",
      "Epoch 86/200\n",
      "10/10 [==============================] - 0s 16ms/step - loss: 1.1364 - accuracy: 0.5962 - val_loss: 2.2867 - val_accuracy: 0.3250 - lr: 1.0000e-04\n",
      "Epoch 87/200\n",
      "10/10 [==============================] - 0s 15ms/step - loss: 1.1269 - accuracy: 0.6119 - val_loss: 2.2766 - val_accuracy: 0.3313 - lr: 1.0000e-04\n",
      "Epoch 88/200\n",
      "10/10 [==============================] - 0s 14ms/step - loss: 1.1041 - accuracy: 0.6072 - val_loss: 2.2660 - val_accuracy: 0.3375 - lr: 1.0000e-04\n",
      "Epoch 89/200\n",
      "10/10 [==============================] - 0s 14ms/step - loss: 1.1046 - accuracy: 0.6056 - val_loss: 2.2430 - val_accuracy: 0.3375 - lr: 1.0000e-04\n",
      "Epoch 90/200\n",
      "10/10 [==============================] - 0s 14ms/step - loss: 1.1520 - accuracy: 0.5728 - val_loss: 2.2387 - val_accuracy: 0.3375 - lr: 1.0000e-04\n",
      "Epoch 91/200\n",
      "10/10 [==============================] - 0s 14ms/step - loss: 1.0807 - accuracy: 0.6213 - val_loss: 2.2490 - val_accuracy: 0.3313 - lr: 1.0000e-04\n",
      "Epoch 92/200\n",
      "10/10 [==============================] - 0s 13ms/step - loss: 1.1490 - accuracy: 0.5728 - val_loss: 2.2718 - val_accuracy: 0.3250 - lr: 1.0000e-04\n",
      "Epoch 93/200\n",
      "10/10 [==============================] - 0s 12ms/step - loss: 1.1165 - accuracy: 0.5947 - val_loss: 2.2675 - val_accuracy: 0.3063 - lr: 1.0000e-04\n",
      "Epoch 94/200\n",
      "10/10 [==============================] - 0s 11ms/step - loss: 1.1133 - accuracy: 0.5962 - val_loss: 2.2702 - val_accuracy: 0.3063 - lr: 1.0000e-04\n",
      "Epoch 95/200\n",
      "10/10 [==============================] - 0s 12ms/step - loss: 1.0895 - accuracy: 0.6150 - val_loss: 2.2868 - val_accuracy: 0.3125 - lr: 1.0000e-04\n",
      "Epoch 96/200\n",
      "10/10 [==============================] - 0s 13ms/step - loss: 1.1574 - accuracy: 0.5665 - val_loss: 2.2871 - val_accuracy: 0.3187 - lr: 1.0000e-04\n",
      "Epoch 97/200\n",
      "10/10 [==============================] - 0s 12ms/step - loss: 1.0512 - accuracy: 0.6228 - val_loss: 2.2699 - val_accuracy: 0.3125 - lr: 1.0000e-04\n",
      "Epoch 98/200\n",
      "10/10 [==============================] - 0s 12ms/step - loss: 1.0394 - accuracy: 0.6197 - val_loss: 2.2584 - val_accuracy: 0.3187 - lr: 1.0000e-04\n",
      "Epoch 99/200\n",
      "10/10 [==============================] - 0s 12ms/step - loss: 1.0812 - accuracy: 0.6072 - val_loss: 2.2663 - val_accuracy: 0.3375 - lr: 1.0000e-04\n",
      "Epoch 100/200\n",
      "10/10 [==============================] - 0s 12ms/step - loss: 1.0650 - accuracy: 0.6354 - val_loss: 2.2568 - val_accuracy: 0.3375 - lr: 1.0000e-04\n",
      "Epoch 101/200\n",
      "10/10 [==============================] - 0s 12ms/step - loss: 1.0516 - accuracy: 0.6354 - val_loss: 2.2523 - val_accuracy: 0.3375 - lr: 1.0000e-04\n",
      "Epoch 102/200\n",
      "10/10 [==============================] - 0s 12ms/step - loss: 1.0718 - accuracy: 0.6197 - val_loss: 2.2489 - val_accuracy: 0.3438 - lr: 1.0000e-04\n",
      "Epoch 103/200\n"
     ]
    },
    {
     "name": "stdout",
     "output_type": "stream",
     "text": [
      "10/10 [==============================] - 0s 12ms/step - loss: 1.0622 - accuracy: 0.6463 - val_loss: 2.2349 - val_accuracy: 0.3375 - lr: 1.0000e-04\n",
      "Epoch 104/200\n",
      "10/10 [==============================] - 0s 11ms/step - loss: 1.0890 - accuracy: 0.6213 - val_loss: 2.2154 - val_accuracy: 0.3500 - lr: 1.0000e-04\n",
      "Epoch 105/200\n",
      "10/10 [==============================] - 0s 11ms/step - loss: 1.0254 - accuracy: 0.6541 - val_loss: 2.1960 - val_accuracy: 0.3438 - lr: 1.0000e-04\n",
      "Epoch 106/200\n",
      "10/10 [==============================] - 0s 11ms/step - loss: 1.0219 - accuracy: 0.6432 - val_loss: 2.1960 - val_accuracy: 0.3562 - lr: 1.0000e-04\n",
      "Epoch 107/200\n",
      "10/10 [==============================] - 0s 11ms/step - loss: 1.0193 - accuracy: 0.6369 - val_loss: 2.2174 - val_accuracy: 0.3500 - lr: 1.0000e-04\n",
      "Epoch 108/200\n",
      "10/10 [==============================] - 0s 13ms/step - loss: 1.0592 - accuracy: 0.6322 - val_loss: 2.2249 - val_accuracy: 0.3500 - lr: 1.0000e-04\n",
      "Epoch 109/200\n",
      "10/10 [==============================] - 0s 13ms/step - loss: 0.9913 - accuracy: 0.6479 - val_loss: 2.2255 - val_accuracy: 0.3500 - lr: 1.0000e-04\n",
      "Epoch 110/200\n",
      "10/10 [==============================] - 0s 14ms/step - loss: 1.0738 - accuracy: 0.6228 - val_loss: 2.2185 - val_accuracy: 0.3500 - lr: 1.0000e-04\n",
      "Epoch 111/200\n",
      "10/10 [==============================] - 0s 14ms/step - loss: 1.0303 - accuracy: 0.6416 - val_loss: 2.2251 - val_accuracy: 0.3438 - lr: 1.0000e-04\n",
      "Epoch 112/200\n",
      "10/10 [==============================] - 0s 14ms/step - loss: 1.0364 - accuracy: 0.6385 - val_loss: 2.2449 - val_accuracy: 0.3375 - lr: 1.0000e-04\n",
      "Epoch 113/200\n",
      "10/10 [==============================] - 0s 13ms/step - loss: 1.0275 - accuracy: 0.6463 - val_loss: 2.2580 - val_accuracy: 0.3438 - lr: 1.0000e-04\n",
      "Epoch 114/200\n",
      "10/10 [==============================] - 0s 11ms/step - loss: 1.0266 - accuracy: 0.6244 - val_loss: 2.2299 - val_accuracy: 0.3625 - lr: 1.0000e-04\n",
      "Epoch 115/200\n",
      "10/10 [==============================] - 0s 12ms/step - loss: 1.0188 - accuracy: 0.6244 - val_loss: 2.2237 - val_accuracy: 0.3625 - lr: 1.0000e-04\n",
      "Epoch 116/200\n",
      "10/10 [==============================] - 0s 11ms/step - loss: 0.9867 - accuracy: 0.6448 - val_loss: 2.2053 - val_accuracy: 0.3625 - lr: 1.0000e-04\n",
      "Epoch 117/200\n",
      "10/10 [==============================] - 0s 11ms/step - loss: 1.0093 - accuracy: 0.6385 - val_loss: 2.1936 - val_accuracy: 0.3562 - lr: 1.0000e-04\n",
      "Epoch 118/200\n",
      "10/10 [==============================] - 0s 11ms/step - loss: 1.0059 - accuracy: 0.6463 - val_loss: 2.1833 - val_accuracy: 0.3438 - lr: 1.0000e-04\n",
      "Epoch 119/200\n",
      "10/10 [==============================] - 0s 11ms/step - loss: 0.9898 - accuracy: 0.6510 - val_loss: 2.1714 - val_accuracy: 0.3375 - lr: 1.0000e-04\n",
      "Epoch 120/200\n",
      "10/10 [==============================] - 0s 11ms/step - loss: 0.9903 - accuracy: 0.6588 - val_loss: 2.1824 - val_accuracy: 0.3438 - lr: 1.0000e-04\n",
      "Epoch 121/200\n",
      "10/10 [==============================] - 0s 12ms/step - loss: 0.9560 - accuracy: 0.6573 - val_loss: 2.1844 - val_accuracy: 0.3438 - lr: 1.0000e-04\n",
      "Epoch 122/200\n",
      "10/10 [==============================] - 0s 11ms/step - loss: 1.0057 - accuracy: 0.6479 - val_loss: 2.1822 - val_accuracy: 0.3562 - lr: 1.0000e-04\n",
      "Epoch 123/200\n",
      "10/10 [==============================] - 0s 12ms/step - loss: 0.9765 - accuracy: 0.6667 - val_loss: 2.1760 - val_accuracy: 0.3625 - lr: 1.0000e-04\n",
      "Epoch 124/200\n",
      "10/10 [==============================] - 0s 11ms/step - loss: 0.9804 - accuracy: 0.6620 - val_loss: 2.1679 - val_accuracy: 0.3438 - lr: 1.0000e-04\n",
      "Epoch 125/200\n",
      "10/10 [==============================] - 0s 11ms/step - loss: 0.9447 - accuracy: 0.6667 - val_loss: 2.1586 - val_accuracy: 0.3438 - lr: 1.0000e-04\n",
      "Epoch 126/200\n",
      "10/10 [==============================] - 0s 12ms/step - loss: 0.9698 - accuracy: 0.6635 - val_loss: 2.1642 - val_accuracy: 0.3562 - lr: 1.0000e-04\n",
      "Epoch 127/200\n",
      "10/10 [==============================] - 0s 12ms/step - loss: 0.9693 - accuracy: 0.6667 - val_loss: 2.1826 - val_accuracy: 0.3562 - lr: 1.0000e-04\n",
      "Epoch 128/200\n",
      "10/10 [==============================] - 0s 11ms/step - loss: 0.9429 - accuracy: 0.6588 - val_loss: 2.1945 - val_accuracy: 0.3750 - lr: 1.0000e-04\n",
      "Epoch 129/200\n",
      "10/10 [==============================] - 0s 12ms/step - loss: 0.9478 - accuracy: 0.6620 - val_loss: 2.1905 - val_accuracy: 0.3625 - lr: 1.0000e-04\n",
      "Epoch 130/200\n",
      "10/10 [==============================] - 0s 14ms/step - loss: 0.9501 - accuracy: 0.6682 - val_loss: 2.1926 - val_accuracy: 0.3750 - lr: 1.0000e-04\n",
      "Epoch 131/200\n",
      "10/10 [==============================] - 0s 15ms/step - loss: 0.9323 - accuracy: 0.6776 - val_loss: 2.1949 - val_accuracy: 0.3688 - lr: 1.0000e-04\n",
      "Epoch 132/200\n",
      "10/10 [==============================] - 0s 14ms/step - loss: 0.9366 - accuracy: 0.6729 - val_loss: 2.1974 - val_accuracy: 0.3438 - lr: 1.0000e-04\n",
      "Epoch 133/200\n",
      "10/10 [==============================] - 0s 15ms/step - loss: 0.9221 - accuracy: 0.6761 - val_loss: 2.2004 - val_accuracy: 0.3500 - lr: 1.0000e-04\n",
      "Epoch 134/200\n",
      "10/10 [==============================] - 0s 15ms/step - loss: 0.9179 - accuracy: 0.6870 - val_loss: 2.1896 - val_accuracy: 0.3438 - lr: 1.0000e-04\n",
      "Epoch 135/200\n",
      "10/10 [==============================] - 0s 15ms/step - loss: 0.9182 - accuracy: 0.6761 - val_loss: 2.1934 - val_accuracy: 0.3562 - lr: 1.0000e-04\n",
      "Epoch 136/200\n",
      "10/10 [==============================] - 0s 14ms/step - loss: 0.8944 - accuracy: 0.6933 - val_loss: 2.1883 - val_accuracy: 0.3562 - lr: 1.0000e-04\n",
      "Epoch 137/200\n",
      "10/10 [==============================] - 0s 13ms/step - loss: 0.8997 - accuracy: 0.7042 - val_loss: 2.1970 - val_accuracy: 0.3625 - lr: 1.0000e-04\n",
      "Epoch 138/200\n",
      "10/10 [==============================] - 0s 14ms/step - loss: 0.9173 - accuracy: 0.6635 - val_loss: 2.2033 - val_accuracy: 0.3688 - lr: 1.0000e-04\n",
      "Epoch 139/200\n",
      "10/10 [==============================] - 0s 14ms/step - loss: 0.9033 - accuracy: 0.6917 - val_loss: 2.2004 - val_accuracy: 0.3688 - lr: 1.0000e-04\n",
      "Epoch 140/200\n",
      "10/10 [==============================] - 0s 14ms/step - loss: 0.8875 - accuracy: 0.6917 - val_loss: 2.1976 - val_accuracy: 0.3750 - lr: 1.0000e-04\n",
      "Epoch 141/200\n",
      "10/10 [==============================] - 0s 15ms/step - loss: 0.9029 - accuracy: 0.6698 - val_loss: 2.2009 - val_accuracy: 0.3812 - lr: 1.0000e-04\n",
      "Epoch 142/200\n",
      "10/10 [==============================] - 0s 15ms/step - loss: 0.9027 - accuracy: 0.6745 - val_loss: 2.1961 - val_accuracy: 0.3750 - lr: 1.0000e-04\n",
      "Epoch 143/200\n",
      "10/10 [==============================] - 0s 14ms/step - loss: 0.8698 - accuracy: 0.7152 - val_loss: 2.2148 - val_accuracy: 0.3500 - lr: 1.0000e-04\n",
      "Epoch 144/200\n",
      "10/10 [==============================] - 0s 14ms/step - loss: 0.8977 - accuracy: 0.6839 - val_loss: 2.2151 - val_accuracy: 0.3500 - lr: 1.0000e-04\n",
      "Epoch 145/200\n",
      "10/10 [==============================] - 0s 14ms/step - loss: 0.8794 - accuracy: 0.6698 - val_loss: 2.2159 - val_accuracy: 0.3438 - lr: 1.0000e-04\n",
      "Epoch 146/200\n",
      "10/10 [==============================] - 0s 13ms/step - loss: 0.8855 - accuracy: 0.7074 - val_loss: 2.2134 - val_accuracy: 0.3375 - lr: 1.0000e-04\n",
      "Epoch 147/200\n",
      "10/10 [==============================] - 0s 13ms/step - loss: 0.8113 - accuracy: 0.7308 - val_loss: 2.2074 - val_accuracy: 0.3438 - lr: 1.0000e-04\n",
      "Epoch 148/200\n",
      "10/10 [==============================] - 0s 13ms/step - loss: 0.9054 - accuracy: 0.6667 - val_loss: 2.2040 - val_accuracy: 0.3438 - lr: 1.0000e-04\n",
      "Epoch 149/200\n",
      "10/10 [==============================] - 0s 13ms/step - loss: 0.8773 - accuracy: 0.7183 - val_loss: 2.2105 - val_accuracy: 0.3500 - lr: 1.0000e-04\n",
      "Epoch 150/200\n",
      "10/10 [==============================] - 0s 14ms/step - loss: 0.8470 - accuracy: 0.7105 - val_loss: 2.2160 - val_accuracy: 0.3438 - lr: 1.0000e-04\n",
      "Epoch 151/200\n",
      "10/10 [==============================] - 0s 13ms/step - loss: 0.8334 - accuracy: 0.7183 - val_loss: 2.2165 - val_accuracy: 0.3562 - lr: 1.0000e-04\n",
      "Epoch 152/200\n",
      "10/10 [==============================] - 0s 12ms/step - loss: 0.8357 - accuracy: 0.7105 - val_loss: 2.2242 - val_accuracy: 0.3500 - lr: 1.0000e-04\n",
      "Epoch 153/200\n",
      "10/10 [==============================] - 0s 13ms/step - loss: 0.8972 - accuracy: 0.7089 - val_loss: 2.2190 - val_accuracy: 0.3438 - lr: 1.0000e-04\n"
     ]
    },
    {
     "name": "stdout",
     "output_type": "stream",
     "text": [
      "Epoch 154/200\n",
      "10/10 [==============================] - 0s 11ms/step - loss: 0.8810 - accuracy: 0.7027 - val_loss: 2.2278 - val_accuracy: 0.3438 - lr: 1.0000e-04\n",
      "Epoch 155/200\n",
      "10/10 [==============================] - 0s 12ms/step - loss: 0.7957 - accuracy: 0.7433 - val_loss: 2.2337 - val_accuracy: 0.3500 - lr: 1.0000e-04\n",
      "Epoch 156/200\n",
      "10/10 [==============================] - 0s 13ms/step - loss: 0.8400 - accuracy: 0.7042 - val_loss: 2.2366 - val_accuracy: 0.3438 - lr: 1.0000e-04\n",
      "Epoch 157/200\n",
      "10/10 [==============================] - 0s 11ms/step - loss: 0.8185 - accuracy: 0.7261 - val_loss: 2.2411 - val_accuracy: 0.3438 - lr: 1.0000e-04\n",
      "Epoch 158/200\n",
      "10/10 [==============================] - 0s 12ms/step - loss: 0.7982 - accuracy: 0.7340 - val_loss: 2.2530 - val_accuracy: 0.3313 - lr: 1.0000e-04\n",
      "Epoch 159/200\n",
      "10/10 [==============================] - 0s 11ms/step - loss: 0.8451 - accuracy: 0.6995 - val_loss: 2.2477 - val_accuracy: 0.3438 - lr: 1.0000e-04\n",
      "Epoch 160/200\n",
      "10/10 [==============================] - 0s 11ms/step - loss: 0.7706 - accuracy: 0.7402 - val_loss: 2.2498 - val_accuracy: 0.3250 - lr: 1.0000e-04\n",
      "Epoch 161/200\n",
      "10/10 [==============================] - 0s 13ms/step - loss: 0.8348 - accuracy: 0.7214 - val_loss: 2.2459 - val_accuracy: 0.3250 - lr: 1.0000e-04\n",
      "Epoch 162/200\n",
      "10/10 [==============================] - 0s 13ms/step - loss: 0.8548 - accuracy: 0.6854 - val_loss: 2.2283 - val_accuracy: 0.3375 - lr: 1.0000e-04\n",
      "Epoch 163/200\n",
      "10/10 [==============================] - 0s 13ms/step - loss: 0.8055 - accuracy: 0.7152 - val_loss: 2.2386 - val_accuracy: 0.3438 - lr: 1.0000e-04\n",
      "Epoch 164/200\n",
      "10/10 [==============================] - 0s 13ms/step - loss: 0.8165 - accuracy: 0.7136 - val_loss: 2.2422 - val_accuracy: 0.3375 - lr: 1.0000e-04\n",
      "Epoch 165/200\n",
      "10/10 [==============================] - 0s 13ms/step - loss: 0.7800 - accuracy: 0.7512 - val_loss: 2.2361 - val_accuracy: 0.3438 - lr: 1.0000e-04\n",
      "Epoch 166/200\n",
      "10/10 [==============================] - 0s 12ms/step - loss: 0.7952 - accuracy: 0.7277 - val_loss: 2.2309 - val_accuracy: 0.3438 - lr: 1.0000e-04\n",
      "Epoch 167/200\n",
      "10/10 [==============================] - 0s 12ms/step - loss: 0.7922 - accuracy: 0.7324 - val_loss: 2.2359 - val_accuracy: 0.3375 - lr: 1.0000e-04\n",
      "Epoch 168/200\n",
      "10/10 [==============================] - 0s 12ms/step - loss: 0.7843 - accuracy: 0.7480 - val_loss: 2.2517 - val_accuracy: 0.3313 - lr: 1.0000e-04\n",
      "Epoch 169/200\n",
      "10/10 [==============================] - 0s 12ms/step - loss: 0.7516 - accuracy: 0.7449 - val_loss: 2.2528 - val_accuracy: 0.3187 - lr: 1.0000e-04\n",
      "Epoch 170/200\n",
      "10/10 [==============================] - 0s 12ms/step - loss: 0.8134 - accuracy: 0.7089 - val_loss: 2.2558 - val_accuracy: 0.3187 - lr: 1.0000e-04\n",
      "Epoch 171/200\n",
      "10/10 [==============================] - 0s 11ms/step - loss: 0.7521 - accuracy: 0.7387 - val_loss: 2.2508 - val_accuracy: 0.3187 - lr: 1.0000e-04\n",
      "Epoch 172/200\n",
      "10/10 [==============================] - 0s 12ms/step - loss: 0.7228 - accuracy: 0.7574 - val_loss: 2.2477 - val_accuracy: 0.3313 - lr: 1.0000e-04\n",
      "Epoch 173/200\n",
      "10/10 [==============================] - 0s 12ms/step - loss: 0.7839 - accuracy: 0.7606 - val_loss: 2.2504 - val_accuracy: 0.3187 - lr: 1.0000e-04\n",
      "Epoch 174/200\n",
      "10/10 [==============================] - 0s 12ms/step - loss: 0.7442 - accuracy: 0.7433 - val_loss: 2.2588 - val_accuracy: 0.3187 - lr: 1.0000e-04\n",
      "Epoch 175/200\n",
      "10/10 [==============================] - 0s 12ms/step - loss: 0.6962 - accuracy: 0.7778 - val_loss: 2.2722 - val_accuracy: 0.3187 - lr: 1.0000e-04\n",
      "Epoch 176/200\n",
      "10/10 [==============================] - 0s 12ms/step - loss: 0.7362 - accuracy: 0.7355 - val_loss: 2.2756 - val_accuracy: 0.3250 - lr: 1.0000e-04\n",
      "Epoch 177/200\n",
      "10/10 [==============================] - 0s 12ms/step - loss: 0.7708 - accuracy: 0.7449 - val_loss: 2.2808 - val_accuracy: 0.3250 - lr: 1.0000e-04\n",
      "Epoch 178/200\n",
      "10/10 [==============================] - 0s 12ms/step - loss: 0.8070 - accuracy: 0.7105 - val_loss: 2.2777 - val_accuracy: 0.3250 - lr: 1.0000e-04\n",
      "Epoch 179/200\n",
      "10/10 [==============================] - 0s 12ms/step - loss: 0.7636 - accuracy: 0.7355 - val_loss: 2.2740 - val_accuracy: 0.3250 - lr: 1.0000e-04\n",
      "Epoch 180/200\n",
      "10/10 [==============================] - 0s 11ms/step - loss: 0.7471 - accuracy: 0.7402 - val_loss: 2.2743 - val_accuracy: 0.3250 - lr: 1.0000e-04\n",
      "Epoch 181/200\n",
      "10/10 [==============================] - 0s 14ms/step - loss: 0.7148 - accuracy: 0.7684 - val_loss: 2.2740 - val_accuracy: 0.3125 - lr: 1.0000e-04\n",
      "Epoch 182/200\n",
      "10/10 [==============================] - 0s 14ms/step - loss: 0.7740 - accuracy: 0.7277 - val_loss: 2.2817 - val_accuracy: 0.3063 - lr: 1.0000e-04\n",
      "Epoch 183/200\n",
      "10/10 [==============================] - 0s 15ms/step - loss: 0.7692 - accuracy: 0.7324 - val_loss: 2.2835 - val_accuracy: 0.3250 - lr: 1.0000e-04\n",
      "Epoch 184/200\n",
      "10/10 [==============================] - 0s 15ms/step - loss: 0.7566 - accuracy: 0.7433 - val_loss: 2.2832 - val_accuracy: 0.3250 - lr: 1.0000e-04\n",
      "Epoch 185/200\n",
      "10/10 [==============================] - 0s 14ms/step - loss: 0.7858 - accuracy: 0.7246 - val_loss: 2.2990 - val_accuracy: 0.3125 - lr: 1.0000e-04\n",
      "Epoch 186/200\n",
      "10/10 [==============================] - 0s 15ms/step - loss: 0.7335 - accuracy: 0.7449 - val_loss: 2.3063 - val_accuracy: 0.3250 - lr: 1.0000e-04\n",
      "Epoch 187/200\n",
      "10/10 [==============================] - 0s 14ms/step - loss: 0.7029 - accuracy: 0.7574 - val_loss: 2.3050 - val_accuracy: 0.3313 - lr: 1.0000e-04\n",
      "Epoch 188/200\n",
      "10/10 [==============================] - 0s 14ms/step - loss: 0.7090 - accuracy: 0.7559 - val_loss: 2.3006 - val_accuracy: 0.3313 - lr: 1.0000e-04\n",
      "Epoch 189/200\n",
      "10/10 [==============================] - 0s 14ms/step - loss: 0.7165 - accuracy: 0.7621 - val_loss: 2.3183 - val_accuracy: 0.3125 - lr: 1.0000e-04\n",
      "Epoch 190/200\n",
      "10/10 [==============================] - 0s 14ms/step - loss: 0.7108 - accuracy: 0.7433 - val_loss: 2.3284 - val_accuracy: 0.3187 - lr: 1.0000e-04\n",
      "Epoch 191/200\n",
      "10/10 [==============================] - 0s 14ms/step - loss: 0.7555 - accuracy: 0.7387 - val_loss: 2.3313 - val_accuracy: 0.3187 - lr: 1.0000e-04\n",
      "Epoch 192/200\n",
      "10/10 [==============================] - 0s 14ms/step - loss: 0.7144 - accuracy: 0.7465 - val_loss: 2.3223 - val_accuracy: 0.3125 - lr: 1.0000e-04\n",
      "Epoch 193/200\n",
      "10/10 [==============================] - 0s 14ms/step - loss: 0.6977 - accuracy: 0.7496 - val_loss: 2.3261 - val_accuracy: 0.3250 - lr: 1.0000e-04\n",
      "Epoch 194/200\n",
      "10/10 [==============================] - 0s 13ms/step - loss: 0.6819 - accuracy: 0.7809 - val_loss: 2.3315 - val_accuracy: 0.3250 - lr: 1.0000e-04\n",
      "Epoch 195/200\n",
      "10/10 [==============================] - 0s 13ms/step - loss: 0.7092 - accuracy: 0.7746 - val_loss: 2.3249 - val_accuracy: 0.3250 - lr: 1.0000e-04\n",
      "Epoch 196/200\n",
      "10/10 [==============================] - 0s 14ms/step - loss: 0.7270 - accuracy: 0.7653 - val_loss: 2.3192 - val_accuracy: 0.3250 - lr: 1.0000e-04\n",
      "Epoch 197/200\n",
      "10/10 [==============================] - 0s 14ms/step - loss: 0.6450 - accuracy: 0.7809 - val_loss: 2.3155 - val_accuracy: 0.3187 - lr: 1.0000e-04\n",
      "Epoch 198/200\n",
      "10/10 [==============================] - 0s 14ms/step - loss: 0.7402 - accuracy: 0.7527 - val_loss: 2.3152 - val_accuracy: 0.3063 - lr: 1.0000e-04\n",
      "Epoch 199/200\n",
      "10/10 [==============================] - 0s 13ms/step - loss: 0.6639 - accuracy: 0.7840 - val_loss: 2.3244 - val_accuracy: 0.3063 - lr: 1.0000e-04\n",
      "Epoch 200/200\n",
      "10/10 [==============================] - 0s 12ms/step - loss: 0.6748 - accuracy: 0.7606 - val_loss: 2.3268 - val_accuracy: 0.3063 - lr: 1.0000e-04\n"
     ]
    },
    {
     "data": {
      "text/plain": [
       "<keras.callbacks.History at 0x1b482011990>"
      ]
     },
     "execution_count": 81,
     "metadata": {},
     "output_type": "execute_result"
    }
   ],
   "source": [
    "num_epochs = 200\n",
    "num_batch_size = 64\n",
    "\n",
    "reduce_lr = ReduceLROnPlateau(monitor='val_loss', factor=0.2, patience=5, min_lr=0.0001)\n",
    "\n",
    "model.fit(X_train, y_train, batch_size=num_batch_size, epochs=num_epochs, validation_split=0.2, callbacks=[reduce_lr])"
   ]
  },
  {
   "cell_type": "code",
   "execution_count": 82,
   "id": "fef0b6c8",
   "metadata": {},
   "outputs": [
    {
     "data": {
      "image/png": "[encoded data removed]",
      "text/plain": [
       "<Figure size 576x432 with 1 Axes>"
      ]
     },
     "metadata": {
      "needs_background": "light"
     },
     "output_type": "display_data"
    }
   ],
   "source": [
    "plot_acc(model.history)"
   ]
  },
  {
   "cell_type": "code",
   "execution_count": 83,
   "id": "b529dc62",
   "metadata": {},
   "outputs": [
    {
     "data": {
      "image/png": "[encoded data removed]",
      "text/plain": [
       "<Figure size 576x432 with 1 Axes>"
      ]
     },
     "metadata": {
      "needs_background": "light"
     },
     "output_type": "display_data"
    }
   ],
   "source": [
    "plot_loss(model.history)"
   ]
  },
  {
   "cell_type": "markdown",
   "id": "7b44d0af",
   "metadata": {},
   "source": [
    "## Combining Both Features"
   ]
  },
  {
   "cell_type": "code",
   "execution_count": 86,
   "id": "b4b73de4",
   "metadata": {},
   "outputs": [
    {
     "data": {
      "text/html": [
       "<div>\n",
       "<style scoped>\n",
       "    .dataframe tbody tr th:only-of-type {\n",
       "        vertical-align: middle;\n",
       "    }\n",
       "\n",
       "    .dataframe tbody tr th {\n",
       "        vertical-align: top;\n",
       "    }\n",
       "\n",
       "    .dataframe thead th {\n",
       "        text-align: right;\n",
       "    }\n",
       "</style>\n",
       "<table border=\"1\" class=\"dataframe\">\n",
       "  <thead>\n",
       "    <tr style=\"text-align: right;\">\n",
       "      <th></th>\n",
       "      <th>features</th>\n",
       "      <th>class</th>\n",
       "    </tr>\n",
       "  </thead>\n",
       "  <tbody>\n",
       "    <tr>\n",
       "      <th>0</th>\n",
       "      <td>[-113.59882, 121.57067, -19.162262, 42.363937,...</td>\n",
       "      <td>blues</td>\n",
       "    </tr>\n",
       "    <tr>\n",
       "      <th>1</th>\n",
       "      <td>[-207.52383, 123.98514, 8.94702, 35.86715, 2.9...</td>\n",
       "      <td>blues</td>\n",
       "    </tr>\n",
       "    <tr>\n",
       "      <th>2</th>\n",
       "      <td>[-90.757164, 140.44087, -29.084547, 31.686691,...</td>\n",
       "      <td>blues</td>\n",
       "    </tr>\n",
       "    <tr>\n",
       "      <th>3</th>\n",
       "      <td>[-199.57513, 150.0861, 5.663404, 26.855278, 1....</td>\n",
       "      <td>blues</td>\n",
       "    </tr>\n",
       "    <tr>\n",
       "      <th>4</th>\n",
       "      <td>[-160.35417, 126.209496, -35.581394, 22.139256...</td>\n",
       "      <td>blues</td>\n",
       "    </tr>\n",
       "  </tbody>\n",
       "</table>\n",
       "</div>"
      ],
      "text/plain": [
       "                                            features  class\n",
       "0  [-113.59882, 121.57067, -19.162262, 42.363937,...  blues\n",
       "1  [-207.52383, 123.98514, 8.94702, 35.86715, 2.9...  blues\n",
       "2  [-90.757164, 140.44087, -29.084547, 31.686691,...  blues\n",
       "3  [-199.57513, 150.0861, 5.663404, 26.855278, 1....  blues\n",
       "4  [-160.35417, 126.209496, -35.581394, 22.139256...  blues"
      ]
     },
     "execution_count": 86,
     "metadata": {},
     "output_type": "execute_result"
    }
   ],
   "source": [
    "df1 = pd.read_csv(\"../Datasets/Extracted_Features.csv\")\n",
    "df1.head()"
   ]
  },
  {
   "cell_type": "code",
   "execution_count": 87,
   "id": "b1864e22",
   "metadata": {},
   "outputs": [
    {
     "data": {
      "text/html": [
       "<div>\n",
       "<style scoped>\n",
       "    .dataframe tbody tr th:only-of-type {\n",
       "        vertical-align: middle;\n",
       "    }\n",
       "\n",
       "    .dataframe tbody tr th {\n",
       "        vertical-align: top;\n",
       "    }\n",
       "\n",
       "    .dataframe thead th {\n",
       "        text-align: right;\n",
       "    }\n",
       "</style>\n",
       "<table border=\"1\" class=\"dataframe\">\n",
       "  <thead>\n",
       "    <tr style=\"text-align: right;\">\n",
       "      <th></th>\n",
       "      <th>features</th>\n",
       "      <th>class</th>\n",
       "    </tr>\n",
       "  </thead>\n",
       "  <tbody>\n",
       "    <tr>\n",
       "      <th>0</th>\n",
       "      <td>[0.36224282, 0.36781698, 0.43983436, 0.2446917...</td>\n",
       "      <td>blues</td>\n",
       "    </tr>\n",
       "    <tr>\n",
       "      <th>1</th>\n",
       "      <td>[0.4600403, 0.35018247, 0.3208068, 0.21147157,...</td>\n",
       "      <td>blues</td>\n",
       "    </tr>\n",
       "    <tr>\n",
       "      <th>2</th>\n",
       "      <td>[0.27290025, 0.19595261, 0.31516546, 0.4079862...</td>\n",
       "      <td>blues</td>\n",
       "    </tr>\n",
       "    <tr>\n",
       "      <th>3</th>\n",
       "      <td>[0.34137166, 0.40862367, 0.52431905, 0.5470129...</td>\n",
       "      <td>blues</td>\n",
       "    </tr>\n",
       "    <tr>\n",
       "      <th>4</th>\n",
       "      <td>[0.1926048, 0.3172665, 0.39202204, 0.25582698,...</td>\n",
       "      <td>blues</td>\n",
       "    </tr>\n",
       "  </tbody>\n",
       "</table>\n",
       "</div>"
      ],
      "text/plain": [
       "                                            features  class\n",
       "0  [0.36224282, 0.36781698, 0.43983436, 0.2446917...  blues\n",
       "1  [0.4600403, 0.35018247, 0.3208068, 0.21147157,...  blues\n",
       "2  [0.27290025, 0.19595261, 0.31516546, 0.4079862...  blues\n",
       "3  [0.34137166, 0.40862367, 0.52431905, 0.5470129...  blues\n",
       "4  [0.1926048, 0.3172665, 0.39202204, 0.25582698,...  blues"
      ]
     },
     "execution_count": 87,
     "metadata": {},
     "output_type": "execute_result"
    }
   ],
   "source": [
    "df2 = pd.read_csv(\"../Datasets/Extracted_Features_Chroma.csv\")\n",
    "df2.head()"
   ]
  },
  {
   "cell_type": "code",
   "execution_count": 88,
   "id": "156c6bdb",
   "metadata": {},
   "outputs": [],
   "source": [
    "df1['features'] = df1['features'].apply(lambda x: np.array(x[1:-1].split(', '), dtype='float64'))\n",
    "df2['features'] = df2['features'].apply(lambda x: np.array(x[1:-1].split(', '), dtype='float64'))"
   ]
  },
  {
   "cell_type": "code",
   "execution_count": 91,
   "id": "f59d0e21",
   "metadata": {},
   "outputs": [],
   "source": [
    "X1 = np.array(df1['features'].tolist())\n",
    "X2 = np.array(df2['features'].tolist())\n",
    "y = np.array(df1['class'].tolist())"
   ]
  },
  {
   "cell_type": "code",
   "execution_count": 92,
   "id": "ac224f27",
   "metadata": {},
   "outputs": [
    {
     "data": {
      "text/plain": [
       "((999, 40), (999, 12))"
      ]
     },
     "execution_count": 92,
     "metadata": {},
     "output_type": "execute_result"
    }
   ],
   "source": [
    "X1.shape, X2.shape"
   ]
  },
  {
   "cell_type": "code",
   "execution_count": 93,
   "id": "b1fecabd",
   "metadata": {},
   "outputs": [],
   "source": [
    "# y = np.array(pd.get_dummies(y))\n",
    "label_encoder = LabelEncoder()\n",
    "y = to_categorical(label_encoder.fit_transform(y))"
   ]
  },
  {
   "cell_type": "code",
   "execution_count": 94,
   "id": "7b5daf27",
   "metadata": {},
   "outputs": [
    {
     "data": {
      "text/plain": [
       "(999, 10)"
      ]
     },
     "execution_count": 94,
     "metadata": {},
     "output_type": "execute_result"
    }
   ],
   "source": [
    "y.shape"
   ]
  },
  {
   "cell_type": "code",
   "execution_count": 98,
   "id": "9857665b",
   "metadata": {},
   "outputs": [],
   "source": [
    "X1_train, X1_test, y_train, y_test = train_test_split(X1, y, test_size=0.2, random_state=101)\n",
    "X2_train, X2_test, y_train, y_test = train_test_split(X2, y, test_size=0.2, random_state=101)"
   ]
  },
  {
   "cell_type": "code",
   "execution_count": 99,
   "id": "aea416a4",
   "metadata": {},
   "outputs": [
    {
     "data": {
      "text/plain": [
       "10"
      ]
     },
     "execution_count": 99,
     "metadata": {},
     "output_type": "execute_result"
    }
   ],
   "source": [
    "num_classes = y.shape[1]\n",
    "num_classes"
   ]
  },
  {
   "cell_type": "code",
   "execution_count": 128,
   "id": "34bebb6c",
   "metadata": {},
   "outputs": [
    {
     "name": "stdout",
     "output_type": "stream",
     "text": [
      "Model: \"model_23\"\n",
      "__________________________________________________________________________________________________\n",
      " Layer (type)                   Output Shape         Param #     Connected to                     \n",
      "==================================================================================================\n",
      " input_16 (InputLayer)          [(None, 12)]         0           []                               \n",
      "                                                                                                  \n",
      " dense_91 (Dense)               (None, 128)          1664        ['input_16[0][0]']               \n",
      "                                                                                                  \n",
      " dropout_67 (Dropout)           (None, 128)          0           ['dense_91[0][0]']               \n",
      "                                                                                                  \n",
      " batch_normalization_50 (BatchN  (None, 128)         512         ['dropout_67[0][0]']             \n",
      " ormalization)                                                                                    \n",
      "                                                                                                  \n",
      " dense_92 (Dense)               (None, 256)          33024       ['batch_normalization_50[0][0]'] \n",
      "                                                                                                  \n",
      " dropout_68 (Dropout)           (None, 256)          0           ['dense_92[0][0]']               \n",
      "                                                                                                  \n",
      " input_15 (InputLayer)          [(None, 40)]         0           []                               \n",
      "                                                                                                  \n",
      " batch_normalization_51 (BatchN  (None, 256)         1024        ['dropout_68[0][0]']             \n",
      " ormalization)                                                                                    \n",
      "                                                                                                  \n",
      " dense_90 (Dense)               (None, 256)          10496       ['input_15[0][0]']               \n",
      "                                                                                                  \n",
      " dense_93 (Dense)               (None, 256)          65792       ['batch_normalization_51[0][0]'] \n",
      "                                                                                                  \n",
      " dropout_66 (Dropout)           (None, 256)          0           ['dense_90[0][0]']               \n",
      "                                                                                                  \n",
      " dropout_69 (Dropout)           (None, 256)          0           ['dense_93[0][0]']               \n",
      "                                                                                                  \n",
      " batch_normalization_49 (BatchN  (None, 256)         1024        ['dropout_66[0][0]']             \n",
      " ormalization)                                                                                    \n",
      "                                                                                                  \n",
      " batch_normalization_52 (BatchN  (None, 256)         1024        ['dropout_69[0][0]']             \n",
      " ormalization)                                                                                    \n",
      "                                                                                                  \n",
      " concatenate_7 (Concatenate)    (None, 512)          0           ['batch_normalization_49[0][0]', \n",
      "                                                                  'batch_normalization_52[0][0]'] \n",
      "                                                                                                  \n",
      " dense_94 (Dense)               (None, 128)          65664       ['concatenate_7[0][0]']          \n",
      "                                                                                                  \n",
      " dropout_70 (Dropout)           (None, 128)          0           ['dense_94[0][0]']               \n",
      "                                                                                                  \n",
      " batch_normalization_53 (BatchN  (None, 128)         512         ['dropout_70[0][0]']             \n",
      " ormalization)                                                                                    \n",
      "                                                                                                  \n",
      " dense_95 (Dense)               (None, 10)           1290        ['batch_normalization_53[0][0]'] \n",
      "                                                                                                  \n",
      "==================================================================================================\n",
      "Total params: 182,026\n",
      "Trainable params: 179,978\n",
      "Non-trainable params: 2,048\n",
      "__________________________________________________________________________________________________\n"
     ]
    }
   ],
   "source": [
    "inputA = Input(shape=(40,))\n",
    "inputB = Input(shape=(12,))\n",
    "\n",
    "x = Dense(128, activation=\"relu\")(inputA)\n",
    "x = Dropout(0.4)(x)\n",
    "x = BatchNormalization()(x)\n",
    "x = Dense(256, activation=\"relu\")(x)\n",
    "x = Dropout(0.4)(x)\n",
    "x = BatchNormalization()(x)\n",
    "x = Dense(256, activation=\"relu\")(inputA)\n",
    "x = Dropout(0.3)(x)\n",
    "x = BatchNormalization()(x)\n",
    "x = Model(inputs=inputA, outputs=x)\n",
    "\n",
    "y = Dense(128, activation=\"relu\")(inputB)\n",
    "y = Dropout(0.4)(y)\n",
    "y = BatchNormalization()(y)\n",
    "y = Dense(256, activation=\"relu\")(y)\n",
    "y = Dropout(0.3)(y)\n",
    "y = BatchNormalization()(y)\n",
    "y = Dense(256, activation=\"relu\")(y)\n",
    "y = Dropout(0.3)(y)\n",
    "y = BatchNormalization()(y)\n",
    "y = Model(inputs=inputB, outputs=y)\n",
    "\n",
    "# combine the output of the two branches\n",
    "combined = concatenate([x.output, y.output])\n",
    "\n",
    "# combined outputs\n",
    "z = Dense(128, activation=\"relu\")(combined)\n",
    "z = Dropout(0.3)(z)\n",
    "z = BatchNormalization()(z)\n",
    "z = Dense(10, activation=\"softmax\")(z)\n",
    "\n",
    "model = Model(inputs=[x.input, y.input], outputs=z)\n",
    "model.summary()"
   ]
  },
  {
   "cell_type": "code",
   "execution_count": 129,
   "id": "38c95e57",
   "metadata": {},
   "outputs": [],
   "source": [
    "opt = Adam(learning_rate=1e-3, decay=1e-3 / 200)\n",
    "model.compile(loss='categorical_crossentropy', metrics=['accuracy'], optimizer=opt)"
   ]
  },
  {
   "cell_type": "code",
   "execution_count": 130,
   "id": "fdc98f56",
   "metadata": {},
   "outputs": [
    {
     "name": "stdout",
     "output_type": "stream",
     "text": [
      "Epoch 1/200\n",
      "10/10 [==============================] - 2s 44ms/step - loss: 2.7093 - accuracy: 0.1565 - val_loss: 3.5932 - val_accuracy: 0.1813\n",
      "Epoch 2/200\n",
      "10/10 [==============================] - 0s 18ms/step - loss: 2.1175 - accuracy: 0.2879 - val_loss: 3.7348 - val_accuracy: 0.1875\n",
      "Epoch 3/200\n",
      "10/10 [==============================] - 0s 17ms/step - loss: 1.9295 - accuracy: 0.3568 - val_loss: 3.0090 - val_accuracy: 0.2313\n",
      "Epoch 4/200\n",
      "10/10 [==============================] - 0s 16ms/step - loss: 1.7564 - accuracy: 0.3944 - val_loss: 2.6611 - val_accuracy: 0.2625\n",
      "Epoch 5/200\n",
      "10/10 [==============================] - 0s 17ms/step - loss: 1.6480 - accuracy: 0.4085 - val_loss: 2.4734 - val_accuracy: 0.2875\n",
      "Epoch 6/200\n",
      "10/10 [==============================] - 0s 17ms/step - loss: 1.5505 - accuracy: 0.4413 - val_loss: 2.2467 - val_accuracy: 0.2937\n",
      "Epoch 7/200\n",
      "10/10 [==============================] - 0s 16ms/step - loss: 1.4419 - accuracy: 0.4930 - val_loss: 2.0527 - val_accuracy: 0.3187\n",
      "Epoch 8/200\n",
      "10/10 [==============================] - 0s 16ms/step - loss: 1.4204 - accuracy: 0.5086 - val_loss: 1.8901 - val_accuracy: 0.3375\n",
      "Epoch 9/200\n",
      "10/10 [==============================] - 0s 16ms/step - loss: 1.2896 - accuracy: 0.5509 - val_loss: 1.7569 - val_accuracy: 0.3438\n",
      "Epoch 10/200\n",
      "10/10 [==============================] - 0s 17ms/step - loss: 1.3361 - accuracy: 0.5258 - val_loss: 1.6967 - val_accuracy: 0.3875\n",
      "Epoch 11/200\n",
      "10/10 [==============================] - 0s 17ms/step - loss: 1.2829 - accuracy: 0.5274 - val_loss: 1.6663 - val_accuracy: 0.3938\n",
      "Epoch 12/200\n",
      "10/10 [==============================] - 0s 16ms/step - loss: 1.2333 - accuracy: 0.5509 - val_loss: 1.6138 - val_accuracy: 0.4062\n",
      "Epoch 13/200\n",
      "10/10 [==============================] - 0s 16ms/step - loss: 1.2645 - accuracy: 0.5477 - val_loss: 1.5761 - val_accuracy: 0.3938\n",
      "Epoch 14/200\n",
      "10/10 [==============================] - 0s 16ms/step - loss: 1.2056 - accuracy: 0.5681 - val_loss: 1.5626 - val_accuracy: 0.4000\n",
      "Epoch 15/200\n",
      "10/10 [==============================] - 0s 17ms/step - loss: 1.1067 - accuracy: 0.5947 - val_loss: 1.5518 - val_accuracy: 0.4375\n",
      "Epoch 16/200\n",
      "10/10 [==============================] - 0s 16ms/step - loss: 1.0651 - accuracy: 0.6244 - val_loss: 1.5611 - val_accuracy: 0.4500\n",
      "Epoch 17/200\n",
      "10/10 [==============================] - 0s 16ms/step - loss: 1.0491 - accuracy: 0.6150 - val_loss: 1.5786 - val_accuracy: 0.4187\n",
      "Epoch 18/200\n",
      "10/10 [==============================] - 0s 16ms/step - loss: 1.0566 - accuracy: 0.6260 - val_loss: 1.6132 - val_accuracy: 0.4563\n",
      "Epoch 19/200\n",
      "10/10 [==============================] - 0s 16ms/step - loss: 1.0409 - accuracy: 0.6369 - val_loss: 1.6278 - val_accuracy: 0.4750\n",
      "Epoch 20/200\n",
      "10/10 [==============================] - 0s 16ms/step - loss: 1.0072 - accuracy: 0.6369 - val_loss: 1.6246 - val_accuracy: 0.4563\n",
      "Epoch 21/200\n",
      "10/10 [==============================] - 0s 15ms/step - loss: 0.9398 - accuracy: 0.6635 - val_loss: 1.6303 - val_accuracy: 0.4563\n",
      "Epoch 22/200\n",
      "10/10 [==============================] - 0s 16ms/step - loss: 0.9323 - accuracy: 0.6620 - val_loss: 1.6286 - val_accuracy: 0.4688\n",
      "Epoch 23/200\n",
      "10/10 [==============================] - 0s 16ms/step - loss: 0.8906 - accuracy: 0.6808 - val_loss: 1.6543 - val_accuracy: 0.4688\n",
      "Epoch 24/200\n",
      "10/10 [==============================] - 0s 16ms/step - loss: 0.8918 - accuracy: 0.6995 - val_loss: 1.6593 - val_accuracy: 0.4625\n",
      "Epoch 25/200\n",
      "10/10 [==============================] - 0s 16ms/step - loss: 0.8674 - accuracy: 0.6901 - val_loss: 1.6561 - val_accuracy: 0.4688\n",
      "Epoch 26/200\n",
      "10/10 [==============================] - 0s 16ms/step - loss: 0.8464 - accuracy: 0.6839 - val_loss: 1.6834 - val_accuracy: 0.4625\n",
      "Epoch 27/200\n",
      "10/10 [==============================] - 0s 16ms/step - loss: 0.8826 - accuracy: 0.7011 - val_loss: 1.6755 - val_accuracy: 0.4688\n",
      "Epoch 28/200\n",
      "10/10 [==============================] - 0s 16ms/step - loss: 0.7909 - accuracy: 0.7167 - val_loss: 1.7258 - val_accuracy: 0.4375\n",
      "Epoch 29/200\n",
      "10/10 [==============================] - 0s 16ms/step - loss: 0.7935 - accuracy: 0.7293 - val_loss: 1.7411 - val_accuracy: 0.4437\n",
      "Epoch 30/200\n",
      "10/10 [==============================] - 0s 16ms/step - loss: 0.7303 - accuracy: 0.7684 - val_loss: 1.7938 - val_accuracy: 0.4437\n",
      "Epoch 31/200\n",
      "10/10 [==============================] - 0s 16ms/step - loss: 0.7653 - accuracy: 0.7371 - val_loss: 1.7585 - val_accuracy: 0.4250\n",
      "Epoch 32/200\n",
      "10/10 [==============================] - 0s 17ms/step - loss: 0.7465 - accuracy: 0.7418 - val_loss: 1.6748 - val_accuracy: 0.4563\n",
      "Epoch 33/200\n",
      "10/10 [==============================] - 0s 17ms/step - loss: 0.7032 - accuracy: 0.7512 - val_loss: 1.6384 - val_accuracy: 0.4750\n",
      "Epoch 34/200\n",
      "10/10 [==============================] - 0s 17ms/step - loss: 0.6766 - accuracy: 0.7543 - val_loss: 1.6524 - val_accuracy: 0.4500\n",
      "Epoch 35/200\n",
      "10/10 [==============================] - 0s 16ms/step - loss: 0.7031 - accuracy: 0.7355 - val_loss: 1.6832 - val_accuracy: 0.4500\n",
      "Epoch 36/200\n",
      "10/10 [==============================] - 0s 16ms/step - loss: 0.6572 - accuracy: 0.7700 - val_loss: 1.6642 - val_accuracy: 0.4875\n",
      "Epoch 37/200\n",
      "10/10 [==============================] - 0s 15ms/step - loss: 0.6691 - accuracy: 0.7621 - val_loss: 1.6161 - val_accuracy: 0.4875\n",
      "Epoch 38/200\n",
      "10/10 [==============================] - 0s 16ms/step - loss: 0.6099 - accuracy: 0.8044 - val_loss: 1.6869 - val_accuracy: 0.4750\n",
      "Epoch 39/200\n",
      "10/10 [==============================] - 0s 15ms/step - loss: 0.6141 - accuracy: 0.7872 - val_loss: 1.7389 - val_accuracy: 0.4688\n",
      "Epoch 40/200\n",
      "10/10 [==============================] - 0s 16ms/step - loss: 0.5855 - accuracy: 0.7919 - val_loss: 1.7045 - val_accuracy: 0.5063\n",
      "Epoch 41/200\n",
      "10/10 [==============================] - 0s 15ms/step - loss: 0.6447 - accuracy: 0.7637 - val_loss: 1.6018 - val_accuracy: 0.5063\n",
      "Epoch 42/200\n",
      "10/10 [==============================] - 0s 16ms/step - loss: 0.6125 - accuracy: 0.7981 - val_loss: 1.5793 - val_accuracy: 0.5188\n",
      "Epoch 43/200\n",
      "10/10 [==============================] - 0s 15ms/step - loss: 0.6004 - accuracy: 0.7934 - val_loss: 1.5886 - val_accuracy: 0.5125\n",
      "Epoch 44/200\n",
      "10/10 [==============================] - 0s 16ms/step - loss: 0.5825 - accuracy: 0.7825 - val_loss: 1.5821 - val_accuracy: 0.5000\n",
      "Epoch 45/200\n",
      "10/10 [==============================] - 0s 15ms/step - loss: 0.5277 - accuracy: 0.8247 - val_loss: 1.5743 - val_accuracy: 0.5437\n",
      "Epoch 46/200\n",
      "10/10 [==============================] - 0s 15ms/step - loss: 0.5379 - accuracy: 0.8232 - val_loss: 1.5381 - val_accuracy: 0.5312\n",
      "Epoch 47/200\n",
      "10/10 [==============================] - 0s 15ms/step - loss: 0.4740 - accuracy: 0.8513 - val_loss: 1.4895 - val_accuracy: 0.5500\n",
      "Epoch 48/200\n",
      "10/10 [==============================] - 0s 15ms/step - loss: 0.4789 - accuracy: 0.8326 - val_loss: 1.4785 - val_accuracy: 0.5188\n",
      "Epoch 49/200\n",
      "10/10 [==============================] - 0s 16ms/step - loss: 0.4969 - accuracy: 0.8247 - val_loss: 1.5725 - val_accuracy: 0.4938\n",
      "Epoch 50/200\n",
      "10/10 [==============================] - 0s 16ms/step - loss: 0.5221 - accuracy: 0.8106 - val_loss: 1.5073 - val_accuracy: 0.5437\n",
      "Epoch 51/200\n",
      "10/10 [==============================] - 0s 15ms/step - loss: 0.5064 - accuracy: 0.8216 - val_loss: 1.4692 - val_accuracy: 0.5500\n",
      "Epoch 52/200\n",
      "10/10 [==============================] - 0s 15ms/step - loss: 0.4505 - accuracy: 0.8529 - val_loss: 1.5171 - val_accuracy: 0.5437\n",
      "Epoch 53/200\n",
      "10/10 [==============================] - 0s 16ms/step - loss: 0.4568 - accuracy: 0.8576 - val_loss: 1.4792 - val_accuracy: 0.5688\n",
      "Epoch 54/200\n",
      "10/10 [==============================] - 0s 15ms/step - loss: 0.4455 - accuracy: 0.8451 - val_loss: 1.3647 - val_accuracy: 0.6125\n",
      "Epoch 55/200\n",
      "10/10 [==============================] - 0s 16ms/step - loss: 0.4349 - accuracy: 0.8482 - val_loss: 1.3432 - val_accuracy: 0.6000\n",
      "Epoch 56/200\n",
      "10/10 [==============================] - 0s 15ms/step - loss: 0.4331 - accuracy: 0.8670 - val_loss: 1.3151 - val_accuracy: 0.6250\n",
      "Epoch 57/200\n",
      "10/10 [==============================] - 0s 16ms/step - loss: 0.4060 - accuracy: 0.8576 - val_loss: 1.3124 - val_accuracy: 0.6375\n",
      "Epoch 58/200\n",
      "10/10 [==============================] - 0s 15ms/step - loss: 0.4044 - accuracy: 0.8638 - val_loss: 1.3267 - val_accuracy: 0.6250\n",
      "Epoch 59/200\n",
      "10/10 [==============================] - 0s 15ms/step - loss: 0.4149 - accuracy: 0.8654 - val_loss: 1.3083 - val_accuracy: 0.6250\n",
      "Epoch 60/200\n",
      "10/10 [==============================] - 0s 15ms/step - loss: 0.4315 - accuracy: 0.8732 - val_loss: 1.3328 - val_accuracy: 0.6125\n",
      "Epoch 61/200\n",
      "10/10 [==============================] - 0s 15ms/step - loss: 0.4333 - accuracy: 0.8451 - val_loss: 1.3339 - val_accuracy: 0.6187\n",
      "Epoch 62/200\n",
      "10/10 [==============================] - 0s 16ms/step - loss: 0.3464 - accuracy: 0.8920 - val_loss: 1.3176 - val_accuracy: 0.6500\n",
      "Epoch 63/200\n",
      "10/10 [==============================] - 0s 15ms/step - loss: 0.3505 - accuracy: 0.8936 - val_loss: 1.3107 - val_accuracy: 0.6375\n",
      "Epoch 64/200\n",
      "10/10 [==============================] - 0s 16ms/step - loss: 0.3557 - accuracy: 0.8858 - val_loss: 1.3815 - val_accuracy: 0.6125\n",
      "Epoch 65/200\n",
      "10/10 [==============================] - 0s 15ms/step - loss: 0.3601 - accuracy: 0.8920 - val_loss: 1.3977 - val_accuracy: 0.6062\n",
      "Epoch 66/200\n",
      "10/10 [==============================] - 0s 15ms/step - loss: 0.3613 - accuracy: 0.8905 - val_loss: 1.3135 - val_accuracy: 0.6250\n",
      "Epoch 67/200\n",
      "10/10 [==============================] - 0s 16ms/step - loss: 0.3667 - accuracy: 0.8670 - val_loss: 1.2602 - val_accuracy: 0.6438\n",
      "Epoch 68/200\n",
      "10/10 [==============================] - 0s 16ms/step - loss: 0.3527 - accuracy: 0.8701 - val_loss: 1.3157 - val_accuracy: 0.6313\n",
      "Epoch 69/200\n",
      "10/10 [==============================] - 0s 17ms/step - loss: 0.3524 - accuracy: 0.8858 - val_loss: 1.3834 - val_accuracy: 0.6125\n",
      "Epoch 70/200\n",
      "10/10 [==============================] - 0s 17ms/step - loss: 0.3425 - accuracy: 0.8795 - val_loss: 1.3661 - val_accuracy: 0.6313\n",
      "Epoch 71/200\n",
      "10/10 [==============================] - 0s 16ms/step - loss: 0.3193 - accuracy: 0.8748 - val_loss: 1.3646 - val_accuracy: 0.6625\n",
      "Epoch 72/200\n",
      "10/10 [==============================] - 0s 18ms/step - loss: 0.3384 - accuracy: 0.8920 - val_loss: 1.3408 - val_accuracy: 0.6313\n",
      "Epoch 73/200\n",
      "10/10 [==============================] - 0s 17ms/step - loss: 0.3316 - accuracy: 0.8967 - val_loss: 1.3219 - val_accuracy: 0.6375\n",
      "Epoch 74/200\n",
      "10/10 [==============================] - 0s 17ms/step - loss: 0.2950 - accuracy: 0.9045 - val_loss: 1.2886 - val_accuracy: 0.6250\n",
      "Epoch 75/200\n",
      "10/10 [==============================] - 0s 16ms/step - loss: 0.3110 - accuracy: 0.8951 - val_loss: 1.3087 - val_accuracy: 0.6687\n",
      "Epoch 76/200\n",
      "10/10 [==============================] - 0s 17ms/step - loss: 0.2844 - accuracy: 0.9155 - val_loss: 1.2997 - val_accuracy: 0.6750\n",
      "Epoch 77/200\n",
      "10/10 [==============================] - 0s 15ms/step - loss: 0.2825 - accuracy: 0.9092 - val_loss: 1.3102 - val_accuracy: 0.6625\n",
      "Epoch 78/200\n",
      "10/10 [==============================] - 0s 16ms/step - loss: 0.3174 - accuracy: 0.9045 - val_loss: 1.2900 - val_accuracy: 0.6687\n",
      "Epoch 79/200\n",
      "10/10 [==============================] - 0s 17ms/step - loss: 0.2748 - accuracy: 0.9202 - val_loss: 1.2910 - val_accuracy: 0.6500\n",
      "Epoch 80/200\n",
      "10/10 [==============================] - 0s 16ms/step - loss: 0.2690 - accuracy: 0.9186 - val_loss: 1.3163 - val_accuracy: 0.6500\n",
      "Epoch 81/200\n",
      "10/10 [==============================] - 0s 16ms/step - loss: 0.2786 - accuracy: 0.9171 - val_loss: 1.2904 - val_accuracy: 0.6562\n",
      "Epoch 82/200\n",
      "10/10 [==============================] - 0s 17ms/step - loss: 0.2833 - accuracy: 0.9030 - val_loss: 1.3001 - val_accuracy: 0.6250\n",
      "Epoch 83/200\n",
      "10/10 [==============================] - 0s 17ms/step - loss: 0.3158 - accuracy: 0.8936 - val_loss: 1.3350 - val_accuracy: 0.6313\n",
      "Epoch 84/200\n",
      "10/10 [==============================] - 0s 17ms/step - loss: 0.2673 - accuracy: 0.9045 - val_loss: 1.3705 - val_accuracy: 0.6250\n",
      "Epoch 85/200\n",
      "10/10 [==============================] - 0s 16ms/step - loss: 0.2624 - accuracy: 0.9139 - val_loss: 1.3323 - val_accuracy: 0.6438\n",
      "Epoch 86/200\n",
      "10/10 [==============================] - 0s 15ms/step - loss: 0.2211 - accuracy: 0.9390 - val_loss: 1.3028 - val_accuracy: 0.6625\n",
      "Epoch 87/200\n",
      "10/10 [==============================] - 0s 15ms/step - loss: 0.2486 - accuracy: 0.9171 - val_loss: 1.3420 - val_accuracy: 0.6313\n",
      "Epoch 88/200\n",
      "10/10 [==============================] - 0s 15ms/step - loss: 0.2383 - accuracy: 0.9202 - val_loss: 1.3857 - val_accuracy: 0.6062\n",
      "Epoch 89/200\n",
      "10/10 [==============================] - 0s 17ms/step - loss: 0.2455 - accuracy: 0.9186 - val_loss: 1.4323 - val_accuracy: 0.6125\n",
      "Epoch 90/200\n",
      "10/10 [==============================] - 0s 17ms/step - loss: 0.2519 - accuracy: 0.9249 - val_loss: 1.4447 - val_accuracy: 0.6375\n",
      "Epoch 91/200\n",
      "10/10 [==============================] - 0s 16ms/step - loss: 0.2417 - accuracy: 0.9108 - val_loss: 1.4121 - val_accuracy: 0.6250\n",
      "Epoch 92/200\n",
      "10/10 [==============================] - 0s 16ms/step - loss: 0.2806 - accuracy: 0.8889 - val_loss: 1.4024 - val_accuracy: 0.6375\n",
      "Epoch 93/200\n",
      "10/10 [==============================] - 0s 15ms/step - loss: 0.2147 - accuracy: 0.9390 - val_loss: 1.4475 - val_accuracy: 0.6375\n",
      "Epoch 94/200\n",
      "10/10 [==============================] - 0s 16ms/step - loss: 0.2390 - accuracy: 0.9202 - val_loss: 1.4144 - val_accuracy: 0.6187\n",
      "Epoch 95/200\n",
      "10/10 [==============================] - 0s 17ms/step - loss: 0.2485 - accuracy: 0.9155 - val_loss: 1.3153 - val_accuracy: 0.6313\n",
      "Epoch 96/200\n",
      "10/10 [==============================] - 0s 16ms/step - loss: 0.2357 - accuracy: 0.9171 - val_loss: 1.3208 - val_accuracy: 0.6250\n",
      "Epoch 97/200\n",
      "10/10 [==============================] - 0s 18ms/step - loss: 0.2242 - accuracy: 0.9218 - val_loss: 1.4014 - val_accuracy: 0.6250\n",
      "Epoch 98/200\n",
      "10/10 [==============================] - 0s 17ms/step - loss: 0.2465 - accuracy: 0.9124 - val_loss: 1.3998 - val_accuracy: 0.6500\n",
      "Epoch 99/200\n",
      "10/10 [==============================] - 0s 16ms/step - loss: 0.2080 - accuracy: 0.9311 - val_loss: 1.4155 - val_accuracy: 0.6375\n",
      "Epoch 100/200\n",
      "10/10 [==============================] - 0s 16ms/step - loss: 0.2095 - accuracy: 0.9343 - val_loss: 1.4215 - val_accuracy: 0.6250\n",
      "Epoch 101/200\n",
      "10/10 [==============================] - 0s 15ms/step - loss: 0.2038 - accuracy: 0.9218 - val_loss: 1.4275 - val_accuracy: 0.6438\n",
      "Epoch 102/200\n",
      "10/10 [==============================] - 0s 15ms/step - loss: 0.2322 - accuracy: 0.9014 - val_loss: 1.3905 - val_accuracy: 0.6375\n",
      "Epoch 103/200\n",
      "10/10 [==============================] - 0s 16ms/step - loss: 0.2219 - accuracy: 0.9218 - val_loss: 1.3584 - val_accuracy: 0.6187\n",
      "Epoch 104/200\n",
      "10/10 [==============================] - 0s 16ms/step - loss: 0.2162 - accuracy: 0.9296 - val_loss: 1.3890 - val_accuracy: 0.6313\n",
      "Epoch 105/200\n",
      "10/10 [==============================] - 0s 15ms/step - loss: 0.2047 - accuracy: 0.9374 - val_loss: 1.4229 - val_accuracy: 0.6125\n",
      "Epoch 106/200\n",
      "10/10 [==============================] - 0s 15ms/step - loss: 0.2377 - accuracy: 0.9155 - val_loss: 1.4470 - val_accuracy: 0.6062\n",
      "Epoch 107/200\n",
      "10/10 [==============================] - 0s 16ms/step - loss: 0.2111 - accuracy: 0.9186 - val_loss: 1.4396 - val_accuracy: 0.6250\n",
      "Epoch 108/200\n",
      "10/10 [==============================] - 0s 16ms/step - loss: 0.1957 - accuracy: 0.9358 - val_loss: 1.4367 - val_accuracy: 0.6062\n",
      "Epoch 109/200\n",
      "10/10 [==============================] - 0s 15ms/step - loss: 0.2295 - accuracy: 0.9233 - val_loss: 1.3895 - val_accuracy: 0.6500\n",
      "Epoch 110/200\n",
      "10/10 [==============================] - 0s 16ms/step - loss: 0.2012 - accuracy: 0.9249 - val_loss: 1.4059 - val_accuracy: 0.6500\n",
      "Epoch 111/200\n",
      "10/10 [==============================] - 0s 16ms/step - loss: 0.2201 - accuracy: 0.9280 - val_loss: 1.4051 - val_accuracy: 0.6562\n",
      "Epoch 112/200\n",
      "10/10 [==============================] - 0s 15ms/step - loss: 0.1849 - accuracy: 0.9452 - val_loss: 1.4590 - val_accuracy: 0.6562\n",
      "Epoch 113/200\n",
      "10/10 [==============================] - 0s 15ms/step - loss: 0.1905 - accuracy: 0.9421 - val_loss: 1.4828 - val_accuracy: 0.6250\n",
      "Epoch 114/200\n",
      "10/10 [==============================] - 0s 15ms/step - loss: 0.1758 - accuracy: 0.9405 - val_loss: 1.4906 - val_accuracy: 0.6438\n",
      "Epoch 115/200\n"
     ]
    },
    {
     "name": "stdout",
     "output_type": "stream",
     "text": [
      "10/10 [==============================] - 0s 16ms/step - loss: 0.2083 - accuracy: 0.9311 - val_loss: 1.5144 - val_accuracy: 0.6438\n",
      "Epoch 116/200\n",
      "10/10 [==============================] - 0s 15ms/step - loss: 0.1696 - accuracy: 0.9499 - val_loss: 1.4979 - val_accuracy: 0.6500\n",
      "Epoch 117/200\n",
      "10/10 [==============================] - 0s 15ms/step - loss: 0.1796 - accuracy: 0.9452 - val_loss: 1.4401 - val_accuracy: 0.6625\n",
      "Epoch 118/200\n",
      "10/10 [==============================] - 0s 15ms/step - loss: 0.1770 - accuracy: 0.9421 - val_loss: 1.4429 - val_accuracy: 0.6750\n",
      "Epoch 119/200\n",
      "10/10 [==============================] - 0s 15ms/step - loss: 0.1530 - accuracy: 0.9531 - val_loss: 1.4825 - val_accuracy: 0.6438\n",
      "Epoch 120/200\n",
      "10/10 [==============================] - 0s 15ms/step - loss: 0.2069 - accuracy: 0.9280 - val_loss: 1.4750 - val_accuracy: 0.6187\n",
      "Epoch 121/200\n",
      "10/10 [==============================] - 0s 15ms/step - loss: 0.1494 - accuracy: 0.9484 - val_loss: 1.4654 - val_accuracy: 0.6375\n",
      "Epoch 122/200\n",
      "10/10 [==============================] - 0s 15ms/step - loss: 0.2117 - accuracy: 0.9249 - val_loss: 1.5205 - val_accuracy: 0.6375\n",
      "Epoch 123/200\n",
      "10/10 [==============================] - 0s 15ms/step - loss: 0.1957 - accuracy: 0.9374 - val_loss: 1.6321 - val_accuracy: 0.6000\n",
      "Epoch 124/200\n",
      "10/10 [==============================] - 0s 15ms/step - loss: 0.1784 - accuracy: 0.9327 - val_loss: 1.6371 - val_accuracy: 0.6125\n",
      "Epoch 125/200\n",
      "10/10 [==============================] - 0s 16ms/step - loss: 0.1655 - accuracy: 0.9405 - val_loss: 1.5631 - val_accuracy: 0.6313\n",
      "Epoch 126/200\n",
      "10/10 [==============================] - 0s 16ms/step - loss: 0.1600 - accuracy: 0.9452 - val_loss: 1.5142 - val_accuracy: 0.6438\n",
      "Epoch 127/200\n",
      "10/10 [==============================] - 0s 17ms/step - loss: 0.1690 - accuracy: 0.9531 - val_loss: 1.4967 - val_accuracy: 0.6375\n",
      "Epoch 128/200\n",
      "10/10 [==============================] - 0s 18ms/step - loss: 0.1629 - accuracy: 0.9499 - val_loss: 1.5045 - val_accuracy: 0.6313\n",
      "Epoch 129/200\n",
      "10/10 [==============================] - 0s 19ms/step - loss: 0.1784 - accuracy: 0.9374 - val_loss: 1.5085 - val_accuracy: 0.6313\n",
      "Epoch 130/200\n",
      "10/10 [==============================] - 0s 18ms/step - loss: 0.1441 - accuracy: 0.9546 - val_loss: 1.5362 - val_accuracy: 0.6375\n",
      "Epoch 131/200\n",
      "10/10 [==============================] - 0s 17ms/step - loss: 0.1463 - accuracy: 0.9484 - val_loss: 1.6188 - val_accuracy: 0.6375\n",
      "Epoch 132/200\n",
      "10/10 [==============================] - 0s 18ms/step - loss: 0.1519 - accuracy: 0.9499 - val_loss: 1.6098 - val_accuracy: 0.6750\n",
      "Epoch 133/200\n",
      "10/10 [==============================] - 0s 16ms/step - loss: 0.1584 - accuracy: 0.9499 - val_loss: 1.5911 - val_accuracy: 0.6750\n",
      "Epoch 134/200\n",
      "10/10 [==============================] - 0s 17ms/step - loss: 0.1819 - accuracy: 0.9358 - val_loss: 1.5604 - val_accuracy: 0.6812\n",
      "Epoch 135/200\n",
      "10/10 [==============================] - 0s 17ms/step - loss: 0.1459 - accuracy: 0.9593 - val_loss: 1.5361 - val_accuracy: 0.6625\n",
      "Epoch 136/200\n",
      "10/10 [==============================] - 0s 15ms/step - loss: 0.1917 - accuracy: 0.9405 - val_loss: 1.5083 - val_accuracy: 0.6625\n",
      "Epoch 137/200\n",
      "10/10 [==============================] - 0s 15ms/step - loss: 0.1717 - accuracy: 0.9437 - val_loss: 1.4846 - val_accuracy: 0.6500\n",
      "Epoch 138/200\n",
      "10/10 [==============================] - 0s 15ms/step - loss: 0.1541 - accuracy: 0.9546 - val_loss: 1.4726 - val_accuracy: 0.6375\n",
      "Epoch 139/200\n",
      "10/10 [==============================] - 0s 15ms/step - loss: 0.1503 - accuracy: 0.9531 - val_loss: 1.5006 - val_accuracy: 0.6438\n",
      "Epoch 140/200\n",
      "10/10 [==============================] - 0s 15ms/step - loss: 0.1669 - accuracy: 0.9484 - val_loss: 1.5295 - val_accuracy: 0.6562\n",
      "Epoch 141/200\n",
      "10/10 [==============================] - 0s 15ms/step - loss: 0.1547 - accuracy: 0.9452 - val_loss: 1.5743 - val_accuracy: 0.6187\n",
      "Epoch 142/200\n",
      "10/10 [==============================] - 0s 15ms/step - loss: 0.1918 - accuracy: 0.9280 - val_loss: 1.5872 - val_accuracy: 0.6062\n",
      "Epoch 143/200\n",
      "10/10 [==============================] - 0s 15ms/step - loss: 0.1637 - accuracy: 0.9358 - val_loss: 1.6478 - val_accuracy: 0.6187\n",
      "Epoch 144/200\n",
      "10/10 [==============================] - 0s 15ms/step - loss: 0.1569 - accuracy: 0.9515 - val_loss: 1.6547 - val_accuracy: 0.6062\n",
      "Epoch 145/200\n",
      "10/10 [==============================] - 0s 16ms/step - loss: 0.1795 - accuracy: 0.9421 - val_loss: 1.6477 - val_accuracy: 0.6375\n",
      "Epoch 146/200\n",
      "10/10 [==============================] - 0s 15ms/step - loss: 0.1749 - accuracy: 0.9437 - val_loss: 1.6655 - val_accuracy: 0.6313\n",
      "Epoch 147/200\n",
      "10/10 [==============================] - 0s 15ms/step - loss: 0.1349 - accuracy: 0.9562 - val_loss: 1.6500 - val_accuracy: 0.6562\n",
      "Epoch 148/200\n",
      "10/10 [==============================] - 0s 16ms/step - loss: 0.1297 - accuracy: 0.9499 - val_loss: 1.6912 - val_accuracy: 0.6313\n",
      "Epoch 149/200\n",
      "10/10 [==============================] - 0s 15ms/step - loss: 0.1647 - accuracy: 0.9577 - val_loss: 1.6817 - val_accuracy: 0.6375\n",
      "Epoch 150/200\n",
      "10/10 [==============================] - 0s 15ms/step - loss: 0.1450 - accuracy: 0.9577 - val_loss: 1.6129 - val_accuracy: 0.6313\n",
      "Epoch 151/200\n",
      "10/10 [==============================] - 0s 15ms/step - loss: 0.1344 - accuracy: 0.9546 - val_loss: 1.6061 - val_accuracy: 0.6313\n",
      "Epoch 152/200\n",
      "10/10 [==============================] - 0s 16ms/step - loss: 0.1254 - accuracy: 0.9593 - val_loss: 1.6374 - val_accuracy: 0.6438\n",
      "Epoch 153/200\n",
      "10/10 [==============================] - 0s 15ms/step - loss: 0.1518 - accuracy: 0.9515 - val_loss: 1.6917 - val_accuracy: 0.6187\n",
      "Epoch 154/200\n",
      "10/10 [==============================] - 0s 15ms/step - loss: 0.1636 - accuracy: 0.9390 - val_loss: 1.5849 - val_accuracy: 0.6187\n",
      "Epoch 155/200\n",
      "10/10 [==============================] - 0s 16ms/step - loss: 0.1482 - accuracy: 0.9484 - val_loss: 1.5636 - val_accuracy: 0.5938\n",
      "Epoch 156/200\n",
      "10/10 [==============================] - 0s 16ms/step - loss: 0.1168 - accuracy: 0.9593 - val_loss: 1.5607 - val_accuracy: 0.6125\n",
      "Epoch 157/200\n",
      "10/10 [==============================] - 0s 16ms/step - loss: 0.1478 - accuracy: 0.9515 - val_loss: 1.5633 - val_accuracy: 0.6187\n",
      "Epoch 158/200\n",
      "10/10 [==============================] - 0s 16ms/step - loss: 0.1231 - accuracy: 0.9609 - val_loss: 1.5339 - val_accuracy: 0.6313\n",
      "Epoch 159/200\n",
      "10/10 [==============================] - 0s 16ms/step - loss: 0.1315 - accuracy: 0.9484 - val_loss: 1.5811 - val_accuracy: 0.6625\n",
      "Epoch 160/200\n",
      "10/10 [==============================] - 0s 16ms/step - loss: 0.1615 - accuracy: 0.9484 - val_loss: 1.6721 - val_accuracy: 0.6500\n",
      "Epoch 161/200\n",
      "10/10 [==============================] - 0s 16ms/step - loss: 0.1251 - accuracy: 0.9515 - val_loss: 1.6667 - val_accuracy: 0.6500\n",
      "Epoch 162/200\n",
      "10/10 [==============================] - 0s 16ms/step - loss: 0.1570 - accuracy: 0.9484 - val_loss: 1.5857 - val_accuracy: 0.6313\n",
      "Epoch 163/200\n",
      "10/10 [==============================] - 0s 17ms/step - loss: 0.1554 - accuracy: 0.9562 - val_loss: 1.6078 - val_accuracy: 0.6438\n",
      "Epoch 164/200\n",
      "10/10 [==============================] - 0s 17ms/step - loss: 0.1436 - accuracy: 0.9515 - val_loss: 1.5726 - val_accuracy: 0.6500\n",
      "Epoch 165/200\n",
      "10/10 [==============================] - 0s 16ms/step - loss: 0.1267 - accuracy: 0.9531 - val_loss: 1.5627 - val_accuracy: 0.6562\n",
      "Epoch 166/200\n",
      "10/10 [==============================] - 0s 15ms/step - loss: 0.1540 - accuracy: 0.9405 - val_loss: 1.5604 - val_accuracy: 0.6625\n",
      "Epoch 167/200\n",
      "10/10 [==============================] - 0s 16ms/step - loss: 0.1290 - accuracy: 0.9609 - val_loss: 1.6145 - val_accuracy: 0.6562\n",
      "Epoch 168/200\n",
      "10/10 [==============================] - 0s 16ms/step - loss: 0.1532 - accuracy: 0.9405 - val_loss: 1.6805 - val_accuracy: 0.6313\n",
      "Epoch 169/200\n",
      "10/10 [==============================] - 0s 16ms/step - loss: 0.1443 - accuracy: 0.9468 - val_loss: 1.7218 - val_accuracy: 0.6562\n",
      "Epoch 170/200\n",
      "10/10 [==============================] - 0s 16ms/step - loss: 0.1375 - accuracy: 0.9484 - val_loss: 1.6867 - val_accuracy: 0.6625\n",
      "Epoch 171/200\n",
      "10/10 [==============================] - 0s 16ms/step - loss: 0.1290 - accuracy: 0.9640 - val_loss: 1.6312 - val_accuracy: 0.6562\n"
     ]
    },
    {
     "name": "stdout",
     "output_type": "stream",
     "text": [
      "Epoch 172/200\n",
      "10/10 [==============================] - 0s 15ms/step - loss: 0.1563 - accuracy: 0.9468 - val_loss: 1.6984 - val_accuracy: 0.6187\n",
      "Epoch 173/200\n",
      "10/10 [==============================] - 0s 16ms/step - loss: 0.1270 - accuracy: 0.9593 - val_loss: 1.6642 - val_accuracy: 0.6438\n",
      "Epoch 174/200\n",
      "10/10 [==============================] - 0s 16ms/step - loss: 0.0876 - accuracy: 0.9797 - val_loss: 1.7081 - val_accuracy: 0.6250\n",
      "Epoch 175/200\n",
      "10/10 [==============================] - 0s 15ms/step - loss: 0.1326 - accuracy: 0.9515 - val_loss: 1.7311 - val_accuracy: 0.6375\n",
      "Epoch 176/200\n",
      "10/10 [==============================] - 0s 17ms/step - loss: 0.1260 - accuracy: 0.9577 - val_loss: 1.7650 - val_accuracy: 0.6375\n",
      "Epoch 177/200\n",
      "10/10 [==============================] - 0s 15ms/step - loss: 0.1236 - accuracy: 0.9687 - val_loss: 1.7355 - val_accuracy: 0.6375\n",
      "Epoch 178/200\n",
      "10/10 [==============================] - 0s 15ms/step - loss: 0.1219 - accuracy: 0.9609 - val_loss: 1.7214 - val_accuracy: 0.6313\n",
      "Epoch 179/200\n",
      "10/10 [==============================] - 0s 15ms/step - loss: 0.1157 - accuracy: 0.9624 - val_loss: 1.6355 - val_accuracy: 0.6875\n",
      "Epoch 180/200\n",
      "10/10 [==============================] - 0s 15ms/step - loss: 0.1308 - accuracy: 0.9515 - val_loss: 1.6093 - val_accuracy: 0.6625\n",
      "Epoch 181/200\n",
      "10/10 [==============================] - 0s 15ms/step - loss: 0.1132 - accuracy: 0.9609 - val_loss: 1.6372 - val_accuracy: 0.6562\n",
      "Epoch 182/200\n",
      "10/10 [==============================] - 0s 15ms/step - loss: 0.1275 - accuracy: 0.9609 - val_loss: 1.6776 - val_accuracy: 0.6250\n",
      "Epoch 183/200\n",
      "10/10 [==============================] - 0s 15ms/step - loss: 0.1240 - accuracy: 0.9609 - val_loss: 1.7148 - val_accuracy: 0.6250\n",
      "Epoch 184/200\n",
      "10/10 [==============================] - 0s 15ms/step - loss: 0.1328 - accuracy: 0.9593 - val_loss: 1.7452 - val_accuracy: 0.6687\n",
      "Epoch 185/200\n",
      "10/10 [==============================] - 0s 16ms/step - loss: 0.1170 - accuracy: 0.9640 - val_loss: 1.6918 - val_accuracy: 0.6687\n",
      "Epoch 186/200\n",
      "10/10 [==============================] - 0s 15ms/step - loss: 0.1115 - accuracy: 0.9624 - val_loss: 1.6970 - val_accuracy: 0.6313\n",
      "Epoch 187/200\n",
      "10/10 [==============================] - 0s 18ms/step - loss: 0.1265 - accuracy: 0.9562 - val_loss: 1.6807 - val_accuracy: 0.6313\n",
      "Epoch 188/200\n",
      "10/10 [==============================] - 0s 18ms/step - loss: 0.1228 - accuracy: 0.9609 - val_loss: 1.7047 - val_accuracy: 0.6562\n",
      "Epoch 189/200\n",
      "10/10 [==============================] - 0s 18ms/step - loss: 0.1084 - accuracy: 0.9640 - val_loss: 1.7088 - val_accuracy: 0.6438\n",
      "Epoch 190/200\n",
      "10/10 [==============================] - 0s 19ms/step - loss: 0.0989 - accuracy: 0.9687 - val_loss: 1.7266 - val_accuracy: 0.6750\n",
      "Epoch 191/200\n",
      "10/10 [==============================] - 0s 18ms/step - loss: 0.0797 - accuracy: 0.9687 - val_loss: 1.7835 - val_accuracy: 0.6250\n",
      "Epoch 192/200\n",
      "10/10 [==============================] - 0s 19ms/step - loss: 0.0979 - accuracy: 0.9734 - val_loss: 1.8009 - val_accuracy: 0.6250\n",
      "Epoch 193/200\n",
      "10/10 [==============================] - 0s 18ms/step - loss: 0.0833 - accuracy: 0.9734 - val_loss: 1.7459 - val_accuracy: 0.6750\n",
      "Epoch 194/200\n",
      "10/10 [==============================] - 0s 17ms/step - loss: 0.0985 - accuracy: 0.9640 - val_loss: 1.7747 - val_accuracy: 0.6250\n",
      "Epoch 195/200\n",
      "10/10 [==============================] - 0s 19ms/step - loss: 0.1372 - accuracy: 0.9484 - val_loss: 1.7365 - val_accuracy: 0.6313\n",
      "Epoch 196/200\n",
      "10/10 [==============================] - 0s 19ms/step - loss: 0.0988 - accuracy: 0.9609 - val_loss: 1.7402 - val_accuracy: 0.6313\n",
      "Epoch 197/200\n",
      "10/10 [==============================] - 0s 19ms/step - loss: 0.0879 - accuracy: 0.9750 - val_loss: 1.7882 - val_accuracy: 0.6062\n",
      "Epoch 198/200\n",
      "10/10 [==============================] - 0s 15ms/step - loss: 0.1050 - accuracy: 0.9640 - val_loss: 1.7937 - val_accuracy: 0.6625\n",
      "Epoch 199/200\n",
      "10/10 [==============================] - 0s 16ms/step - loss: 0.1081 - accuracy: 0.9609 - val_loss: 1.7781 - val_accuracy: 0.6625\n",
      "Epoch 200/200\n",
      "10/10 [==============================] - 0s 15ms/step - loss: 0.1188 - accuracy: 0.9640 - val_loss: 1.7274 - val_accuracy: 0.6500\n"
     ]
    },
    {
     "data": {
      "text/plain": [
       "<keras.callbacks.History at 0x1b48f0ff9a0>"
      ]
     },
     "execution_count": 130,
     "metadata": {},
     "output_type": "execute_result"
    }
   ],
   "source": [
    "model.fit(x=[X1_train, X2_train], y=y_train, validation_split=0.2, epochs=200, batch_size=64)"
   ]
  },
  {
   "cell_type": "code",
   "execution_count": 131,
   "id": "9f317810",
   "metadata": {},
   "outputs": [
    {
     "data": {
      "image/png": "[encoded data removed]",
      "text/plain": [
       "<Figure size 576x432 with 1 Axes>"
      ]
     },
     "metadata": {
      "needs_background": "light"
     },
     "output_type": "display_data"
    }
   ],
   "source": [
    "plot_acc(model.history)"
   ]
  },
  {
   "cell_type": "code",
   "execution_count": 132,
   "id": "1272a35c",
   "metadata": {},
   "outputs": [
    {
     "data": {
      "image/png": "[encoded data removed]",
      "text/plain": [
       "<Figure size 576x432 with 1 Axes>"
      ]
     },
     "metadata": {
      "needs_background": "light"
     },
     "output_type": "display_data"
    }
   ],
   "source": [
    "plot_loss(model.history)"
   ]
  },
  {
   "cell_type": "code",
   "execution_count": 133,
   "id": "24cd2909",
   "metadata": {},
   "outputs": [
    {
     "name": "stdout",
     "output_type": "stream",
     "text": [
      "7/7 [==============================] - 0s 7ms/step - loss: 2.0082 - accuracy: 0.6550\n",
      "Test Accuracy: 0.6549999713897705\n"
     ]
    }
   ],
   "source": [
    "test_accuracy = model.evaluate([X1_test, X2_test], y_test)\n",
    "print(\"Test Accuracy:\", test_accuracy[1])"
   ]
  },
  {
   "cell_type": "code",
   "execution_count": 134,
   "id": "d473e828",
   "metadata": {},
   "outputs": [],
   "source": [
    "model.save_weights('../Models/checkpoints/mfcc_chroma_combined')"
   ]
  },
  {
   "cell_type": "code",
   "execution_count": 135,
   "id": "956d5788",
   "metadata": {
    "scrolled": true
   },
   "outputs": [
    {
     "name": "stdout",
     "output_type": "stream",
     "text": [
      "INFO:tensorflow:Assets written to: ../Models/saved_models/mfcc_chroma_combined\\assets\n"
     ]
    }
   ],
   "source": [
    "model.save('../Models/saved_models/mfcc_chroma_combined')"
   ]
  },
  {
   "cell_type": "markdown",
   "id": "537fcf45",
   "metadata": {},
   "source": [
    "## Mel Spectrogram data and extracted features"
   ]
  },
  {
   "cell_type": "code",
   "execution_count": 7,
   "id": "e1feef29",
   "metadata": {},
   "outputs": [
    {
     "data": {
      "text/html": [
       "<div>\n",
       "<style scoped>\n",
       "    .dataframe tbody tr th:only-of-type {\n",
       "        vertical-align: middle;\n",
       "    }\n",
       "\n",
       "    .dataframe tbody tr th {\n",
       "        vertical-align: top;\n",
       "    }\n",
       "\n",
       "    .dataframe thead th {\n",
       "        text-align: right;\n",
       "    }\n",
       "</style>\n",
       "<table border=\"1\" class=\"dataframe\">\n",
       "  <thead>\n",
       "    <tr style=\"text-align: right;\">\n",
       "      <th></th>\n",
       "      <th>filename</th>\n",
       "      <th>length</th>\n",
       "      <th>chroma_stft_mean</th>\n",
       "      <th>chroma_stft_var</th>\n",
       "      <th>rms_mean</th>\n",
       "      <th>rms_var</th>\n",
       "      <th>spectral_centroid_mean</th>\n",
       "      <th>spectral_centroid_var</th>\n",
       "      <th>spectral_bandwidth_mean</th>\n",
       "      <th>spectral_bandwidth_var</th>\n",
       "      <th>...</th>\n",
       "      <th>mfcc16_var</th>\n",
       "      <th>mfcc17_mean</th>\n",
       "      <th>mfcc17_var</th>\n",
       "      <th>mfcc18_mean</th>\n",
       "      <th>mfcc18_var</th>\n",
       "      <th>mfcc19_mean</th>\n",
       "      <th>mfcc19_var</th>\n",
       "      <th>mfcc20_mean</th>\n",
       "      <th>mfcc20_var</th>\n",
       "      <th>label</th>\n",
       "    </tr>\n",
       "  </thead>\n",
       "  <tbody>\n",
       "    <tr>\n",
       "      <th>0</th>\n",
       "      <td>blues.00000.wav</td>\n",
       "      <td>661794</td>\n",
       "      <td>0.350088</td>\n",
       "      <td>0.088757</td>\n",
       "      <td>0.130228</td>\n",
       "      <td>0.002827</td>\n",
       "      <td>1784.165850</td>\n",
       "      <td>129774.064525</td>\n",
       "      <td>2002.449060</td>\n",
       "      <td>85882.761315</td>\n",
       "      <td>...</td>\n",
       "      <td>52.420910</td>\n",
       "      <td>-1.690215</td>\n",
       "      <td>36.524071</td>\n",
       "      <td>-0.408979</td>\n",
       "      <td>41.597103</td>\n",
       "      <td>-2.303523</td>\n",
       "      <td>55.062923</td>\n",
       "      <td>1.221291</td>\n",
       "      <td>46.936035</td>\n",
       "      <td>blues</td>\n",
       "    </tr>\n",
       "    <tr>\n",
       "      <th>1</th>\n",
       "      <td>blues.00001.wav</td>\n",
       "      <td>661794</td>\n",
       "      <td>0.340914</td>\n",
       "      <td>0.094980</td>\n",
       "      <td>0.095948</td>\n",
       "      <td>0.002373</td>\n",
       "      <td>1530.176679</td>\n",
       "      <td>375850.073649</td>\n",
       "      <td>2039.036516</td>\n",
       "      <td>213843.755497</td>\n",
       "      <td>...</td>\n",
       "      <td>55.356403</td>\n",
       "      <td>-0.731125</td>\n",
       "      <td>60.314529</td>\n",
       "      <td>0.295073</td>\n",
       "      <td>48.120598</td>\n",
       "      <td>-0.283518</td>\n",
       "      <td>51.106190</td>\n",
       "      <td>0.531217</td>\n",
       "      <td>45.786282</td>\n",
       "      <td>blues</td>\n",
       "    </tr>\n",
       "    <tr>\n",
       "      <th>2</th>\n",
       "      <td>blues.00002.wav</td>\n",
       "      <td>661794</td>\n",
       "      <td>0.363637</td>\n",
       "      <td>0.085275</td>\n",
       "      <td>0.175570</td>\n",
       "      <td>0.002746</td>\n",
       "      <td>1552.811865</td>\n",
       "      <td>156467.643368</td>\n",
       "      <td>1747.702312</td>\n",
       "      <td>76254.192257</td>\n",
       "      <td>...</td>\n",
       "      <td>40.598766</td>\n",
       "      <td>-7.729093</td>\n",
       "      <td>47.639427</td>\n",
       "      <td>-1.816407</td>\n",
       "      <td>52.382141</td>\n",
       "      <td>-3.439720</td>\n",
       "      <td>46.639660</td>\n",
       "      <td>-2.231258</td>\n",
       "      <td>30.573025</td>\n",
       "      <td>blues</td>\n",
       "    </tr>\n",
       "    <tr>\n",
       "      <th>3</th>\n",
       "      <td>blues.00003.wav</td>\n",
       "      <td>661794</td>\n",
       "      <td>0.404785</td>\n",
       "      <td>0.093999</td>\n",
       "      <td>0.141093</td>\n",
       "      <td>0.006346</td>\n",
       "      <td>1070.106615</td>\n",
       "      <td>184355.942417</td>\n",
       "      <td>1596.412872</td>\n",
       "      <td>166441.494769</td>\n",
       "      <td>...</td>\n",
       "      <td>44.427753</td>\n",
       "      <td>-3.319597</td>\n",
       "      <td>50.206673</td>\n",
       "      <td>0.636965</td>\n",
       "      <td>37.319130</td>\n",
       "      <td>-0.619121</td>\n",
       "      <td>37.259739</td>\n",
       "      <td>-3.407448</td>\n",
       "      <td>31.949339</td>\n",
       "      <td>blues</td>\n",
       "    </tr>\n",
       "    <tr>\n",
       "      <th>4</th>\n",
       "      <td>blues.00004.wav</td>\n",
       "      <td>661794</td>\n",
       "      <td>0.308526</td>\n",
       "      <td>0.087841</td>\n",
       "      <td>0.091529</td>\n",
       "      <td>0.002303</td>\n",
       "      <td>1835.004266</td>\n",
       "      <td>343399.939274</td>\n",
       "      <td>1748.172116</td>\n",
       "      <td>88445.209036</td>\n",
       "      <td>...</td>\n",
       "      <td>86.099236</td>\n",
       "      <td>-5.454034</td>\n",
       "      <td>75.269707</td>\n",
       "      <td>-0.916874</td>\n",
       "      <td>53.613918</td>\n",
       "      <td>-4.404827</td>\n",
       "      <td>62.910812</td>\n",
       "      <td>-11.703234</td>\n",
       "      <td>55.195160</td>\n",
       "      <td>blues</td>\n",
       "    </tr>\n",
       "  </tbody>\n",
       "</table>\n",
       "<p>5 rows × 60 columns</p>\n",
       "</div>"
      ],
      "text/plain": [
       "          filename  length  chroma_stft_mean  chroma_stft_var  rms_mean  \\\n",
       "0  blues.00000.wav  661794          0.350088         0.088757  0.130228   \n",
       "1  blues.00001.wav  661794          0.340914         0.094980  0.095948   \n",
       "2  blues.00002.wav  661794          0.363637         0.085275  0.175570   \n",
       "3  blues.00003.wav  661794          0.404785         0.093999  0.141093   \n",
       "4  blues.00004.wav  661794          0.308526         0.087841  0.091529   \n",
       "\n",
       "    rms_var  spectral_centroid_mean  spectral_centroid_var  \\\n",
       "0  0.002827             1784.165850          129774.064525   \n",
       "1  0.002373             1530.176679          375850.073649   \n",
       "2  0.002746             1552.811865          156467.643368   \n",
       "3  0.006346             1070.106615          184355.942417   \n",
       "4  0.002303             1835.004266          343399.939274   \n",
       "\n",
       "   spectral_bandwidth_mean  spectral_bandwidth_var  ...  mfcc16_var  \\\n",
       "0              2002.449060            85882.761315  ...   52.420910   \n",
       "1              2039.036516           213843.755497  ...   55.356403   \n",
       "2              1747.702312            76254.192257  ...   40.598766   \n",
       "3              1596.412872           166441.494769  ...   44.427753   \n",
       "4              1748.172116            88445.209036  ...   86.099236   \n",
       "\n",
       "   mfcc17_mean  mfcc17_var  mfcc18_mean  mfcc18_var  mfcc19_mean  mfcc19_var  \\\n",
       "0    -1.690215   36.524071    -0.408979   41.597103    -2.303523   55.062923   \n",
       "1    -0.731125   60.314529     0.295073   48.120598    -0.283518   51.106190   \n",
       "2    -7.729093   47.639427    -1.816407   52.382141    -3.439720   46.639660   \n",
       "3    -3.319597   50.206673     0.636965   37.319130    -0.619121   37.259739   \n",
       "4    -5.454034   75.269707    -0.916874   53.613918    -4.404827   62.910812   \n",
       "\n",
       "   mfcc20_mean  mfcc20_var  label  \n",
       "0     1.221291   46.936035  blues  \n",
       "1     0.531217   45.786282  blues  \n",
       "2    -2.231258   30.573025  blues  \n",
       "3    -3.407448   31.949339  blues  \n",
       "4   -11.703234   55.195160  blues  \n",
       "\n",
       "[5 rows x 60 columns]"
      ]
     },
     "execution_count": 7,
     "metadata": {},
     "output_type": "execute_result"
    }
   ],
   "source": [
    "df_mel = pd.read_csv('../Data/features_30_sec.csv')\n",
    "df_mel.head()"
   ]
  },
  {
   "cell_type": "code",
   "execution_count": 8,
   "id": "c23324da",
   "metadata": {},
   "outputs": [
    {
     "data": {
      "text/plain": [
       "(1000, 60)"
      ]
     },
     "execution_count": 8,
     "metadata": {},
     "output_type": "execute_result"
    }
   ],
   "source": [
    "df_mel.shape"
   ]
  },
  {
   "cell_type": "code",
   "execution_count": 9,
   "id": "237b9273",
   "metadata": {
    "scrolled": true
   },
   "outputs": [
    {
     "name": "stdout",
     "output_type": "stream",
     "text": [
      "<class 'pandas.core.frame.DataFrame'>\n",
      "RangeIndex: 1000 entries, 0 to 999\n",
      "Data columns (total 60 columns):\n",
      " #   Column                   Non-Null Count  Dtype  \n",
      "---  ------                   --------------  -----  \n",
      " 0   filename                 1000 non-null   object \n",
      " 1   length                   1000 non-null   int64  \n",
      " 2   chroma_stft_mean         1000 non-null   float64\n",
      " 3   chroma_stft_var          1000 non-null   float64\n",
      " 4   rms_mean                 1000 non-null   float64\n",
      " 5   rms_var                  1000 non-null   float64\n",
      " 6   spectral_centroid_mean   1000 non-null   float64\n",
      " 7   spectral_centroid_var    1000 non-null   float64\n",
      " 8   spectral_bandwidth_mean  1000 non-null   float64\n",
      " 9   spectral_bandwidth_var   1000 non-null   float64\n",
      " 10  rolloff_mean             1000 non-null   float64\n",
      " 11  rolloff_var              1000 non-null   float64\n",
      " 12  zero_crossing_rate_mean  1000 non-null   float64\n",
      " 13  zero_crossing_rate_var   1000 non-null   float64\n",
      " 14  harmony_mean             1000 non-null   float64\n",
      " 15  harmony_var              1000 non-null   float64\n",
      " 16  perceptr_mean            1000 non-null   float64\n",
      " 17  perceptr_var             1000 non-null   float64\n",
      " 18  tempo                    1000 non-null   float64\n",
      " 19  mfcc1_mean               1000 non-null   float64\n",
      " 20  mfcc1_var                1000 non-null   float64\n",
      " 21  mfcc2_mean               1000 non-null   float64\n",
      " 22  mfcc2_var                1000 non-null   float64\n",
      " 23  mfcc3_mean               1000 non-null   float64\n",
      " 24  mfcc3_var                1000 non-null   float64\n",
      " 25  mfcc4_mean               1000 non-null   float64\n",
      " 26  mfcc4_var                1000 non-null   float64\n",
      " 27  mfcc5_mean               1000 non-null   float64\n",
      " 28  mfcc5_var                1000 non-null   float64\n",
      " 29  mfcc6_mean               1000 non-null   float64\n",
      " 30  mfcc6_var                1000 non-null   float64\n",
      " 31  mfcc7_mean               1000 non-null   float64\n",
      " 32  mfcc7_var                1000 non-null   float64\n",
      " 33  mfcc8_mean               1000 non-null   float64\n",
      " 34  mfcc8_var                1000 non-null   float64\n",
      " 35  mfcc9_mean               1000 non-null   float64\n",
      " 36  mfcc9_var                1000 non-null   float64\n",
      " 37  mfcc10_mean              1000 non-null   float64\n",
      " 38  mfcc10_var               1000 non-null   float64\n",
      " 39  mfcc11_mean              1000 non-null   float64\n",
      " 40  mfcc11_var               1000 non-null   float64\n",
      " 41  mfcc12_mean              1000 non-null   float64\n",
      " 42  mfcc12_var               1000 non-null   float64\n",
      " 43  mfcc13_mean              1000 non-null   float64\n",
      " 44  mfcc13_var               1000 non-null   float64\n",
      " 45  mfcc14_mean              1000 non-null   float64\n",
      " 46  mfcc14_var               1000 non-null   float64\n",
      " 47  mfcc15_mean              1000 non-null   float64\n",
      " 48  mfcc15_var               1000 non-null   float64\n",
      " 49  mfcc16_mean              1000 non-null   float64\n",
      " 50  mfcc16_var               1000 non-null   float64\n",
      " 51  mfcc17_mean              1000 non-null   float64\n",
      " 52  mfcc17_var               1000 non-null   float64\n",
      " 53  mfcc18_mean              1000 non-null   float64\n",
      " 54  mfcc18_var               1000 non-null   float64\n",
      " 55  mfcc19_mean              1000 non-null   float64\n",
      " 56  mfcc19_var               1000 non-null   float64\n",
      " 57  mfcc20_mean              1000 non-null   float64\n",
      " 58  mfcc20_var               1000 non-null   float64\n",
      " 59  label                    1000 non-null   object \n",
      "dtypes: float64(57), int64(1), object(2)\n",
      "memory usage: 468.9+ KB\n"
     ]
    }
   ],
   "source": [
    "df_mel.info()"
   ]
  },
  {
   "cell_type": "markdown",
   "id": "9582adb8",
   "metadata": {},
   "source": [
    "## Combined Image and Extracted Features as input"
   ]
  },
  {
   "cell_type": "code",
   "execution_count": 8,
   "id": "58f130bc",
   "metadata": {},
   "outputs": [
    {
     "data": {
      "text/html": [
       "<div>\n",
       "<style scoped>\n",
       "    .dataframe tbody tr th:only-of-type {\n",
       "        vertical-align: middle;\n",
       "    }\n",
       "\n",
       "    .dataframe tbody tr th {\n",
       "        vertical-align: top;\n",
       "    }\n",
       "\n",
       "    .dataframe thead th {\n",
       "        text-align: right;\n",
       "    }\n",
       "</style>\n",
       "<table border=\"1\" class=\"dataframe\">\n",
       "  <thead>\n",
       "    <tr style=\"text-align: right;\">\n",
       "      <th></th>\n",
       "      <th>features</th>\n",
       "      <th>class</th>\n",
       "    </tr>\n",
       "  </thead>\n",
       "  <tbody>\n",
       "    <tr>\n",
       "      <th>0</th>\n",
       "      <td>[-113.59882, 121.57067, -19.162262, 42.363937,...</td>\n",
       "      <td>blues</td>\n",
       "    </tr>\n",
       "    <tr>\n",
       "      <th>1</th>\n",
       "      <td>[-207.52383, 123.98514, 8.94702, 35.86715, 2.9...</td>\n",
       "      <td>blues</td>\n",
       "    </tr>\n",
       "    <tr>\n",
       "      <th>2</th>\n",
       "      <td>[-90.757164, 140.44087, -29.084547, 31.686691,...</td>\n",
       "      <td>blues</td>\n",
       "    </tr>\n",
       "    <tr>\n",
       "      <th>3</th>\n",
       "      <td>[-199.57513, 150.0861, 5.663404, 26.855278, 1....</td>\n",
       "      <td>blues</td>\n",
       "    </tr>\n",
       "    <tr>\n",
       "      <th>4</th>\n",
       "      <td>[-160.35417, 126.209496, -35.581394, 22.139256...</td>\n",
       "      <td>blues</td>\n",
       "    </tr>\n",
       "  </tbody>\n",
       "</table>\n",
       "</div>"
      ],
      "text/plain": [
       "                                            features  class\n",
       "0  [-113.59882, 121.57067, -19.162262, 42.363937,...  blues\n",
       "1  [-207.52383, 123.98514, 8.94702, 35.86715, 2.9...  blues\n",
       "2  [-90.757164, 140.44087, -29.084547, 31.686691,...  blues\n",
       "3  [-199.57513, 150.0861, 5.663404, 26.855278, 1....  blues\n",
       "4  [-160.35417, 126.209496, -35.581394, 22.139256...  blues"
      ]
     },
     "execution_count": 8,
     "metadata": {},
     "output_type": "execute_result"
    }
   ],
   "source": [
    "df = pd.read_csv(\"../Datasets/Extracted_Features.csv\")\n",
    "df.head()"
   ]
  },
  {
   "cell_type": "code",
   "execution_count": 9,
   "id": "dd2105e1",
   "metadata": {},
   "outputs": [],
   "source": [
    "df['features'] = df['features'].apply(lambda x: np.array(x[1:-1].split(', '), dtype='float64'))"
   ]
  },
  {
   "cell_type": "code",
   "execution_count": 10,
   "id": "22df0ae3",
   "metadata": {},
   "outputs": [],
   "source": [
    "X1 = np.array(df['features'].tolist())\n",
    "y1 = np.array(df['class'].tolist())"
   ]
  },
  {
   "cell_type": "code",
   "execution_count": 11,
   "id": "09cfab8c",
   "metadata": {},
   "outputs": [],
   "source": [
    "label_encoder = LabelEncoder()\n",
    "y1 = to_categorical(label_encoder.fit_transform(y1))"
   ]
  },
  {
   "cell_type": "code",
   "execution_count": 12,
   "id": "39bf5f64",
   "metadata": {},
   "outputs": [
    {
     "data": {
      "text/plain": [
       "((999, 40), (999, 10))"
      ]
     },
     "execution_count": 12,
     "metadata": {},
     "output_type": "execute_result"
    }
   ],
   "source": [
    "X1.shape, y1.shape"
   ]
  },
  {
   "cell_type": "code",
   "execution_count": 13,
   "id": "b319bd26",
   "metadata": {},
   "outputs": [],
   "source": [
    "X1_train, X1_test, y1_train, y1_test = train_test_split(X1, y1, test_size=0.2, random_state=101)"
   ]
  },
  {
   "cell_type": "code",
   "execution_count": 14,
   "id": "57570172",
   "metadata": {},
   "outputs": [
    {
     "data": {
      "text/plain": [
       "10"
      ]
     },
     "execution_count": 14,
     "metadata": {},
     "output_type": "execute_result"
    }
   ],
   "source": [
    "num_classes = y1.shape[1]\n",
    "num_classes"
   ]
  },
  {
   "cell_type": "code",
   "execution_count": 15,
   "id": "8afffa8d",
   "metadata": {},
   "outputs": [],
   "source": [
    "image_dataset_path = \"../Data/images_original/\""
   ]
  },
  {
   "cell_type": "code",
   "execution_count": 16,
   "id": "7a93102b",
   "metadata": {},
   "outputs": [
    {
     "data": {
      "text/html": [
       "<div>\n",
       "<style scoped>\n",
       "    .dataframe tbody tr th:only-of-type {\n",
       "        vertical-align: middle;\n",
       "    }\n",
       "\n",
       "    .dataframe tbody tr th {\n",
       "        vertical-align: top;\n",
       "    }\n",
       "\n",
       "    .dataframe thead th {\n",
       "        text-align: right;\n",
       "    }\n",
       "</style>\n",
       "<table border=\"1\" class=\"dataframe\">\n",
       "  <thead>\n",
       "    <tr style=\"text-align: right;\">\n",
       "      <th></th>\n",
       "      <th>filename</th>\n",
       "      <th>length</th>\n",
       "      <th>chroma_stft_mean</th>\n",
       "      <th>chroma_stft_var</th>\n",
       "      <th>rms_mean</th>\n",
       "      <th>rms_var</th>\n",
       "      <th>spectral_centroid_mean</th>\n",
       "      <th>spectral_centroid_var</th>\n",
       "      <th>spectral_bandwidth_mean</th>\n",
       "      <th>spectral_bandwidth_var</th>\n",
       "      <th>...</th>\n",
       "      <th>mfcc16_var</th>\n",
       "      <th>mfcc17_mean</th>\n",
       "      <th>mfcc17_var</th>\n",
       "      <th>mfcc18_mean</th>\n",
       "      <th>mfcc18_var</th>\n",
       "      <th>mfcc19_mean</th>\n",
       "      <th>mfcc19_var</th>\n",
       "      <th>mfcc20_mean</th>\n",
       "      <th>mfcc20_var</th>\n",
       "      <th>label</th>\n",
       "    </tr>\n",
       "  </thead>\n",
       "  <tbody>\n",
       "    <tr>\n",
       "      <th>0</th>\n",
       "      <td>blues.00000.wav</td>\n",
       "      <td>661794</td>\n",
       "      <td>0.350088</td>\n",
       "      <td>0.088757</td>\n",
       "      <td>0.130228</td>\n",
       "      <td>0.002827</td>\n",
       "      <td>1784.165850</td>\n",
       "      <td>129774.064525</td>\n",
       "      <td>2002.449060</td>\n",
       "      <td>85882.761315</td>\n",
       "      <td>...</td>\n",
       "      <td>52.420910</td>\n",
       "      <td>-1.690215</td>\n",
       "      <td>36.524071</td>\n",
       "      <td>-0.408979</td>\n",
       "      <td>41.597103</td>\n",
       "      <td>-2.303523</td>\n",
       "      <td>55.062923</td>\n",
       "      <td>1.221291</td>\n",
       "      <td>46.936035</td>\n",
       "      <td>blues</td>\n",
       "    </tr>\n",
       "    <tr>\n",
       "      <th>1</th>\n",
       "      <td>blues.00001.wav</td>\n",
       "      <td>661794</td>\n",
       "      <td>0.340914</td>\n",
       "      <td>0.094980</td>\n",
       "      <td>0.095948</td>\n",
       "      <td>0.002373</td>\n",
       "      <td>1530.176679</td>\n",
       "      <td>375850.073649</td>\n",
       "      <td>2039.036516</td>\n",
       "      <td>213843.755497</td>\n",
       "      <td>...</td>\n",
       "      <td>55.356403</td>\n",
       "      <td>-0.731125</td>\n",
       "      <td>60.314529</td>\n",
       "      <td>0.295073</td>\n",
       "      <td>48.120598</td>\n",
       "      <td>-0.283518</td>\n",
       "      <td>51.106190</td>\n",
       "      <td>0.531217</td>\n",
       "      <td>45.786282</td>\n",
       "      <td>blues</td>\n",
       "    </tr>\n",
       "    <tr>\n",
       "      <th>2</th>\n",
       "      <td>blues.00002.wav</td>\n",
       "      <td>661794</td>\n",
       "      <td>0.363637</td>\n",
       "      <td>0.085275</td>\n",
       "      <td>0.175570</td>\n",
       "      <td>0.002746</td>\n",
       "      <td>1552.811865</td>\n",
       "      <td>156467.643368</td>\n",
       "      <td>1747.702312</td>\n",
       "      <td>76254.192257</td>\n",
       "      <td>...</td>\n",
       "      <td>40.598766</td>\n",
       "      <td>-7.729093</td>\n",
       "      <td>47.639427</td>\n",
       "      <td>-1.816407</td>\n",
       "      <td>52.382141</td>\n",
       "      <td>-3.439720</td>\n",
       "      <td>46.639660</td>\n",
       "      <td>-2.231258</td>\n",
       "      <td>30.573025</td>\n",
       "      <td>blues</td>\n",
       "    </tr>\n",
       "    <tr>\n",
       "      <th>3</th>\n",
       "      <td>blues.00003.wav</td>\n",
       "      <td>661794</td>\n",
       "      <td>0.404785</td>\n",
       "      <td>0.093999</td>\n",
       "      <td>0.141093</td>\n",
       "      <td>0.006346</td>\n",
       "      <td>1070.106615</td>\n",
       "      <td>184355.942417</td>\n",
       "      <td>1596.412872</td>\n",
       "      <td>166441.494769</td>\n",
       "      <td>...</td>\n",
       "      <td>44.427753</td>\n",
       "      <td>-3.319597</td>\n",
       "      <td>50.206673</td>\n",
       "      <td>0.636965</td>\n",
       "      <td>37.319130</td>\n",
       "      <td>-0.619121</td>\n",
       "      <td>37.259739</td>\n",
       "      <td>-3.407448</td>\n",
       "      <td>31.949339</td>\n",
       "      <td>blues</td>\n",
       "    </tr>\n",
       "    <tr>\n",
       "      <th>4</th>\n",
       "      <td>blues.00004.wav</td>\n",
       "      <td>661794</td>\n",
       "      <td>0.308526</td>\n",
       "      <td>0.087841</td>\n",
       "      <td>0.091529</td>\n",
       "      <td>0.002303</td>\n",
       "      <td>1835.004266</td>\n",
       "      <td>343399.939274</td>\n",
       "      <td>1748.172116</td>\n",
       "      <td>88445.209036</td>\n",
       "      <td>...</td>\n",
       "      <td>86.099236</td>\n",
       "      <td>-5.454034</td>\n",
       "      <td>75.269707</td>\n",
       "      <td>-0.916874</td>\n",
       "      <td>53.613918</td>\n",
       "      <td>-4.404827</td>\n",
       "      <td>62.910812</td>\n",
       "      <td>-11.703234</td>\n",
       "      <td>55.195160</td>\n",
       "      <td>blues</td>\n",
       "    </tr>\n",
       "  </tbody>\n",
       "</table>\n",
       "<p>5 rows × 60 columns</p>\n",
       "</div>"
      ],
      "text/plain": [
       "          filename  length  chroma_stft_mean  chroma_stft_var  rms_mean  \\\n",
       "0  blues.00000.wav  661794          0.350088         0.088757  0.130228   \n",
       "1  blues.00001.wav  661794          0.340914         0.094980  0.095948   \n",
       "2  blues.00002.wav  661794          0.363637         0.085275  0.175570   \n",
       "3  blues.00003.wav  661794          0.404785         0.093999  0.141093   \n",
       "4  blues.00004.wav  661794          0.308526         0.087841  0.091529   \n",
       "\n",
       "    rms_var  spectral_centroid_mean  spectral_centroid_var  \\\n",
       "0  0.002827             1784.165850          129774.064525   \n",
       "1  0.002373             1530.176679          375850.073649   \n",
       "2  0.002746             1552.811865          156467.643368   \n",
       "3  0.006346             1070.106615          184355.942417   \n",
       "4  0.002303             1835.004266          343399.939274   \n",
       "\n",
       "   spectral_bandwidth_mean  spectral_bandwidth_var  ...  mfcc16_var  \\\n",
       "0              2002.449060            85882.761315  ...   52.420910   \n",
       "1              2039.036516           213843.755497  ...   55.356403   \n",
       "2              1747.702312            76254.192257  ...   40.598766   \n",
       "3              1596.412872           166441.494769  ...   44.427753   \n",
       "4              1748.172116            88445.209036  ...   86.099236   \n",
       "\n",
       "   mfcc17_mean  mfcc17_var  mfcc18_mean  mfcc18_var  mfcc19_mean  mfcc19_var  \\\n",
       "0    -1.690215   36.524071    -0.408979   41.597103    -2.303523   55.062923   \n",
       "1    -0.731125   60.314529     0.295073   48.120598    -0.283518   51.106190   \n",
       "2    -7.729093   47.639427    -1.816407   52.382141    -3.439720   46.639660   \n",
       "3    -3.319597   50.206673     0.636965   37.319130    -0.619121   37.259739   \n",
       "4    -5.454034   75.269707    -0.916874   53.613918    -4.404827   62.910812   \n",
       "\n",
       "   mfcc20_mean  mfcc20_var  label  \n",
       "0     1.221291   46.936035  blues  \n",
       "1     0.531217   45.786282  blues  \n",
       "2    -2.231258   30.573025  blues  \n",
       "3    -3.407448   31.949339  blues  \n",
       "4   -11.703234   55.195160  blues  \n",
       "\n",
       "[5 rows x 60 columns]"
      ]
     },
     "execution_count": 16,
     "metadata": {},
     "output_type": "execute_result"
    }
   ],
   "source": [
    "metadata = pd.read_csv('../Data/features_30_sec.csv')\n",
    "metadata.head()"
   ]
  },
  {
   "cell_type": "code",
   "execution_count": 17,
   "id": "dd4703cc",
   "metadata": {},
   "outputs": [
    {
     "data": {
      "text/plain": [
       "'blues00000.png'"
      ]
     },
     "execution_count": 17,
     "metadata": {},
     "output_type": "execute_result"
    }
   ],
   "source": [
    "img_name = ''.join(metadata['filename'].iloc[0].split('.')[0:-1])+'.png'\n",
    "img_name"
   ]
  },
  {
   "cell_type": "code",
   "execution_count": 18,
   "id": "c92e9720",
   "metadata": {},
   "outputs": [],
   "source": [
    "image = Image.open('../Data/images_original/blues/'+img_name).convert('L')"
   ]
  },
  {
   "cell_type": "code",
   "execution_count": 19,
   "id": "390d5a5c",
   "metadata": {},
   "outputs": [
    {
     "data": {
      "image/png": "[encoded data removed]",
      "text/plain": [
       "<PIL.Image.Image image mode=L size=432x288>"
      ]
     },
     "execution_count": 19,
     "metadata": {},
     "output_type": "execute_result"
    }
   ],
   "source": [
    "image"
   ]
  },
  {
   "cell_type": "code",
   "execution_count": 20,
   "id": "1badf61a",
   "metadata": {
    "scrolled": true
   },
   "outputs": [],
   "source": [
    "image\n",
    "image = image.resize((48, 32))\n",
    "data = np.asarray(image)\n",
    "data = data.reshape(48, 32, 1)"
   ]
  },
  {
   "cell_type": "code",
   "execution_count": 21,
   "id": "0e9d9565",
   "metadata": {},
   "outputs": [
    {
     "data": {
      "text/plain": [
       "(48, 32, 1)"
      ]
     },
     "execution_count": 21,
     "metadata": {},
     "output_type": "execute_result"
    }
   ],
   "source": [
    "data.shape"
   ]
  },
  {
   "cell_type": "code",
   "execution_count": 22,
   "id": "12cf2d2a",
   "metadata": {},
   "outputs": [
    {
     "data": {
      "image/png": "[encoded data removed]",
      "text/plain": [
       "<PIL.Image.Image image mode=L size=48x32>"
      ]
     },
     "execution_count": 22,
     "metadata": {},
     "output_type": "execute_result"
    }
   ],
   "source": [
    "image"
   ]
  },
  {
   "cell_type": "code",
   "execution_count": 23,
   "id": "a773b3cc",
   "metadata": {},
   "outputs": [
    {
     "name": "stderr",
     "output_type": "stream",
     "text": [
      "1000it [00:01, 533.89it/s]\n"
     ]
    }
   ],
   "source": [
    "X = []\n",
    "y = []\n",
    "for index_num, row in tqdm(metadata.iterrows()):\n",
    "    try:\n",
    "        img_name = ''.join(row['filename'].split('.')[0:-1])+'.png'\n",
    "        file_name = os.path.join(os.path.abspath(image_dataset_path), str(row[\"label\"])+\"/\", img_name)\n",
    "        final_class_label = row[\"label\"]\n",
    "        img = Image.open(file_name).convert('L')\n",
    "        img = img.resize((48, 32))\n",
    "        data = np.asarray(img)\n",
    "        data = data.reshape(48, 32, 1)\n",
    "        X.append(data)\n",
    "        y.append(final_class_label)\n",
    "    except:\n",
    "        pass"
   ]
  },
  {
   "cell_type": "code",
   "execution_count": 24,
   "id": "be901bed",
   "metadata": {},
   "outputs": [
    {
     "data": {
      "text/plain": [
       "999"
      ]
     },
     "execution_count": 24,
     "metadata": {},
     "output_type": "execute_result"
    }
   ],
   "source": [
    "len(X)"
   ]
  },
  {
   "cell_type": "code",
   "execution_count": 25,
   "id": "ec33c473",
   "metadata": {},
   "outputs": [
    {
     "data": {
      "text/plain": [
       "(999, 48, 32, 1)"
      ]
     },
     "execution_count": 25,
     "metadata": {},
     "output_type": "execute_result"
    }
   ],
   "source": [
    "X = np.array(X)\n",
    "X.shape"
   ]
  },
  {
   "cell_type": "code",
   "execution_count": 26,
   "id": "071b9992",
   "metadata": {},
   "outputs": [
    {
     "data": {
      "text/plain": [
       "(999,)"
      ]
     },
     "execution_count": 26,
     "metadata": {},
     "output_type": "execute_result"
    }
   ],
   "source": [
    "y = np.array(y)\n",
    "y.shape"
   ]
  },
  {
   "cell_type": "code",
   "execution_count": 27,
   "id": "f8792755",
   "metadata": {},
   "outputs": [],
   "source": [
    "label_encoder = LabelEncoder()\n",
    "y = to_categorical(label_encoder.fit_transform(y))"
   ]
  },
  {
   "cell_type": "code",
   "execution_count": 28,
   "id": "267712ec",
   "metadata": {},
   "outputs": [],
   "source": [
    "X2_train, X2_test, y2_train, y2_test = train_test_split(X, y, test_size=0.2, random_state=101)"
   ]
  },
  {
   "cell_type": "code",
   "execution_count": 29,
   "id": "1743d77d",
   "metadata": {},
   "outputs": [],
   "source": [
    "X2_train = X2_train / 255\n",
    "X2_test = X2_test / 255"
   ]
  },
  {
   "cell_type": "code",
   "execution_count": 30,
   "id": "137f83ea",
   "metadata": {},
   "outputs": [
    {
     "data": {
      "text/plain": [
       "((799, 48, 32, 1), (799, 10))"
      ]
     },
     "execution_count": 30,
     "metadata": {},
     "output_type": "execute_result"
    }
   ],
   "source": [
    "X2_train.shape, y2_train.shape"
   ]
  },
  {
   "cell_type": "code",
   "execution_count": 31,
   "id": "2c72e99d",
   "metadata": {},
   "outputs": [
    {
     "data": {
      "text/plain": [
       "(799, 40)"
      ]
     },
     "execution_count": 31,
     "metadata": {},
     "output_type": "execute_result"
    }
   ],
   "source": [
    "X1_train.shape"
   ]
  },
  {
   "cell_type": "code",
   "execution_count": 32,
   "id": "f37d8d91",
   "metadata": {},
   "outputs": [
    {
     "data": {
      "text/plain": [
       "(array([0., 0., 0., 0., 0., 0., 0., 0., 0., 1.], dtype=float32),\n",
       " array([0., 0., 0., 0., 0., 0., 0., 0., 0., 1.], dtype=float32))"
      ]
     },
     "execution_count": 32,
     "metadata": {},
     "output_type": "execute_result"
    }
   ],
   "source": [
    "y1_train[0], y2_train[0]"
   ]
  },
  {
   "cell_type": "code",
   "execution_count": 33,
   "id": "64907bf5",
   "metadata": {},
   "outputs": [],
   "source": [
    "from tensorflow.keras.layers import Conv2D, MaxPool2D"
   ]
  },
  {
   "cell_type": "code",
   "execution_count": 64,
   "id": "739cdb00",
   "metadata": {},
   "outputs": [
    {
     "name": "stdout",
     "output_type": "stream",
     "text": [
      "Model: \"sequential_9\"\n",
      "_________________________________________________________________\n",
      " Layer (type)                Output Shape              Param #   \n",
      "=================================================================\n",
      " conv2d_13 (Conv2D)          (None, 44, 28, 64)        1664      \n",
      "                                                                 \n",
      " max_pooling2d_10 (MaxPoolin  (None, 22, 14, 64)       0         \n",
      " g2D)                                                            \n",
      "                                                                 \n",
      " dropout_32 (Dropout)        (None, 22, 14, 64)        0         \n",
      "                                                                 \n",
      " batch_normalization_31 (Bat  (None, 22, 14, 64)       256       \n",
      " chNormalization)                                                \n",
      "                                                                 \n",
      " flatten_9 (Flatten)         (None, 19712)             0         \n",
      "                                                                 \n",
      " dense_31 (Dense)            (None, 128)               2523264   \n",
      "                                                                 \n",
      " dropout_33 (Dropout)        (None, 128)               0         \n",
      "                                                                 \n",
      " batch_normalization_32 (Bat  (None, 128)              512       \n",
      " chNormalization)                                                \n",
      "                                                                 \n",
      " dense_32 (Dense)            (None, 256)               33024     \n",
      "                                                                 \n",
      " dropout_34 (Dropout)        (None, 256)               0         \n",
      "                                                                 \n",
      " batch_normalization_33 (Bat  (None, 256)              1024      \n",
      " chNormalization)                                                \n",
      "                                                                 \n",
      " dense_33 (Dense)            (None, 256)               65792     \n",
      "                                                                 \n",
      " dropout_35 (Dropout)        (None, 256)               0         \n",
      "                                                                 \n",
      " batch_normalization_34 (Bat  (None, 256)              1024      \n",
      " chNormalization)                                                \n",
      "                                                                 \n",
      " dense_34 (Dense)            (None, 10)                2570      \n",
      "                                                                 \n",
      "=================================================================\n",
      "Total params: 2,629,130\n",
      "Trainable params: 2,627,722\n",
      "Non-trainable params: 1,408\n",
      "_________________________________________________________________\n"
     ]
    }
   ],
   "source": [
    "model = Sequential()\n",
    "\n",
    "model.add(Conv2D(64, (5, 5), activation='relu', input_shape=(48, 32, 1, )))\n",
    "model.add(MaxPool2D((2, 2)))\n",
    "model.add(Dropout(0.4))\n",
    "model.add(BatchNormalization())\n",
    "\n",
    "model.add(Flatten())\n",
    "\n",
    "model.add(Dense(128, activation='relu'))\n",
    "model.add(Dropout(0.4))\n",
    "model.add(BatchNormalization())\n",
    "model.add(Dense(256, activation='relu'))\n",
    "model.add(Dropout(0.4))\n",
    "model.add(BatchNormalization())\n",
    "model.add(Dense(256, activation='relu'))\n",
    "model.add(Dropout(0.3))\n",
    "model.add(BatchNormalization())\n",
    "model.add(Dense(10, activation='softmax'))\n",
    "\n",
    "model.compile(loss='categorical_crossentropy', metrics=['accuracy'], optimizer='adam')\n",
    "model.summary()"
   ]
  },
  {
   "cell_type": "code",
   "execution_count": 68,
   "id": "05bfecdb",
   "metadata": {
    "scrolled": true
   },
   "outputs": [
    {
     "name": "stdout",
     "output_type": "stream",
     "text": [
      "Epoch 1/150\n",
      "10/10 [==============================] - 0s 20ms/step - loss: 1.3521 - accuracy: 0.4820 - val_loss: 1.6118 - val_accuracy: 0.4313\n",
      "Epoch 2/150\n",
      "10/10 [==============================] - 0s 13ms/step - loss: 1.3180 - accuracy: 0.5258 - val_loss: 1.5227 - val_accuracy: 0.4625\n",
      "Epoch 3/150\n",
      "10/10 [==============================] - 0s 13ms/step - loss: 1.3283 - accuracy: 0.5117 - val_loss: 1.4871 - val_accuracy: 0.4812\n",
      "Epoch 4/150\n",
      "10/10 [==============================] - 0s 13ms/step - loss: 1.3277 - accuracy: 0.5149 - val_loss: 1.5131 - val_accuracy: 0.4875\n",
      "Epoch 5/150\n",
      "10/10 [==============================] - 0s 12ms/step - loss: 1.3818 - accuracy: 0.4992 - val_loss: 1.5174 - val_accuracy: 0.4625\n",
      "Epoch 6/150\n",
      "10/10 [==============================] - 0s 12ms/step - loss: 1.3931 - accuracy: 0.4867 - val_loss: 1.7763 - val_accuracy: 0.3688\n",
      "Epoch 7/150\n",
      "10/10 [==============================] - 0s 12ms/step - loss: 1.3141 - accuracy: 0.5149 - val_loss: 1.4783 - val_accuracy: 0.4875\n",
      "Epoch 8/150\n",
      "10/10 [==============================] - 0s 12ms/step - loss: 1.3427 - accuracy: 0.5336 - val_loss: 1.5678 - val_accuracy: 0.4375\n",
      "Epoch 9/150\n",
      "10/10 [==============================] - 0s 12ms/step - loss: 1.3024 - accuracy: 0.5196 - val_loss: 1.4666 - val_accuracy: 0.4750\n",
      "Epoch 10/150\n",
      "10/10 [==============================] - 0s 12ms/step - loss: 1.3381 - accuracy: 0.5133 - val_loss: 1.5330 - val_accuracy: 0.4187\n",
      "Epoch 11/150\n",
      "10/10 [==============================] - 0s 13ms/step - loss: 1.3673 - accuracy: 0.4945 - val_loss: 1.4908 - val_accuracy: 0.4938\n",
      "Epoch 12/150\n",
      "10/10 [==============================] - 0s 12ms/step - loss: 1.3597 - accuracy: 0.4820 - val_loss: 1.5732 - val_accuracy: 0.4625\n",
      "Epoch 13/150\n",
      "10/10 [==============================] - 0s 12ms/step - loss: 1.3751 - accuracy: 0.4836 - val_loss: 1.6118 - val_accuracy: 0.4125\n",
      "Epoch 14/150\n",
      "10/10 [==============================] - 0s 12ms/step - loss: 1.3637 - accuracy: 0.4851 - val_loss: 1.6994 - val_accuracy: 0.3750\n",
      "Epoch 15/150\n",
      "10/10 [==============================] - 0s 13ms/step - loss: 1.3949 - accuracy: 0.4961 - val_loss: 1.5787 - val_accuracy: 0.4062\n",
      "Epoch 16/150\n",
      "10/10 [==============================] - 0s 12ms/step - loss: 1.3399 - accuracy: 0.4820 - val_loss: 1.6868 - val_accuracy: 0.4062\n",
      "Epoch 17/150\n",
      "10/10 [==============================] - 0s 13ms/step - loss: 1.3175 - accuracy: 0.5023 - val_loss: 1.4773 - val_accuracy: 0.4625\n",
      "Epoch 18/150\n",
      "10/10 [==============================] - 0s 12ms/step - loss: 1.3518 - accuracy: 0.5164 - val_loss: 1.5136 - val_accuracy: 0.4875\n",
      "Epoch 19/150\n",
      "10/10 [==============================] - 0s 13ms/step - loss: 1.3551 - accuracy: 0.5180 - val_loss: 1.6352 - val_accuracy: 0.4688\n",
      "Epoch 20/150\n",
      "10/10 [==============================] - 0s 12ms/step - loss: 1.3393 - accuracy: 0.5227 - val_loss: 1.4387 - val_accuracy: 0.5063\n",
      "Epoch 21/150\n",
      "10/10 [==============================] - 0s 12ms/step - loss: 1.3067 - accuracy: 0.4898 - val_loss: 3.6727 - val_accuracy: 0.2937\n",
      "Epoch 22/150\n",
      "10/10 [==============================] - 0s 13ms/step - loss: 1.3183 - accuracy: 0.5336 - val_loss: 1.5630 - val_accuracy: 0.5188\n",
      "Epoch 23/150\n",
      "10/10 [==============================] - 0s 12ms/step - loss: 1.2739 - accuracy: 0.5383 - val_loss: 1.5185 - val_accuracy: 0.4812\n",
      "Epoch 24/150\n",
      "10/10 [==============================] - 0s 12ms/step - loss: 1.2543 - accuracy: 0.5383 - val_loss: 1.4628 - val_accuracy: 0.5000\n",
      "Epoch 25/150\n",
      "10/10 [==============================] - 0s 12ms/step - loss: 1.3470 - accuracy: 0.5149 - val_loss: 1.5311 - val_accuracy: 0.4062\n",
      "Epoch 26/150\n",
      "10/10 [==============================] - 0s 14ms/step - loss: 1.3735 - accuracy: 0.5149 - val_loss: 1.5868 - val_accuracy: 0.4313\n",
      "Epoch 27/150\n",
      "10/10 [==============================] - 0s 12ms/step - loss: 1.2752 - accuracy: 0.5211 - val_loss: 1.6040 - val_accuracy: 0.4437\n",
      "Epoch 28/150\n",
      "10/10 [==============================] - 0s 12ms/step - loss: 1.2900 - accuracy: 0.5196 - val_loss: 1.5162 - val_accuracy: 0.4500\n",
      "Epoch 29/150\n",
      "10/10 [==============================] - 0s 12ms/step - loss: 1.2268 - accuracy: 0.5243 - val_loss: 1.4763 - val_accuracy: 0.4313\n",
      "Epoch 30/150\n",
      "10/10 [==============================] - 0s 12ms/step - loss: 1.2741 - accuracy: 0.5368 - val_loss: 1.5350 - val_accuracy: 0.4187\n",
      "Epoch 31/150\n",
      "10/10 [==============================] - 0s 12ms/step - loss: 1.2290 - accuracy: 0.5462 - val_loss: 1.4864 - val_accuracy: 0.4625\n",
      "Epoch 32/150\n",
      "10/10 [==============================] - 0s 13ms/step - loss: 1.1967 - accuracy: 0.5634 - val_loss: 1.4064 - val_accuracy: 0.5000\n",
      "Epoch 33/150\n",
      "10/10 [==============================] - 0s 13ms/step - loss: 1.1904 - accuracy: 0.5618 - val_loss: 1.5263 - val_accuracy: 0.4500\n",
      "Epoch 34/150\n",
      "10/10 [==============================] - 0s 13ms/step - loss: 1.2078 - accuracy: 0.5462 - val_loss: 1.4195 - val_accuracy: 0.5375\n",
      "Epoch 35/150\n",
      "10/10 [==============================] - 0s 13ms/step - loss: 1.2327 - accuracy: 0.5509 - val_loss: 1.5471 - val_accuracy: 0.4437\n",
      "Epoch 36/150\n",
      "10/10 [==============================] - 0s 12ms/step - loss: 1.1674 - accuracy: 0.5775 - val_loss: 1.5193 - val_accuracy: 0.4812\n",
      "Epoch 37/150\n",
      "10/10 [==============================] - 0s 13ms/step - loss: 1.2525 - accuracy: 0.5274 - val_loss: 1.7230 - val_accuracy: 0.4625\n",
      "Epoch 38/150\n",
      "10/10 [==============================] - 0s 12ms/step - loss: 1.3236 - accuracy: 0.5133 - val_loss: 2.4375 - val_accuracy: 0.2562\n",
      "Epoch 39/150\n",
      "10/10 [==============================] - 0s 12ms/step - loss: 1.3322 - accuracy: 0.5117 - val_loss: 1.7132 - val_accuracy: 0.3562\n",
      "Epoch 40/150\n",
      "10/10 [==============================] - 0s 12ms/step - loss: 1.3059 - accuracy: 0.5117 - val_loss: 1.6362 - val_accuracy: 0.4250\n",
      "Epoch 41/150\n",
      "10/10 [==============================] - 0s 12ms/step - loss: 1.3378 - accuracy: 0.4883 - val_loss: 1.4875 - val_accuracy: 0.4625\n",
      "Epoch 42/150\n",
      "10/10 [==============================] - 0s 12ms/step - loss: 1.2724 - accuracy: 0.5039 - val_loss: 1.4528 - val_accuracy: 0.4688\n",
      "Epoch 43/150\n",
      "10/10 [==============================] - 0s 12ms/step - loss: 1.2452 - accuracy: 0.5352 - val_loss: 1.5373 - val_accuracy: 0.4250\n",
      "Epoch 44/150\n",
      "10/10 [==============================] - 0s 12ms/step - loss: 1.2270 - accuracy: 0.5368 - val_loss: 1.6308 - val_accuracy: 0.4313\n",
      "Epoch 45/150\n",
      "10/10 [==============================] - 0s 13ms/step - loss: 1.1791 - accuracy: 0.5665 - val_loss: 1.4273 - val_accuracy: 0.5063\n",
      "Epoch 46/150\n",
      "10/10 [==============================] - 0s 13ms/step - loss: 1.1899 - accuracy: 0.5665 - val_loss: 1.4890 - val_accuracy: 0.4500\n",
      "Epoch 47/150\n",
      "10/10 [==============================] - 0s 12ms/step - loss: 1.1546 - accuracy: 0.5712 - val_loss: 1.4504 - val_accuracy: 0.4938\n",
      "Epoch 48/150\n",
      "10/10 [==============================] - 0s 12ms/step - loss: 1.1897 - accuracy: 0.5603 - val_loss: 1.4976 - val_accuracy: 0.4688\n",
      "Epoch 49/150\n",
      "10/10 [==============================] - 0s 13ms/step - loss: 1.1432 - accuracy: 0.5806 - val_loss: 1.4907 - val_accuracy: 0.4688\n",
      "Epoch 50/150\n",
      "10/10 [==============================] - 0s 12ms/step - loss: 1.1277 - accuracy: 0.5822 - val_loss: 1.5241 - val_accuracy: 0.4437\n",
      "Epoch 51/150\n",
      "10/10 [==============================] - 0s 12ms/step - loss: 1.1822 - accuracy: 0.5759 - val_loss: 1.4925 - val_accuracy: 0.5125\n",
      "Epoch 52/150\n",
      "10/10 [==============================] - 0s 12ms/step - loss: 1.1551 - accuracy: 0.5587 - val_loss: 1.5129 - val_accuracy: 0.4750\n",
      "Epoch 53/150\n",
      "10/10 [==============================] - 0s 12ms/step - loss: 1.1571 - accuracy: 0.5743 - val_loss: 1.4956 - val_accuracy: 0.4563\n",
      "Epoch 54/150\n",
      "10/10 [==============================] - 0s 12ms/step - loss: 1.1814 - accuracy: 0.5712 - val_loss: 1.4593 - val_accuracy: 0.5250\n",
      "Epoch 55/150\n",
      "10/10 [==============================] - 0s 12ms/step - loss: 1.1326 - accuracy: 0.5978 - val_loss: 1.4362 - val_accuracy: 0.5188\n",
      "Epoch 56/150\n",
      "10/10 [==============================] - 0s 12ms/step - loss: 1.1839 - accuracy: 0.5728 - val_loss: 1.5171 - val_accuracy: 0.4500\n",
      "Epoch 57/150\n",
      "10/10 [==============================] - 0s 13ms/step - loss: 1.1780 - accuracy: 0.5603 - val_loss: 1.5364 - val_accuracy: 0.4812\n",
      "Epoch 58/150\n",
      "10/10 [==============================] - 0s 12ms/step - loss: 1.1104 - accuracy: 0.6182 - val_loss: 1.4974 - val_accuracy: 0.4625\n",
      "Epoch 59/150\n",
      "10/10 [==============================] - 0s 12ms/step - loss: 1.0903 - accuracy: 0.5822 - val_loss: 1.4523 - val_accuracy: 0.5063\n",
      "Epoch 60/150\n",
      "10/10 [==============================] - 0s 12ms/step - loss: 1.0799 - accuracy: 0.6150 - val_loss: 1.5256 - val_accuracy: 0.4688\n",
      "Epoch 61/150\n",
      "10/10 [==============================] - 0s 12ms/step - loss: 1.0777 - accuracy: 0.6448 - val_loss: 1.4969 - val_accuracy: 0.4688\n",
      "Epoch 62/150\n",
      "10/10 [==============================] - 0s 11ms/step - loss: 1.0830 - accuracy: 0.5884 - val_loss: 1.5147 - val_accuracy: 0.4437\n",
      "Epoch 63/150\n",
      "10/10 [==============================] - 0s 13ms/step - loss: 1.0468 - accuracy: 0.6150 - val_loss: 1.5020 - val_accuracy: 0.4563\n",
      "Epoch 64/150\n",
      "10/10 [==============================] - 0s 12ms/step - loss: 1.0921 - accuracy: 0.6150 - val_loss: 1.5377 - val_accuracy: 0.4563\n",
      "Epoch 65/150\n",
      "10/10 [==============================] - 0s 12ms/step - loss: 1.0797 - accuracy: 0.5994 - val_loss: 1.6495 - val_accuracy: 0.4313\n",
      "Epoch 66/150\n",
      "10/10 [==============================] - 0s 12ms/step - loss: 0.9757 - accuracy: 0.6510 - val_loss: 1.4956 - val_accuracy: 0.4938\n",
      "Epoch 67/150\n",
      "10/10 [==============================] - 0s 13ms/step - loss: 1.0201 - accuracy: 0.6275 - val_loss: 1.4634 - val_accuracy: 0.5063\n",
      "Epoch 68/150\n",
      "10/10 [==============================] - 0s 12ms/step - loss: 1.0240 - accuracy: 0.6463 - val_loss: 1.4561 - val_accuracy: 0.4812\n",
      "Epoch 69/150\n",
      "10/10 [==============================] - 0s 12ms/step - loss: 1.0787 - accuracy: 0.5994 - val_loss: 1.5649 - val_accuracy: 0.4500\n",
      "Epoch 70/150\n",
      "10/10 [==============================] - 0s 12ms/step - loss: 0.9833 - accuracy: 0.6541 - val_loss: 1.4596 - val_accuracy: 0.4938\n",
      "Epoch 71/150\n",
      "10/10 [==============================] - 0s 12ms/step - loss: 1.0472 - accuracy: 0.6103 - val_loss: 1.5310 - val_accuracy: 0.4812\n",
      "Epoch 72/150\n",
      "10/10 [==============================] - 0s 12ms/step - loss: 1.0066 - accuracy: 0.6291 - val_loss: 1.5875 - val_accuracy: 0.4750\n",
      "Epoch 73/150\n",
      "10/10 [==============================] - 0s 12ms/step - loss: 1.0188 - accuracy: 0.6056 - val_loss: 1.6092 - val_accuracy: 0.4688\n",
      "Epoch 74/150\n",
      "10/10 [==============================] - 0s 13ms/step - loss: 1.0814 - accuracy: 0.6041 - val_loss: 1.6292 - val_accuracy: 0.4625\n",
      "Epoch 75/150\n",
      "10/10 [==============================] - 0s 12ms/step - loss: 1.0227 - accuracy: 0.6166 - val_loss: 1.5516 - val_accuracy: 0.5250\n",
      "Epoch 76/150\n",
      "10/10 [==============================] - 0s 13ms/step - loss: 0.9562 - accuracy: 0.6557 - val_loss: 1.4311 - val_accuracy: 0.5312\n",
      "Epoch 77/150\n",
      "10/10 [==============================] - 0s 13ms/step - loss: 0.9974 - accuracy: 0.6448 - val_loss: 1.4876 - val_accuracy: 0.4812\n",
      "Epoch 78/150\n",
      "10/10 [==============================] - 0s 12ms/step - loss: 1.0243 - accuracy: 0.6182 - val_loss: 1.5972 - val_accuracy: 0.4875\n",
      "Epoch 79/150\n",
      "10/10 [==============================] - 0s 12ms/step - loss: 1.0022 - accuracy: 0.6056 - val_loss: 1.4742 - val_accuracy: 0.4625\n",
      "Epoch 80/150\n",
      "10/10 [==============================] - 0s 12ms/step - loss: 0.9858 - accuracy: 0.6510 - val_loss: 1.4974 - val_accuracy: 0.4938\n",
      "Epoch 81/150\n",
      "10/10 [==============================] - 0s 12ms/step - loss: 1.0121 - accuracy: 0.6322 - val_loss: 1.4769 - val_accuracy: 0.4812\n",
      "Epoch 82/150\n",
      "10/10 [==============================] - 0s 13ms/step - loss: 0.9498 - accuracy: 0.6604 - val_loss: 1.5151 - val_accuracy: 0.5125\n",
      "Epoch 83/150\n",
      "10/10 [==============================] - 0s 12ms/step - loss: 1.1788 - accuracy: 0.5681 - val_loss: 1.7755 - val_accuracy: 0.4375\n",
      "Epoch 84/150\n",
      "10/10 [==============================] - 0s 12ms/step - loss: 1.3810 - accuracy: 0.5243 - val_loss: 2.1135 - val_accuracy: 0.3438\n",
      "Epoch 85/150\n",
      "10/10 [==============================] - 0s 13ms/step - loss: 1.4115 - accuracy: 0.5008 - val_loss: 1.9203 - val_accuracy: 0.4563\n",
      "Epoch 86/150\n",
      "10/10 [==============================] - 0s 12ms/step - loss: 1.1818 - accuracy: 0.5743 - val_loss: 1.7895 - val_accuracy: 0.4688\n",
      "Epoch 87/150\n",
      "10/10 [==============================] - 0s 12ms/step - loss: 1.2403 - accuracy: 0.5462 - val_loss: 1.4820 - val_accuracy: 0.4938\n",
      "Epoch 88/150\n",
      "10/10 [==============================] - 0s 12ms/step - loss: 1.1906 - accuracy: 0.5603 - val_loss: 1.5349 - val_accuracy: 0.4688\n",
      "Epoch 89/150\n",
      "10/10 [==============================] - 0s 12ms/step - loss: 1.1621 - accuracy: 0.5665 - val_loss: 1.4799 - val_accuracy: 0.5125\n",
      "Epoch 90/150\n",
      "10/10 [==============================] - 0s 12ms/step - loss: 1.0869 - accuracy: 0.6041 - val_loss: 1.5636 - val_accuracy: 0.4500\n",
      "Epoch 91/150\n",
      "10/10 [==============================] - 0s 13ms/step - loss: 1.0829 - accuracy: 0.6150 - val_loss: 1.5369 - val_accuracy: 0.4875\n",
      "Epoch 92/150\n",
      "10/10 [==============================] - 0s 12ms/step - loss: 1.0866 - accuracy: 0.6056 - val_loss: 1.4814 - val_accuracy: 0.5437\n",
      "Epoch 93/150\n",
      "10/10 [==============================] - 0s 12ms/step - loss: 1.0681 - accuracy: 0.6088 - val_loss: 1.3796 - val_accuracy: 0.5063\n",
      "Epoch 94/150\n",
      "10/10 [==============================] - 0s 13ms/step - loss: 1.0458 - accuracy: 0.6432 - val_loss: 2.8095 - val_accuracy: 0.4313\n",
      "Epoch 95/150\n",
      "10/10 [==============================] - 0s 13ms/step - loss: 1.0136 - accuracy: 0.6322 - val_loss: 1.8572 - val_accuracy: 0.3750\n",
      "Epoch 96/150\n",
      "10/10 [==============================] - 0s 13ms/step - loss: 0.9924 - accuracy: 0.6448 - val_loss: 1.5337 - val_accuracy: 0.5063\n",
      "Epoch 97/150\n",
      "10/10 [==============================] - 0s 12ms/step - loss: 1.0344 - accuracy: 0.6150 - val_loss: 1.3832 - val_accuracy: 0.5437\n",
      "Epoch 98/150\n",
      "10/10 [==============================] - 0s 12ms/step - loss: 1.0013 - accuracy: 0.6463 - val_loss: 1.3859 - val_accuracy: 0.5437\n",
      "Epoch 99/150\n",
      "10/10 [==============================] - 0s 13ms/step - loss: 1.0268 - accuracy: 0.6698 - val_loss: 1.5394 - val_accuracy: 0.5000\n",
      "Epoch 100/150\n",
      "10/10 [==============================] - 0s 12ms/step - loss: 1.0285 - accuracy: 0.6369 - val_loss: 1.4621 - val_accuracy: 0.4750\n",
      "Epoch 101/150\n",
      "10/10 [==============================] - 0s 12ms/step - loss: 0.9816 - accuracy: 0.6604 - val_loss: 1.3893 - val_accuracy: 0.5375\n",
      "Epoch 102/150\n",
      "10/10 [==============================] - 0s 12ms/step - loss: 1.0002 - accuracy: 0.6385 - val_loss: 1.4064 - val_accuracy: 0.5500\n",
      "Epoch 103/150\n",
      "10/10 [==============================] - 0s 12ms/step - loss: 1.0016 - accuracy: 0.6291 - val_loss: 1.4098 - val_accuracy: 0.5188\n",
      "Epoch 104/150\n",
      "10/10 [==============================] - 0s 13ms/step - loss: 1.0001 - accuracy: 0.6463 - val_loss: 1.5416 - val_accuracy: 0.5250\n",
      "Epoch 105/150\n",
      "10/10 [==============================] - 0s 12ms/step - loss: 0.9471 - accuracy: 0.6432 - val_loss: 1.4073 - val_accuracy: 0.5250\n",
      "Epoch 106/150\n",
      "10/10 [==============================] - 0s 12ms/step - loss: 0.9389 - accuracy: 0.6651 - val_loss: 1.4344 - val_accuracy: 0.5063\n",
      "Epoch 107/150\n",
      "10/10 [==============================] - 0s 12ms/step - loss: 0.9474 - accuracy: 0.6401 - val_loss: 1.5579 - val_accuracy: 0.5250\n",
      "Epoch 108/150\n",
      "10/10 [==============================] - 0s 12ms/step - loss: 0.9365 - accuracy: 0.6714 - val_loss: 1.4316 - val_accuracy: 0.5250\n",
      "Epoch 109/150\n",
      "10/10 [==============================] - 0s 13ms/step - loss: 0.9218 - accuracy: 0.6557 - val_loss: 1.4292 - val_accuracy: 0.5437\n",
      "Epoch 110/150\n",
      "10/10 [==============================] - 0s 12ms/step - loss: 0.9311 - accuracy: 0.6776 - val_loss: 1.4233 - val_accuracy: 0.5063\n",
      "Epoch 111/150\n",
      "10/10 [==============================] - 0s 13ms/step - loss: 0.9553 - accuracy: 0.6510 - val_loss: 1.3789 - val_accuracy: 0.5500\n",
      "Epoch 112/150\n",
      "10/10 [==============================] - 0s 12ms/step - loss: 0.9039 - accuracy: 0.6808 - val_loss: 1.5519 - val_accuracy: 0.4875\n",
      "Epoch 113/150\n",
      "10/10 [==============================] - 0s 12ms/step - loss: 0.9149 - accuracy: 0.6776 - val_loss: 1.6830 - val_accuracy: 0.4688\n",
      "Epoch 114/150\n",
      "10/10 [==============================] - 0s 13ms/step - loss: 1.0504 - accuracy: 0.6275 - val_loss: 1.5909 - val_accuracy: 0.4625\n",
      "Epoch 115/150\n"
     ]
    },
    {
     "name": "stdout",
     "output_type": "stream",
     "text": [
      "10/10 [==============================] - 0s 12ms/step - loss: 0.8540 - accuracy: 0.6823 - val_loss: 1.5805 - val_accuracy: 0.4437\n",
      "Epoch 116/150\n",
      "10/10 [==============================] - 0s 12ms/step - loss: 0.9292 - accuracy: 0.6698 - val_loss: 1.5090 - val_accuracy: 0.4563\n",
      "Epoch 117/150\n",
      "10/10 [==============================] - 0s 12ms/step - loss: 0.9147 - accuracy: 0.6870 - val_loss: 1.4078 - val_accuracy: 0.5125\n",
      "Epoch 118/150\n",
      "10/10 [==============================] - 0s 13ms/step - loss: 0.8958 - accuracy: 0.6854 - val_loss: 1.4396 - val_accuracy: 0.5250\n",
      "Epoch 119/150\n",
      "10/10 [==============================] - 0s 12ms/step - loss: 0.8481 - accuracy: 0.7011 - val_loss: 1.5048 - val_accuracy: 0.4750\n",
      "Epoch 120/150\n",
      "10/10 [==============================] - 0s 12ms/step - loss: 0.9797 - accuracy: 0.6620 - val_loss: 1.4479 - val_accuracy: 0.5125\n",
      "Epoch 121/150\n",
      "10/10 [==============================] - 0s 12ms/step - loss: 0.8983 - accuracy: 0.6667 - val_loss: 1.5802 - val_accuracy: 0.4688\n",
      "Epoch 122/150\n",
      "10/10 [==============================] - 0s 12ms/step - loss: 0.8058 - accuracy: 0.7042 - val_loss: 1.4076 - val_accuracy: 0.5437\n",
      "Epoch 123/150\n",
      "10/10 [==============================] - 0s 12ms/step - loss: 0.8113 - accuracy: 0.7074 - val_loss: 1.3562 - val_accuracy: 0.5688\n",
      "Epoch 124/150\n",
      "10/10 [==============================] - 0s 12ms/step - loss: 0.7846 - accuracy: 0.7261 - val_loss: 1.4205 - val_accuracy: 0.5250\n",
      "Epoch 125/150\n",
      "10/10 [==============================] - 0s 12ms/step - loss: 0.8658 - accuracy: 0.6933 - val_loss: 1.5404 - val_accuracy: 0.5000\n",
      "Epoch 126/150\n",
      "10/10 [==============================] - 0s 12ms/step - loss: 0.8350 - accuracy: 0.7074 - val_loss: 1.4201 - val_accuracy: 0.5188\n",
      "Epoch 127/150\n",
      "10/10 [==============================] - 0s 12ms/step - loss: 0.8653 - accuracy: 0.7042 - val_loss: 1.5325 - val_accuracy: 0.5312\n",
      "Epoch 128/150\n",
      "10/10 [==============================] - 0s 13ms/step - loss: 0.8291 - accuracy: 0.6933 - val_loss: 1.4941 - val_accuracy: 0.5375\n",
      "Epoch 129/150\n",
      "10/10 [==============================] - 0s 12ms/step - loss: 0.8934 - accuracy: 0.6933 - val_loss: 1.4939 - val_accuracy: 0.5437\n",
      "Epoch 130/150\n",
      "10/10 [==============================] - 0s 12ms/step - loss: 0.8086 - accuracy: 0.6964 - val_loss: 1.5319 - val_accuracy: 0.5312\n",
      "Epoch 131/150\n",
      "10/10 [==============================] - 0s 12ms/step - loss: 0.7584 - accuracy: 0.7496 - val_loss: 1.5116 - val_accuracy: 0.5125\n",
      "Epoch 132/150\n",
      "10/10 [==============================] - 0s 12ms/step - loss: 0.8034 - accuracy: 0.7042 - val_loss: 1.4494 - val_accuracy: 0.5500\n",
      "Epoch 133/150\n",
      "10/10 [==============================] - 0s 12ms/step - loss: 0.8119 - accuracy: 0.6870 - val_loss: 1.5184 - val_accuracy: 0.4750\n",
      "Epoch 134/150\n",
      "10/10 [==============================] - 0s 12ms/step - loss: 0.7739 - accuracy: 0.7355 - val_loss: 1.4895 - val_accuracy: 0.5500\n",
      "Epoch 135/150\n",
      "10/10 [==============================] - 0s 12ms/step - loss: 0.7748 - accuracy: 0.7293 - val_loss: 1.4555 - val_accuracy: 0.5375\n",
      "Epoch 136/150\n",
      "10/10 [==============================] - 0s 12ms/step - loss: 0.8396 - accuracy: 0.7214 - val_loss: 1.6010 - val_accuracy: 0.4938\n",
      "Epoch 137/150\n",
      "10/10 [==============================] - 0s 12ms/step - loss: 0.8097 - accuracy: 0.7058 - val_loss: 1.4578 - val_accuracy: 0.5188\n",
      "Epoch 138/150\n",
      "10/10 [==============================] - 0s 12ms/step - loss: 0.7576 - accuracy: 0.7387 - val_loss: 1.3997 - val_accuracy: 0.5562\n",
      "Epoch 139/150\n",
      "10/10 [==============================] - 0s 12ms/step - loss: 0.7579 - accuracy: 0.7340 - val_loss: 1.4204 - val_accuracy: 0.5063\n",
      "Epoch 140/150\n",
      "10/10 [==============================] - 0s 12ms/step - loss: 0.7513 - accuracy: 0.7199 - val_loss: 1.4988 - val_accuracy: 0.5063\n",
      "Epoch 141/150\n",
      "10/10 [==============================] - 0s 12ms/step - loss: 0.7100 - accuracy: 0.7324 - val_loss: 1.5574 - val_accuracy: 0.5000\n",
      "Epoch 142/150\n",
      "10/10 [==============================] - 0s 12ms/step - loss: 0.7359 - accuracy: 0.7246 - val_loss: 1.5330 - val_accuracy: 0.5250\n",
      "Epoch 143/150\n",
      "10/10 [==============================] - 0s 13ms/step - loss: 0.8131 - accuracy: 0.7199 - val_loss: 2.2976 - val_accuracy: 0.3875\n",
      "Epoch 144/150\n",
      "10/10 [==============================] - 0s 12ms/step - loss: 1.1290 - accuracy: 0.6260 - val_loss: 2.2099 - val_accuracy: 0.4500\n",
      "Epoch 145/150\n",
      "10/10 [==============================] - 0s 13ms/step - loss: 1.1700 - accuracy: 0.6025 - val_loss: 2.0938 - val_accuracy: 0.4437\n",
      "Epoch 146/150\n",
      "10/10 [==============================] - 0s 14ms/step - loss: 1.1603 - accuracy: 0.5806 - val_loss: 1.9992 - val_accuracy: 0.4437\n",
      "Epoch 147/150\n",
      "10/10 [==============================] - 0s 13ms/step - loss: 1.0675 - accuracy: 0.6244 - val_loss: 1.7379 - val_accuracy: 0.5188\n",
      "Epoch 148/150\n",
      "10/10 [==============================] - 0s 13ms/step - loss: 0.9530 - accuracy: 0.6651 - val_loss: 1.4967 - val_accuracy: 0.5250\n",
      "Epoch 149/150\n",
      "10/10 [==============================] - 0s 12ms/step - loss: 0.9306 - accuracy: 0.6635 - val_loss: 1.5164 - val_accuracy: 0.5375\n",
      "Epoch 150/150\n",
      "10/10 [==============================] - 0s 13ms/step - loss: 0.8926 - accuracy: 0.6745 - val_loss: 1.6028 - val_accuracy: 0.5312\n"
     ]
    },
    {
     "data": {
      "text/plain": [
       "<keras.callbacks.History at 0x1f95af78040>"
      ]
     },
     "execution_count": 68,
     "metadata": {},
     "output_type": "execute_result"
    }
   ],
   "source": [
    "num_epochs = 150\n",
    "num_batch_size = 64\n",
    "\n",
    "model.fit(X2_train, y2_train, batch_size=num_batch_size, epochs=num_epochs, validation_split=0.2)"
   ]
  },
  {
   "cell_type": "code",
   "execution_count": 69,
   "id": "fd727ce5",
   "metadata": {},
   "outputs": [
    {
     "data": {
      "image/png": "[encoded data removed]",
      "text/plain": [
       "<Figure size 576x432 with 1 Axes>"
      ]
     },
     "metadata": {
      "needs_background": "light"
     },
     "output_type": "display_data"
    }
   ],
   "source": [
    "plot_loss(model.history)"
   ]
  },
  {
   "cell_type": "code",
   "execution_count": 70,
   "id": "b453e4e4",
   "metadata": {},
   "outputs": [
    {
     "data": {
      "image/png": "[encoded data removed]",
      "text/plain": [
       "<Figure size 576x432 with 1 Axes>"
      ]
     },
     "metadata": {
      "needs_background": "light"
     },
     "output_type": "display_data"
    }
   ],
   "source": [
    "plot_acc(model.history)"
   ]
  },
  {
   "cell_type": "code",
   "execution_count": null,
   "id": "05116eea",
   "metadata": {},
   "outputs": [],
   "source": []
  },
  {
   "cell_type": "markdown",
   "id": "3e15ea93",
   "metadata": {},
   "source": [
    "Combining Image and Audio input"
   ]
  },
  {
   "cell_type": "code",
   "execution_count": 57,
   "id": "ad2f3103",
   "metadata": {},
   "outputs": [],
   "source": [
    "from tensorflow.keras.regularizers import L2"
   ]
  },
  {
   "cell_type": "code",
   "execution_count": 66,
   "id": "f874e089",
   "metadata": {},
   "outputs": [
    {
     "name": "stdout",
     "output_type": "stream",
     "text": [
      "Model: \"model_24\"\n",
      "__________________________________________________________________________________________________\n",
      " Layer (type)                   Output Shape         Param #     Connected to                     \n",
      "==================================================================================================\n",
      " input_18 (InputLayer)          [(None, 48, 32, 1)]  0           []                               \n",
      "                                                                                                  \n",
      " conv2d_8 (Conv2D)              (None, 44, 28, 64)   1664        ['input_18[0][0]']               \n",
      "                                                                                                  \n",
      " input_17 (InputLayer)          [(None, 40)]         0           []                               \n",
      "                                                                                                  \n",
      " max_pooling2d_8 (MaxPooling2D)  (None, 22, 14, 64)  0           ['conv2d_8[0][0]']               \n",
      "                                                                                                  \n",
      " dense_44 (Dense)               (None, 128)          5248        ['input_17[0][0]']               \n",
      "                                                                                                  \n",
      " dropout_48 (Dropout)           (None, 22, 14, 64)   0           ['max_pooling2d_8[0][0]']        \n",
      "                                                                                                  \n",
      " dropout_46 (Dropout)           (None, 128)          0           ['dense_44[0][0]']               \n",
      "                                                                                                  \n",
      " batch_normalization_48 (BatchN  (None, 22, 14, 64)  256         ['dropout_48[0][0]']             \n",
      " ormalization)                                                                                    \n",
      "                                                                                                  \n",
      " batch_normalization_46 (BatchN  (None, 128)         512         ['dropout_46[0][0]']             \n",
      " ormalization)                                                                                    \n",
      "                                                                                                  \n",
      " flatten_8 (Flatten)            (None, 19712)        0           ['batch_normalization_48[0][0]'] \n",
      "                                                                                                  \n",
      " dense_45 (Dense)               (None, 256)          33024       ['batch_normalization_46[0][0]'] \n",
      "                                                                                                  \n",
      " dense_46 (Dense)               (None, 128)          2523264     ['flatten_8[0][0]']              \n",
      "                                                                                                  \n",
      " dropout_47 (Dropout)           (None, 256)          0           ['dense_45[0][0]']               \n",
      "                                                                                                  \n",
      " dropout_49 (Dropout)           (None, 128)          0           ['dense_46[0][0]']               \n",
      "                                                                                                  \n",
      " batch_normalization_47 (BatchN  (None, 256)         1024        ['dropout_47[0][0]']             \n",
      " ormalization)                                                                                    \n",
      "                                                                                                  \n",
      " batch_normalization_49 (BatchN  (None, 128)         512         ['dropout_49[0][0]']             \n",
      " ormalization)                                                                                    \n",
      "                                                                                                  \n",
      " concatenate_8 (Concatenate)    (None, 384)          0           ['batch_normalization_47[0][0]', \n",
      "                                                                  'batch_normalization_49[0][0]'] \n",
      "                                                                                                  \n",
      " dense_48 (Dense)               (None, 128)          49280       ['concatenate_8[0][0]']          \n",
      "                                                                                                  \n",
      " dropout_51 (Dropout)           (None, 128)          0           ['dense_48[0][0]']               \n",
      "                                                                                                  \n",
      " batch_normalization_51 (BatchN  (None, 128)         512         ['dropout_51[0][0]']             \n",
      " ormalization)                                                                                    \n",
      "                                                                                                  \n",
      " dense_49 (Dense)               (None, 10)           1290        ['batch_normalization_51[0][0]'] \n",
      "                                                                                                  \n",
      "==================================================================================================\n",
      "Total params: 2,616,586\n",
      "Trainable params: 2,615,178\n",
      "Non-trainable params: 1,408\n",
      "__________________________________________________________________________________________________\n"
     ]
    }
   ],
   "source": [
    "inputA = Input(shape=(40,))\n",
    "inputB = Input(shape=(48, 32, 1, ))\n",
    "\n",
    "x = Dense(128, activation=\"relu\")(inputA)\n",
    "x = Dropout(0.4)(x)\n",
    "x = BatchNormalization()(x)\n",
    "x = Dense(256, activation=\"relu\")(x)\n",
    "x = Dropout(0.4)(x)\n",
    "x = BatchNormalization()(x)\n",
    "x = Model(inputs=inputA, outputs=x)\n",
    "\n",
    "y = Conv2D(64, kernel_size=(5, 5) ,activation=\"relu\", input_shape=(48, 32, 1, ))(inputB)\n",
    "y = MaxPool2D((2, 2))(y)\n",
    "y = Dropout(0.4)(y)\n",
    "y = BatchNormalization()(y)\n",
    "y = Flatten()(y)\n",
    "y = Dense(128, activation=\"relu\", kernel_initializer=\"he_normal\", kernel_regularizer=L2(0.01))(y)\n",
    "y = Dropout(0.4)(y)\n",
    "y = BatchNormalization()(y)\n",
    "\n",
    "y = Model(inputs=inputB, outputs=y)\n",
    "\n",
    "# combine the output of the two branches\n",
    "combined = concatenate([x.output, y.output])\n",
    "\n",
    "# combined outputs\n",
    "z = Dense(128, activation=\"relu\")(combined)\n",
    "z = Dropout(0.45)(z)\n",
    "z = BatchNormalization()(z)\n",
    "z = Dense(128, activation=\"relu\", kernel_initializer=\"he_normal\", kernel_regularizer=L2(0.01))(combined)\n",
    "z = Dropout(0.35)(z)\n",
    "z = BatchNormalization()(z)\n",
    "z = Dense(10, activation=\"softmax\")(z)\n",
    "\n",
    "model = Model(inputs=[x.input, y.input], outputs=z)\n",
    "model.summary()"
   ]
  },
  {
   "cell_type": "code",
   "execution_count": 67,
   "id": "f381f27b",
   "metadata": {},
   "outputs": [],
   "source": [
    "model.compile(loss='categorical_crossentropy', metrics=['accuracy'], optimizer='adam')"
   ]
  },
  {
   "cell_type": "code",
   "execution_count": 68,
   "id": "649899ea",
   "metadata": {},
   "outputs": [
    {
     "data": {
      "text/plain": [
       "((799, 10), (799, 10))"
      ]
     },
     "execution_count": 68,
     "metadata": {},
     "output_type": "execute_result"
    }
   ],
   "source": [
    "y1_train.shape, y2_train.shape"
   ]
  },
  {
   "cell_type": "code",
   "execution_count": 69,
   "id": "3e2f6bf2",
   "metadata": {},
   "outputs": [
    {
     "name": "stdout",
     "output_type": "stream",
     "text": [
      "Epoch 1/200\n",
      "5/5 [==============================] - 1s 67ms/step - loss: 7.8448 - accuracy: 0.1268 - val_loss: 9.0234 - val_accuracy: 0.0750\n",
      "Epoch 2/200\n",
      "5/5 [==============================] - 0s 22ms/step - loss: 7.2405 - accuracy: 0.2066 - val_loss: 9.1987 - val_accuracy: 0.1000\n",
      "Epoch 3/200\n",
      "5/5 [==============================] - 0s 22ms/step - loss: 6.8425 - accuracy: 0.2363 - val_loss: 9.0812 - val_accuracy: 0.1312\n",
      "Epoch 4/200\n",
      "5/5 [==============================] - 0s 22ms/step - loss: 6.3158 - accuracy: 0.3005 - val_loss: 8.5479 - val_accuracy: 0.1437\n",
      "Epoch 5/200\n",
      "5/5 [==============================] - 0s 22ms/step - loss: 5.9376 - accuracy: 0.3255 - val_loss: 7.7691 - val_accuracy: 0.1688\n",
      "Epoch 6/200\n",
      "5/5 [==============================] - 0s 22ms/step - loss: 5.5523 - accuracy: 0.3224 - val_loss: 7.0287 - val_accuracy: 0.1750\n",
      "Epoch 7/200\n",
      "5/5 [==============================] - 0s 21ms/step - loss: 5.1920 - accuracy: 0.3991 - val_loss: 6.4840 - val_accuracy: 0.1937\n",
      "Epoch 8/200\n",
      "5/5 [==============================] - 0s 22ms/step - loss: 5.0118 - accuracy: 0.3662 - val_loss: 6.0817 - val_accuracy: 0.2188\n",
      "Epoch 9/200\n",
      "5/5 [==============================] - 0s 22ms/step - loss: 4.7783 - accuracy: 0.3928 - val_loss: 5.7088 - val_accuracy: 0.2375\n",
      "Epoch 10/200\n",
      "5/5 [==============================] - 0s 21ms/step - loss: 4.5858 - accuracy: 0.3897 - val_loss: 5.3707 - val_accuracy: 0.2438\n",
      "Epoch 11/200\n",
      "5/5 [==============================] - 0s 22ms/step - loss: 4.4250 - accuracy: 0.4038 - val_loss: 5.0734 - val_accuracy: 0.2438\n",
      "Epoch 12/200\n",
      "5/5 [==============================] - 0s 21ms/step - loss: 4.2717 - accuracy: 0.4100 - val_loss: 4.7686 - val_accuracy: 0.2625\n",
      "Epoch 13/200\n",
      "5/5 [==============================] - 0s 21ms/step - loss: 4.0775 - accuracy: 0.4304 - val_loss: 4.5116 - val_accuracy: 0.2688\n",
      "Epoch 14/200\n",
      "5/5 [==============================] - 0s 21ms/step - loss: 3.9445 - accuracy: 0.4695 - val_loss: 4.2922 - val_accuracy: 0.2875\n",
      "Epoch 15/200\n",
      "5/5 [==============================] - 0s 21ms/step - loss: 3.8730 - accuracy: 0.4460 - val_loss: 4.1146 - val_accuracy: 0.3125\n",
      "Epoch 16/200\n",
      "5/5 [==============================] - 0s 21ms/step - loss: 3.7617 - accuracy: 0.4585 - val_loss: 3.9610 - val_accuracy: 0.3375\n",
      "Epoch 17/200\n",
      "5/5 [==============================] - 0s 22ms/step - loss: 3.5791 - accuracy: 0.4883 - val_loss: 3.8285 - val_accuracy: 0.3688\n",
      "Epoch 18/200\n",
      "5/5 [==============================] - 0s 22ms/step - loss: 3.5379 - accuracy: 0.4601 - val_loss: 3.7107 - val_accuracy: 0.3562\n",
      "Epoch 19/200\n",
      "5/5 [==============================] - 0s 21ms/step - loss: 3.4620 - accuracy: 0.4945 - val_loss: 3.5958 - val_accuracy: 0.3938\n",
      "Epoch 20/200\n",
      "5/5 [==============================] - 0s 21ms/step - loss: 3.3388 - accuracy: 0.4804 - val_loss: 3.4984 - val_accuracy: 0.4187\n",
      "Epoch 21/200\n",
      "5/5 [==============================] - 0s 22ms/step - loss: 3.2674 - accuracy: 0.4977 - val_loss: 3.4208 - val_accuracy: 0.4313\n",
      "Epoch 22/200\n",
      "5/5 [==============================] - 0s 22ms/step - loss: 3.2171 - accuracy: 0.4867 - val_loss: 3.3573 - val_accuracy: 0.4437\n",
      "Epoch 23/200\n",
      "5/5 [==============================] - 0s 21ms/step - loss: 3.1396 - accuracy: 0.5070 - val_loss: 3.2887 - val_accuracy: 0.4688\n",
      "Epoch 24/200\n",
      "5/5 [==============================] - 0s 21ms/step - loss: 3.0653 - accuracy: 0.5227 - val_loss: 3.2337 - val_accuracy: 0.4688\n",
      "Epoch 25/200\n",
      "5/5 [==============================] - 0s 21ms/step - loss: 2.9235 - accuracy: 0.5524 - val_loss: 3.1681 - val_accuracy: 0.4875\n",
      "Epoch 26/200\n",
      "5/5 [==============================] - 0s 21ms/step - loss: 2.9501 - accuracy: 0.5196 - val_loss: 3.0929 - val_accuracy: 0.4938\n",
      "Epoch 27/200\n",
      "5/5 [==============================] - 0s 21ms/step - loss: 2.8553 - accuracy: 0.5258 - val_loss: 3.0314 - val_accuracy: 0.4938\n",
      "Epoch 28/200\n",
      "5/5 [==============================] - 0s 21ms/step - loss: 2.7411 - accuracy: 0.5509 - val_loss: 2.9857 - val_accuracy: 0.5125\n",
      "Epoch 29/200\n",
      "5/5 [==============================] - 0s 21ms/step - loss: 2.7384 - accuracy: 0.5509 - val_loss: 2.9333 - val_accuracy: 0.5188\n",
      "Epoch 30/200\n",
      "5/5 [==============================] - 0s 21ms/step - loss: 2.7045 - accuracy: 0.5336 - val_loss: 2.8829 - val_accuracy: 0.5063\n",
      "Epoch 31/200\n",
      "5/5 [==============================] - 0s 23ms/step - loss: 2.6696 - accuracy: 0.5462 - val_loss: 2.8300 - val_accuracy: 0.5000\n",
      "Epoch 32/200\n",
      "5/5 [==============================] - 0s 22ms/step - loss: 2.5728 - accuracy: 0.5430 - val_loss: 2.7776 - val_accuracy: 0.4812\n",
      "Epoch 33/200\n",
      "5/5 [==============================] - 0s 22ms/step - loss: 2.4530 - accuracy: 0.5649 - val_loss: 2.7312 - val_accuracy: 0.4812\n",
      "Epoch 34/200\n",
      "5/5 [==============================] - 0s 22ms/step - loss: 2.4443 - accuracy: 0.5634 - val_loss: 2.6904 - val_accuracy: 0.4812\n",
      "Epoch 35/200\n",
      "5/5 [==============================] - 0s 22ms/step - loss: 2.4147 - accuracy: 0.5618 - val_loss: 2.6579 - val_accuracy: 0.4750\n",
      "Epoch 36/200\n",
      "5/5 [==============================] - 0s 22ms/step - loss: 2.3619 - accuracy: 0.5728 - val_loss: 2.6227 - val_accuracy: 0.4875\n",
      "Epoch 37/200\n",
      "5/5 [==============================] - 0s 22ms/step - loss: 2.3204 - accuracy: 0.5806 - val_loss: 2.5970 - val_accuracy: 0.4750\n",
      "Epoch 38/200\n",
      "5/5 [==============================] - 0s 21ms/step - loss: 2.2379 - accuracy: 0.5869 - val_loss: 2.5854 - val_accuracy: 0.4812\n",
      "Epoch 39/200\n",
      "5/5 [==============================] - 0s 20ms/step - loss: 2.2667 - accuracy: 0.5728 - val_loss: 2.5824 - val_accuracy: 0.4625\n",
      "Epoch 40/200\n",
      "5/5 [==============================] - 0s 21ms/step - loss: 2.1207 - accuracy: 0.6009 - val_loss: 2.5588 - val_accuracy: 0.4750\n",
      "Epoch 41/200\n",
      "5/5 [==============================] - 0s 22ms/step - loss: 2.1838 - accuracy: 0.5822 - val_loss: 2.5173 - val_accuracy: 0.4938\n",
      "Epoch 42/200\n",
      "5/5 [==============================] - 0s 23ms/step - loss: 2.1497 - accuracy: 0.5869 - val_loss: 2.4973 - val_accuracy: 0.4688\n",
      "Epoch 43/200\n",
      "5/5 [==============================] - 0s 23ms/step - loss: 2.0863 - accuracy: 0.6041 - val_loss: 2.4680 - val_accuracy: 0.4688\n",
      "Epoch 44/200\n",
      "5/5 [==============================] - 0s 22ms/step - loss: 2.0689 - accuracy: 0.6338 - val_loss: 2.4357 - val_accuracy: 0.4688\n",
      "Epoch 45/200\n",
      "5/5 [==============================] - 0s 22ms/step - loss: 2.0697 - accuracy: 0.6041 - val_loss: 2.4150 - val_accuracy: 0.4625\n",
      "Epoch 46/200\n",
      "5/5 [==============================] - 0s 22ms/step - loss: 2.0733 - accuracy: 0.6119 - val_loss: 2.3978 - val_accuracy: 0.4688\n",
      "Epoch 47/200\n",
      "5/5 [==============================] - 0s 22ms/step - loss: 1.9660 - accuracy: 0.6401 - val_loss: 2.3645 - val_accuracy: 0.4812\n",
      "Epoch 48/200\n",
      "5/5 [==============================] - 0s 22ms/step - loss: 2.0112 - accuracy: 0.5962 - val_loss: 2.3357 - val_accuracy: 0.4750\n",
      "Epoch 49/200\n",
      "5/5 [==============================] - 0s 21ms/step - loss: 1.8574 - accuracy: 0.6401 - val_loss: 2.3155 - val_accuracy: 0.4938\n",
      "Epoch 50/200\n",
      "5/5 [==============================] - 0s 21ms/step - loss: 1.8947 - accuracy: 0.6166 - val_loss: 2.3013 - val_accuracy: 0.4938\n",
      "Epoch 51/200\n",
      "5/5 [==============================] - 0s 21ms/step - loss: 1.9300 - accuracy: 0.6275 - val_loss: 2.2848 - val_accuracy: 0.5000\n",
      "Epoch 52/200\n",
      "5/5 [==============================] - 0s 21ms/step - loss: 1.8596 - accuracy: 0.6322 - val_loss: 2.2631 - val_accuracy: 0.4875\n",
      "Epoch 53/200\n",
      "5/5 [==============================] - 0s 21ms/step - loss: 1.8344 - accuracy: 0.6604 - val_loss: 2.2587 - val_accuracy: 0.5000\n",
      "Epoch 54/200\n",
      "5/5 [==============================] - 0s 21ms/step - loss: 1.8099 - accuracy: 0.6510 - val_loss: 2.2694 - val_accuracy: 0.4938\n",
      "Epoch 55/200\n",
      "5/5 [==============================] - 0s 22ms/step - loss: 1.8325 - accuracy: 0.6510 - val_loss: 2.2562 - val_accuracy: 0.4875\n",
      "Epoch 56/200\n",
      "5/5 [==============================] - 0s 21ms/step - loss: 1.8001 - accuracy: 0.6588 - val_loss: 2.2513 - val_accuracy: 0.4750\n",
      "Epoch 57/200\n",
      "5/5 [==============================] - 0s 21ms/step - loss: 1.8109 - accuracy: 0.6260 - val_loss: 2.2475 - val_accuracy: 0.4812\n",
      "Epoch 58/200\n",
      "5/5 [==============================] - 0s 21ms/step - loss: 1.7724 - accuracy: 0.6338 - val_loss: 2.2297 - val_accuracy: 0.4688\n",
      "Epoch 59/200\n",
      "5/5 [==============================] - 0s 21ms/step - loss: 1.7031 - accuracy: 0.6714 - val_loss: 2.2262 - val_accuracy: 0.4750\n",
      "Epoch 60/200\n",
      "5/5 [==============================] - 0s 21ms/step - loss: 1.6761 - accuracy: 0.6761 - val_loss: 2.2006 - val_accuracy: 0.4750\n",
      "Epoch 61/200\n",
      "5/5 [==============================] - 0s 21ms/step - loss: 1.6256 - accuracy: 0.6792 - val_loss: 2.1971 - val_accuracy: 0.4688\n",
      "Epoch 62/200\n",
      "5/5 [==============================] - 0s 20ms/step - loss: 1.6641 - accuracy: 0.6886 - val_loss: 2.1733 - val_accuracy: 0.4750\n",
      "Epoch 63/200\n",
      "5/5 [==============================] - 0s 21ms/step - loss: 1.6998 - accuracy: 0.6479 - val_loss: 2.1381 - val_accuracy: 0.4875\n",
      "Epoch 64/200\n",
      "5/5 [==============================] - 0s 21ms/step - loss: 1.6349 - accuracy: 0.6761 - val_loss: 2.1171 - val_accuracy: 0.4812\n",
      "Epoch 65/200\n",
      "5/5 [==============================] - 0s 22ms/step - loss: 1.5734 - accuracy: 0.6995 - val_loss: 2.1254 - val_accuracy: 0.4875\n",
      "Epoch 66/200\n",
      "5/5 [==============================] - 0s 21ms/step - loss: 1.6397 - accuracy: 0.6792 - val_loss: 2.1329 - val_accuracy: 0.4625\n",
      "Epoch 67/200\n",
      "5/5 [==============================] - 0s 20ms/step - loss: 1.6192 - accuracy: 0.6870 - val_loss: 2.1221 - val_accuracy: 0.4812\n",
      "Epoch 68/200\n",
      "5/5 [==============================] - 0s 21ms/step - loss: 1.5926 - accuracy: 0.7089 - val_loss: 2.1066 - val_accuracy: 0.4938\n",
      "Epoch 69/200\n",
      "5/5 [==============================] - 0s 21ms/step - loss: 1.5369 - accuracy: 0.7042 - val_loss: 2.1066 - val_accuracy: 0.4750\n",
      "Epoch 70/200\n",
      "5/5 [==============================] - 0s 21ms/step - loss: 1.5577 - accuracy: 0.6948 - val_loss: 2.1187 - val_accuracy: 0.4500\n",
      "Epoch 71/200\n",
      "5/5 [==============================] - 0s 21ms/step - loss: 1.4760 - accuracy: 0.7089 - val_loss: 2.0948 - val_accuracy: 0.4688\n",
      "Epoch 72/200\n",
      "5/5 [==============================] - 0s 21ms/step - loss: 1.4649 - accuracy: 0.7089 - val_loss: 2.0562 - val_accuracy: 0.5063\n",
      "Epoch 73/200\n",
      "5/5 [==============================] - 0s 21ms/step - loss: 1.4808 - accuracy: 0.6886 - val_loss: 2.0213 - val_accuracy: 0.5188\n",
      "Epoch 74/200\n",
      "5/5 [==============================] - 0s 21ms/step - loss: 1.4093 - accuracy: 0.7042 - val_loss: 2.0138 - val_accuracy: 0.5063\n",
      "Epoch 75/200\n",
      "5/5 [==============================] - 0s 21ms/step - loss: 1.3674 - accuracy: 0.7387 - val_loss: 1.9972 - val_accuracy: 0.5000\n",
      "Epoch 76/200\n",
      "5/5 [==============================] - 0s 21ms/step - loss: 1.4115 - accuracy: 0.7214 - val_loss: 1.9546 - val_accuracy: 0.5000\n",
      "Epoch 77/200\n",
      "5/5 [==============================] - 0s 21ms/step - loss: 1.3643 - accuracy: 0.7402 - val_loss: 1.9241 - val_accuracy: 0.5188\n",
      "Epoch 78/200\n",
      "5/5 [==============================] - 0s 21ms/step - loss: 1.3189 - accuracy: 0.7324 - val_loss: 1.9152 - val_accuracy: 0.5000\n",
      "Epoch 79/200\n",
      "5/5 [==============================] - 0s 20ms/step - loss: 1.2763 - accuracy: 0.7246 - val_loss: 1.9097 - val_accuracy: 0.4938\n",
      "Epoch 80/200\n",
      "5/5 [==============================] - 0s 21ms/step - loss: 1.2627 - accuracy: 0.7340 - val_loss: 1.9134 - val_accuracy: 0.4750\n",
      "Epoch 81/200\n",
      "5/5 [==============================] - 0s 21ms/step - loss: 1.2484 - accuracy: 0.7402 - val_loss: 1.9211 - val_accuracy: 0.4750\n",
      "Epoch 82/200\n",
      "5/5 [==============================] - 0s 21ms/step - loss: 1.2717 - accuracy: 0.7293 - val_loss: 1.9242 - val_accuracy: 0.4875\n",
      "Epoch 83/200\n",
      "5/5 [==============================] - 0s 20ms/step - loss: 1.2492 - accuracy: 0.7418 - val_loss: 1.9532 - val_accuracy: 0.5000\n",
      "Epoch 84/200\n",
      "5/5 [==============================] - 0s 21ms/step - loss: 1.2340 - accuracy: 0.7762 - val_loss: 1.9539 - val_accuracy: 0.5125\n",
      "Epoch 85/200\n",
      "5/5 [==============================] - 0s 21ms/step - loss: 1.2403 - accuracy: 0.7496 - val_loss: 1.9244 - val_accuracy: 0.5188\n",
      "Epoch 86/200\n",
      "5/5 [==============================] - 0s 21ms/step - loss: 1.2403 - accuracy: 0.7480 - val_loss: 1.9035 - val_accuracy: 0.5250\n",
      "Epoch 87/200\n",
      "5/5 [==============================] - 0s 22ms/step - loss: 1.2382 - accuracy: 0.7465 - val_loss: 1.9135 - val_accuracy: 0.5375\n",
      "Epoch 88/200\n",
      "5/5 [==============================] - 0s 21ms/step - loss: 1.2666 - accuracy: 0.7324 - val_loss: 1.8408 - val_accuracy: 0.5562\n",
      "Epoch 89/200\n",
      "5/5 [==============================] - 0s 21ms/step - loss: 1.2772 - accuracy: 0.7246 - val_loss: 1.8468 - val_accuracy: 0.5688\n",
      "Epoch 90/200\n",
      "5/5 [==============================] - 0s 21ms/step - loss: 1.3462 - accuracy: 0.7246 - val_loss: 1.8586 - val_accuracy: 0.5562\n",
      "Epoch 91/200\n",
      "5/5 [==============================] - 0s 22ms/step - loss: 1.2453 - accuracy: 0.7480 - val_loss: 1.8477 - val_accuracy: 0.5562\n",
      "Epoch 92/200\n",
      "5/5 [==============================] - 0s 21ms/step - loss: 1.2726 - accuracy: 0.7340 - val_loss: 1.8577 - val_accuracy: 0.5375\n",
      "Epoch 93/200\n",
      "5/5 [==============================] - 0s 21ms/step - loss: 1.2375 - accuracy: 0.7433 - val_loss: 1.8550 - val_accuracy: 0.5312\n",
      "Epoch 94/200\n",
      "5/5 [==============================] - 0s 22ms/step - loss: 1.1820 - accuracy: 0.7653 - val_loss: 1.8145 - val_accuracy: 0.5375\n",
      "Epoch 95/200\n",
      "5/5 [==============================] - 0s 22ms/step - loss: 1.2313 - accuracy: 0.7621 - val_loss: 1.8007 - val_accuracy: 0.5437\n",
      "Epoch 96/200\n",
      "5/5 [==============================] - 0s 21ms/step - loss: 1.1439 - accuracy: 0.7668 - val_loss: 1.8013 - val_accuracy: 0.5375\n",
      "Epoch 97/200\n",
      "5/5 [==============================] - 0s 21ms/step - loss: 1.2026 - accuracy: 0.7480 - val_loss: 1.7798 - val_accuracy: 0.5688\n",
      "Epoch 98/200\n",
      "5/5 [==============================] - 0s 21ms/step - loss: 1.1367 - accuracy: 0.7590 - val_loss: 1.7842 - val_accuracy: 0.5562\n",
      "Epoch 99/200\n",
      "5/5 [==============================] - 0s 21ms/step - loss: 1.0968 - accuracy: 0.7762 - val_loss: 1.7978 - val_accuracy: 0.5688\n",
      "Epoch 100/200\n",
      "5/5 [==============================] - 0s 21ms/step - loss: 1.0878 - accuracy: 0.7950 - val_loss: 1.8264 - val_accuracy: 0.5875\n",
      "Epoch 101/200\n",
      "5/5 [==============================] - 0s 22ms/step - loss: 1.1200 - accuracy: 0.7668 - val_loss: 1.7653 - val_accuracy: 0.5625\n",
      "Epoch 102/200\n",
      "5/5 [==============================] - 0s 21ms/step - loss: 1.1407 - accuracy: 0.7402 - val_loss: 1.7107 - val_accuracy: 0.5500\n",
      "Epoch 103/200\n",
      "5/5 [==============================] - 0s 21ms/step - loss: 1.1233 - accuracy: 0.7496 - val_loss: 1.6936 - val_accuracy: 0.5813\n",
      "Epoch 104/200\n",
      "5/5 [==============================] - 0s 21ms/step - loss: 1.0909 - accuracy: 0.7637 - val_loss: 1.6647 - val_accuracy: 0.5938\n",
      "Epoch 105/200\n",
      "5/5 [==============================] - 0s 21ms/step - loss: 1.0388 - accuracy: 0.7825 - val_loss: 1.6959 - val_accuracy: 0.6000\n",
      "Epoch 106/200\n",
      "5/5 [==============================] - 0s 22ms/step - loss: 1.0406 - accuracy: 0.7653 - val_loss: 1.6892 - val_accuracy: 0.5875\n",
      "Epoch 107/200\n",
      "5/5 [==============================] - 0s 21ms/step - loss: 1.1125 - accuracy: 0.7715 - val_loss: 1.6862 - val_accuracy: 0.5437\n",
      "Epoch 108/200\n",
      "5/5 [==============================] - 0s 22ms/step - loss: 0.9968 - accuracy: 0.7856 - val_loss: 1.6880 - val_accuracy: 0.5562\n",
      "Epoch 109/200\n",
      "5/5 [==============================] - 0s 22ms/step - loss: 1.0350 - accuracy: 0.7668 - val_loss: 1.6671 - val_accuracy: 0.5938\n",
      "Epoch 110/200\n",
      "5/5 [==============================] - 0s 21ms/step - loss: 1.0133 - accuracy: 0.7684 - val_loss: 1.6596 - val_accuracy: 0.5688\n",
      "Epoch 111/200\n",
      "5/5 [==============================] - 0s 23ms/step - loss: 1.0533 - accuracy: 0.7653 - val_loss: 1.6543 - val_accuracy: 0.5750\n",
      "Epoch 112/200\n",
      "5/5 [==============================] - 0s 21ms/step - loss: 1.0448 - accuracy: 0.7746 - val_loss: 1.6894 - val_accuracy: 0.5813\n",
      "Epoch 113/200\n",
      "5/5 [==============================] - 0s 21ms/step - loss: 1.0070 - accuracy: 0.7856 - val_loss: 1.6761 - val_accuracy: 0.6062\n",
      "Epoch 114/200\n",
      "5/5 [==============================] - 0s 21ms/step - loss: 0.9493 - accuracy: 0.8106 - val_loss: 1.6633 - val_accuracy: 0.6000\n",
      "Epoch 115/200\n",
      "5/5 [==============================] - 0s 20ms/step - loss: 0.9392 - accuracy: 0.8122 - val_loss: 1.6564 - val_accuracy: 0.5875\n",
      "Epoch 116/200\n",
      "5/5 [==============================] - 0s 21ms/step - loss: 0.9898 - accuracy: 0.8138 - val_loss: 1.6049 - val_accuracy: 0.6125\n",
      "Epoch 117/200\n"
     ]
    },
    {
     "name": "stdout",
     "output_type": "stream",
     "text": [
      "5/5 [==============================] - 0s 21ms/step - loss: 0.9669 - accuracy: 0.7887 - val_loss: 1.6245 - val_accuracy: 0.5875\n",
      "Epoch 118/200\n",
      "5/5 [==============================] - 0s 21ms/step - loss: 0.9764 - accuracy: 0.8028 - val_loss: 1.6467 - val_accuracy: 0.5750\n",
      "Epoch 119/200\n",
      "5/5 [==============================] - 0s 21ms/step - loss: 0.9707 - accuracy: 0.7825 - val_loss: 1.6346 - val_accuracy: 0.5875\n",
      "Epoch 120/200\n",
      "5/5 [==============================] - 0s 22ms/step - loss: 0.9250 - accuracy: 0.8232 - val_loss: 1.6357 - val_accuracy: 0.5750\n",
      "Epoch 121/200\n",
      "5/5 [==============================] - 0s 22ms/step - loss: 0.9492 - accuracy: 0.8059 - val_loss: 1.6723 - val_accuracy: 0.5938\n",
      "Epoch 122/200\n",
      "5/5 [==============================] - 0s 21ms/step - loss: 0.9292 - accuracy: 0.8153 - val_loss: 1.6802 - val_accuracy: 0.5875\n",
      "Epoch 123/200\n",
      "5/5 [==============================] - 0s 21ms/step - loss: 0.9409 - accuracy: 0.8028 - val_loss: 1.7152 - val_accuracy: 0.5562\n",
      "Epoch 124/200\n",
      "5/5 [==============================] - 0s 21ms/step - loss: 0.9283 - accuracy: 0.8106 - val_loss: 1.7499 - val_accuracy: 0.5750\n",
      "Epoch 125/200\n",
      "5/5 [==============================] - 0s 21ms/step - loss: 0.9123 - accuracy: 0.8232 - val_loss: 1.7134 - val_accuracy: 0.5688\n",
      "Epoch 126/200\n",
      "5/5 [==============================] - 0s 21ms/step - loss: 0.9359 - accuracy: 0.8294 - val_loss: 1.6913 - val_accuracy: 0.5875\n",
      "Epoch 127/200\n",
      "5/5 [==============================] - 0s 21ms/step - loss: 0.8913 - accuracy: 0.8232 - val_loss: 1.6033 - val_accuracy: 0.6187\n",
      "Epoch 128/200\n",
      "5/5 [==============================] - 0s 21ms/step - loss: 0.9459 - accuracy: 0.8028 - val_loss: 1.6238 - val_accuracy: 0.6000\n",
      "Epoch 129/200\n",
      "5/5 [==============================] - 0s 21ms/step - loss: 0.9453 - accuracy: 0.8013 - val_loss: 1.6621 - val_accuracy: 0.6125\n",
      "Epoch 130/200\n",
      "5/5 [==============================] - 0s 21ms/step - loss: 0.9317 - accuracy: 0.8169 - val_loss: 1.6818 - val_accuracy: 0.5813\n",
      "Epoch 131/200\n",
      "5/5 [==============================] - 0s 21ms/step - loss: 0.9133 - accuracy: 0.8341 - val_loss: 1.6616 - val_accuracy: 0.5688\n",
      "Epoch 132/200\n",
      "5/5 [==============================] - 0s 21ms/step - loss: 0.9065 - accuracy: 0.8044 - val_loss: 1.7521 - val_accuracy: 0.5562\n",
      "Epoch 133/200\n",
      "5/5 [==============================] - 0s 21ms/step - loss: 0.9134 - accuracy: 0.8263 - val_loss: 1.6899 - val_accuracy: 0.6062\n",
      "Epoch 134/200\n",
      "5/5 [==============================] - 0s 21ms/step - loss: 0.8924 - accuracy: 0.8388 - val_loss: 1.6249 - val_accuracy: 0.6062\n",
      "Epoch 135/200\n",
      "5/5 [==============================] - 0s 21ms/step - loss: 0.8305 - accuracy: 0.8326 - val_loss: 1.5906 - val_accuracy: 0.5938\n",
      "Epoch 136/200\n",
      "5/5 [==============================] - 0s 22ms/step - loss: 0.8639 - accuracy: 0.8263 - val_loss: 1.5478 - val_accuracy: 0.6500\n",
      "Epoch 137/200\n",
      "5/5 [==============================] - 0s 21ms/step - loss: 0.8401 - accuracy: 0.8326 - val_loss: 1.5562 - val_accuracy: 0.6313\n",
      "Epoch 138/200\n",
      "5/5 [==============================] - 0s 21ms/step - loss: 0.8188 - accuracy: 0.8372 - val_loss: 1.6011 - val_accuracy: 0.6187\n",
      "Epoch 139/200\n",
      "5/5 [==============================] - 0s 21ms/step - loss: 0.8707 - accuracy: 0.8059 - val_loss: 1.6200 - val_accuracy: 0.6187\n",
      "Epoch 140/200\n",
      "5/5 [==============================] - 0s 20ms/step - loss: 0.8938 - accuracy: 0.8106 - val_loss: 1.6865 - val_accuracy: 0.6062\n",
      "Epoch 141/200\n",
      "5/5 [==============================] - 0s 21ms/step - loss: 0.8452 - accuracy: 0.8263 - val_loss: 1.7582 - val_accuracy: 0.5875\n",
      "Epoch 142/200\n",
      "5/5 [==============================] - 0s 21ms/step - loss: 0.8820 - accuracy: 0.8138 - val_loss: 1.7818 - val_accuracy: 0.5938\n",
      "Epoch 143/200\n",
      "5/5 [==============================] - 0s 21ms/step - loss: 0.8400 - accuracy: 0.8482 - val_loss: 1.7997 - val_accuracy: 0.5875\n",
      "Epoch 144/200\n",
      "5/5 [==============================] - 0s 21ms/step - loss: 0.8334 - accuracy: 0.8263 - val_loss: 1.7387 - val_accuracy: 0.5938\n",
      "Epoch 145/200\n",
      "5/5 [==============================] - 0s 20ms/step - loss: 0.7822 - accuracy: 0.8482 - val_loss: 1.7495 - val_accuracy: 0.5688\n",
      "Epoch 146/200\n",
      "5/5 [==============================] - 0s 21ms/step - loss: 0.8167 - accuracy: 0.8310 - val_loss: 1.7758 - val_accuracy: 0.5688\n",
      "Epoch 147/200\n",
      "5/5 [==============================] - 0s 21ms/step - loss: 0.8099 - accuracy: 0.8294 - val_loss: 1.6709 - val_accuracy: 0.6000\n",
      "Epoch 148/200\n",
      "5/5 [==============================] - 0s 21ms/step - loss: 0.8321 - accuracy: 0.8028 - val_loss: 1.7057 - val_accuracy: 0.5938\n",
      "Epoch 149/200\n",
      "5/5 [==============================] - 0s 21ms/step - loss: 0.7801 - accuracy: 0.8435 - val_loss: 1.7130 - val_accuracy: 0.5625\n",
      "Epoch 150/200\n",
      "5/5 [==============================] - 0s 22ms/step - loss: 0.7520 - accuracy: 0.8529 - val_loss: 1.6299 - val_accuracy: 0.6000\n",
      "Epoch 151/200\n",
      "5/5 [==============================] - 0s 22ms/step - loss: 0.7604 - accuracy: 0.8357 - val_loss: 1.5820 - val_accuracy: 0.6125\n",
      "Epoch 152/200\n",
      "5/5 [==============================] - 0s 21ms/step - loss: 0.7250 - accuracy: 0.8576 - val_loss: 1.5421 - val_accuracy: 0.6438\n",
      "Epoch 153/200\n",
      "5/5 [==============================] - 0s 21ms/step - loss: 0.7995 - accuracy: 0.8435 - val_loss: 1.5346 - val_accuracy: 0.6375\n",
      "Epoch 154/200\n",
      "5/5 [==============================] - 0s 22ms/step - loss: 0.7302 - accuracy: 0.8482 - val_loss: 1.5783 - val_accuracy: 0.6125\n",
      "Epoch 155/200\n",
      "5/5 [==============================] - 0s 22ms/step - loss: 0.6950 - accuracy: 0.8607 - val_loss: 1.5840 - val_accuracy: 0.6062\n",
      "Epoch 156/200\n",
      "5/5 [==============================] - 0s 21ms/step - loss: 0.7866 - accuracy: 0.8388 - val_loss: 1.5848 - val_accuracy: 0.6062\n",
      "Epoch 157/200\n",
      "5/5 [==============================] - 0s 21ms/step - loss: 0.7496 - accuracy: 0.8404 - val_loss: 1.5822 - val_accuracy: 0.6125\n",
      "Epoch 158/200\n",
      "5/5 [==============================] - 0s 22ms/step - loss: 0.7771 - accuracy: 0.8451 - val_loss: 1.5530 - val_accuracy: 0.6062\n",
      "Epoch 159/200\n",
      "5/5 [==============================] - 0s 21ms/step - loss: 0.7718 - accuracy: 0.8357 - val_loss: 1.5307 - val_accuracy: 0.6187\n",
      "Epoch 160/200\n",
      "5/5 [==============================] - 0s 21ms/step - loss: 0.7715 - accuracy: 0.8388 - val_loss: 1.5499 - val_accuracy: 0.6250\n",
      "Epoch 161/200\n",
      "5/5 [==============================] - 0s 22ms/step - loss: 0.6975 - accuracy: 0.8670 - val_loss: 1.6011 - val_accuracy: 0.6187\n",
      "Epoch 162/200\n",
      "5/5 [==============================] - 0s 21ms/step - loss: 0.7257 - accuracy: 0.8638 - val_loss: 1.6846 - val_accuracy: 0.5938\n",
      "Epoch 163/200\n",
      "5/5 [==============================] - 0s 21ms/step - loss: 0.6699 - accuracy: 0.8905 - val_loss: 1.5837 - val_accuracy: 0.6062\n",
      "Epoch 164/200\n",
      "5/5 [==============================] - 0s 22ms/step - loss: 0.7218 - accuracy: 0.8545 - val_loss: 1.5392 - val_accuracy: 0.6250\n",
      "Epoch 165/200\n",
      "5/5 [==============================] - 0s 21ms/step - loss: 0.7025 - accuracy: 0.8372 - val_loss: 1.5229 - val_accuracy: 0.6313\n",
      "Epoch 166/200\n",
      "5/5 [==============================] - 0s 22ms/step - loss: 0.7135 - accuracy: 0.8513 - val_loss: 1.4959 - val_accuracy: 0.6313\n",
      "Epoch 167/200\n",
      "5/5 [==============================] - 0s 21ms/step - loss: 0.6680 - accuracy: 0.8670 - val_loss: 1.5359 - val_accuracy: 0.6250\n",
      "Epoch 168/200\n",
      "5/5 [==============================] - 0s 22ms/step - loss: 0.6509 - accuracy: 0.8654 - val_loss: 1.5606 - val_accuracy: 0.6187\n",
      "Epoch 169/200\n",
      "5/5 [==============================] - 0s 20ms/step - loss: 0.6992 - accuracy: 0.8498 - val_loss: 1.5488 - val_accuracy: 0.6375\n",
      "Epoch 170/200\n",
      "5/5 [==============================] - 0s 21ms/step - loss: 0.7137 - accuracy: 0.8529 - val_loss: 1.5631 - val_accuracy: 0.6187\n",
      "Epoch 171/200\n",
      "5/5 [==============================] - 0s 21ms/step - loss: 0.7214 - accuracy: 0.8513 - val_loss: 1.5694 - val_accuracy: 0.6250\n",
      "Epoch 172/200\n",
      "5/5 [==============================] - 0s 21ms/step - loss: 0.6952 - accuracy: 0.8545 - val_loss: 1.5304 - val_accuracy: 0.6500\n",
      "Epoch 173/200\n",
      "5/5 [==============================] - 0s 21ms/step - loss: 0.6795 - accuracy: 0.8592 - val_loss: 1.4790 - val_accuracy: 0.6562\n",
      "Epoch 174/200\n",
      "5/5 [==============================] - 0s 21ms/step - loss: 0.7070 - accuracy: 0.8419 - val_loss: 1.5053 - val_accuracy: 0.6625\n"
     ]
    },
    {
     "name": "stdout",
     "output_type": "stream",
     "text": [
      "Epoch 175/200\n",
      "5/5 [==============================] - 0s 21ms/step - loss: 0.7020 - accuracy: 0.8670 - val_loss: 1.5585 - val_accuracy: 0.6250\n",
      "Epoch 176/200\n",
      "5/5 [==============================] - 0s 20ms/step - loss: 0.6708 - accuracy: 0.8717 - val_loss: 1.6341 - val_accuracy: 0.6125\n",
      "Epoch 177/200\n",
      "5/5 [==============================] - 0s 21ms/step - loss: 0.6198 - accuracy: 0.8905 - val_loss: 1.6741 - val_accuracy: 0.6000\n",
      "Epoch 178/200\n",
      "5/5 [==============================] - 0s 22ms/step - loss: 0.6820 - accuracy: 0.8685 - val_loss: 1.5982 - val_accuracy: 0.5938\n",
      "Epoch 179/200\n",
      "5/5 [==============================] - 0s 21ms/step - loss: 0.6916 - accuracy: 0.8623 - val_loss: 1.5734 - val_accuracy: 0.6313\n",
      "Epoch 180/200\n",
      "5/5 [==============================] - 0s 21ms/step - loss: 0.6360 - accuracy: 0.8826 - val_loss: 1.5600 - val_accuracy: 0.6250\n",
      "Epoch 181/200\n",
      "5/5 [==============================] - 0s 21ms/step - loss: 0.6580 - accuracy: 0.8670 - val_loss: 1.5650 - val_accuracy: 0.5938\n",
      "Epoch 182/200\n",
      "5/5 [==============================] - 0s 21ms/step - loss: 0.6573 - accuracy: 0.8638 - val_loss: 1.5468 - val_accuracy: 0.6313\n",
      "Epoch 183/200\n",
      "5/5 [==============================] - 0s 21ms/step - loss: 0.6598 - accuracy: 0.8732 - val_loss: 1.5706 - val_accuracy: 0.6187\n",
      "Epoch 184/200\n",
      "5/5 [==============================] - 0s 21ms/step - loss: 0.6449 - accuracy: 0.8701 - val_loss: 1.6224 - val_accuracy: 0.6125\n",
      "Epoch 185/200\n",
      "5/5 [==============================] - 0s 20ms/step - loss: 0.6581 - accuracy: 0.8795 - val_loss: 1.6227 - val_accuracy: 0.6062\n",
      "Epoch 186/200\n",
      "5/5 [==============================] - 0s 21ms/step - loss: 0.5943 - accuracy: 0.8779 - val_loss: 1.5595 - val_accuracy: 0.6313\n",
      "Epoch 187/200\n",
      "5/5 [==============================] - 0s 21ms/step - loss: 0.6008 - accuracy: 0.8842 - val_loss: 1.5875 - val_accuracy: 0.6625\n",
      "Epoch 188/200\n",
      "5/5 [==============================] - 0s 21ms/step - loss: 0.6441 - accuracy: 0.8576 - val_loss: 1.7230 - val_accuracy: 0.6187\n",
      "Epoch 189/200\n",
      "5/5 [==============================] - 0s 20ms/step - loss: 0.6253 - accuracy: 0.8717 - val_loss: 1.6340 - val_accuracy: 0.6375\n",
      "Epoch 190/200\n",
      "5/5 [==============================] - 0s 21ms/step - loss: 0.5973 - accuracy: 0.8732 - val_loss: 1.5649 - val_accuracy: 0.6187\n",
      "Epoch 191/200\n",
      "5/5 [==============================] - 0s 21ms/step - loss: 0.6215 - accuracy: 0.8795 - val_loss: 1.5483 - val_accuracy: 0.6125\n",
      "Epoch 192/200\n",
      "5/5 [==============================] - 0s 21ms/step - loss: 0.6966 - accuracy: 0.8513 - val_loss: 1.7917 - val_accuracy: 0.5750\n",
      "Epoch 193/200\n",
      "5/5 [==============================] - 0s 22ms/step - loss: 0.6480 - accuracy: 0.8701 - val_loss: 1.7516 - val_accuracy: 0.5813\n",
      "Epoch 194/200\n",
      "5/5 [==============================] - 0s 20ms/step - loss: 0.5721 - accuracy: 0.8967 - val_loss: 1.7299 - val_accuracy: 0.6000\n",
      "Epoch 195/200\n",
      "5/5 [==============================] - 0s 22ms/step - loss: 0.6121 - accuracy: 0.8795 - val_loss: 1.6195 - val_accuracy: 0.6375\n",
      "Epoch 196/200\n",
      "5/5 [==============================] - 0s 21ms/step - loss: 0.6055 - accuracy: 0.9030 - val_loss: 1.6483 - val_accuracy: 0.6438\n",
      "Epoch 197/200\n",
      "5/5 [==============================] - 0s 21ms/step - loss: 0.6263 - accuracy: 0.8826 - val_loss: 1.7220 - val_accuracy: 0.6000\n",
      "Epoch 198/200\n",
      "5/5 [==============================] - 0s 21ms/step - loss: 0.6680 - accuracy: 0.8654 - val_loss: 1.7112 - val_accuracy: 0.6187\n",
      "Epoch 199/200\n",
      "5/5 [==============================] - 0s 23ms/step - loss: 0.6171 - accuracy: 0.8842 - val_loss: 1.7892 - val_accuracy: 0.6250\n",
      "Epoch 200/200\n",
      "5/5 [==============================] - 0s 21ms/step - loss: 0.6301 - accuracy: 0.8842 - val_loss: 1.8307 - val_accuracy: 0.6250\n"
     ]
    },
    {
     "data": {
      "text/plain": [
       "<keras.callbacks.History at 0x23352d8e440>"
      ]
     },
     "execution_count": 69,
     "metadata": {},
     "output_type": "execute_result"
    }
   ],
   "source": [
    "model.fit(x=[X1_train, X2_train], y=y2_train, validation_split=0.2, epochs=200, batch_size=128)"
   ]
  },
  {
   "cell_type": "code",
   "execution_count": 73,
   "id": "0c5f997f",
   "metadata": {},
   "outputs": [
    {
     "data": {
      "image/png": "[encoded data removed]",
      "text/plain": [
       "<Figure size 576x432 with 1 Axes>"
      ]
     },
     "metadata": {
      "needs_background": "light"
     },
     "output_type": "display_data"
    }
   ],
   "source": [
    "plot_loss(model.history)"
   ]
  },
  {
   "cell_type": "code",
   "execution_count": 74,
   "id": "ad9a9b45",
   "metadata": {},
   "outputs": [
    {
     "data": {
      "image/png": "[encoded data removed]",
      "text/plain": [
       "<Figure size 576x432 with 1 Axes>"
      ]
     },
     "metadata": {
      "needs_background": "light"
     },
     "output_type": "display_data"
    }
   ],
   "source": [
    "plot_acc(model.history)"
   ]
  },
  {
   "cell_type": "code",
   "execution_count": null,
   "id": "29fc5a5f",
   "metadata": {},
   "outputs": [],
   "source": []
  }
 ],
 "metadata": {
  "kernelspec": {
   "display_name": "Python 3 (ipykernel)",
   "language": "python",
   "name": "python3"
  },
  "language_info": {
   "codemirror_mode": {
    "name": "ipython",
    "version": 3
   },
   "file_extension": ".py",
   "mimetype": "text/x-python",
   "name": "python",
   "nbconvert_exporter": "python",
   "pygments_lexer": "ipython3",
   "version": "3.10.0"
  }
 },
 "nbformat": 4,
 "nbformat_minor": 5
}
